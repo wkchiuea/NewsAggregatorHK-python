{
 "cells": [
  {
   "cell_type": "code",
   "execution_count": 2,
   "id": "initial_id",
   "metadata": {
    "collapsed": true,
    "ExecuteTime": {
     "end_time": "2024-05-27T12:30:55.441966Z",
     "start_time": "2024-05-27T12:30:55.424871Z"
    }
   },
   "outputs": [],
   "source": [
    "from apify_client import ApifyClient\n",
    "import pandas as pd\n",
    "import re\n",
    "import os\n",
    "import argparse\n",
    "import urllib.request\n",
    "from urllib.parse import urlparse, urlunparse\n",
    "\n",
    "\n",
    "def get_api_client():\n",
    "    APIFY_API_KEY = os.getenv('APIFY_API_TOKEN')\n",
    "    # if APIFY_API_KEY is None:\n",
    "    #     raise ValueError('API_TOKEN environment variable not set')\n",
    "    APIFY_API_KEY = \"apify_api_3X6i9qAVnWmMrvPM0VrtU3HFvxfg1c2MMrI6\"\n",
    "\n",
    "    # Initialize the ApifyClient with your API token\n",
    "    client = ApifyClient(APIFY_API_KEY)\n",
    "\n",
    "    return client\n",
    "\n",
    "\n",
    "def get_actors(client):\n",
    "    actors_list = client.actors().list()\n",
    "    fb_posts_scraper_id, fb_comments_scraper_id = \"\", \"\"\n",
    "    for actor in actors_list.items:\n",
    "        if actor['name'] == 'facebook-posts-scraper':\n",
    "            fb_posts_scraper_id = actor['id']\n",
    "        if actor['name'] == 'facebook-comments-scraper':\n",
    "            fb_comments_scraper_id = actor['id']\n",
    "\n",
    "    return fb_posts_scraper_id, fb_comments_scraper_id\n",
    "\n",
    "\n",
    "def get_comments(client, results_Limit=25, comments_limit=50):\n",
    "    fb_posts_scraper_id, fb_comments_scraper_id = get_actors(client)\n",
    "\n",
    "    # Get last 25 posts from HK01\n",
    "    input_get_post = {\n",
    "        \"startUrls\": [{ \"url\": \"https://www.facebook.com/hk01wemedia/\" }],\n",
    "        \"resultsLimit\": results_Limit,\n",
    "    }\n",
    "    # Run the Actor and wait for it to finish\n",
    "    run_get_post = client.actor(fb_posts_scraper_id).call(run_input=input_get_post)\n",
    "\n",
    "    # Fetch and print Actor results from the run's dataset (if there are any)\n",
    "    output_urls = []\n",
    "    for item in client.dataset(run_get_post[\"defaultDatasetId\"]).iterate_items():\n",
    "        if \"01新聞\" in item.get(\"text\", \"\"):\n",
    "            output_urls.append({\"url\": item[\"url\"]})\n",
    "\n",
    "\n",
    "    # Prepare the Actor input\n",
    "    input_get_comments = {\n",
    "        \"startUrls\": output_urls,\n",
    "        \"resultsLimit\": comments_limit,\n",
    "        \"includeNestedComments\": False,\n",
    "        \"viewOption\": \"RANKED_UNFILTERED\",\n",
    "    }\n",
    "    # Run the Actor and wait for it to finish\n",
    "    run_get_comments = client.actor(fb_comments_scraper_id).call(run_input=input_get_comments)\n",
    "\n",
    "    # Fetch Actor results from the run's dataset and create a DataFrame\n",
    "    items = list(client.dataset(run_get_comments[\"defaultDatasetId\"]).iterate_items())\n",
    "    df = pd.DataFrame(items)\n",
    "\n",
    "    return df\n",
    "\n",
    "\n",
    "def extract_and_expand_bityl_link(post_title):\n",
    "    match = re.search(r\"全文：(.*?)\\n\", post_title)\n",
    "    if match:\n",
    "        bityl_link = match.group(1)\n",
    "        try:\n",
    "            with urllib.request.urlopen(bityl_link) as response:\n",
    "                parsed_url = urlparse(response.geturl())\n",
    "                clean_url = urlunparse(parsed_url._replace(query=\"\"))\n",
    "                return clean_url\n",
    "        except:\n",
    "            return None\n",
    "    else:\n",
    "        return None\n",
    "\n",
    "\n",
    "def main(args):\n",
    "    results_limit = args.results_limit if args is not None else 25\n",
    "\n",
    "    client = get_api_client()\n",
    "    df = get_comments(client, results_limit)\n",
    "\n",
    "    # Add a new column with expanded links\n",
    "    df[\"Expanded Link\"] = df[\"postTitle\"].apply(extract_and_expand_bityl_link)\n",
    "\n",
    "    # Save the DataFrame to an Excel file in Colab\n",
    "    # excel_file_path = \"comments_with_expanded_links.xlsx\"\n",
    "    # df.to_excel(excel_file_path, index=False)\n",
    "\n",
    "    # print(\"Excel file with expanded links has been successfully created.\")\n",
    "    # print(df)\n",
    "\n"
   ]
  },
  {
   "cell_type": "code",
   "outputs": [],
   "source": [
    "client = get_api_client()"
   ],
   "metadata": {
    "collapsed": false,
    "ExecuteTime": {
     "end_time": "2024-05-27T12:31:04.714222Z",
     "start_time": "2024-05-27T12:31:04.659177Z"
    }
   },
   "id": "bb47d2a80c1b3ed4",
   "execution_count": 3
  },
  {
   "cell_type": "code",
   "outputs": [],
   "source": [
    "fb_posts_scraper_id, fb_comments_scraper_id = get_actors(client)\n",
    "\n",
    "# Get last 25 posts from HK01\n",
    "input_get_post = {\n",
    "    \"startUrls\": [{ \"url\": \"https://www.facebook.com/hk01wemedia/\" }],\n",
    "    \"resultsLimit\": 5,\n",
    "}\n",
    "# Run the Actor and wait for it to finish\n",
    "run_get_post = client.actor(fb_posts_scraper_id).call(run_input=input_get_post)\n",
    "\n",
    "# Fetch and print Actor results from the run's dataset (if there are any)\n",
    "output_urls = []\n",
    "for item in client.dataset(run_get_post[\"defaultDatasetId\"]).iterate_items():\n",
    "    if \"01新聞\" in item.get(\"text\", \"\"):\n",
    "        output_urls.append({\"url\": item[\"url\"]})\n",
    "\n",
    "\n",
    "# Prepare the Actor input\n",
    "input_get_comments = {\n",
    "    \"startUrls\": output_urls,\n",
    "    \"resultsLimit\": 5,\n",
    "    \"includeNestedComments\": False,\n",
    "    \"viewOption\": \"RANKED_UNFILTERED\",\n",
    "}\n",
    "# Run the Actor and wait for it to finish\n",
    "run_get_comments = client.actor(fb_comments_scraper_id).call(run_input=input_get_comments)"
   ],
   "metadata": {
    "collapsed": false,
    "ExecuteTime": {
     "end_time": "2024-05-27T12:32:12.377441Z",
     "start_time": "2024-05-27T12:31:38.464411Z"
    }
   },
   "id": "6cb4700f5840ddc7",
   "execution_count": 4
  },
  {
   "cell_type": "code",
   "outputs": [
    {
     "data": {
      "text/plain": "{'id': 'gFSSZAiZYiM35LQ0v',\n 'actId': 'us5srxAYnsrkgUv2v',\n 'userId': 's9KWWmxyr2xr8Zqqr',\n 'startedAt': datetime.datetime(2024, 5, 27, 12, 31, 58, 88000, tzinfo=datetime.timezone.utc),\n 'finishedAt': datetime.datetime(2024, 5, 27, 12, 32, 12, 200000, tzinfo=datetime.timezone.utc),\n 'status': 'SUCCEEDED',\n 'statusMessage': 'Finished! Total 6 requests: 6 succeeded, 0 failed.',\n 'isStatusMessageTerminal': True,\n 'meta': {'origin': 'API',\n  'userAgent': 'ApifyClient/1.7.0 (darwin; Python/3.9.19); isAtHome/False'},\n 'stats': {'inputBodyLen': 472,\n  'rebootCount': 0,\n  'restartCount': 0,\n  'durationMillis': 13979,\n  'resurrectCount': 0,\n  'runTimeSecs': 13.979,\n  'metamorph': 0,\n  'computeUnits': 0.015532222222222222,\n  'memAvgBytes': 95237988.79913971,\n  'memMaxBytes': 130834432,\n  'memCurrentBytes': 122036224,\n  'cpuAvgUsage': 13.96185742407352,\n  'cpuMaxUsage': 107.11159456118664,\n  'cpuCurrentUsage': 5.836574074074074,\n  'netRxBytes': 455106,\n  'netTxBytes': 82090},\n 'options': {'build': 'latest',\n  'timeoutSecs': 0,\n  'memoryMbytes': 4096,\n  'diskMbytes': 8192},\n 'buildId': 'S3aZuzJBcpmAbl0h2',\n 'exitCode': 0,\n 'defaultKeyValueStoreId': 'ZSCdqj8xxTK9ZiyJb',\n 'defaultDatasetId': 'JkIRs7MyvCiyO0uXS',\n 'defaultRequestQueueId': 'aqL15TPQn49FI9qv9',\n 'buildNumber': '0.0.38',\n 'containerUrl': 'https://tcivcteb4ydn.runs.apify.net',\n 'usage': {'ACTOR_COMPUTE_UNITS': 0.015532222222222222,\n  'DATASET_READS': 0,\n  'DATASET_WRITES': 1,\n  'KEY_VALUE_STORE_READS': 1,\n  'KEY_VALUE_STORE_WRITES': 2,\n  'KEY_VALUE_STORE_LISTS': 0,\n  'REQUEST_QUEUE_READS': 6,\n  'REQUEST_QUEUE_WRITES': 22,\n  'DATA_TRANSFER_INTERNAL_GBYTES': 0.0003657611086964607,\n  'DATA_TRANSFER_EXTERNAL_GBYTES': 5.7758763432502747e-05,\n  'PROXY_RESIDENTIAL_TRANSFER_GBYTES': 0.00030162371695041656,\n  'PROXY_SERPS': 0},\n 'usageTotalUsd': 0.010737837017365628,\n 'usageUsd': {'ACTOR_COMPUTE_UNITS': 0.006212888888888889,\n  'DATASET_READS': 0,\n  'DATASET_WRITES': 5e-06,\n  'KEY_VALUE_STORE_READS': 5e-06,\n  'KEY_VALUE_STORE_WRITES': 0.0001,\n  'KEY_VALUE_STORE_LISTS': 0,\n  'REQUEST_QUEUE_READS': 2.4e-05,\n  'REQUEST_QUEUE_WRITES': 0.00044,\n  'DATA_TRANSFER_INTERNAL_GBYTES': 1.8288055434823038e-05,\n  'DATA_TRANSFER_EXTERNAL_GBYTES': 1.155175268650055e-05,\n  'PROXY_RESIDENTIAL_TRANSFER_GBYTES': 0.003921108320355415,\n  'PROXY_SERPS': 0}}"
     },
     "execution_count": 5,
     "metadata": {},
     "output_type": "execute_result"
    }
   ],
   "source": [
    "run_get_comments"
   ],
   "metadata": {
    "collapsed": false,
    "ExecuteTime": {
     "end_time": "2024-05-27T12:32:27.154103Z",
     "start_time": "2024-05-27T12:32:27.145706Z"
    }
   },
   "id": "2b2d1ff000782437",
   "execution_count": 5
  },
  {
   "cell_type": "code",
   "outputs": [],
   "source": [
    "items = list(client.dataset(run_get_comments[\"defaultDatasetId\"]).iterate_items())"
   ],
   "metadata": {
    "collapsed": false,
    "ExecuteTime": {
     "end_time": "2024-05-27T12:35:05.395205Z",
     "start_time": "2024-05-27T12:35:04.136794Z"
    }
   },
   "id": "21a9aa2cee7d3ade",
   "execution_count": 11
  },
  {
   "cell_type": "code",
   "outputs": [
    {
     "data": {
      "text/plain": "{'facebookUrl': 'https://www.facebook.com/hk01wemedia/posts/pfbid02ysQ6gSHWVBP74BEcqeRVL6mTFgCHDqBAMMC9AaoKDKxHdmZiKv1sWGiQ82ZkFcsLl',\n 'commentUrl': 'https://www.facebook.com/hk01wemedia/posts/pfbid02ysQ6gSHWVBP74BEcqeRVL6mTFgCHDqBAMMC9AaoKDKxHdmZiKv1sWGiQ82ZkFcsLl?comment_id=819532210129127',\n 'id': 'Y29tbWVudDo3NTc3ODI5OTY1MjgwMzhfODE5NTMyMjEwMTI5MTI3',\n 'feedbackId': 'ZmVlZGJhY2s6NzU3NzgyOTk2NTI4MDM4XzgxOTUzMjIxMDEyOTEyNw==',\n 'date': '2024-05-27T12:31:19.000Z',\n 'text': '唔好衝動呀！其實呢個世界好美好，除咗病痛外，冇乜嘢係事情解決唔到，祝你早日康復🙏',\n 'profilePicture': 'https://scontent.fman2-2.fna.fbcdn.net/v/t1.6435-1/142845230_3589029204500062_8119221974962450491_n.jpg?stp=cp0_dst-jpg_p32x32&_nc_cat=111&ccb=1-7&_nc_sid=5f2048&_nc_ohc=mfZGAn4YlS8Q7kNvgFrm78a&_nc_ht=scontent.fman2-2.fna&oh=00_AYBd4iaawso0oVsChO3_ATC6ibznCFZAzw8pwY3SWbPokg&oe=667BE5FE',\n 'profileId': 'pfbid02Hv52PGCoFcZeL1C4JkpGxRSkJtLbqMcq1sUwqTFtBgQkv7Hz4h9pDvUmYKPUVrYvl',\n 'profileName': 'Cyrus Lam',\n 'likesCount': 0,\n 'facebookId': '757782996528038',\n 'postTitle': '【緊貼 01新聞 】何苦要咁傻\\n全文：https://bityl.co/Q9NG\\n\\n旺角先施大廈單位冒煙\\u3000兩男女燒傷送院\\u3000女傷者全身燒傷痛苦呻吟\\nhttps://bityl.co/Q9I6\\n\\n#先施大廈 #男女燒傷 #感情糾紛 #01突發 #01新聞 #香港01\\n-------------------------------------\\n下載《香港01》App，瀏覽更多中外政經時事、廣集評論、深入偵查！\\n立即下載 → https://hk01.app.link/App_FBHK01\\n\\n報料請致電／WhatsApp 「01線報」：(852) 6511 0101\\n\\n► 記得Follow埋我哋嘅IG: http://bit.ly/2ESR34a',\n 'pageAdLibrary': {'is_business_page_active': False, 'id': '448747665308662'}}"
     },
     "execution_count": 12,
     "metadata": {},
     "output_type": "execute_result"
    }
   ],
   "source": [
    "items[0]"
   ],
   "metadata": {
    "collapsed": false,
    "ExecuteTime": {
     "end_time": "2024-05-27T12:35:10.902809Z",
     "start_time": "2024-05-27T12:35:10.899889Z"
    }
   },
   "id": "13e8b3ae6ef2d03f",
   "execution_count": 12
  },
  {
   "cell_type": "code",
   "outputs": [
    {
     "data": {
      "text/plain": "{'facebookUrl': 'https://www.facebook.com/hk01wemedia/posts/pfbid0365gaZ3A1B98X4ae1uDDFKU9c74wev716dtef8hsRRi1monPvLjGATtAXKSh1NXphl',\n 'commentUrl': 'https://www.facebook.com/hk01wemedia/posts/pfbid0365gaZ3A1B98X4ae1uDDFKU9c74wev716dtef8hsRRi1monPvLjGATtAXKSh1NXphl?comment_id=389800230037302',\n 'id': 'Y29tbWVudDo3NTc3NjIzMTY1MzAxMDZfMzg5ODAwMjMwMDM3MzAy',\n 'feedbackId': 'ZmVlZGJhY2s6NzU3NzYyMzE2NTMwMTA2XzM4OTgwMDIzMDAzNzMwMg==',\n 'date': '2024-05-27T11:24:31.000Z',\n 'text': '願平安🙏🏻',\n 'profilePicture': 'https://scontent-lga3-2.xx.fbcdn.net/v/t1.18169-1/533223_10202035453711336_60841803_n.jpg?stp=c37.37.468.468a_cp0_dst-jpg_s32x32&_nc_cat=104&ccb=1-7&_nc_sid=5f2048&_nc_ohc=Oo-pKKK1I-8Q7kNvgEY7dbz&_nc_ht=scontent-lga3-2.xx&oh=00_AYAjSvklnlGsTrRJO3eV0L1Ug9Dg_J-Os6pWGMCGuYbDlQ&oe=667C083A',\n 'profileId': 'pfbid0zV18NxsJQX5GdMq2hcC2HZErqJAjSa2cA4UpQAjXusmdDr2jyYyg8Esm1tqypqtjl',\n 'profileName': 'Janice Hui',\n 'likesCount': 0,\n 'facebookId': '757762316530106',\n 'postTitle': '【緊貼 01新聞 】女傷者面部、四肢均須貼上敷料、紗布或保鮮紙包紮\\n全文：https://bityl.co/Q9J2\\n\\n#先施大廈 #男女燒傷 #01突發 #01新聞 #香港01\\n-------------------------------------\\n下載《香港01》App，瀏覽更多中外政經時事、廣集評論、深入偵查！\\n立即下載 → https://hk01.app.link/App_FBHK01\\n\\n報料請致電／WhatsApp 「01線報」：(852) 6511 0101\\n\\n► 記得Follow埋我哋嘅IG: http://bit.ly/2ESR34a',\n 'pageAdLibrary': {'is_business_page_active': False, 'id': '448747665308662'}}"
     },
     "execution_count": 14,
     "metadata": {},
     "output_type": "execute_result"
    }
   ],
   "source": [
    "items[1]"
   ],
   "metadata": {
    "collapsed": false,
    "ExecuteTime": {
     "end_time": "2024-05-27T12:37:51.457340Z",
     "start_time": "2024-05-27T12:37:51.453148Z"
    }
   },
   "id": "5a2337f57e059b5d",
   "execution_count": 14
  },
  {
   "cell_type": "code",
   "outputs": [
    {
     "ename": "ApifyApiError",
     "evalue": "You must rent a paid Actor in order to run it.",
     "output_type": "error",
     "traceback": [
      "\u001B[0;31m---------------------------------------------------------------------------\u001B[0m",
      "\u001B[0;31mApifyApiError\u001B[0m                             Traceback (most recent call last)",
      "Cell \u001B[0;32mIn[31], line 1\u001B[0m\n\u001B[0;32m----> 1\u001B[0m df \u001B[38;5;241m=\u001B[39m \u001B[43mget_comments\u001B[49m\u001B[43m(\u001B[49m\u001B[43mclient\u001B[49m\u001B[43m,\u001B[49m\u001B[43m \u001B[49m\u001B[38;5;241;43m5\u001B[39;49m\u001B[43m,\u001B[49m\u001B[43m \u001B[49m\u001B[38;5;241;43m5\u001B[39;49m\u001B[43m)\u001B[49m\n",
      "Cell \u001B[0;32mIn[2], line 60\u001B[0m, in \u001B[0;36mget_comments\u001B[0;34m(client, results_Limit, comments_limit)\u001B[0m\n\u001B[1;32m     53\u001B[0m input_get_comments \u001B[38;5;241m=\u001B[39m {\n\u001B[1;32m     54\u001B[0m     \u001B[38;5;124m\"\u001B[39m\u001B[38;5;124mstartUrls\u001B[39m\u001B[38;5;124m\"\u001B[39m: output_urls,\n\u001B[1;32m     55\u001B[0m     \u001B[38;5;124m\"\u001B[39m\u001B[38;5;124mresultsLimit\u001B[39m\u001B[38;5;124m\"\u001B[39m: comments_limit,\n\u001B[1;32m     56\u001B[0m     \u001B[38;5;124m\"\u001B[39m\u001B[38;5;124mincludeNestedComments\u001B[39m\u001B[38;5;124m\"\u001B[39m: \u001B[38;5;28;01mFalse\u001B[39;00m,\n\u001B[1;32m     57\u001B[0m     \u001B[38;5;124m\"\u001B[39m\u001B[38;5;124mviewOption\u001B[39m\u001B[38;5;124m\"\u001B[39m: \u001B[38;5;124m\"\u001B[39m\u001B[38;5;124mRANKED_UNFILTERED\u001B[39m\u001B[38;5;124m\"\u001B[39m,\n\u001B[1;32m     58\u001B[0m }\n\u001B[1;32m     59\u001B[0m \u001B[38;5;66;03m# Run the Actor and wait for it to finish\u001B[39;00m\n\u001B[0;32m---> 60\u001B[0m run_get_comments \u001B[38;5;241m=\u001B[39m \u001B[43mclient\u001B[49m\u001B[38;5;241;43m.\u001B[39;49m\u001B[43mactor\u001B[49m\u001B[43m(\u001B[49m\u001B[43mfb_comments_scraper_id\u001B[49m\u001B[43m)\u001B[49m\u001B[38;5;241;43m.\u001B[39;49m\u001B[43mcall\u001B[49m\u001B[43m(\u001B[49m\u001B[43mrun_input\u001B[49m\u001B[38;5;241;43m=\u001B[39;49m\u001B[43minput_get_comments\u001B[49m\u001B[43m)\u001B[49m\n\u001B[1;32m     62\u001B[0m \u001B[38;5;66;03m# Fetch Actor results from the run's dataset and create a DataFrame\u001B[39;00m\n\u001B[1;32m     63\u001B[0m items \u001B[38;5;241m=\u001B[39m \u001B[38;5;28mlist\u001B[39m(client\u001B[38;5;241m.\u001B[39mdataset(run_get_comments[\u001B[38;5;124m\"\u001B[39m\u001B[38;5;124mdefaultDatasetId\u001B[39m\u001B[38;5;124m\"\u001B[39m])\u001B[38;5;241m.\u001B[39miterate_items())\n",
      "File \u001B[0;32m~/miniconda3/envs/comp7705/lib/python3.9/site-packages/apify_client/_logging.py:82\u001B[0m, in \u001B[0;36m_injects_client_details_to_log_context.<locals>.wrapper\u001B[0;34m(resource_client, *args, **kwargs)\u001B[0m\n\u001B[1;32m     79\u001B[0m log_context\u001B[38;5;241m.\u001B[39mclient_method\u001B[38;5;241m.\u001B[39mset(fun\u001B[38;5;241m.\u001B[39m\u001B[38;5;18m__qualname__\u001B[39m)\n\u001B[1;32m     80\u001B[0m log_context\u001B[38;5;241m.\u001B[39mresource_id\u001B[38;5;241m.\u001B[39mset(resource_client\u001B[38;5;241m.\u001B[39mresource_id)\n\u001B[0;32m---> 82\u001B[0m \u001B[38;5;28;01mreturn\u001B[39;00m \u001B[43mfun\u001B[49m\u001B[43m(\u001B[49m\u001B[43mresource_client\u001B[49m\u001B[43m,\u001B[49m\u001B[43m \u001B[49m\u001B[38;5;241;43m*\u001B[39;49m\u001B[43margs\u001B[49m\u001B[43m,\u001B[49m\u001B[43m \u001B[49m\u001B[38;5;241;43m*\u001B[39;49m\u001B[38;5;241;43m*\u001B[39;49m\u001B[43mkwargs\u001B[49m\u001B[43m)\u001B[49m\n",
      "File \u001B[0;32m~/miniconda3/envs/comp7705/lib/python3.9/site-packages/apify_client/clients/resource_clients/actor.py:266\u001B[0m, in \u001B[0;36mActorClient.call\u001B[0;34m(self, run_input, content_type, build, max_items, memory_mbytes, timeout_secs, webhooks, wait_secs)\u001B[0m\n\u001B[1;32m    229\u001B[0m \u001B[38;5;28;01mdef\u001B[39;00m \u001B[38;5;21mcall\u001B[39m(\n\u001B[1;32m    230\u001B[0m     \u001B[38;5;28mself\u001B[39m: ActorClient,\n\u001B[1;32m    231\u001B[0m     \u001B[38;5;241m*\u001B[39m,\n\u001B[0;32m   (...)\u001B[0m\n\u001B[1;32m    239\u001B[0m     wait_secs: \u001B[38;5;28mint\u001B[39m \u001B[38;5;241m|\u001B[39m \u001B[38;5;28;01mNone\u001B[39;00m \u001B[38;5;241m=\u001B[39m \u001B[38;5;28;01mNone\u001B[39;00m,\n\u001B[1;32m    240\u001B[0m ) \u001B[38;5;241m-\u001B[39m\u001B[38;5;241m>\u001B[39m \u001B[38;5;28mdict\u001B[39m \u001B[38;5;241m|\u001B[39m \u001B[38;5;28;01mNone\u001B[39;00m:\n\u001B[1;32m    241\u001B[0m \u001B[38;5;250m    \u001B[39m\u001B[38;5;124;03m\"\"\"Start the actor and wait for it to finish before returning the Run object.\u001B[39;00m\n\u001B[1;32m    242\u001B[0m \n\u001B[1;32m    243\u001B[0m \u001B[38;5;124;03m    It waits indefinitely, unless the wait_secs argument is provided.\u001B[39;00m\n\u001B[0;32m   (...)\u001B[0m\n\u001B[1;32m    264\u001B[0m \u001B[38;5;124;03m        dict: The run object\u001B[39;00m\n\u001B[1;32m    265\u001B[0m \u001B[38;5;124;03m    \"\"\"\u001B[39;00m\n\u001B[0;32m--> 266\u001B[0m     started_run \u001B[38;5;241m=\u001B[39m \u001B[38;5;28;43mself\u001B[39;49m\u001B[38;5;241;43m.\u001B[39;49m\u001B[43mstart\u001B[49m\u001B[43m(\u001B[49m\n\u001B[1;32m    267\u001B[0m \u001B[43m        \u001B[49m\u001B[43mrun_input\u001B[49m\u001B[38;5;241;43m=\u001B[39;49m\u001B[43mrun_input\u001B[49m\u001B[43m,\u001B[49m\n\u001B[1;32m    268\u001B[0m \u001B[43m        \u001B[49m\u001B[43mcontent_type\u001B[49m\u001B[38;5;241;43m=\u001B[39;49m\u001B[43mcontent_type\u001B[49m\u001B[43m,\u001B[49m\n\u001B[1;32m    269\u001B[0m \u001B[43m        \u001B[49m\u001B[43mbuild\u001B[49m\u001B[38;5;241;43m=\u001B[39;49m\u001B[43mbuild\u001B[49m\u001B[43m,\u001B[49m\n\u001B[1;32m    270\u001B[0m \u001B[43m        \u001B[49m\u001B[43mmax_items\u001B[49m\u001B[38;5;241;43m=\u001B[39;49m\u001B[43mmax_items\u001B[49m\u001B[43m,\u001B[49m\n\u001B[1;32m    271\u001B[0m \u001B[43m        \u001B[49m\u001B[43mmemory_mbytes\u001B[49m\u001B[38;5;241;43m=\u001B[39;49m\u001B[43mmemory_mbytes\u001B[49m\u001B[43m,\u001B[49m\n\u001B[1;32m    272\u001B[0m \u001B[43m        \u001B[49m\u001B[43mtimeout_secs\u001B[49m\u001B[38;5;241;43m=\u001B[39;49m\u001B[43mtimeout_secs\u001B[49m\u001B[43m,\u001B[49m\n\u001B[1;32m    273\u001B[0m \u001B[43m        \u001B[49m\u001B[43mwebhooks\u001B[49m\u001B[38;5;241;43m=\u001B[39;49m\u001B[43mwebhooks\u001B[49m\u001B[43m,\u001B[49m\n\u001B[1;32m    274\u001B[0m \u001B[43m    \u001B[49m\u001B[43m)\u001B[49m\n\u001B[1;32m    276\u001B[0m     \u001B[38;5;28;01mreturn\u001B[39;00m \u001B[38;5;28mself\u001B[39m\u001B[38;5;241m.\u001B[39mroot_client\u001B[38;5;241m.\u001B[39mrun(started_run[\u001B[38;5;124m'\u001B[39m\u001B[38;5;124mid\u001B[39m\u001B[38;5;124m'\u001B[39m])\u001B[38;5;241m.\u001B[39mwait_for_finish(wait_secs\u001B[38;5;241m=\u001B[39mwait_secs)\n",
      "File \u001B[0;32m~/miniconda3/envs/comp7705/lib/python3.9/site-packages/apify_client/_logging.py:82\u001B[0m, in \u001B[0;36m_injects_client_details_to_log_context.<locals>.wrapper\u001B[0;34m(resource_client, *args, **kwargs)\u001B[0m\n\u001B[1;32m     79\u001B[0m log_context\u001B[38;5;241m.\u001B[39mclient_method\u001B[38;5;241m.\u001B[39mset(fun\u001B[38;5;241m.\u001B[39m\u001B[38;5;18m__qualname__\u001B[39m)\n\u001B[1;32m     80\u001B[0m log_context\u001B[38;5;241m.\u001B[39mresource_id\u001B[38;5;241m.\u001B[39mset(resource_client\u001B[38;5;241m.\u001B[39mresource_id)\n\u001B[0;32m---> 82\u001B[0m \u001B[38;5;28;01mreturn\u001B[39;00m \u001B[43mfun\u001B[49m\u001B[43m(\u001B[49m\u001B[43mresource_client\u001B[49m\u001B[43m,\u001B[49m\u001B[43m \u001B[49m\u001B[38;5;241;43m*\u001B[39;49m\u001B[43margs\u001B[49m\u001B[43m,\u001B[49m\u001B[43m \u001B[49m\u001B[38;5;241;43m*\u001B[39;49m\u001B[38;5;241;43m*\u001B[39;49m\u001B[43mkwargs\u001B[49m\u001B[43m)\u001B[49m\n",
      "File \u001B[0;32m~/miniconda3/envs/comp7705/lib/python3.9/site-packages/apify_client/clients/resource_clients/actor.py:219\u001B[0m, in \u001B[0;36mActorClient.start\u001B[0;34m(self, run_input, content_type, build, max_items, memory_mbytes, timeout_secs, wait_for_finish, webhooks)\u001B[0m\n\u001B[1;32m    208\u001B[0m run_input, content_type \u001B[38;5;241m=\u001B[39m encode_key_value_store_record_value(run_input, content_type)\n\u001B[1;32m    210\u001B[0m request_params \u001B[38;5;241m=\u001B[39m \u001B[38;5;28mself\u001B[39m\u001B[38;5;241m.\u001B[39m_params(\n\u001B[1;32m    211\u001B[0m     build\u001B[38;5;241m=\u001B[39mbuild,\n\u001B[1;32m    212\u001B[0m     maxItems\u001B[38;5;241m=\u001B[39mmax_items,\n\u001B[0;32m   (...)\u001B[0m\n\u001B[1;32m    216\u001B[0m     webhooks\u001B[38;5;241m=\u001B[39mencode_webhook_list_to_base64(webhooks) \u001B[38;5;28;01mif\u001B[39;00m webhooks \u001B[38;5;129;01mis\u001B[39;00m \u001B[38;5;129;01mnot\u001B[39;00m \u001B[38;5;28;01mNone\u001B[39;00m \u001B[38;5;28;01melse\u001B[39;00m \u001B[38;5;28;01mNone\u001B[39;00m,\n\u001B[1;32m    217\u001B[0m )\n\u001B[0;32m--> 219\u001B[0m response \u001B[38;5;241m=\u001B[39m \u001B[38;5;28;43mself\u001B[39;49m\u001B[38;5;241;43m.\u001B[39;49m\u001B[43mhttp_client\u001B[49m\u001B[38;5;241;43m.\u001B[39;49m\u001B[43mcall\u001B[49m\u001B[43m(\u001B[49m\n\u001B[1;32m    220\u001B[0m \u001B[43m    \u001B[49m\u001B[43murl\u001B[49m\u001B[38;5;241;43m=\u001B[39;49m\u001B[38;5;28;43mself\u001B[39;49m\u001B[38;5;241;43m.\u001B[39;49m\u001B[43m_url\u001B[49m\u001B[43m(\u001B[49m\u001B[38;5;124;43m'\u001B[39;49m\u001B[38;5;124;43mruns\u001B[39;49m\u001B[38;5;124;43m'\u001B[39;49m\u001B[43m)\u001B[49m\u001B[43m,\u001B[49m\n\u001B[1;32m    221\u001B[0m \u001B[43m    \u001B[49m\u001B[43mmethod\u001B[49m\u001B[38;5;241;43m=\u001B[39;49m\u001B[38;5;124;43m'\u001B[39;49m\u001B[38;5;124;43mPOST\u001B[39;49m\u001B[38;5;124;43m'\u001B[39;49m\u001B[43m,\u001B[49m\n\u001B[1;32m    222\u001B[0m \u001B[43m    \u001B[49m\u001B[43mheaders\u001B[49m\u001B[38;5;241;43m=\u001B[39;49m\u001B[43m{\u001B[49m\u001B[38;5;124;43m'\u001B[39;49m\u001B[38;5;124;43mcontent-type\u001B[39;49m\u001B[38;5;124;43m'\u001B[39;49m\u001B[43m:\u001B[49m\u001B[43m \u001B[49m\u001B[43mcontent_type\u001B[49m\u001B[43m}\u001B[49m\u001B[43m,\u001B[49m\n\u001B[1;32m    223\u001B[0m \u001B[43m    \u001B[49m\u001B[43mdata\u001B[49m\u001B[38;5;241;43m=\u001B[39;49m\u001B[43mrun_input\u001B[49m\u001B[43m,\u001B[49m\n\u001B[1;32m    224\u001B[0m \u001B[43m    \u001B[49m\u001B[43mparams\u001B[49m\u001B[38;5;241;43m=\u001B[39;49m\u001B[43mrequest_params\u001B[49m\u001B[43m,\u001B[49m\n\u001B[1;32m    225\u001B[0m \u001B[43m\u001B[49m\u001B[43m)\u001B[49m\n\u001B[1;32m    227\u001B[0m \u001B[38;5;28;01mreturn\u001B[39;00m parse_date_fields(pluck_data(response\u001B[38;5;241m.\u001B[39mjson()))\n",
      "File \u001B[0;32m~/miniconda3/envs/comp7705/lib/python3.9/site-packages/apify_client/_http_client.py:193\u001B[0m, in \u001B[0;36mHTTPClient.call\u001B[0;34m(self, method, url, headers, params, data, json, stream, parse_response)\u001B[0m\n\u001B[1;32m    190\u001B[0m         stop_retrying()\n\u001B[1;32m    191\u001B[0m     \u001B[38;5;28;01mraise\u001B[39;00m ApifyApiError(response, attempt)\n\u001B[0;32m--> 193\u001B[0m \u001B[38;5;28;01mreturn\u001B[39;00m \u001B[43mretry_with_exp_backoff\u001B[49m\u001B[43m(\u001B[49m\n\u001B[1;32m    194\u001B[0m \u001B[43m    \u001B[49m\u001B[43m_make_request\u001B[49m\u001B[43m,\u001B[49m\n\u001B[1;32m    195\u001B[0m \u001B[43m    \u001B[49m\u001B[43mmax_retries\u001B[49m\u001B[38;5;241;43m=\u001B[39;49m\u001B[38;5;28;43mself\u001B[39;49m\u001B[38;5;241;43m.\u001B[39;49m\u001B[43mmax_retries\u001B[49m\u001B[43m,\u001B[49m\n\u001B[1;32m    196\u001B[0m \u001B[43m    \u001B[49m\u001B[43mbackoff_base_millis\u001B[49m\u001B[38;5;241;43m=\u001B[39;49m\u001B[38;5;28;43mself\u001B[39;49m\u001B[38;5;241;43m.\u001B[39;49m\u001B[43mmin_delay_between_retries_millis\u001B[49m\u001B[43m,\u001B[49m\n\u001B[1;32m    197\u001B[0m \u001B[43m    \u001B[49m\u001B[43mbackoff_factor\u001B[49m\u001B[38;5;241;43m=\u001B[39;49m\u001B[43mDEFAULT_BACKOFF_EXPONENTIAL_FACTOR\u001B[49m\u001B[43m,\u001B[49m\n\u001B[1;32m    198\u001B[0m \u001B[43m    \u001B[49m\u001B[43mrandom_factor\u001B[49m\u001B[38;5;241;43m=\u001B[39;49m\u001B[43mDEFAULT_BACKOFF_RANDOM_FACTOR\u001B[49m\u001B[43m,\u001B[49m\n\u001B[1;32m    199\u001B[0m \u001B[43m\u001B[49m\u001B[43m)\u001B[49m\n",
      "File \u001B[0;32m~/miniconda3/envs/comp7705/lib/python3.9/site-packages/apify_client/_utils.py:64\u001B[0m, in \u001B[0;36mretry_with_exp_backoff\u001B[0;34m(func, max_retries, backoff_base_millis, backoff_factor, random_factor)\u001B[0m\n\u001B[1;32m     62\u001B[0m \u001B[38;5;28;01mfor\u001B[39;00m attempt \u001B[38;5;129;01min\u001B[39;00m \u001B[38;5;28mrange\u001B[39m(\u001B[38;5;241m1\u001B[39m, max_retries \u001B[38;5;241m+\u001B[39m \u001B[38;5;241m1\u001B[39m):\n\u001B[1;32m     63\u001B[0m     \u001B[38;5;28;01mtry\u001B[39;00m:\n\u001B[0;32m---> 64\u001B[0m         \u001B[38;5;28;01mreturn\u001B[39;00m \u001B[43mfunc\u001B[49m\u001B[43m(\u001B[49m\u001B[43mstop_retrying\u001B[49m\u001B[43m,\u001B[49m\u001B[43m \u001B[49m\u001B[43mattempt\u001B[49m\u001B[43m)\u001B[49m\n\u001B[1;32m     65\u001B[0m     \u001B[38;5;28;01mexcept\u001B[39;00m \u001B[38;5;167;01mException\u001B[39;00m:\n\u001B[1;32m     66\u001B[0m         \u001B[38;5;28;01mif\u001B[39;00m \u001B[38;5;129;01mnot\u001B[39;00m swallow:\n",
      "File \u001B[0;32m~/miniconda3/envs/comp7705/lib/python3.9/site-packages/apify_client/_http_client.py:191\u001B[0m, in \u001B[0;36mHTTPClient.call.<locals>._make_request\u001B[0;34m(stop_retrying, attempt)\u001B[0m\n\u001B[1;32m    189\u001B[0m     logger\u001B[38;5;241m.\u001B[39mdebug(\u001B[38;5;124m'\u001B[39m\u001B[38;5;124mStatus code is not retryable\u001B[39m\u001B[38;5;124m'\u001B[39m, extra\u001B[38;5;241m=\u001B[39m{\u001B[38;5;124m'\u001B[39m\u001B[38;5;124mstatus_code\u001B[39m\u001B[38;5;124m'\u001B[39m: response\u001B[38;5;241m.\u001B[39mstatus_code})\n\u001B[1;32m    190\u001B[0m     stop_retrying()\n\u001B[0;32m--> 191\u001B[0m \u001B[38;5;28;01mraise\u001B[39;00m ApifyApiError(response, attempt)\n",
      "\u001B[0;31mApifyApiError\u001B[0m: You must rent a paid Actor in order to run it."
     ]
    }
   ],
   "source": [
    "df = get_comments(client, 5, 5)"
   ],
   "metadata": {
    "collapsed": false,
    "ExecuteTime": {
     "end_time": "2024-05-30T05:28:47.376046Z",
     "start_time": "2024-05-30T05:28:26.258949Z"
    }
   },
   "id": "54bca92becf748e4",
   "execution_count": 31
  },
  {
   "cell_type": "code",
   "outputs": [
    {
     "name": "stderr",
     "output_type": "stream",
     "text": [
      "/var/folders/lh/9hn6_pgj4ts6zx5f4tjcj1qh0000gn/T/ipykernel_19004/99716062.py:1: SettingWithCopyWarning: \n",
      "A value is trying to be set on a copy of a slice from a DataFrame.\n",
      "Try using .loc[row_indexer,col_indexer] = value instead\n",
      "\n",
      "See the caveats in the documentation: https://pandas.pydata.org/pandas-docs/stable/user_guide/indexing.html#returning-a-view-versus-a-copy\n",
      "  df[\"expandedLink\"] = df[\"postTitle\"].apply(extract_and_expand_bityl_link)\n"
     ]
    }
   ],
   "source": [
    "df[\"expandedLink\"] = df[\"postTitle\"].apply(extract_and_expand_bityl_link)"
   ],
   "metadata": {
    "collapsed": false,
    "ExecuteTime": {
     "end_time": "2024-05-30T05:27:41.120892Z",
     "start_time": "2024-05-30T05:27:33.305803Z"
    }
   },
   "id": "b73b7dbafa1ec2b1",
   "execution_count": 28
  },
  {
   "cell_type": "code",
   "outputs": [
    {
     "data": {
      "text/plain": "                                           commentUrl  \\\n0   https://www.facebook.com/hk01wemedia/posts/pfb...   \n1   https://www.facebook.com/hk01wemedia/posts/pfb...   \n2   https://www.facebook.com/hk01wemedia/posts/pfb...   \n3   https://www.facebook.com/hk01wemedia/posts/pfb...   \n4   https://www.facebook.com/hk01wemedia/posts/757...   \n5   https://www.facebook.com/hk01wemedia/posts/757...   \n6   https://www.facebook.com/hk01wemedia/posts/757...   \n7   https://www.facebook.com/hk01wemedia/posts/757...   \n8   https://www.facebook.com/hk01wemedia/posts/757...   \n9   https://www.facebook.com/hk01wemedia/posts/757...   \n10  https://www.facebook.com/hk01wemedia/posts/757...   \n11  https://www.facebook.com/hk01wemedia/posts/757...   \n12  https://www.facebook.com/hk01wemedia/posts/757...   \n13  https://www.facebook.com/hk01wemedia/posts/757...   \n\n                        date                                      text  \\\n0   2024-05-27T12:31:19.000Z  唔好衝動呀！其實呢個世界好美好，除咗病痛外，冇乜嘢係事情解決唔到，祝你早日康復🙏   \n1   2024-05-27T12:35:29.000Z                                      🙏🏻🙏🏻   \n2   2024-05-27T12:34:31.000Z            真係服左，咁嘅case都有人比笑\\n所以話呢個世界乜衰人都有   \n3   2024-05-27T12:37:08.000Z     為個男人燒爛曬己塊面值得咩  你毀容佢更只會更加離開你  最緊要係你自己呀   \n4   2024-05-27T11:24:31.000Z                                     願平安🙏🏻   \n5   2024-05-27T11:08:05.000Z                                         🙏   \n6   2024-05-27T11:40:15.000Z                                  毀容 慘過當場死   \n7   2024-05-27T10:59:27.000Z                                     比死更難受   \n8   2024-05-27T11:17:21.000Z                                 願傷者平平安安🙏🏿   \n9   2024-05-27T10:31:32.000Z                            係個後備月台掛幾塊板叫主題🥰   \n10  2024-05-27T10:34:49.000Z                           Ho SayenMi Chan   \n11  2024-05-27T11:25:21.000Z             去埋銀座站Ginza station，即刻好「日本」🇯🇵😂   \n12  2024-05-27T11:07:53.000Z                                 我成日都冇見過叮噹   \n13  2024-05-27T11:12:10.000Z                                 係 擦鞋定配合呢？   \n\n                                            postTitle  \\\n0   【緊貼 01新聞 】何苦要咁傻\\n全文：https://bityl.co/Q9NG\\n\\n旺...   \n1   【緊貼 01新聞 】何苦要咁傻\\n全文：https://bityl.co/Q9NG\\n\\n旺...   \n2   【緊貼 01新聞 】何苦要咁傻\\n全文：https://bityl.co/Q9NG\\n\\n旺...   \n3   【緊貼 01新聞 】何苦要咁傻\\n全文：https://bityl.co/Q9NG\\n\\n旺...   \n4   【緊貼 01新聞 】女傷者面部、四肢均須貼上敷料、紗布或保鮮紙包紮\\n全文：https://...   \n5   【緊貼 01新聞 】女傷者面部、四肢均須貼上敷料、紗布或保鮮紙包紮\\n全文：https://...   \n6   【緊貼 01新聞 】女傷者面部、四肢均須貼上敷料、紗布或保鮮紙包紮\\n全文：https://...   \n7   【緊貼 01新聞 】女傷者面部、四肢均須貼上敷料、紗布或保鮮紙包紮\\n全文：https://...   \n8   【緊貼 01新聞 】女傷者面部、四肢均須貼上敷料、紗布或保鮮紙包紮\\n全文：https://...   \n9   【緊貼 01新聞 】仲會推出紀念票\\n全文：https://bityl.co/Q9Fk\\n\\...   \n10  【緊貼 01新聞 】仲會推出紀念票\\n全文：https://bityl.co/Q9Fk\\n\\...   \n11  【緊貼 01新聞 】仲會推出紀念票\\n全文：https://bityl.co/Q9Fk\\n\\...   \n12  【緊貼 01新聞 】仲會推出紀念票\\n全文：https://bityl.co/Q9Fk\\n\\...   \n13  【緊貼 01新聞 】仲會推出紀念票\\n全文：https://bityl.co/Q9Fk\\n\\...   \n\n                                         ExpandedLink         commentId  \\\n0   https://www.hk01.com/%E7%AA%81%E7%99%BC/102334...   819532210129127   \n1   https://www.hk01.com/%E7%AA%81%E7%99%BC/102334...   986591906268933   \n2   https://www.hk01.com/%E7%AA%81%E7%99%BC/102334...  1623627895137727   \n3   https://www.hk01.com/%E7%AA%81%E7%99%BC/102334...   803232781768370   \n4   https://www.hk01.com/%E7%AA%81%E7%99%BC/102329...   389800230037302   \n5   https://www.hk01.com/%E7%AA%81%E7%99%BC/102329...   368267072424294   \n6   https://www.hk01.com/%E7%AA%81%E7%99%BC/102329...   873114331521625   \n7   https://www.hk01.com/%E7%AA%81%E7%99%BC/102329...  1949536242149262   \n8   https://www.hk01.com/%E7%AA%81%E7%99%BC/102329...  1219297022813916   \n9   https://www.hk01.com/%E7%A4%BE%E6%9C%83%E6%96%...   479097471351472   \n10  https://www.hk01.com/%E7%A4%BE%E6%9C%83%E6%96%...  2962497667435463   \n11  https://www.hk01.com/%E7%A4%BE%E6%9C%83%E6%96%...   352074820860413   \n12  https://www.hk01.com/%E7%A4%BE%E6%9C%83%E6%96%...   886996723441803   \n13  https://www.hk01.com/%E7%A4%BE%E6%9C%83%E6%96%...  1132590684627677   \n\n                                         expandedLink  \n0   https://www.hk01.com/%E7%AA%81%E7%99%BC/102334...  \n1   https://www.hk01.com/%E7%AA%81%E7%99%BC/102334...  \n2   https://www.hk01.com/%E7%AA%81%E7%99%BC/102334...  \n3   https://www.hk01.com/%E7%AA%81%E7%99%BC/102334...  \n4   https://www.hk01.com/%E7%AA%81%E7%99%BC/102329...  \n5   https://www.hk01.com/%E7%AA%81%E7%99%BC/102329...  \n6   https://www.hk01.com/%E7%AA%81%E7%99%BC/102329...  \n7   https://www.hk01.com/%E7%AA%81%E7%99%BC/102329...  \n8   https://www.hk01.com/%E7%AA%81%E7%99%BC/102329...  \n9   https://www.hk01.com/%E7%A4%BE%E6%9C%83%E6%96%...  \n10  https://www.hk01.com/%E7%A4%BE%E6%9C%83%E6%96%...  \n11  https://www.hk01.com/%E7%A4%BE%E6%9C%83%E6%96%...  \n12  https://www.hk01.com/%E7%A4%BE%E6%9C%83%E6%96%...  \n13  https://www.hk01.com/%E7%A4%BE%E6%9C%83%E6%96%...  ",
      "text/html": "<div>\n<style scoped>\n    .dataframe tbody tr th:only-of-type {\n        vertical-align: middle;\n    }\n\n    .dataframe tbody tr th {\n        vertical-align: top;\n    }\n\n    .dataframe thead th {\n        text-align: right;\n    }\n</style>\n<table border=\"1\" class=\"dataframe\">\n  <thead>\n    <tr style=\"text-align: right;\">\n      <th></th>\n      <th>commentUrl</th>\n      <th>date</th>\n      <th>text</th>\n      <th>postTitle</th>\n      <th>ExpandedLink</th>\n      <th>commentId</th>\n      <th>expandedLink</th>\n    </tr>\n  </thead>\n  <tbody>\n    <tr>\n      <th>0</th>\n      <td>https://www.facebook.com/hk01wemedia/posts/pfb...</td>\n      <td>2024-05-27T12:31:19.000Z</td>\n      <td>唔好衝動呀！其實呢個世界好美好，除咗病痛外，冇乜嘢係事情解決唔到，祝你早日康復🙏</td>\n      <td>【緊貼 01新聞 】何苦要咁傻\\n全文：https://bityl.co/Q9NG\\n\\n旺...</td>\n      <td>https://www.hk01.com/%E7%AA%81%E7%99%BC/102334...</td>\n      <td>819532210129127</td>\n      <td>https://www.hk01.com/%E7%AA%81%E7%99%BC/102334...</td>\n    </tr>\n    <tr>\n      <th>1</th>\n      <td>https://www.facebook.com/hk01wemedia/posts/pfb...</td>\n      <td>2024-05-27T12:35:29.000Z</td>\n      <td>🙏🏻🙏🏻</td>\n      <td>【緊貼 01新聞 】何苦要咁傻\\n全文：https://bityl.co/Q9NG\\n\\n旺...</td>\n      <td>https://www.hk01.com/%E7%AA%81%E7%99%BC/102334...</td>\n      <td>986591906268933</td>\n      <td>https://www.hk01.com/%E7%AA%81%E7%99%BC/102334...</td>\n    </tr>\n    <tr>\n      <th>2</th>\n      <td>https://www.facebook.com/hk01wemedia/posts/pfb...</td>\n      <td>2024-05-27T12:34:31.000Z</td>\n      <td>真係服左，咁嘅case都有人比笑\\n所以話呢個世界乜衰人都有</td>\n      <td>【緊貼 01新聞 】何苦要咁傻\\n全文：https://bityl.co/Q9NG\\n\\n旺...</td>\n      <td>https://www.hk01.com/%E7%AA%81%E7%99%BC/102334...</td>\n      <td>1623627895137727</td>\n      <td>https://www.hk01.com/%E7%AA%81%E7%99%BC/102334...</td>\n    </tr>\n    <tr>\n      <th>3</th>\n      <td>https://www.facebook.com/hk01wemedia/posts/pfb...</td>\n      <td>2024-05-27T12:37:08.000Z</td>\n      <td>為個男人燒爛曬己塊面值得咩  你毀容佢更只會更加離開你  最緊要係你自己呀</td>\n      <td>【緊貼 01新聞 】何苦要咁傻\\n全文：https://bityl.co/Q9NG\\n\\n旺...</td>\n      <td>https://www.hk01.com/%E7%AA%81%E7%99%BC/102334...</td>\n      <td>803232781768370</td>\n      <td>https://www.hk01.com/%E7%AA%81%E7%99%BC/102334...</td>\n    </tr>\n    <tr>\n      <th>4</th>\n      <td>https://www.facebook.com/hk01wemedia/posts/757...</td>\n      <td>2024-05-27T11:24:31.000Z</td>\n      <td>願平安🙏🏻</td>\n      <td>【緊貼 01新聞 】女傷者面部、四肢均須貼上敷料、紗布或保鮮紙包紮\\n全文：https://...</td>\n      <td>https://www.hk01.com/%E7%AA%81%E7%99%BC/102329...</td>\n      <td>389800230037302</td>\n      <td>https://www.hk01.com/%E7%AA%81%E7%99%BC/102329...</td>\n    </tr>\n    <tr>\n      <th>5</th>\n      <td>https://www.facebook.com/hk01wemedia/posts/757...</td>\n      <td>2024-05-27T11:08:05.000Z</td>\n      <td>🙏</td>\n      <td>【緊貼 01新聞 】女傷者面部、四肢均須貼上敷料、紗布或保鮮紙包紮\\n全文：https://...</td>\n      <td>https://www.hk01.com/%E7%AA%81%E7%99%BC/102329...</td>\n      <td>368267072424294</td>\n      <td>https://www.hk01.com/%E7%AA%81%E7%99%BC/102329...</td>\n    </tr>\n    <tr>\n      <th>6</th>\n      <td>https://www.facebook.com/hk01wemedia/posts/757...</td>\n      <td>2024-05-27T11:40:15.000Z</td>\n      <td>毀容 慘過當場死</td>\n      <td>【緊貼 01新聞 】女傷者面部、四肢均須貼上敷料、紗布或保鮮紙包紮\\n全文：https://...</td>\n      <td>https://www.hk01.com/%E7%AA%81%E7%99%BC/102329...</td>\n      <td>873114331521625</td>\n      <td>https://www.hk01.com/%E7%AA%81%E7%99%BC/102329...</td>\n    </tr>\n    <tr>\n      <th>7</th>\n      <td>https://www.facebook.com/hk01wemedia/posts/757...</td>\n      <td>2024-05-27T10:59:27.000Z</td>\n      <td>比死更難受</td>\n      <td>【緊貼 01新聞 】女傷者面部、四肢均須貼上敷料、紗布或保鮮紙包紮\\n全文：https://...</td>\n      <td>https://www.hk01.com/%E7%AA%81%E7%99%BC/102329...</td>\n      <td>1949536242149262</td>\n      <td>https://www.hk01.com/%E7%AA%81%E7%99%BC/102329...</td>\n    </tr>\n    <tr>\n      <th>8</th>\n      <td>https://www.facebook.com/hk01wemedia/posts/757...</td>\n      <td>2024-05-27T11:17:21.000Z</td>\n      <td>願傷者平平安安🙏🏿</td>\n      <td>【緊貼 01新聞 】女傷者面部、四肢均須貼上敷料、紗布或保鮮紙包紮\\n全文：https://...</td>\n      <td>https://www.hk01.com/%E7%AA%81%E7%99%BC/102329...</td>\n      <td>1219297022813916</td>\n      <td>https://www.hk01.com/%E7%AA%81%E7%99%BC/102329...</td>\n    </tr>\n    <tr>\n      <th>9</th>\n      <td>https://www.facebook.com/hk01wemedia/posts/757...</td>\n      <td>2024-05-27T10:31:32.000Z</td>\n      <td>係個後備月台掛幾塊板叫主題🥰</td>\n      <td>【緊貼 01新聞 】仲會推出紀念票\\n全文：https://bityl.co/Q9Fk\\n\\...</td>\n      <td>https://www.hk01.com/%E7%A4%BE%E6%9C%83%E6%96%...</td>\n      <td>479097471351472</td>\n      <td>https://www.hk01.com/%E7%A4%BE%E6%9C%83%E6%96%...</td>\n    </tr>\n    <tr>\n      <th>10</th>\n      <td>https://www.facebook.com/hk01wemedia/posts/757...</td>\n      <td>2024-05-27T10:34:49.000Z</td>\n      <td>Ho SayenMi Chan</td>\n      <td>【緊貼 01新聞 】仲會推出紀念票\\n全文：https://bityl.co/Q9Fk\\n\\...</td>\n      <td>https://www.hk01.com/%E7%A4%BE%E6%9C%83%E6%96%...</td>\n      <td>2962497667435463</td>\n      <td>https://www.hk01.com/%E7%A4%BE%E6%9C%83%E6%96%...</td>\n    </tr>\n    <tr>\n      <th>11</th>\n      <td>https://www.facebook.com/hk01wemedia/posts/757...</td>\n      <td>2024-05-27T11:25:21.000Z</td>\n      <td>去埋銀座站Ginza station，即刻好「日本」🇯🇵😂</td>\n      <td>【緊貼 01新聞 】仲會推出紀念票\\n全文：https://bityl.co/Q9Fk\\n\\...</td>\n      <td>https://www.hk01.com/%E7%A4%BE%E6%9C%83%E6%96%...</td>\n      <td>352074820860413</td>\n      <td>https://www.hk01.com/%E7%A4%BE%E6%9C%83%E6%96%...</td>\n    </tr>\n    <tr>\n      <th>12</th>\n      <td>https://www.facebook.com/hk01wemedia/posts/757...</td>\n      <td>2024-05-27T11:07:53.000Z</td>\n      <td>我成日都冇見過叮噹</td>\n      <td>【緊貼 01新聞 】仲會推出紀念票\\n全文：https://bityl.co/Q9Fk\\n\\...</td>\n      <td>https://www.hk01.com/%E7%A4%BE%E6%9C%83%E6%96%...</td>\n      <td>886996723441803</td>\n      <td>https://www.hk01.com/%E7%A4%BE%E6%9C%83%E6%96%...</td>\n    </tr>\n    <tr>\n      <th>13</th>\n      <td>https://www.facebook.com/hk01wemedia/posts/757...</td>\n      <td>2024-05-27T11:12:10.000Z</td>\n      <td>係 擦鞋定配合呢？</td>\n      <td>【緊貼 01新聞 】仲會推出紀念票\\n全文：https://bityl.co/Q9Fk\\n\\...</td>\n      <td>https://www.hk01.com/%E7%A4%BE%E6%9C%83%E6%96%...</td>\n      <td>1132590684627677</td>\n      <td>https://www.hk01.com/%E7%A4%BE%E6%9C%83%E6%96%...</td>\n    </tr>\n  </tbody>\n</table>\n</div>"
     },
     "execution_count": 29,
     "metadata": {},
     "output_type": "execute_result"
    }
   ],
   "source": [
    "df"
   ],
   "metadata": {
    "collapsed": false,
    "ExecuteTime": {
     "end_time": "2024-05-30T05:28:07.698120Z",
     "start_time": "2024-05-30T05:28:07.689038Z"
    }
   },
   "id": "f0e8aa89803efd4c",
   "execution_count": 29
  },
  {
   "cell_type": "code",
   "outputs": [],
   "source": [
    "df = df[['commentUrl', 'date', 'text', 'postTitle', 'expandedLink']]"
   ],
   "metadata": {
    "collapsed": false,
    "ExecuteTime": {
     "end_time": "2024-05-30T05:26:26.129892Z",
     "start_time": "2024-05-30T05:26:26.126497Z"
    }
   },
   "id": "7c9fb9932ae4cc12",
   "execution_count": 24
  },
  {
   "cell_type": "code",
   "outputs": [
    {
     "name": "stderr",
     "output_type": "stream",
     "text": [
      "/var/folders/lh/9hn6_pgj4ts6zx5f4tjcj1qh0000gn/T/ipykernel_19004/3819124238.py:3: SettingWithCopyWarning: \n",
      "A value is trying to be set on a copy of a slice from a DataFrame.\n",
      "Try using .loc[row_indexer,col_indexer] = value instead\n",
      "\n",
      "See the caveats in the documentation: https://pandas.pydata.org/pandas-docs/stable/user_guide/indexing.html#returning-a-view-versus-a-copy\n",
      "  df[\"commentId\"] = df[\"commentUrl\"].apply(lambda url: url.split('?')[1].split('=')[1])\n"
     ]
    }
   ],
   "source": [
    "# df[\"comment_id\"] = df.apply(lambda row: [id for id in row['url'].split('?')[1].split('=')[1].split(',') if id not in url_dict.get(row['url'], [])], axis=1)\n",
    "\n",
    "df[\"commentId\"] = df[\"commentUrl\"].apply(lambda url: url.split('?')[1].split('=')[1])"
   ],
   "metadata": {
    "collapsed": false,
    "ExecuteTime": {
     "end_time": "2024-05-30T05:26:29.319802Z",
     "start_time": "2024-05-30T05:26:29.316155Z"
    }
   },
   "id": "1a9ed54c17ee2760",
   "execution_count": 25
  },
  {
   "cell_type": "code",
   "outputs": [
    {
     "data": {
      "text/plain": "                                           commentUrl  \\\n0   https://www.facebook.com/hk01wemedia/posts/pfb...   \n1   https://www.facebook.com/hk01wemedia/posts/pfb...   \n2   https://www.facebook.com/hk01wemedia/posts/pfb...   \n3   https://www.facebook.com/hk01wemedia/posts/pfb...   \n4   https://www.facebook.com/hk01wemedia/posts/757...   \n5   https://www.facebook.com/hk01wemedia/posts/757...   \n6   https://www.facebook.com/hk01wemedia/posts/757...   \n7   https://www.facebook.com/hk01wemedia/posts/757...   \n8   https://www.facebook.com/hk01wemedia/posts/757...   \n9   https://www.facebook.com/hk01wemedia/posts/757...   \n10  https://www.facebook.com/hk01wemedia/posts/757...   \n11  https://www.facebook.com/hk01wemedia/posts/757...   \n12  https://www.facebook.com/hk01wemedia/posts/757...   \n13  https://www.facebook.com/hk01wemedia/posts/757...   \n\n                        date                                      text  \\\n0   2024-05-27T12:31:19.000Z  唔好衝動呀！其實呢個世界好美好，除咗病痛外，冇乜嘢係事情解決唔到，祝你早日康復🙏   \n1   2024-05-27T12:35:29.000Z                                      🙏🏻🙏🏻   \n2   2024-05-27T12:34:31.000Z            真係服左，咁嘅case都有人比笑\\n所以話呢個世界乜衰人都有   \n3   2024-05-27T12:37:08.000Z     為個男人燒爛曬己塊面值得咩  你毀容佢更只會更加離開你  最緊要係你自己呀   \n4   2024-05-27T11:24:31.000Z                                     願平安🙏🏻   \n5   2024-05-27T11:08:05.000Z                                         🙏   \n6   2024-05-27T11:40:15.000Z                                  毀容 慘過當場死   \n7   2024-05-27T10:59:27.000Z                                     比死更難受   \n8   2024-05-27T11:17:21.000Z                                 願傷者平平安安🙏🏿   \n9   2024-05-27T10:31:32.000Z                            係個後備月台掛幾塊板叫主題🥰   \n10  2024-05-27T10:34:49.000Z                           Ho SayenMi Chan   \n11  2024-05-27T11:25:21.000Z             去埋銀座站Ginza station，即刻好「日本」🇯🇵😂   \n12  2024-05-27T11:07:53.000Z                                 我成日都冇見過叮噹   \n13  2024-05-27T11:12:10.000Z                                 係 擦鞋定配合呢？   \n\n                                            postTitle  \\\n0   【緊貼 01新聞 】何苦要咁傻\\n全文：https://bityl.co/Q9NG\\n\\n旺...   \n1   【緊貼 01新聞 】何苦要咁傻\\n全文：https://bityl.co/Q9NG\\n\\n旺...   \n2   【緊貼 01新聞 】何苦要咁傻\\n全文：https://bityl.co/Q9NG\\n\\n旺...   \n3   【緊貼 01新聞 】何苦要咁傻\\n全文：https://bityl.co/Q9NG\\n\\n旺...   \n4   【緊貼 01新聞 】女傷者面部、四肢均須貼上敷料、紗布或保鮮紙包紮\\n全文：https://...   \n5   【緊貼 01新聞 】女傷者面部、四肢均須貼上敷料、紗布或保鮮紙包紮\\n全文：https://...   \n6   【緊貼 01新聞 】女傷者面部、四肢均須貼上敷料、紗布或保鮮紙包紮\\n全文：https://...   \n7   【緊貼 01新聞 】女傷者面部、四肢均須貼上敷料、紗布或保鮮紙包紮\\n全文：https://...   \n8   【緊貼 01新聞 】女傷者面部、四肢均須貼上敷料、紗布或保鮮紙包紮\\n全文：https://...   \n9   【緊貼 01新聞 】仲會推出紀念票\\n全文：https://bityl.co/Q9Fk\\n\\...   \n10  【緊貼 01新聞 】仲會推出紀念票\\n全文：https://bityl.co/Q9Fk\\n\\...   \n11  【緊貼 01新聞 】仲會推出紀念票\\n全文：https://bityl.co/Q9Fk\\n\\...   \n12  【緊貼 01新聞 】仲會推出紀念票\\n全文：https://bityl.co/Q9Fk\\n\\...   \n13  【緊貼 01新聞 】仲會推出紀念票\\n全文：https://bityl.co/Q9Fk\\n\\...   \n\n                                         ExpandedLink         commentId  \n0   https://www.hk01.com/%E7%AA%81%E7%99%BC/102334...   819532210129127  \n1   https://www.hk01.com/%E7%AA%81%E7%99%BC/102334...   986591906268933  \n2   https://www.hk01.com/%E7%AA%81%E7%99%BC/102334...  1623627895137727  \n3   https://www.hk01.com/%E7%AA%81%E7%99%BC/102334...   803232781768370  \n4   https://www.hk01.com/%E7%AA%81%E7%99%BC/102329...   389800230037302  \n5   https://www.hk01.com/%E7%AA%81%E7%99%BC/102329...   368267072424294  \n6   https://www.hk01.com/%E7%AA%81%E7%99%BC/102329...   873114331521625  \n7   https://www.hk01.com/%E7%AA%81%E7%99%BC/102329...  1949536242149262  \n8   https://www.hk01.com/%E7%AA%81%E7%99%BC/102329...  1219297022813916  \n9   https://www.hk01.com/%E7%A4%BE%E6%9C%83%E6%96%...   479097471351472  \n10  https://www.hk01.com/%E7%A4%BE%E6%9C%83%E6%96%...  2962497667435463  \n11  https://www.hk01.com/%E7%A4%BE%E6%9C%83%E6%96%...   352074820860413  \n12  https://www.hk01.com/%E7%A4%BE%E6%9C%83%E6%96%...   886996723441803  \n13  https://www.hk01.com/%E7%A4%BE%E6%9C%83%E6%96%...  1132590684627677  ",
      "text/html": "<div>\n<style scoped>\n    .dataframe tbody tr th:only-of-type {\n        vertical-align: middle;\n    }\n\n    .dataframe tbody tr th {\n        vertical-align: top;\n    }\n\n    .dataframe thead th {\n        text-align: right;\n    }\n</style>\n<table border=\"1\" class=\"dataframe\">\n  <thead>\n    <tr style=\"text-align: right;\">\n      <th></th>\n      <th>commentUrl</th>\n      <th>date</th>\n      <th>text</th>\n      <th>postTitle</th>\n      <th>ExpandedLink</th>\n      <th>commentId</th>\n    </tr>\n  </thead>\n  <tbody>\n    <tr>\n      <th>0</th>\n      <td>https://www.facebook.com/hk01wemedia/posts/pfb...</td>\n      <td>2024-05-27T12:31:19.000Z</td>\n      <td>唔好衝動呀！其實呢個世界好美好，除咗病痛外，冇乜嘢係事情解決唔到，祝你早日康復🙏</td>\n      <td>【緊貼 01新聞 】何苦要咁傻\\n全文：https://bityl.co/Q9NG\\n\\n旺...</td>\n      <td>https://www.hk01.com/%E7%AA%81%E7%99%BC/102334...</td>\n      <td>819532210129127</td>\n    </tr>\n    <tr>\n      <th>1</th>\n      <td>https://www.facebook.com/hk01wemedia/posts/pfb...</td>\n      <td>2024-05-27T12:35:29.000Z</td>\n      <td>🙏🏻🙏🏻</td>\n      <td>【緊貼 01新聞 】何苦要咁傻\\n全文：https://bityl.co/Q9NG\\n\\n旺...</td>\n      <td>https://www.hk01.com/%E7%AA%81%E7%99%BC/102334...</td>\n      <td>986591906268933</td>\n    </tr>\n    <tr>\n      <th>2</th>\n      <td>https://www.facebook.com/hk01wemedia/posts/pfb...</td>\n      <td>2024-05-27T12:34:31.000Z</td>\n      <td>真係服左，咁嘅case都有人比笑\\n所以話呢個世界乜衰人都有</td>\n      <td>【緊貼 01新聞 】何苦要咁傻\\n全文：https://bityl.co/Q9NG\\n\\n旺...</td>\n      <td>https://www.hk01.com/%E7%AA%81%E7%99%BC/102334...</td>\n      <td>1623627895137727</td>\n    </tr>\n    <tr>\n      <th>3</th>\n      <td>https://www.facebook.com/hk01wemedia/posts/pfb...</td>\n      <td>2024-05-27T12:37:08.000Z</td>\n      <td>為個男人燒爛曬己塊面值得咩  你毀容佢更只會更加離開你  最緊要係你自己呀</td>\n      <td>【緊貼 01新聞 】何苦要咁傻\\n全文：https://bityl.co/Q9NG\\n\\n旺...</td>\n      <td>https://www.hk01.com/%E7%AA%81%E7%99%BC/102334...</td>\n      <td>803232781768370</td>\n    </tr>\n    <tr>\n      <th>4</th>\n      <td>https://www.facebook.com/hk01wemedia/posts/757...</td>\n      <td>2024-05-27T11:24:31.000Z</td>\n      <td>願平安🙏🏻</td>\n      <td>【緊貼 01新聞 】女傷者面部、四肢均須貼上敷料、紗布或保鮮紙包紮\\n全文：https://...</td>\n      <td>https://www.hk01.com/%E7%AA%81%E7%99%BC/102329...</td>\n      <td>389800230037302</td>\n    </tr>\n    <tr>\n      <th>5</th>\n      <td>https://www.facebook.com/hk01wemedia/posts/757...</td>\n      <td>2024-05-27T11:08:05.000Z</td>\n      <td>🙏</td>\n      <td>【緊貼 01新聞 】女傷者面部、四肢均須貼上敷料、紗布或保鮮紙包紮\\n全文：https://...</td>\n      <td>https://www.hk01.com/%E7%AA%81%E7%99%BC/102329...</td>\n      <td>368267072424294</td>\n    </tr>\n    <tr>\n      <th>6</th>\n      <td>https://www.facebook.com/hk01wemedia/posts/757...</td>\n      <td>2024-05-27T11:40:15.000Z</td>\n      <td>毀容 慘過當場死</td>\n      <td>【緊貼 01新聞 】女傷者面部、四肢均須貼上敷料、紗布或保鮮紙包紮\\n全文：https://...</td>\n      <td>https://www.hk01.com/%E7%AA%81%E7%99%BC/102329...</td>\n      <td>873114331521625</td>\n    </tr>\n    <tr>\n      <th>7</th>\n      <td>https://www.facebook.com/hk01wemedia/posts/757...</td>\n      <td>2024-05-27T10:59:27.000Z</td>\n      <td>比死更難受</td>\n      <td>【緊貼 01新聞 】女傷者面部、四肢均須貼上敷料、紗布或保鮮紙包紮\\n全文：https://...</td>\n      <td>https://www.hk01.com/%E7%AA%81%E7%99%BC/102329...</td>\n      <td>1949536242149262</td>\n    </tr>\n    <tr>\n      <th>8</th>\n      <td>https://www.facebook.com/hk01wemedia/posts/757...</td>\n      <td>2024-05-27T11:17:21.000Z</td>\n      <td>願傷者平平安安🙏🏿</td>\n      <td>【緊貼 01新聞 】女傷者面部、四肢均須貼上敷料、紗布或保鮮紙包紮\\n全文：https://...</td>\n      <td>https://www.hk01.com/%E7%AA%81%E7%99%BC/102329...</td>\n      <td>1219297022813916</td>\n    </tr>\n    <tr>\n      <th>9</th>\n      <td>https://www.facebook.com/hk01wemedia/posts/757...</td>\n      <td>2024-05-27T10:31:32.000Z</td>\n      <td>係個後備月台掛幾塊板叫主題🥰</td>\n      <td>【緊貼 01新聞 】仲會推出紀念票\\n全文：https://bityl.co/Q9Fk\\n\\...</td>\n      <td>https://www.hk01.com/%E7%A4%BE%E6%9C%83%E6%96%...</td>\n      <td>479097471351472</td>\n    </tr>\n    <tr>\n      <th>10</th>\n      <td>https://www.facebook.com/hk01wemedia/posts/757...</td>\n      <td>2024-05-27T10:34:49.000Z</td>\n      <td>Ho SayenMi Chan</td>\n      <td>【緊貼 01新聞 】仲會推出紀念票\\n全文：https://bityl.co/Q9Fk\\n\\...</td>\n      <td>https://www.hk01.com/%E7%A4%BE%E6%9C%83%E6%96%...</td>\n      <td>2962497667435463</td>\n    </tr>\n    <tr>\n      <th>11</th>\n      <td>https://www.facebook.com/hk01wemedia/posts/757...</td>\n      <td>2024-05-27T11:25:21.000Z</td>\n      <td>去埋銀座站Ginza station，即刻好「日本」🇯🇵😂</td>\n      <td>【緊貼 01新聞 】仲會推出紀念票\\n全文：https://bityl.co/Q9Fk\\n\\...</td>\n      <td>https://www.hk01.com/%E7%A4%BE%E6%9C%83%E6%96%...</td>\n      <td>352074820860413</td>\n    </tr>\n    <tr>\n      <th>12</th>\n      <td>https://www.facebook.com/hk01wemedia/posts/757...</td>\n      <td>2024-05-27T11:07:53.000Z</td>\n      <td>我成日都冇見過叮噹</td>\n      <td>【緊貼 01新聞 】仲會推出紀念票\\n全文：https://bityl.co/Q9Fk\\n\\...</td>\n      <td>https://www.hk01.com/%E7%A4%BE%E6%9C%83%E6%96%...</td>\n      <td>886996723441803</td>\n    </tr>\n    <tr>\n      <th>13</th>\n      <td>https://www.facebook.com/hk01wemedia/posts/757...</td>\n      <td>2024-05-27T11:12:10.000Z</td>\n      <td>係 擦鞋定配合呢？</td>\n      <td>【緊貼 01新聞 】仲會推出紀念票\\n全文：https://bityl.co/Q9Fk\\n\\...</td>\n      <td>https://www.hk01.com/%E7%A4%BE%E6%9C%83%E6%96%...</td>\n      <td>1132590684627677</td>\n    </tr>\n  </tbody>\n</table>\n</div>"
     },
     "execution_count": 26,
     "metadata": {},
     "output_type": "execute_result"
    }
   ],
   "source": [
    "df"
   ],
   "metadata": {
    "collapsed": false,
    "ExecuteTime": {
     "end_time": "2024-05-30T05:26:50.724301Z",
     "start_time": "2024-05-30T05:26:50.716689Z"
    }
   },
   "id": "6ad5877d4074fe3f",
   "execution_count": 26
  },
  {
   "cell_type": "code",
   "outputs": [],
   "source": [
    "del df"
   ],
   "metadata": {
    "collapsed": false,
    "ExecuteTime": {
     "end_time": "2024-05-30T05:28:20.605901Z",
     "start_time": "2024-05-30T05:28:20.603701Z"
    }
   },
   "id": "677f343a8a3c6141",
   "execution_count": 30
  },
  {
   "cell_type": "code",
   "outputs": [],
   "source": [],
   "metadata": {
    "collapsed": false
   },
   "id": "7d7ec11ccf9df7c4"
  },
  {
   "cell_type": "code",
   "outputs": [],
   "source": [],
   "metadata": {
    "collapsed": false
   },
   "id": "27c8427b85014bcd"
  }
 ],
 "metadata": {
  "kernelspec": {
   "display_name": "Python 3",
   "language": "python",
   "name": "python3"
  },
  "language_info": {
   "codemirror_mode": {
    "name": "ipython",
    "version": 2
   },
   "file_extension": ".py",
   "mimetype": "text/x-python",
   "name": "python",
   "nbconvert_exporter": "python",
   "pygments_lexer": "ipython2",
   "version": "2.7.6"
  }
 },
 "nbformat": 4,
 "nbformat_minor": 5
}
