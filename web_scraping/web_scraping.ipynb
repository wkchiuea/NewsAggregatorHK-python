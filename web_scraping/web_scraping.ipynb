{
 "cells": [
  {
   "cell_type": "markdown",
   "source": [
    "# Web Scraping Learning"
   ],
   "metadata": {
    "collapsed": false
   },
   "id": "87da1dbc4e61ffdd"
  },
  {
   "cell_type": "code",
   "execution_count": 1,
   "id": "initial_id",
   "metadata": {
    "collapsed": false
   },
   "outputs": [],
   "source": [
    "from requests_html import HTMLSession"
   ]
  },
  {
   "cell_type": "code",
   "execution_count": 2,
   "id": "a7ff23159bfa46bf",
   "metadata": {
    "ExecuteTime": {
     "end_time": "2024-03-29T12:56:35.428573Z",
     "start_time": "2024-03-29T12:56:35.337199Z"
    },
    "collapsed": false
   },
   "outputs": [],
   "source": [
    "session = HTMLSession()\n",
    "r = session.get(\"https://www.hk01.com/zone/1/%E6%B8%AF%E8%81%9E\")\n",
    "r.status_code"
   ]
  },
  {
   "cell_type": "code",
   "execution_count": 3,
   "id": "7adfb7caaefafcd9",
   "metadata": {
    "ExecuteTime": {
     "end_time": "2024-03-29T12:56:37.159971Z",
     "start_time": "2024-03-29T12:56:37.138080Z"
    },
    "collapsed": false
   },
   "outputs": [
    {
     "data": {
      "text/plain": [
       "<HTML url='https://www.hk01.com/zone/1/%E6%B8%AF%E8%81%9E'>"
      ]
     },
     "execution_count": 3,
     "metadata": {},
     "output_type": "execute_result"
    }
   ],
   "source": [
    "r.html"
   ]
  },
  {
   "cell_type": "markdown",
   "id": "b862a807cd3a908f",
   "metadata": {
    "collapsed": false
   },
   "source": [
    "### Links"
   ]
  },
  {
   "cell_type": "code",
   "execution_count": 6,
   "id": "6b89d8d17b8d03ee",
   "metadata": {
    "ExecuteTime": {
     "end_time": "2024-03-29T12:57:44.212894Z",
     "start_time": "2024-03-29T12:57:44.206174Z"
    },
    "collapsed": false
   },
   "outputs": [
    {
     "data": {
      "text/plain": [
       "{'/',\n",
       " '/%E4%B8%AD%E5%9C%8B%E8%A7%80%E5%AF%9F/1004856/%E9%A9%AC%E8%8B%B1%E4%B9%9D%E5%88%B0%E5%BA%95%E6%98%AF%E5%92%8C%E5%B9%B3%E4%BF%A1%E4%BD%BF-%E8%BF%98%E6%98%AF%E5%9C%A8%E6%8E%A9%E6%8A%A4%E6%B0%91%E8%BF%9B%E5%85%9A%E6%90%9E%E5%8F%B0%E7%8B%AC',\n",
       " '/%E5%9C%8B%E9%9A%9B%E5%88%86%E6%9E%90/1005047/%E7%83%8F%E5%85%8B%E8%98%AD-%E6%98%A5%E5%A4%A9%E9%BB%9E%E7%87%83%E4%BF%84%E7%BE%85%E6%96%AF%E6%96%B0%E6%94%BB%E5%8B%A2-%E7%82%AE%E5%BD%88-%E6%88%B0%E5%A3%95%E8%88%87%E5%8B%95%E5%93%A1%E5%B0%87%E6%B1%BA%E5%AE%9A%E5%8B%9D%E8%B2%A0',\n",
       " '/%E5%9C%8B%E9%9A%9B%E5%88%86%E6%9E%90/1005444/%E5%A7%94%E5%85%A7%E7%91%9E%E6%8B%89-80%E6%AD%B2%E8%80%81%E5%A9%86%E5%A9%86%E4%B9%9F%E4%B8%8D%E7%B5%A6%E5%8F%83%E9%81%B8-%E9%A6%AC%E6%9D%9C%E7%BE%85%E5%B0%87%E6%8B%9C%E7%99%BB%E7%8E%A9%E5%BC%84%E6%96%BC%E8%82%A1%E6%8E%8C%E4%B9%8B%E4%B8%8A',\n",
       " '/%E5%A4%A9%E6%B0%A3/1005406/%E5%BE%A9%E6%B4%BB%E7%AF%80-%E5%A4%A9%E6%96%87%E5%8F%B0%E6%96%994%E6%97%A5%E5%81%87%E6%9C%9F%E6%9C%89%E9%9B%A8-%E7%8B%82%E9%A2%A8%E9%9B%B7%E6%9A%B4-%E5%8C%97%E4%B8%8A%E6%B3%A8%E6%84%8F%E6%B7%B1%E5%9C%B3%E6%88%96%E9%9B%A8%E5%8B%A2%E5%A4%A7',\n",
       " '/%E6%94%BF%E6%83%85/1005027/%E6%94%BF%E5%9C%88%E9%A2%A8%E8%81%B2-01%E6%B6%88%E6%81%AF-%E4%B8%89%E6%9C%83%E6%8F%9B%E5%B1%86%E6%94%B9%E5%A7%94%E4%BB%BB%E5%8F%96%E6%85%8B-%E5%8D%80%E8%AD%B0%E5%93%A1%E5%8F%AF%E5%85%BC%E4%BB%BB%E5%88%86%E5%8D%80%E5%A7%94%E5%93%A1%E6%9C%83',\n",
       " '/%E6%94%BF%E6%83%85/1005186/%E6%9D%B1%E5%8D%80%E5%A4%9C%E9%A3%9B%E9%BE%8D-night-loong-%E5%8D%80%E8%AD%B0%E5%93%A1-%E5%94%94%E5%A4%AA%E9%A0%86%E5%8F%A3-%E6%94%BF%E5%A3%87%E8%AB%B8%E4%BA%8B%E7%94%BA',\n",
       " '/%E6%94%BF%E6%83%85/1005220/%E6%97%85%E7%99%BC%E5%B1%80%E8%BF%911-4%E5%84%84%E6%8E%A8%E5%8B%95%E5%85%A8%E6%96%B0%E7%A6%AE%E8%B2%8C%E9%81%8B%E5%8B%95%E5%8F%8A%E6%94%AF%E6%8C%81%E6%A5%AD%E7%95%8C-%E5%8C%85%E6%8B%AC%E6%8B%8D%E7%9C%9F%E4%BA%BAshow',\n",
       " '/%E6%94%BF%E6%83%85/1005431/%E8%81%B7%E6%B4%A5%E9%87%91%E9%A1%8D%E4%B8%8B%E6%9C%88%E8%B5%B7%E5%8A%83%E4%B8%80%E4%B8%8A%E8%AA%BF15-%E5%AD%AB%E7%8E%89%E8%8F%A1-%E9%BC%93%E5%8B%B5%E6%8C%81%E7%BA%8C%E5%85%A8%E8%81%B7%E5%B7%A5%E4%BD%9C',\n",
       " '/%E6%94%BF%E6%83%85/1005490/23%E6%A2%9D-%E4%BF%9D%E5%AE%89%E5%B1%80%E6%96%A5%E8%8B%B1%E5%9C%8B-%E8%A1%9B%E5%A0%B1-%E5%A0%B1%E9%81%93%E6%A5%B5%E5%85%B7%E8%AA%A4%E5%B0%8E%E6%80%A7-%E4%BF%83%E7%A2%BA%E4%BF%9D%E6%B6%89%E6%B8%AF%E5%A0%B1%E9%81%93%E5%85%AC%E6%AD%A3',\n",
       " '/%E6%94%BF%E6%83%85/1005502/%E5%9E%83%E5%9C%BE%E5%BE%B5%E8%B2%BB-%E7%8B%84%E5%BF%97%E9%81%A0%E6%89%B9%E5%85%88%E8%A1%8C%E5%85%88%E8%A9%A6%E4%B8%8D%E5%88%87%E5%AF%A6%E9%9A%9B-%E6%93%AC%E7%94%B3%E8%AB%8B%E9%81%8A%E8%A1%8C%E8%A1%A8%E9%81%94%E4%B8%8D%E6%BB%BF',\n",
       " '/%E6%94%BF%E6%83%85/1005516/23%E6%A2%9D%E7%AB%8B%E6%B3%95-%E9%84%A7%E7%82%B3%E5%BC%B7-%E5%9C%8B%E5%AE%B6%E7%A7%98%E5%AF%86%E5%AE%9A%E7%BE%A9%E6%B8%85%E6%99%B0-%E5%AE%9A%E7%BD%AA%E9%A0%88%E8%A6%96%E4%B9%8E%E6%98%AF%E5%90%A6%E6%9C%89%E7%8A%AF%E7%BD%AA%E6%84%8F%E5%9C%96',\n",
       " '/%E6%B7%B1%E5%BA%A6%E5%A0%B1%E9%81%93/1003144/%E8%A7%A3%E6%B1%BA%E5%8A%8F%E6%88%BF-%E8%88%87%E6%9E%97%E7%AD%B1%E9%AD%AF%E5%B0%8D%E8%A9%B1-%E6%95%B4%E6%94%B9%E9%82%84%E6%98%AF%E5%8F%96%E7%B7%A0-%E5%9A%B4%E6%AD%A3%E5%9F%B7%E6%B3%95%E9%82%84%E6%98%AF%E8%B6%95%E4%BA%BA%E7%9E%93%E8%A1%97',\n",
       " '/%E6%B7%B1%E5%BA%A6%E5%A0%B1%E9%81%93/1005163/daniel-kahneman%E7%9A%84%E6%85%A2%E6%83%B3',\n",
       " '/%E7%A4%BE%E6%9C%83%E6%96%B0%E8%81%9E/1004410/%E7%85%A7%E9%A1%A7%E8%80%85%E6%8A%95%E8%BA%AB%E9%A6%99%E6%B8%AF%E9%98%B2%E7%99%8C%E6%9C%83-%E7%B1%B2%E7%A4%BE%E6%9C%83%E6%9B%B4%E5%A4%9A%E7%99%8C%E7%97%87%E6%94%AF%E6%8F%B4%E5%AE%88%E8%AD%B7%E5%90%8C%E8%B7%AF%E4%BA%BA',\n",
       " '/%E7%A4%BE%E6%9C%83%E6%96%B0%E8%81%9E/1005221/%E9%A6%AE%E7%A5%A5%E8%A8%98%E6%B8%85%E7%9B%A4-%E5%AF%8C%E9%82%A6%E8%BF%BD%E5%85%AC%E5%8F%B8%E5%8F%8A%E7%9B%B8%E9%97%9C%E4%BA%BA%E5%A3%AB%E8%BF%917%E5%8D%83%E8%90%AC%E5%85%83-%E6%B1%82%E4%BA%A4%E5%87%BA%E6%8A%B5%E6%8A%BC%E7%89%A9%E6%A5%AD',\n",
       " '/%E7%A4%BE%E6%9C%83%E6%96%B0%E8%81%9E/1005226/%E4%B8%BB%E4%BA%BA%E4%B8%8D%E6%95%91-%E6%87%B6%E7%90%86%E5%AE%B6%E4%B8%AD%E6%AF%9B%E5%AD%A9%E6%AD%BB%E6%B4%BB-%E5%BF%83%E7%90%86%E5%AD%B8%E5%AE%B6-%E8%AD%A6%E6%96%B9%E8%A6%AA%E8%A7%A3%E6%A7%8B%E5%8B%95%E7%89%A9%E7%BD%AA%E6%A1%88',\n",
       " '/%E7%A4%BE%E6%9C%83%E6%96%B0%E8%81%9E/1005319/hk-express%E6%9B%BC%E8%B0%B7%E6%A9%9F%E5%A0%B4%E6%AD%BB%E6%A9%9F-%E7%99%BB%E6%A9%9F%E6%89%8B%E7%BA%8C%E4%BA%BA%E6%89%8B%E8%99%95%E7%90%86-%E8%87%B3%E5%B0%91%E5%85%A9%E9%A3%9B%E6%B8%AF%E8%88%AA%E7%8F%AD%E5%BB%B6%E8%AA%A4',\n",
       " '/%E7%A4%BE%E6%9C%83%E6%96%B0%E8%81%9E/1005398/%E5%BE%A9%E6%B4%BB%E7%AF%80%E5%8C%97%E4%B8%8A-%E6%8C%81%E7%BA%8C%E6%9B%B4%E6%96%B0-%E6%B8%AF%E9%90%B5-%E7%BE%85%E6%B9%96%E8%90%BD%E9%A6%AC%E6%B4%B2%E4%BA%BA%E6%BD%AE%E6%B8%9B%E5%B0%91-%E5%88%97%E8%BB%8A%E5%9B%9E%E5%BE%A9%E6%AD%A3%E5%B8%B8',\n",
       " '/%E7%A4%BE%E6%9C%83%E6%96%B0%E8%81%9E/1005400/%E5%BE%A9%E6%B4%BB%E7%AF%80%E6%B8%AF%E4%BA%BA%E5%A4%A7%E9%81%B7%E5%BE%99-%E6%B7%B1%E5%9C%B3%E7%81%A3%E5%A4%A7%E6%A9%8B%E7%BD%95%E8%A6%8B%E5%A1%9E%E7%88%86-%E7%9A%84%E5%A3%AB%E9%95%B7%E9%BE%8D%E7%AD%89%E9%80%BE1%E5%B0%8F%E6%99%82',\n",
       " '/%E7%A4%BE%E6%9C%83%E6%96%B0%E8%81%9E/1005407/%E5%BE%A9%E6%B4%BB%E7%AF%80%E5%8C%97%E4%B8%8A-%E4%B8%8A%E6%B0%B4%E7%AB%99%E5%A4%96%E7%8F%BE200%E7%B1%B3%E4%BA%BA%E9%BE%8D-%E6%B8%AF%E4%BA%BA-%E9%A6%99%E6%B8%AF%E6%B6%88%E8%B2%BB%E5%BE%97%E7%BD%AA%E8%AC%9B%E5%8F%A5%E5%A4%AA%E8%B2%B4',\n",
       " '/%E7%A4%BE%E6%9C%83%E6%96%B0%E8%81%9E/1005525/%E5%BE%A9%E6%B4%BB%E7%AF%80%E5%8C%97%E4%B8%8A%E6%8E%A1%E8%A8%AA%E6%89%8B%E8%A8%98-%E6%90%AD%E6%9D%B1%E9%90%B5%E8%AE%8A%E6%B2%99%E7%94%B8%E9%AD%9A-%E4%B8%8A%E6%B0%B4%E5%8E%BB%E7%BE%85%E6%B9%96%E8%8A%B12%E5%B0%8F%E6%99%82',\n",
       " '/%E7%A4%BE%E6%9C%83%E6%96%B0%E8%81%9E/1005533/%E5%BE%A9%E6%B4%BB%E7%AF%80-%E6%88%AA%E8%87%B3%E4%B8%8B%E5%8D%884%E6%99%8259%E8%90%AC%E6%B8%AF%E4%BA%BA%E5%87%BA%E5%A2%83-%E7%A0%B4%E6%98%A8%E6%97%A552%E8%90%AC%E7%B4%80%E9%8C%84-%E5%89%B5%E7%96%AB%E5%BE%8C%E6%96%B0%E9%AB%98',\n",
       " '/%E7%A4%BE%E6%9C%83%E6%96%B0%E8%81%9E/1005560/%E5%BE%A9%E6%B4%BB%E7%AF%80-%E9%81%8B%E8%BC%B8%E7%BD%B2%E6%8C%87%E5%91%A8%E5%85%AD%E4%BB%8D%E6%98%AF%E5%87%BA%E8%A1%8C%E9%AB%98%E5%B3%B0%E6%9C%9F-%E7%B1%B2%E5%B8%82%E6%B0%91%E8%80%83%E6%85%AE%E4%B8%8D%E8%A6%81%E6%97%A9%E4%B8%8A%E5%87%BA%E5%A2%83',\n",
       " '/%E7%AA%81%E7%99%BC/1001150/%E6%A8%82%E7%BF%A0%E8%87%BA%E7%B6%AD%E4%BF%AE%E9%A2%A8%E6%B3%A2-%E8%87%AA%E7%B5%84%E5%9C%98%E9%9A%8A%E5%8D%8A%E5%B9%B4%E5%9C%98%E7%B5%90%E8%A1%97%E5%9D%8A-%E4%B8%80%E5%A0%B4%E6%A5%AD%E4%B8%BB%E8%A6%BA%E9%86%92%E8%87%AA%E6%95%91%E4%B9%8B%E6%88%B0',\n",
       " '/%E7%AA%81%E7%99%BC/1005424/%E6%9D%B1%E6%B6%8C%E7%81%AB%E8%AD%A6-%E4%BD%BF%E7%94%A8%E6%B7%98%E5%AF%B6%E7%81%AB%E6%A7%8D%E6%99%82%E8%B5%B7%E7%81%AB-%E5%A5%B3%E6%88%B6%E4%B8%BB%E4%BA%8C%E7%B4%9A%E7%87%92%E5%82%B7-4%E6%84%9B%E8%B2%93%E5%85%A8%E5%96%AA%E5%91%BD',\n",
       " '/%E7%AA%81%E7%99%BC/1005445/%E5%85%83%E6%9C%97%E7%99%BD%E6%B2%99%E6%9D%91%E5%80%89%E5%BA%AB%E8%B5%B7%E7%81%AB%E6%BF%83%E7%85%99%E6%B2%96%E5%A4%A9-%E9%80%BC%E8%BF%91%E6%B0%91%E5%B1%85%E6%95%B8%E4%BA%BA%E7%96%8F%E6%95%A3',\n",
       " '/%E7%AA%81%E7%99%BC/1005460/%E6%9D%B1%E6%B6%8C%E7%81%AB%E8%AD%A6-%E7%81%AB%E5%A0%B4%E6%9B%9D%E5%85%89-%E5%AE%B6%E5%85%B7%E9%9B%9C%E7%89%A9%E9%81%AD%E7%87%92%E6%AF%80-%E5%A4%A9%E8%8A%B1%E7%89%86%E8%BA%AB%E5%85%A8%E7%86%8F%E9%BB%91',\n",
       " '/%E7%AA%81%E7%99%BC/1005526/%E8%AD%A6%E6%B7%B1%E6%B0%B4%E5%9F%97%E6%90%97%E9%9D%9E%E6%B3%95%E9%87%A3%E9%AD%9A%E6%A9%9F%E8%B3%AD%E6%AA%94-5%E4%BA%BA%E8%A2%AB%E6%8D%95%E5%8C%85%E6%8B%AC%E5%85%A9%E5%A4%96%E7%B1%8D%E7%94%B7%E5%A5%B3',\n",
       " '/%E7%AA%81%E7%99%BC/1005534/%E9%BB%83%E5%A4%A7%E4%BB%99%E7%B4%80%E5%BE%8B%E9%83%A8%E9%9A%8A%E5%AE%BF%E8%88%8D%E5%A5%B3%E5%82%AD%E6%B6%89%E5%81%B7%E5%A4%BE%E8%90%AC-%E4%BD%9C%E6%95%85%E4%BB%94-%E9%81%AD%E5%88%80%E5%8C%AA%E6%8C%BE%E6%8C%81%E5%85%A5%E5%B1%8B%E8%A2%AB%E6%8D%95',\n",
       " '/%E8%B2%A1%E7%B6%93%E5%BF%AB%E8%A8%8A/1005228/%E9%95%B7%E5%92%8C%E7%B3%BB%E5%86%8D%E6%9C%89%E9%AB%98%E5%B1%A4%E8%AA%BF%E5%8B%95-%E9%95%B7%E5%AF%A6%E8%91%89%E5%BE%B7%E9%8A%93%E8%AA%BF%E4%BB%BB-%E5%89%AF%E4%B8%BB%E5%B8%AD',\n",
       " '/%E8%B2%A1%E7%B6%93%E5%BF%AB%E8%A8%8A/1005302/%E4%B8%AD%E9%8A%80%E9%A6%99%E6%B8%AF-%E4%B8%8D%E5%9B%A0%E6%8A%B5%E6%8A%BC%E5%93%81%E5%83%B9%E6%A0%BC%E4%B8%8B%E8%B7%8C%E8%80%8Ccall-loan-%E6%B8%AF%E6%81%AF%E8%AA%BF%E6%95%B4%E6%96%99%E6%BB%AF%E5%BE%8C%E7%BE%8E%E6%81%AF',\n",
       " '/%E8%B2%A1%E7%B6%93%E5%BF%AB%E8%A8%8A/1005316/%E9%A6%99%E6%B8%AF%E5%AD%90%E5%85%AC%E5%8F%B8%E9%81%AD%E5%8D%97%E9%9F%93%E8%B5%B7%E8%A8%B4%E9%9D%9E%E6%B3%95%E6%B2%BD%E7%A9%BA-%E6%BB%99%E8%B1%90-%E5%81%9A%E6%B3%95%E4%B8%8D%E5%90%88%E7%90%86-%E5%B0%87%E5%85%A8%E5%8A%9B%E6%8A%97%E8%BE%AF',\n",
       " '/%E8%B2%A1%E7%B6%93%E5%BF%AB%E8%A8%8A/1005371/01%E6%B6%88%E6%81%AF-%E6%9D%9C%E6%8B%9C%E7%8E%8B%E5%AD%90%E9%A6%99%E6%B8%AF%E5%AE%B6%E8%BE%A6%E6%93%AC%E5%BB%B6%E8%87%B35%E6%9C%88%E5%BA%95%E9%96%8B%E5%B9%95-%E7%99%BC%E8%81%B2%E6%98%8E%E6%84%9F%E8%AC%9D%E6%B8%AF%E5%BA%9C%E5%8D%94%E5%8A%A9',\n",
       " '/01%E5%81%B5%E6%9F%A5/1001403/%E7%A7%81%E5%AF%86%E9%83%A8%E4%BD%8D%E9%81%AD%E6%BD%91%E7%81%91%E4%B8%8D%E6%98%8E%E6%B6%B2%E9%AB%94%E6%80%A7%E6%9A%B4%E5%8A%9B-%E5%A5%B9%E5%80%91%E7%B6%93%E6%AD%B7%E5%B4%A9%E6%BD%B0-%E7%99%BC%E8%81%B2-%E5%85%85%E6%AC%8A',\n",
       " '/01%E5%81%B5%E6%9F%A5/1002454/01%E7%8D%A8%E5%AE%B6-%E6%81%92%E5%A4%A7%E8%A8%B1%E5%AE%B6%E5%8D%B0%E5%B0%96%E6%B2%99%E5%92%80300%E5%91%8E-%E7%99%BC%E8%BF%B9%E5%B1%8B-%E9%81%AD%E4%B8%AD%E4%BF%A1%E6%97%97%E4%B8%8B%E9%87%98%E5%A5%91%E6%8A%B5%E5%82%B5',\n",
       " '/01%E5%81%B5%E6%9F%A5/1004077/%E4%B8%8A%E6%B0%B4%E9%87%91%E8%A8%98%E5%86%B0%E5%AE%A4%E8%A2%AB%E8%B2%BC%E5%85%AC%E5%91%8A%E6%8B%8D%E8%B3%A3%E5%82%A2%E5%85%B7-%E9%9B%86%E5%9C%98%E4%BB%8A%E5%B9%B4%E8%A2%AB%E5%85%A5%E7%A8%9F%E8%BF%BD%E8%A8%8E972%E8%90%AC%E5%85%83%E7%A7%9F%E9%87%91',\n",
       " '/01%E5%81%B5%E6%9F%A5/998485/%E5%A0%B1%E9%8C%AF%E5%9C%B0%E5%9D%80%E5%A4%B1%E6%95%91%E4%BA%A1-%E9%96%89%E8%B7%AF%E9%9B%BB%E8%A6%96-%E5%A0%B1%E8%AD%A6%E9%8C%84%E9%9F%B3%E9%82%84%E5%8E%9F%E6%B1%82%E6%95%91%E7%B6%93%E9%81%8E-%E6%82%B2%E5%8A%87%E5%8F%AF%E9%81%BF%E5%85%8D',\n",
       " '/01%E5%81%B5%E6%9F%A5/998569/%E5%A5%B3%E7%AB%A5%E8%BB%8D%E7%B8%BD%E7%9B%A3%E6%8F%9B%E5%B1%86%E9%81%B8%E8%88%89-%E8%A2%AB%E7%AF%A9%E8%B5%B0%E5%80%99%E9%81%B8%E4%BA%BA%E9%96%8B%E8%85%94-%E8%A6%81%E6%B1%82%E6%BE%84%E6%B8%85%E6%B6%89%E9%81%95%E6%9C%83%E7%AB%A0%E7%A8%8B%E5%BA%8F',\n",
       " '/01TV',\n",
       " '/about',\n",
       " '/advertise',\n",
       " '/app',\n",
       " '/career',\n",
       " '/channel/142/%E8%81%B7%E5%A0%B4',\n",
       " '/channel/143/01%E5%81%B5%E6%9F%A5',\n",
       " '/channel/166/%E6%AD%A6%E5%82%99%E5%BF%97',\n",
       " '/channel/178/01%E6%B4%BB%E5%8B%95?utm_source=webmenu&utm_medium=web',\n",
       " '/channel/182/%E4%B8%80%E7%89%A9',\n",
       " '/channel/183/%E6%89%AD%E8%80%B3%E4%BB%94',\n",
       " '/channel/184/Jumper',\n",
       " '/channel/19/%E5%8D%B3%E6%99%82%E5%9C%8B%E9%9A%9B',\n",
       " '/channel/2/%E7%A4%BE%E6%9C%83%E6%96%B0%E8%81%9E',\n",
       " '/channel/20/%E5%8D%B3%E6%99%82%E9%AB%94%E8%82%B2',\n",
       " '/channel/206/%E8%97%9D%E6%96%87',\n",
       " '/channel/22/%E5%8D%B3%E6%99%82%E5%A8%9B%E6%A8%82',\n",
       " '/channel/23/%E7%A4%BE%E5%8D%80%E5%B0%88%E9%A1%8C',\n",
       " '/channel/25/%E5%A5%BD%E7%94%9F%E6%B4%BB',\n",
       " '/channel/256/%E5%8B%95%E6%84%9F?itm_source=webmenu&itm_medium=web',\n",
       " '/channel/259/%E7%B4%80%E5%AF%A6?itm_source=webmenu&itm_medium=web',\n",
       " '/channel/26/%E8%A6%AA%E5%AD%90',\n",
       " '/channel/260/%E5%BD%B1%E5%83%8F%E7%86%B1%E8%A9%B1?utm_source=webmenu&utm_medium=web',\n",
       " '/channel/28/%E5%AF%B5%E7%89%A9',\n",
       " '/channel/293/%E9%9A%B1%E5%BD%A2%E9%A6%99%E6%B8%AF',\n",
       " '/channel/30/%E8%B7%91%E6%AD%A5',\n",
       " '/channel/310/%E6%94%BF%E6%83%85',\n",
       " '/channel/317/%E9%96%8B%E7%BD%90',\n",
       " '/channel/323/%E7%AC%AC%E4%BA%8C%E8%BA%AB',\n",
       " '/channel/348/%E6%94%9D%E5%BD%B1%E7%95%8C?utm_source=webmenu&utm_medium=web',\n",
       " '/channel/364/%E5%8D%B3%E6%99%82%E4%B8%AD%E5%9C%8B',\n",
       " '/channel/366/%E5%A4%A7%E5%9C%8B%E5%B0%8F%E4%BA%8B',\n",
       " '/channel/367/%E5%8F%B0%E7%81%A3%E6%96%B0%E8%81%9E',\n",
       " '/channel/369/%E8%97%9D%E6%96%87%E4%B8%AD%E5%9C%8B',\n",
       " '/channel/38/%E6%95%99%E7%85%AE',\n",
       " '/channel/387/%E7%A9%BF%E6%90%AD%E7%AD%86%E8%A8%98',\n",
       " '/channel/388/%E7%9F%A5%E6%80%A7%E5%A5%B3%E7%94%9F',\n",
       " '/channel/389/%E8%AB%87%E6%83%85%E8%AA%AA%E6%80%A7',\n",
       " '/channel/390/%E9%81%8A%E6%88%B2%E5%8B%95%E6%BC%AB',\n",
       " '/channel/391/%E6%95%B8%E7%A2%BC%E7%94%9F%E6%B4%BB',\n",
       " '/channel/396/%E8%B2%A1%E7%B6%93%E5%BF%AB%E8%A8%8A',\n",
       " '/channel/398/%E5%AE%8F%E8%A7%80%E8%A7%A3%E8%AE%80',\n",
       " '/channel/399/%E5%9C%B0%E7%94%A2%E6%A8%93%E5%B8%82',\n",
       " '/channel/400/%E5%B0%88%E9%A1%8C%E4%BA%BA%E8%A8%AA',\n",
       " '/channel/403/%E9%A6%99%E6%B8%AF%E7%B6%93%E6%BF%9F',\n",
       " '/channel/405/%E4%B8%96%E7%95%8C%E5%B0%88%E9%A1%8C',\n",
       " '/channel/406/%E7%92%B0%E7%90%83%E8%B6%A3%E8%81%9E',\n",
       " '/channel/407/%E5%9C%8B%E9%9A%9B%E5%88%86%E6%9E%90',\n",
       " '/channel/411/%E6%97%85%E9%81%8A',\n",
       " '/channel/413/%E6%B7%B1%E5%BA%A6%E5%A0%B1%E9%81%93',\n",
       " '/channel/415/01%E8%AB%96%E5%A3%87',\n",
       " '/channel/421/%E5%A4%A9%E6%B0%A3',\n",
       " '/channel/422/18%E5%8D%80%E6%96%B0%E8%81%9E',\n",
       " '/channel/442/%E7%B6%B2%E8%B3%BC%E6%94%BB%E7%95%A5',\n",
       " '/channel/443/%E7%BE%8E%E5%AE%B9%E6%89%8B%E5%B8%B3',\n",
       " '/channel/444/%E5%81%A5%E5%BA%B7Easy',\n",
       " '/channel/445/%E5%AF%A6%E7%94%A8%E6%95%99%E5%AD%B8',\n",
       " '/channel/446/%E9%A3%9F%E7%8E%A9%E8%B2%B7',\n",
       " '/channel/447/%E7%9C%BE%E6%A8%82%E8%BF%B7',\n",
       " '/channel/449/%E7%A4%BE%E8%AB%96',\n",
       " '/channel/458/%E4%B8%AD%E5%9C%8B%E8%A7%80%E5%AF%9F',\n",
       " '/channel/460',\n",
       " '/channel/463/%E9%86%AB%E5%B8%ABEasy',\n",
       " '/channel/464/%E9%86%AB%E7%BE%8EEasy',\n",
       " '/channel/468/%E4%B8%AD%E5%B0%8F%E5%AD%B8%E6%A0%A1%E5%9C%92',\n",
       " '/channel/469/%E5%B0%88%E4%B8%8A%E6%95%99%E8%82%B2',\n",
       " '/channel/473/DSE%E5%B0%88%E5%8D%80',\n",
       " '/channel/474/%E6%95%99%E8%82%B2%E7%99%BC%E5%B1%95',\n",
       " '/channel/475/%E6%B5%B7%E5%A4%96%E5%8D%87%E5%AD%B8',\n",
       " '/channel/476/%E6%B7%B1%E9%80%A0%E9%80%B2%E4%BF%AE',\n",
       " '/channel/477/%E5%8C%97%E4%B8%8A%E5%BB%A3%E6%9D%B1',\n",
       " '/channel/479/%E7%B6%B2%E7%A7%913-0',\n",
       " '/channel/480/01%E5%B0%88%E6%AC%84',\n",
       " '/channel/50/01%E8%A7%80%E9%BB%9E',\n",
       " '/channel/6/%E7%AA%81%E7%99%BC',\n",
       " '/channel/61/%E5%93%B2%E5%AD%B8',\n",
       " '/channel/66/%E9%9B%BB%E5%BD%B1',\n",
       " '/channel/7/%E7%86%B1%E7%88%86%E8%A9%B1%E9%A1%8C',\n",
       " '/contact',\n",
       " '/hot',\n",
       " '/hotline',\n",
       " '/issue/10126/mirror%E5%8B%95%E6%85%8B%E6%AF%8F%E6%97%A5%E6%9B%B4%E6%96%B0-%E5%A7%9C%E6%BF%A4-anson-lo-edan-ian%E4%BB%8A%E5%A4%A9%E7%99%BC%E7%94%9F%E4%BB%80%E9%BA%BC%E4%BA%8B?itm_source=webmenu&itm_medium=web',\n",
       " '/issue/10127/%E8%81%B2%E5%A4%A2%E5%82%B3%E5%A5%87%E7%B2%89%E7%B5%B2%E9%A0%81%EF%BC%9A%E7%82%8E%E6%98%8E%E7%86%B9-%E5%A7%9A%E7%84%AF%E8%8F%B2-%E9%8D%BE%E6%9F%94%E7%BE%8E%E6%AF%8F%E6%97%A5%E8%BF%BD%E8%B9%A4-%E4%B8%8B%E5%AD%A3%E5%A4%A7%E8%B3%BD%E5%8B%95%E6%85%8B?itm_source=webmenu&itm_medium=web',\n",
       " '/issue/10139/%E9%8A%80%E9%AB%AE%E6%97%8F%E5%B0%88%E8%BC%AF-%E6%8F%90%E4%BE%9B%E6%A8%82%E9%BD%A1%E5%81%A5%E5%BA%B7%E4%BF%9D%E9%A4%8A%E6%96%B9%E6%A1%88-%E5%88%86%E4%BA%AB%E9%80%80%E4%BC%91%E7%90%86%E8%B2%A1%E5%AE%89%E8%80%81%E6%9C%80%E6%96%B0%E8%B3%87%E8%A8%8A?utm_source=webmenu&utm_medium=web',\n",
       " '/issue/1014?itm_source=webmenu&itm_medium=web',\n",
       " '/issue/10158/%E7%83%8F%E5%85%8B%E8%98%AD%E6%88%B0%E7%88%AD%EF%BC%9A%E7%BF%92%E8%BF%91%E5%B9%B3%E8%88%87%E6%BE%A4%E9%80%A3%E6%96%AF%E5%9F%BA%E9%80%9A%E8%A9%B1-%E5%8B%B8%E5%92%8C%E4%BF%83%E8%AB%87%E6%99%82%E6%A9%9F%E5%B7%B2%E8%87%B3?itm_source=webmenu&itm_medium=web',\n",
       " '/issue/10178?utm_source=webmenu&utm_medium=web',\n",
       " '/issue/10179/%E6%B2%BB%E6%B8%AF%E6%96%B0%E7%AF%87%E7%AB%A0-%E5%A4%8F%E5%AF%B6%E9%BE%8D%E9%87%8D%E7%94%B3%E5%85%A9%E5%80%8B-%E7%A0%B4-%E6%B2%BB%E6%B8%AF%E8%80%85%E4%B8%8D%E8%83%BD%E5%86%8D%E8%A3%9D%E7%9D%A1',\n",
       " '/issue/10207/%E5%9C%8B%E5%AE%89%E6%B3%95%E6%A1%88%E4%BB%B6%E6%8C%81%E7%BA%8C%E6%9B%B4%E6%96%B0-%E5%88%9D%E9%81%B8-%E9%BB%8E%E6%99%BA%E8%8B%B1-%E7%AB%8B%E5%A0%B4%E6%96%B0%E8%81%9E%E6%A1%88%E7%88%AD%E8%AD%B0%E4%B8%AD%E5%AF%A9%E8%A8%8A',\n",
       " '/issue/10214/%E4%B8%AD%E4%BF%A1%E8%B3%87%E6%9C%AC%E5%91%88%E7%8D%BB%E9%A6%99%E6%B8%AF01%E7%B6%93%E6%BF%9F%E9%AB%98%E5%B3%B0%E8%AB%96%E5%A3%872023-%E7%99%BE%E5%B9%B4%E5%A4%A7%E8%AE%8A%E5%B1%80%E4%B8%AD%E7%9A%84%E9%A6%99%E6%B8%AF%E7%B6%93%E6%BF%9F',\n",
       " '/issue/10221/whatsapp%E8%A2%ABhack-%E8%A6%96%E5%83%8F%E9%9B%BB%E8%A9%B1%E9%A8%99%E6%A1%88%E7%A0%B4%E8%A7%A3-%E7%B6%B2%E4%B8%8A%E6%83%85%E7%B7%A3%E9%99%B7%E9%98%B1-%E8%A9%90%E9%A8%99%E6%96%B0%E8%81%9E%E5%A4%A7%E5%85%A8?itm_source=universal_search&itm_campaign=hk01&itm_content=issues&itm_medium=web',\n",
       " '/issue/10229/%E9%9A%B1%E5%BD%A2%E9%A6%99%E6%B8%AF-%E9%BB%91%E7%9A%84%E7%9B%B4%E6%93%8A%E9%BB%83%E9%87%91%E5%91%A8%E5%BE%8C%E5%8A%8F%E5%AE%A2%E5%BE%A9%E5%B8%B8-%E6%95%B8%E6%93%9A%E6%8F%AD%E7%82%BA%E4%BD%95%E5%B1%A2%E7%A6%81%E4%B8%8D%E6%AD%A2',\n",
       " '/issue/10246?utm_source=webmenu&utm_medium=web',\n",
       " '/issue/10280?itm_source=webmenu&itm_medium=web',\n",
       " '/issue/10283/%E6%94%BF%E5%BA%9C%E5%B7%A5%E7%A8%8B%E9%86%9C%E8%81%9E-%E5%8D%83%E5%84%84%E5%B7%A5%E7%A8%8B%E5%81%B7%E5%B7%A5%E6%B8%9B%E6%96%99-%E6%B6%89%E9%86%AB%E9%99%A2-%E9%AB%94%E8%82%B2%E5%9C%92%E9%89%85%E6%AC%BE-%E5%B0%88%E9%A0%81',\n",
       " '/issue/10291/%E6%88%91%E5%80%91%E7%9A%842023-%E5%BD%B1%E9%9F%BF%E4%B8%96%E7%95%8C%E5%92%8C%E9%A6%99%E6%B8%AF%E6%AD%B7%E5%8F%B2%E5%A4%A7%E4%BA%8B-%E5%8D%B1%E6%A9%9F%E5%92%8C%E5%B8%8C%E6%9C%9B%E7%9A%84%E6%8B%94%E6%B2%B3%E5%8B%9D%E8%B2%A0%E6%9C%AA%E5%88%86',\n",
       " '/issue/10298/4-22%E7%AE%A1%E5%88%B6%E5%8D%B3%E6%A3%84%E5%A1%91%E8%86%A0-%E5%B0%88%E9%A0%81-%E7%A6%81%E8%86%A0%E7%9A%84%E7%96%91%E6%83%91-%E8%B5%B0%E5%A1%91%E6%9B%BF%E4%BB%A3%E5%93%81-%E6%9C%80%E6%96%B0%E8%B3%87%E8%A8%8A%E5%85%A8%E9%9B%86',\n",
       " '/issue/10303/%E8%B2%A1%E6%94%BF%E9%A0%90%E7%AE%97%E6%A1%882024-%E5%B0%88%E9%A0%81-%E5%BA%AB%E6%88%BF%E8%B2%A1%E8%B5%A4%E5%9A%B4%E9%87%8D-%E5%B7%BF%E6%B0%91%E6%B4%BE%E7%B3%96%E9%A1%98%E6%9C%9B%E8%90%BD%E7%A9%BA',\n",
       " '/issue/948?utm_source=webmenu&utm_medium=web',\n",
       " '/latest',\n",
       " '/privacy',\n",
       " '/tag/15912',\n",
       " '/tag/21462?itm_source=webmenu&itm_medium=web',\n",
       " '/tag/21847?itm_source=webmenu&itm_medium=web',\n",
       " '/tag/23248?itm_source=webmenu&itm_medium=web',\n",
       " '/tag/28964?itm_source=webmenu&itm_medium=web',\n",
       " '/terms',\n",
       " '/zone/1',\n",
       " '/zone/1/%E6%B8%AF%E8%81%9E',\n",
       " '/zone/10/%E7%A4%BE%E5%8D%80',\n",
       " '/zone/11/%E7%A7%91%E6%8A%80%E7%8E%A9%E7%89%A9',\n",
       " '/zone/12/%E5%85%A8%E9%83%A8',\n",
       " '/zone/12/%E8%A7%80%E9%BB%9E',\n",
       " '/zone/13/%E5%BD%B1%E5%83%8F?itm_source=webmenu&itm_medium=web',\n",
       " '/zone/14',\n",
       " '/zone/14/%E7%B6%93%E6%BF%9F',\n",
       " '/zone/19/%E5%A5%BD%E9%A3%9F%E7%8E%A9%E9%A3%9B',\n",
       " '/zone/2/%E5%A8%9B%E6%A8%82',\n",
       " '/zone/23/%E6%95%99%E8%82%B2',\n",
       " '/zone/24/%E5%81%A5%E5%BA%B7',\n",
       " '/zone/3/%E9%AB%94%E8%82%B2',\n",
       " '/zone/4/%E5%9C%8B%E9%9A%9B',\n",
       " '/zone/5/%E4%B8%AD%E5%9C%8B',\n",
       " '/zone/6/%E5%A5%B3%E7%94%9F',\n",
       " '/zone/7/%E7%86%B1%E8%A9%B1',\n",
       " '/zone/8/%E7%94%9F%E6%B4%BB',\n",
       " '/zone/9/%E8%97%9D%E6%96%87%E6%A0%BC%E7%89%A9',\n",
       " '/zone/issue/1',\n",
       " 'https://01mall.hk01.com/recommend/440/%E5%8D%B3%E6%8F%92%E5%8D%B3%E7%94%A8%EF%BD%9C%E6%95%B8%E6%93%9A%E5%8D%A1?itm_source=webmenu&itm_medium=web',\n",
       " 'https://faq.hk01.com',\n",
       " 'https://imageservice.hk01.com/celebalbum',\n",
       " 'https://mensluxe.hk01.com/',\n",
       " 'https://space.hk01.com/?itm_source=webmenu&itm_medium=web',\n",
       " 'https://twitter.com/hk01official',\n",
       " 'https://www.facebook.com/hk01wemedia',\n",
       " 'https://www.instagram.com/hk01_hk/',\n",
       " 'https://www.linkedin.com/company/hk01/',\n",
       " 'https://www.youtube.com/c/香港01official'}"
      ]
     },
     "execution_count": 6,
     "metadata": {},
     "output_type": "execute_result"
    }
   ],
   "source": [
    "urls = r.html.links\n",
    "urls\n",
    "\n",
    "full_path_urls = r.html.absolute_links\n",
    "full_path_urls"
   ]
  },
  {
   "cell_type": "code",
   "execution_count": 8,
   "id": "4429e45a75fee70e",
   "metadata": {
    "ExecuteTime": {
     "end_time": "2024-03-29T13:07:37.260709Z",
     "start_time": "2024-03-29T13:07:37.252900Z"
    },
    "collapsed": false
   },
   "outputs": [
    {
     "data": {
      "text/plain": [
       "[<Element 'a' href='/'>,\n",
       " <Element 'a' href='/zone/1/%E6%B8%AF%E8%81%9E'>,\n",
       " <Element 'a' href='/zone/2/%E5%A8%9B%E6%A8%82'>,\n",
       " <Element 'a' href='/issue/1014?itm_source=webmenu&itm_medium=web'>,\n",
       " <Element 'a' href='/zone/8/%E7%94%9F%E6%B4%BB'>,\n",
       " <Element 'a' href='/zone/4/%E5%9C%8B%E9%9A%9B'>,\n",
       " <Element 'a' href='/latest'>,\n",
       " <Element 'a' href='/hot'>,\n",
       " <Element 'a' href='/zone/3/%E9%AB%94%E8%82%B2'>,\n",
       " <Element 'a' href='/zone/11/%E7%A7%91%E6%8A%80%E7%8E%A9%E7%89%A9'>,\n",
       " <Element 'a' href='/zone/5/%E4%B8%AD%E5%9C%8B'>,\n",
       " <Element 'a' href='/zone/14/%E7%B6%93%E6%BF%9F'>,\n",
       " <Element 'a' href='/zone/12/%E8%A7%80%E9%BB%9E'>,\n",
       " <Element 'a' href='/zone/24/%E5%81%A5%E5%BA%B7'>,\n",
       " <Element 'a' href='/zone/19/%E5%A5%BD%E9%A3%9F%E7%8E%A9%E9%A3%9B'>,\n",
       " <Element 'a' href='/zone/6/%E5%A5%B3%E7%94%9F'>,\n",
       " <Element 'a' href='/zone/7/%E7%86%B1%E8%A9%B1'>,\n",
       " <Element 'a' href='/zone/9/%E8%97%9D%E6%96%87%E6%A0%BC%E7%89%A9'>,\n",
       " <Element 'a' href='/zone/10/%E7%A4%BE%E5%8D%80'>,\n",
       " <Element 'a' href='/zone/23/%E6%95%99%E8%82%B2'>,\n",
       " <Element 'a' class=('mobile-menu__item', 'mobile-menu__item--active') href='/zone/1/%E6%B8%AF%E8%81%9E'>,\n",
       " <Element 'a' class=('mobile-menu__item',) href='/zone/2/%E5%A8%9B%E6%A8%82'>,\n",
       " <Element 'a' class=('mobile-menu__item',) href='/issue/1014?itm_source=webmenu&itm_medium=web'>,\n",
       " <Element 'a' class=('mobile-menu__item',) href='/zone/8/%E7%94%9F%E6%B4%BB'>,\n",
       " <Element 'a' class=('mobile-menu__item',) href='/zone/4/%E5%9C%8B%E9%9A%9B'>,\n",
       " <Element 'a' class=('mobile-menu__item',) href='/latest'>,\n",
       " <Element 'a' class=('mobile-menu__item',) href='/hot'>,\n",
       " <Element 'a' class=('mobile-menu__item',) href='/zone/3/%E9%AB%94%E8%82%B2'>,\n",
       " <Element 'a' class=('mobile-menu__item',) href='/zone/11/%E7%A7%91%E6%8A%80%E7%8E%A9%E7%89%A9'>,\n",
       " <Element 'a' class=('mobile-menu__item',) href='/zone/5/%E4%B8%AD%E5%9C%8B'>,\n",
       " <Element 'a' class=('mobile-menu__item',) href='/zone/14/%E7%B6%93%E6%BF%9F'>,\n",
       " <Element 'a' class=('mobile-menu__item',) href='/zone/12/%E8%A7%80%E9%BB%9E'>,\n",
       " <Element 'a' class=('mobile-menu__item',) href='/zone/24/%E5%81%A5%E5%BA%B7'>,\n",
       " <Element 'a' class=('mobile-menu__item',) href='/zone/19/%E5%A5%BD%E9%A3%9F%E7%8E%A9%E9%A3%9B'>,\n",
       " <Element 'a' class=('mobile-menu__item',) href='/zone/6/%E5%A5%B3%E7%94%9F'>,\n",
       " <Element 'a' class=('mobile-menu__item',) href='/zone/7/%E7%86%B1%E8%A9%B1'>,\n",
       " <Element 'a' class=('mobile-menu__item',) href='/zone/9/%E8%97%9D%E6%96%87%E6%A0%BC%E7%89%A9'>,\n",
       " <Element 'a' class=('mobile-menu__item',) href='/zone/10/%E7%A4%BE%E5%8D%80'>,\n",
       " <Element 'a' class=('mobile-menu__item',) href='/zone/23/%E6%95%99%E8%82%B2'>,\n",
       " <Element 'a' title='港聞' href='/zone/1/%E6%B8%AF%E8%81%9E'>,\n",
       " <Element 'a' title='社會新聞' href='/channel/2/%E7%A4%BE%E6%9C%83%E6%96%B0%E8%81%9E'>,\n",
       " <Element 'a' title='突發' href='/channel/6/%E7%AA%81%E7%99%BC'>,\n",
       " <Element 'a' title='政情' href='/channel/310/%E6%94%BF%E6%83%85'>,\n",
       " <Element 'a' title='偵查' href='/channel/143/01%E5%81%B5%E6%9F%A5'>,\n",
       " <Element 'a' title='教育' href='/zone/23/%E6%95%99%E8%82%B2'>,\n",
       " <Element 'a' title='新聞影片' href='/01TV'>,\n",
       " <Element 'a' title='深度' href='/channel/413/%E6%B7%B1%E5%BA%A6%E5%A0%B1%E9%81%93'>,\n",
       " <Element 'a' title='香港經濟' href='/channel/403/%E9%A6%99%E6%B8%AF%E7%B6%93%E6%BF%9F'>,\n",
       " <Element 'a' title='天氣' href='/channel/421/%E5%A4%A9%E6%B0%A3'>,\n",
       " <Element 'a' title='娛樂' href='/zone/2/%E5%A8%9B%E6%A8%82'>,\n",
       " <Element 'a' title='即時娛樂' href='/channel/22/%E5%8D%B3%E6%99%82%E5%A8%9B%E6%A8%82'>,\n",
       " <Element 'a' title='電影' href='/channel/66/%E9%9B%BB%E5%BD%B1'>,\n",
       " <Element 'a' title='娛樂影片' href='/01TV'>,\n",
       " <Element 'a' title='眾樂迷' href='/channel/447/%E7%9C%BE%E6%A8%82%E8%BF%B7'>,\n",
       " <Element 'a' title='MIRROR' href='/issue/10126/mirror%E5%8B%95%E6%85%8B%E6%AF%8F%E6%97%A5%E6%9B%B4%E6%96%B0-%E5%A7%9C%E6%BF%A4-anson-lo-edan-ian%E4%BB%8A%E5%A4%A9%E7%99%BC%E7%94%9F%E4%BB%80%E9%BA%BC%E4%BA%8B?itm_source=webmenu&itm_medium=web'>,\n",
       " <Element 'a' title='聲夢傳奇' href='/issue/10127/%E8%81%B2%E5%A4%A2%E5%82%B3%E5%A5%87%E7%B2%89%E7%B5%B2%E9%A0%81%EF%BC%9A%E7%82%8E%E6%98%8E%E7%86%B9-%E5%A7%9A%E7%84%AF%E8%8F%B2-%E9%8D%BE%E6%9F%94%E7%BE%8E%E6%AF%8F%E6%97%A5%E8%BF%BD%E8%B9%A4-%E4%B8%8B%E5%AD%A3%E5%A4%A7%E8%B3%BD%E5%8B%95%E6%85%8B?itm_source=webmenu&itm_medium=web'>,\n",
       " <Element 'a' title='高清相片下載' href='https://imageservice.hk01.com/celebalbum'>,\n",
       " <Element 'a' title='激平酒店' href='/issue/1014?itm_source=webmenu&itm_medium=web'>,\n",
       " <Element 'a' title='日本酒店' href='/tag/21462?itm_source=webmenu&itm_medium=web'>,\n",
       " <Element 'a' title='澳門香港酒店' href='/tag/28964?itm_source=webmenu&itm_medium=web'>,\n",
       " <Element 'a' title='台灣酒店' href='/tag/21847?itm_source=webmenu&itm_medium=web'>,\n",
       " <Element 'a' title='深圳酒店' href='/tag/23248?itm_source=webmenu&itm_medium=web'>,\n",
       " <Element 'a' title='特價餐飲及門票' href='https://space.hk01.com/?itm_source=webmenu&itm_medium=web'>,\n",
       " <Element 'a' title='特價旅遊Sim卡' href='https://01mall.hk01.com/recommend/440/%E5%8D%B3%E6%8F%92%E5%8D%B3%E7%94%A8%EF%BD%9C%E6%95%B8%E6%93%9A%E5%8D%A1?itm_source=webmenu&itm_medium=web'>,\n",
       " <Element 'a' title='生活' href='/zone/8/%E7%94%9F%E6%B4%BB'>,\n",
       " <Element 'a' title='教煮' href='/channel/38/%E6%95%99%E7%85%AE'>,\n",
       " <Element 'a' title='親子' href='/channel/26/%E8%A6%AA%E5%AD%90'>,\n",
       " <Element 'a' title='01TV' href='/01TV'>,\n",
       " <Element 'a' title='寵物' href='/channel/28/%E5%AF%B5%E7%89%A9'>,\n",
       " <Element 'a' title='教育職場' href='/channel/142/%E8%81%B7%E5%A0%B4'>,\n",
       " <Element 'a' title='好生活' href='/channel/25/%E5%A5%BD%E7%94%9F%E6%B4%BB'>,\n",
       " <Element 'a' title='網購攻略' href='/channel/442/%E7%B6%B2%E8%B3%BC%E6%94%BB%E7%95%A5'>,\n",
       " <Element 'a' title='國際' href='/zone/4/%E5%9C%8B%E9%9A%9B'>,\n",
       " <Element 'a' title='以巴戰爭' href='/issue/10280?itm_source=webmenu&itm_medium=web'>,\n",
       " <Element 'a' title='即時國際' href='/channel/19/%E5%8D%B3%E6%99%82%E5%9C%8B%E9%9A%9B'>,\n",
       " <Element 'a' title='環球趣聞' href='/channel/406/%E7%92%B0%E7%90%83%E8%B6%A3%E8%81%9E'>,\n",
       " <Element 'a' title='國際分析' href='/channel/407/%E5%9C%8B%E9%9A%9B%E5%88%86%E6%9E%90'>,\n",
       " <Element 'a' title='世界專題' href='/channel/405/%E4%B8%96%E7%95%8C%E5%B0%88%E9%A1%8C'>,\n",
       " <Element 'a' title='俄烏戰爭' href='/issue/10158/%E7%83%8F%E5%85%8B%E8%98%AD%E6%88%B0%E7%88%AD%EF%BC%9A%E7%BF%92%E8%BF%91%E5%B9%B3%E8%88%87%E6%BE%A4%E9%80%A3%E6%96%AF%E5%9F%BA%E9%80%9A%E8%A9%B1-%E5%8B%B8%E5%92%8C%E4%BF%83%E8%AB%87%E6%99%82%E6%A9%9F%E5%B7%B2%E8%87%B3?itm_source=webmenu&itm_medium=web'>,\n",
       " <Element 'a' title='紀實影像' href='/channel/259/%E7%B4%80%E5%AF%A6?itm_source=webmenu&itm_medium=web'>,\n",
       " <Element 'a' title='體育' href='/zone/3/%E9%AB%94%E8%82%B2'>,\n",
       " <Element 'a' title='即時體育' href='/channel/20/%E5%8D%B3%E6%99%82%E9%AB%94%E8%82%B2'>,\n",
       " <Element 'a' title='跑步行山' href='/channel/30/%E8%B7%91%E6%AD%A5'>,\n",
       " <Element 'a' title='Jumper' href='/channel/184/Jumper'>,\n",
       " <Element 'a' title='武備志' href='/channel/166/%E6%AD%A6%E5%82%99%E5%BF%97'>,\n",
       " <Element 'a' title='動感影像' href='/channel/256/%E5%8B%95%E6%84%9F?itm_source=webmenu&itm_medium=web'>,\n",
       " <Element 'a' title='科技' href='/zone/11/%E7%A7%91%E6%8A%80%E7%8E%A9%E7%89%A9'>,\n",
       " <Element 'a' title='實用教學' href='/channel/445/%E5%AF%A6%E7%94%A8%E6%95%99%E5%AD%B8'>,\n",
       " <Element 'a' title='數碼生活' href='/channel/391/%E6%95%B8%E7%A2%BC%E7%94%9F%E6%B4%BB'>,\n",
       " <Element 'a' title='遊戲動漫' href='/channel/390/%E9%81%8A%E6%88%B2%E5%8B%95%E6%BC%AB'>,\n",
       " <Element 'a' title='網科3.0' href='/channel/479/%E7%B6%B2%E7%A7%913-0'>,\n",
       " <Element 'a' title='攝影專區' href='/zone/13/%E5%BD%B1%E5%83%8F?itm_source=webmenu&itm_medium=web'>,\n",
       " <Element 'a' title='中國' href='/zone/5/%E4%B8%AD%E5%9C%8B'>,\n",
       " <Element 'a' title='即時中國' href='/channel/364/%E5%8D%B3%E6%99%82%E4%B8%AD%E5%9C%8B'>,\n",
       " <Element 'a' title='大國小事' href='/channel/366/%E5%A4%A7%E5%9C%8B%E5%B0%8F%E4%BA%8B'>,\n",
       " <Element 'a' title='北上廣東' href='/channel/477/%E5%8C%97%E4%B8%8A%E5%BB%A3%E6%9D%B1'>,\n",
       " <Element 'a' title='半導體大戰' href='/tag/15912'>,\n",
       " <Element 'a' title='藝文中國' href='/channel/369/%E8%97%9D%E6%96%87%E4%B8%AD%E5%9C%8B'>,\n",
       " <Element 'a' title='中國觀察' href='/channel/458/%E4%B8%AD%E5%9C%8B%E8%A7%80%E5%AF%9F'>,\n",
       " <Element 'a' title='台灣新聞' href='/channel/367/%E5%8F%B0%E7%81%A3%E6%96%B0%E8%81%9E'>,\n",
       " <Element 'a' title='經濟' href='/zone/14/%E7%B6%93%E6%BF%9F'>,\n",
       " <Element 'a' title='財經快訊' href='/channel/396/%E8%B2%A1%E7%B6%93%E5%BF%AB%E8%A8%8A'>,\n",
       " <Element 'a' title='宏觀解讀' href='/channel/398/%E5%AE%8F%E8%A7%80%E8%A7%A3%E8%AE%80'>,\n",
       " <Element 'a' title='地產樓市' href='/channel/399/%E5%9C%B0%E7%94%A2%E6%A8%93%E5%B8%82'>,\n",
       " <Element 'a' title='專題人訪' href='/channel/400/%E5%B0%88%E9%A1%8C%E4%BA%BA%E8%A8%AA'>,\n",
       " <Element 'a' title='觀點' href='/zone/12/%E8%A7%80%E9%BB%9E'>,\n",
       " <Element 'a' title='社論' href='/channel/449/%E7%A4%BE%E8%AB%96'>,\n",
       " <Element 'a' title='全部' href='/zone/12/%E5%85%A8%E9%83%A8'>,\n",
       " <Element 'a' title='01觀點' href='/channel/50/01%E8%A7%80%E9%BB%9E'>,\n",
       " <Element 'a' title='01論壇' href='/channel/415/01%E8%AB%96%E5%A3%87'>,\n",
       " <Element 'a' title='01專欄' href='/channel/480/01%E5%B0%88%E6%AC%84'>,\n",
       " <Element 'a' title='健康' href='/zone/24/%E5%81%A5%E5%BA%B7'>,\n",
       " <Element 'a' title='健康Easy' href='/channel/444/%E5%81%A5%E5%BA%B7Easy'>,\n",
       " <Element 'a' title='醫師Easy' href='/channel/463/%E9%86%AB%E5%B8%ABEasy'>,\n",
       " <Element 'a' title='醫美Easy' href='/channel/464/%E9%86%AB%E7%BE%8EEasy'>,\n",
       " <Element 'a' title='體檢優惠攻略' href='/issue/10178?utm_source=webmenu&utm_medium=web'>,\n",
       " <Element 'a' title='銀髮族' href='/issue/10139/%E9%8A%80%E9%AB%AE%E6%97%8F%E5%B0%88%E8%BC%AF-%E6%8F%90%E4%BE%9B%E6%A8%82%E9%BD%A1%E5%81%A5%E5%BA%B7%E4%BF%9D%E9%A4%8A%E6%96%B9%E6%A1%88-%E5%88%86%E4%BA%AB%E9%80%80%E4%BC%91%E7%90%86%E8%B2%A1%E5%AE%89%E8%80%81%E6%9C%80%E6%96%B0%E8%B3%87%E8%A8%8A?utm_source=webmenu&utm_medium=web'>,\n",
       " <Element 'a' title='好食玩飛' href='/zone/19/%E5%A5%BD%E9%A3%9F%E7%8E%A9%E9%A3%9B'>,\n",
       " <Element 'a' title='食玩買' href='/channel/446/%E9%A3%9F%E7%8E%A9%E8%B2%B7'>,\n",
       " <Element 'a' title='旅遊' href='/channel/411/%E6%97%85%E9%81%8A'>,\n",
       " <Element 'a' title='賞櫻攻略' href='/issue/948?utm_source=webmenu&utm_medium=web'>,\n",
       " <Element 'a' title='旅遊熱' href='/issue/10246?utm_source=webmenu&utm_medium=web'>,\n",
       " <Element 'a' title='玩樂影片' href='/01TV'>,\n",
       " <Element 'a' title='活動好去處' href='/channel/178/01%E6%B4%BB%E5%8B%95?utm_source=webmenu&utm_medium=web'>,\n",
       " <Element 'a' title='女生' href='/zone/6/%E5%A5%B3%E7%94%9F'>,\n",
       " <Element 'a' title='知性女生' href='/channel/388/%E7%9F%A5%E6%80%A7%E5%A5%B3%E7%94%9F'>,\n",
       " <Element 'a' title='穿搭筆記' href='/channel/387/%E7%A9%BF%E6%90%AD%E7%AD%86%E8%A8%98'>,\n",
       " <Element 'a' title='談情說性' href='/channel/389/%E8%AB%87%E6%83%85%E8%AA%AA%E6%80%A7'>,\n",
       " <Element 'a' title='美容手帳' href='/channel/443/%E7%BE%8E%E5%AE%B9%E6%89%8B%E5%B8%B3'>,\n",
       " <Element 'a' title='熱話' href='/zone/7/%E7%86%B1%E8%A9%B1'>,\n",
       " <Element 'a' title='熱爆話題' href='/channel/7/%E7%86%B1%E7%88%86%E8%A9%B1%E9%A1%8C'>,\n",
       " <Element 'a' title='開罐' href='/channel/317/%E9%96%8B%E7%BD%90'>,\n",
       " <Element 'a' title='研數所' href='/channel/460'>,\n",
       " <Element 'a' title='影像熱話' href='/channel/260/%E5%BD%B1%E5%83%8F%E7%86%B1%E8%A9%B1?utm_source=webmenu&utm_medium=web'>,\n",
       " <Element 'a' title='藝文格物' href='/zone/9/%E8%97%9D%E6%96%87%E6%A0%BC%E7%89%A9'>,\n",
       " <Element 'a' title='一物' href='/channel/182/%E4%B8%80%E7%89%A9'>,\n",
       " <Element 'a' title='形而' href='https://mensluxe.hk01.com/'>,\n",
       " <Element 'a' title='藝文' href='/channel/206/%E8%97%9D%E6%96%87'>,\n",
       " <Element 'a' title='哲學' href='/channel/61/%E5%93%B2%E5%AD%B8'>,\n",
       " <Element 'a' title='第二身' href='/channel/323/%E7%AC%AC%E4%BA%8C%E8%BA%AB'>,\n",
       " <Element 'a' title='扭耳仔' href='/channel/183/%E6%89%AD%E8%80%B3%E4%BB%94'>,\n",
       " <Element 'a' title='攝影界' href='/channel/348/%E6%94%9D%E5%BD%B1%E7%95%8C?utm_source=webmenu&utm_medium=web'>,\n",
       " <Element 'a' title='社區' href='/zone/10/%E7%A4%BE%E5%8D%80'>,\n",
       " <Element 'a' title='社區專題' href='/channel/23/%E7%A4%BE%E5%8D%80%E5%B0%88%E9%A1%8C'>,\n",
       " <Element 'a' title='18區新聞' href='/channel/422/18%E5%8D%80%E6%96%B0%E8%81%9E'>,\n",
       " <Element 'a' title='隱形香港' href='/channel/293/%E9%9A%B1%E5%BD%A2%E9%A6%99%E6%B8%AF'>,\n",
       " <Element 'a' title='紀實影像' href='/channel/259/%E7%B4%80%E5%AF%A6?itm_source=webmenu&itm_medium=web'>,\n",
       " <Element 'a' title='教育' href='/zone/23/%E6%95%99%E8%82%B2'>,\n",
       " <Element 'a' title='中小學校園' href='/channel/468/%E4%B8%AD%E5%B0%8F%E5%AD%B8%E6%A0%A1%E5%9C%92'>,\n",
       " <Element 'a' title='教育發展' href='/channel/474/%E6%95%99%E8%82%B2%E7%99%BC%E5%B1%95'>,\n",
       " <Element 'a' title='DSE專區' href='/channel/473/DSE%E5%B0%88%E5%8D%80'>,\n",
       " <Element 'a' title='專上教育' href='/channel/469/%E5%B0%88%E4%B8%8A%E6%95%99%E8%82%B2'>,\n",
       " <Element 'a' title='海外升學' href='/channel/475/%E6%B5%B7%E5%A4%96%E5%8D%87%E5%AD%B8'>,\n",
       " <Element 'a' title='深造進修' href='/channel/476/%E6%B7%B1%E9%80%A0%E9%80%B2%E4%BF%AE'>,\n",
       " <Element 'a' data-testid='footer-hk01-logo' href='/'>,\n",
       " <Element 'a' data-testid='footer-textLink-hotline' href='/hotline'>,\n",
       " <Element 'a' data-testid='footer-textLink-about' href='/about'>,\n",
       " <Element 'a' data-testid='footer-textLink-career' href='/career'>,\n",
       " <Element 'a' data-testid='footer-textLink-advertise' href='/advertise'>,\n",
       " <Element 'a' data-testid='footer-textLink-app' href='/app'>,\n",
       " <Element 'a' href='https://faq.hk01.com' data-testid='footer-textLink-faq'>,\n",
       " <Element 'a' data-testid='footer-textLink-contact' href='/contact'>,\n",
       " <Element 'a' data-testid='footer-textLink-privacy' href='/privacy'>,\n",
       " <Element 'a' data-testid='footer-textLink-terms' href='/terms'>,\n",
       " <Element 'a' href='https://www.facebook.com/hk01wemedia' target='_blank' rel=('noreferrer',) data-testid='footer-iconLink-facebook'>,\n",
       " <Element 'a' href='https://www.instagram.com/hk01_hk/' target='_blank' rel=('noreferrer',) data-testid='footer-iconLink-instagram'>,\n",
       " <Element 'a' href='https://www.youtube.com/c/香港01official' target='_blank' rel=('noreferrer',) data-testid='footer-iconLink-youtube'>,\n",
       " <Element 'a' href='https://www.linkedin.com/company/hk01/' target='_blank' rel=('noreferrer',) data-testid='footer-iconLink-linkedin'>,\n",
       " <Element 'a' href='https://twitter.com/hk01official' target='_blank' rel=('noreferrer',) data-testid='footer-iconLink-twitter'>,\n",
       " <Element 'a' title='港聞' href='/zone/1/%E6%B8%AF%E8%81%9E'>,\n",
       " <Element 'a' title='娛樂' href='/zone/2/%E5%A8%9B%E6%A8%82'>,\n",
       " <Element 'a' title='激平酒店' href='/issue/1014?itm_source=webmenu&itm_medium=web'>,\n",
       " <Element 'a' title='生活' href='/zone/8/%E7%94%9F%E6%B4%BB'>,\n",
       " <Element 'a' title='國際' href='/zone/4/%E5%9C%8B%E9%9A%9B'>,\n",
       " <Element 'a' title='即時' href='/latest'>,\n",
       " <Element 'a' title='最Hit' href='/hot'>,\n",
       " <Element 'a' title='體育' href='/zone/3/%E9%AB%94%E8%82%B2'>,\n",
       " <Element 'a' title='科技' href='/zone/11/%E7%A7%91%E6%8A%80%E7%8E%A9%E7%89%A9'>,\n",
       " <Element 'a' title='中國' href='/zone/5/%E4%B8%AD%E5%9C%8B'>,\n",
       " <Element 'a' title='經濟' href='/zone/14/%E7%B6%93%E6%BF%9F'>,\n",
       " <Element 'a' title='觀點' href='/zone/12/%E8%A7%80%E9%BB%9E'>,\n",
       " <Element 'a' title='健康' href='/zone/24/%E5%81%A5%E5%BA%B7'>,\n",
       " <Element 'a' title='好食玩飛' href='/zone/19/%E5%A5%BD%E9%A3%9F%E7%8E%A9%E9%A3%9B'>,\n",
       " <Element 'a' title='女生' href='/zone/6/%E5%A5%B3%E7%94%9F'>,\n",
       " <Element 'a' title='熱話' href='/zone/7/%E7%86%B1%E8%A9%B1'>,\n",
       " <Element 'a' title='藝文格物' href='/zone/9/%E8%97%9D%E6%96%87%E6%A0%BC%E7%89%A9'>,\n",
       " <Element 'a' title='社區' href='/zone/10/%E7%A4%BE%E5%8D%80'>,\n",
       " <Element 'a' title='教育' href='/zone/23/%E6%95%99%E8%82%B2'>,\n",
       " <Element 'a' data-testid='footer-hk01-logo' href='/'>,\n",
       " <Element 'a' data-testid='footer-textLink-hotline' href='/hotline'>,\n",
       " <Element 'a' data-testid='footer-textLink-about' href='/about'>,\n",
       " <Element 'a' data-testid='footer-textLink-career' href='/career'>,\n",
       " <Element 'a' data-testid='footer-textLink-advertise' href='/advertise'>,\n",
       " <Element 'a' data-testid='footer-textLink-app' href='/app'>,\n",
       " <Element 'a' href='https://faq.hk01.com' data-testid='footer-textLink-faq'>,\n",
       " <Element 'a' data-testid='footer-textLink-contact' href='/contact'>,\n",
       " <Element 'a' data-testid='footer-textLink-privacy' href='/privacy'>,\n",
       " <Element 'a' data-testid='footer-textLink-terms' href='/terms'>,\n",
       " <Element 'a' href='https://www.facebook.com/hk01wemedia' target='_blank' rel=('noreferrer',) data-testid='footer-iconLink-facebook'>,\n",
       " <Element 'a' href='https://www.instagram.com/hk01_hk/' target='_blank' rel=('noreferrer',) data-testid='footer-iconLink-instagram'>,\n",
       " <Element 'a' href='https://www.youtube.com/c/香港01official' target='_blank' rel=('noreferrer',) data-testid='footer-iconLink-youtube'>,\n",
       " <Element 'a' href='https://www.linkedin.com/company/hk01/' target='_blank' rel=('noreferrer',) data-testid='footer-iconLink-linkedin'>,\n",
       " <Element 'a' href='https://twitter.com/hk01official' target='_blank' rel=('noreferrer',) data-testid='footer-iconLink-twitter'>,\n",
       " <Element 'a' class=('relative', 'mr-3', 'whitespace-nowrap', 'px-2', 'py-4', 'md:mr-3', 'md:py-4', 'md:px-2') target='_self' href='/hotline'>,\n",
       " <Element 'a' class=('relative', 'mr-3', 'whitespace-nowrap', 'px-2', 'py-4', 'md:mr-3', 'md:py-4', 'md:px-2') target='_self' href='/channel/2/%E7%A4%BE%E6%9C%83%E6%96%B0%E8%81%9E'>,\n",
       " <Element 'a' class=('relative', 'mr-3', 'whitespace-nowrap', 'px-2', 'py-4', 'md:mr-3', 'md:py-4', 'md:px-2') target='_self' href='/channel/6/%E7%AA%81%E7%99%BC'>,\n",
       " <Element 'a' class=('relative', 'mr-3', 'whitespace-nowrap', 'px-2', 'py-4', 'md:mr-3', 'md:py-4', 'md:px-2') target='_self' href='/channel/310/%E6%94%BF%E6%83%85'>,\n",
       " <Element 'a' class=('relative', 'mr-3', 'whitespace-nowrap', 'px-2', 'py-4', 'md:mr-3', 'md:py-4', 'md:px-2') target='_self' href='/issue/10207/%E5%9C%8B%E5%AE%89%E6%B3%95%E6%A1%88%E4%BB%B6%E6%8C%81%E7%BA%8C%E6%9B%B4%E6%96%B0-%E5%88%9D%E9%81%B8-%E9%BB%8E%E6%99%BA%E8%8B%B1-%E7%AB%8B%E5%A0%B4%E6%96%B0%E8%81%9E%E6%A1%88%E7%88%AD%E8%AD%B0%E4%B8%AD%E5%AF%A9%E8%A8%8A'>,\n",
       " <Element 'a' class=('relative', 'mr-3', 'whitespace-nowrap', 'px-2', 'py-4', 'md:mr-3', 'md:py-4', 'md:px-2') target='_self' href='/issue/10229/%E9%9A%B1%E5%BD%A2%E9%A6%99%E6%B8%AF-%E9%BB%91%E7%9A%84%E7%9B%B4%E6%93%8A%E9%BB%83%E9%87%91%E5%91%A8%E5%BE%8C%E5%8A%8F%E5%AE%A2%E5%BE%A9%E5%B8%B8-%E6%95%B8%E6%93%9A%E6%8F%AD%E7%82%BA%E4%BD%95%E5%B1%A2%E7%A6%81%E4%B8%8D%E6%AD%A2'>,\n",
       " <Element 'a' class=('relative', 'mr-3', 'whitespace-nowrap', 'px-2', 'py-4', 'md:mr-3', 'md:py-4', 'md:px-2') target='_self' href='/zone/23/%E6%95%99%E8%82%B2'>,\n",
       " <Element 'a' class=('relative', 'mr-3', 'whitespace-nowrap', 'px-2', 'py-4', 'md:mr-3', 'md:py-4', 'md:px-2') target='_self' href='/issue/10221/whatsapp%E8%A2%ABhack-%E8%A6%96%E5%83%8F%E9%9B%BB%E8%A9%B1%E9%A8%99%E6%A1%88%E7%A0%B4%E8%A7%A3-%E7%B6%B2%E4%B8%8A%E6%83%85%E7%B7%A3%E9%99%B7%E9%98%B1-%E8%A9%90%E9%A8%99%E6%96%B0%E8%81%9E%E5%A4%A7%E5%85%A8?itm_source=universal_search&itm_campaign=hk01&itm_content=issues&itm_medium=web'>,\n",
       " <Element 'a' class=('relative', 'mr-3', 'whitespace-nowrap', 'px-2', 'py-4', 'md:mr-3', 'md:py-4', 'md:px-2') target='_self' href='/channel/421/%E5%A4%A9%E6%B0%A3'>,\n",
       " <Element 'a' class=('relative', 'mr-3', 'whitespace-nowrap', 'px-2', 'py-4', 'md:mr-3', 'md:py-4', 'md:px-2') target='_self' href='/channel/413/%E6%B7%B1%E5%BA%A6%E5%A0%B1%E9%81%93'>,\n",
       " <Element 'a' class=('relative', 'mr-3', 'whitespace-nowrap', 'px-2', 'py-4', 'md:mr-3', 'md:py-4', 'md:px-2') target='_self' href='/channel/143/01%E5%81%B5%E6%9F%A5'>,\n",
       " <Element 'a' class=('relative', 'mr-3', 'whitespace-nowrap', 'px-2', 'py-4', 'md:mr-3', 'md:py-4', 'md:px-2') target='_self' href='/channel/403/%E9%A6%99%E6%B8%AF%E7%B6%93%E6%BF%9F'>,\n",
       " <Element 'a' href='/%E7%A4%BE%E6%9C%83%E6%96%B0%E8%81%9E/1005533/%E5%BE%A9%E6%B4%BB%E7%AF%80-%E6%88%AA%E8%87%B3%E4%B8%8B%E5%8D%884%E6%99%8259%E8%90%AC%E6%B8%AF%E4%BA%BA%E5%87%BA%E5%A2%83-%E7%A0%B4%E6%98%A8%E6%97%A552%E8%90%AC%E7%B4%80%E9%8C%84-%E5%89%B5%E7%96%AB%E5%BE%8C%E6%96%B0%E9%AB%98'>,\n",
       " <Element 'a' class=('card-category', 'flex', 'items-center') href='/channel/2/%E7%A4%BE%E6%9C%83%E6%96%B0%E8%81%9E'>,\n",
       " <Element 'a' class=('card-title', 'break-words') href='/%E7%A4%BE%E6%9C%83%E6%96%B0%E8%81%9E/1005533/%E5%BE%A9%E6%B4%BB%E7%AF%80-%E6%88%AA%E8%87%B3%E4%B8%8B%E5%8D%884%E6%99%8259%E8%90%AC%E6%B8%AF%E4%BA%BA%E5%87%BA%E5%A2%83-%E7%A0%B4%E6%98%A8%E6%97%A552%E8%90%AC%E7%B4%80%E9%8C%84-%E5%89%B5%E7%96%AB%E5%BE%8C%E6%96%B0%E9%AB%98'>,\n",
       " <Element 'a' href='/%E7%A4%BE%E6%9C%83%E6%96%B0%E8%81%9E/1005533/%E5%BE%A9%E6%B4%BB%E7%AF%80-%E6%88%AA%E8%87%B3%E4%B8%8B%E5%8D%884%E6%99%8259%E8%90%AC%E6%B8%AF%E4%BA%BA%E5%87%BA%E5%A2%83-%E7%A0%B4%E6%98%A8%E6%97%A552%E8%90%AC%E7%B4%80%E9%8C%84-%E5%89%B5%E7%96%AB%E5%BE%8C%E6%96%B0%E9%AB%98'>,\n",
       " <Element 'a' class=('card-category', 'flex', 'items-center') href='/channel/2/%E7%A4%BE%E6%9C%83%E6%96%B0%E8%81%9E'>,\n",
       " <Element 'a' class=('card-title', 'break-words') href='/%E7%A4%BE%E6%9C%83%E6%96%B0%E8%81%9E/1005533/%E5%BE%A9%E6%B4%BB%E7%AF%80-%E6%88%AA%E8%87%B3%E4%B8%8B%E5%8D%884%E6%99%8259%E8%90%AC%E6%B8%AF%E4%BA%BA%E5%87%BA%E5%A2%83-%E7%A0%B4%E6%98%A8%E6%97%A552%E8%90%AC%E7%B4%80%E9%8C%84-%E5%89%B5%E7%96%AB%E5%BE%8C%E6%96%B0%E9%AB%98'>,\n",
       " <Element 'a' href='/%E7%A4%BE%E6%9C%83%E6%96%B0%E8%81%9E/1005226/%E4%B8%BB%E4%BA%BA%E4%B8%8D%E6%95%91-%E6%87%B6%E7%90%86%E5%AE%B6%E4%B8%AD%E6%AF%9B%E5%AD%A9%E6%AD%BB%E6%B4%BB-%E5%BF%83%E7%90%86%E5%AD%B8%E5%AE%B6-%E8%AD%A6%E6%96%B9%E8%A6%AA%E8%A7%A3%E6%A7%8B%E5%8B%95%E7%89%A9%E7%BD%AA%E6%A1%88'>,\n",
       " <Element 'a' class=('card-category', 'flex', 'items-center') href='/channel/2/%E7%A4%BE%E6%9C%83%E6%96%B0%E8%81%9E'>,\n",
       " <Element 'a' class=('card-title', 'break-words') href='/%E7%A4%BE%E6%9C%83%E6%96%B0%E8%81%9E/1005226/%E4%B8%BB%E4%BA%BA%E4%B8%8D%E6%95%91-%E6%87%B6%E7%90%86%E5%AE%B6%E4%B8%AD%E6%AF%9B%E5%AD%A9%E6%AD%BB%E6%B4%BB-%E5%BF%83%E7%90%86%E5%AD%B8%E5%AE%B6-%E8%AD%A6%E6%96%B9%E8%A6%AA%E8%A7%A3%E6%A7%8B%E5%8B%95%E7%89%A9%E7%BD%AA%E6%A1%88'>,\n",
       " <Element 'a' href='/%E7%A4%BE%E6%9C%83%E6%96%B0%E8%81%9E/1005525/%E5%BE%A9%E6%B4%BB%E7%AF%80%E5%8C%97%E4%B8%8A%E6%8E%A1%E8%A8%AA%E6%89%8B%E8%A8%98-%E6%90%AD%E6%9D%B1%E9%90%B5%E8%AE%8A%E6%B2%99%E7%94%B8%E9%AD%9A-%E4%B8%8A%E6%B0%B4%E5%8E%BB%E7%BE%85%E6%B9%96%E8%8A%B12%E5%B0%8F%E6%99%82'>,\n",
       " <Element 'a' class=('card-category', 'flex', 'items-center') href='/channel/2/%E7%A4%BE%E6%9C%83%E6%96%B0%E8%81%9E'>,\n",
       " <Element 'a' class=('card-title', 'break-words') href='/%E7%A4%BE%E6%9C%83%E6%96%B0%E8%81%9E/1005525/%E5%BE%A9%E6%B4%BB%E7%AF%80%E5%8C%97%E4%B8%8A%E6%8E%A1%E8%A8%AA%E6%89%8B%E8%A8%98-%E6%90%AD%E6%9D%B1%E9%90%B5%E8%AE%8A%E6%B2%99%E7%94%B8%E9%AD%9A-%E4%B8%8A%E6%B0%B4%E5%8E%BB%E7%BE%85%E6%B9%96%E8%8A%B12%E5%B0%8F%E6%99%82'>,\n",
       " <Element 'a' href='/%E7%A4%BE%E6%9C%83%E6%96%B0%E8%81%9E/1005560/%E5%BE%A9%E6%B4%BB%E7%AF%80-%E9%81%8B%E8%BC%B8%E7%BD%B2%E6%8C%87%E5%91%A8%E5%85%AD%E4%BB%8D%E6%98%AF%E5%87%BA%E8%A1%8C%E9%AB%98%E5%B3%B0%E6%9C%9F-%E7%B1%B2%E5%B8%82%E6%B0%91%E8%80%83%E6%85%AE%E4%B8%8D%E8%A6%81%E6%97%A9%E4%B8%8A%E5%87%BA%E5%A2%83'>,\n",
       " <Element 'a' class=('card-category', 'flex', 'items-center') href='/channel/2/%E7%A4%BE%E6%9C%83%E6%96%B0%E8%81%9E'>,\n",
       " <Element 'a' class=('card-title', 'break-words') href='/%E7%A4%BE%E6%9C%83%E6%96%B0%E8%81%9E/1005560/%E5%BE%A9%E6%B4%BB%E7%AF%80-%E9%81%8B%E8%BC%B8%E7%BD%B2%E6%8C%87%E5%91%A8%E5%85%AD%E4%BB%8D%E6%98%AF%E5%87%BA%E8%A1%8C%E9%AB%98%E5%B3%B0%E6%9C%9F-%E7%B1%B2%E5%B8%82%E6%B0%91%E8%80%83%E6%85%AE%E4%B8%8D%E8%A6%81%E6%97%A9%E4%B8%8A%E5%87%BA%E5%A2%83'>,\n",
       " <Element 'a' href='/%E7%AA%81%E7%99%BC/1005534/%E9%BB%83%E5%A4%A7%E4%BB%99%E7%B4%80%E5%BE%8B%E9%83%A8%E9%9A%8A%E5%AE%BF%E8%88%8D%E5%A5%B3%E5%82%AD%E6%B6%89%E5%81%B7%E5%A4%BE%E8%90%AC-%E4%BD%9C%E6%95%85%E4%BB%94-%E9%81%AD%E5%88%80%E5%8C%AA%E6%8C%BE%E6%8C%81%E5%85%A5%E5%B1%8B%E8%A2%AB%E6%8D%95'>,\n",
       " <Element 'a' class=('card-category', 'flex', 'items-center') href='/channel/6/%E7%AA%81%E7%99%BC'>,\n",
       " <Element 'a' class=('card-title', 'break-words') href='/%E7%AA%81%E7%99%BC/1005534/%E9%BB%83%E5%A4%A7%E4%BB%99%E7%B4%80%E5%BE%8B%E9%83%A8%E9%9A%8A%E5%AE%BF%E8%88%8D%E5%A5%B3%E5%82%AD%E6%B6%89%E5%81%B7%E5%A4%BE%E8%90%AC-%E4%BD%9C%E6%95%85%E4%BB%94-%E9%81%AD%E5%88%80%E5%8C%AA%E6%8C%BE%E6%8C%81%E5%85%A5%E5%B1%8B%E8%A2%AB%E6%8D%95'>,\n",
       " <Element 'a' href='/%E6%94%BF%E6%83%85/1005502/%E5%9E%83%E5%9C%BE%E5%BE%B5%E8%B2%BB-%E7%8B%84%E5%BF%97%E9%81%A0%E6%89%B9%E5%85%88%E8%A1%8C%E5%85%88%E8%A9%A6%E4%B8%8D%E5%88%87%E5%AF%A6%E9%9A%9B-%E6%93%AC%E7%94%B3%E8%AB%8B%E9%81%8A%E8%A1%8C%E8%A1%A8%E9%81%94%E4%B8%8D%E6%BB%BF'>,\n",
       " <Element 'a' class=('card-category', 'flex', 'items-center') href='/channel/310/%E6%94%BF%E6%83%85'>,\n",
       " <Element 'a' class=('card-title', 'break-words') href='/%E6%94%BF%E6%83%85/1005502/%E5%9E%83%E5%9C%BE%E5%BE%B5%E8%B2%BB-%E7%8B%84%E5%BF%97%E9%81%A0%E6%89%B9%E5%85%88%E8%A1%8C%E5%85%88%E8%A9%A6%E4%B8%8D%E5%88%87%E5%AF%A6%E9%9A%9B-%E6%93%AC%E7%94%B3%E8%AB%8B%E9%81%8A%E8%A1%8C%E8%A1%A8%E9%81%94%E4%B8%8D%E6%BB%BF'>,\n",
       " <Element 'a' class=('hidden', 'lg:inline') href='/channel/2/%E7%A4%BE%E6%9C%83%E6%96%B0%E8%81%9E'>,\n",
       " <Element 'a' href='/%E7%A4%BE%E6%9C%83%E6%96%B0%E8%81%9E/1005398/%E5%BE%A9%E6%B4%BB%E7%AF%80%E5%8C%97%E4%B8%8A-%E6%8C%81%E7%BA%8C%E6%9B%B4%E6%96%B0-%E6%B8%AF%E9%90%B5-%E7%BE%85%E6%B9%96%E8%90%BD%E9%A6%AC%E6%B4%B2%E4%BA%BA%E6%BD%AE%E6%B8%9B%E5%B0%91-%E5%88%97%E8%BB%8A%E5%9B%9E%E5%BE%A9%E6%AD%A3%E5%B8%B8'>,\n",
       " <Element 'a' class=('card-category', 'flex', 'items-center') href='/channel/2/%E7%A4%BE%E6%9C%83%E6%96%B0%E8%81%9E'>,\n",
       " <Element 'a' class=('card-title', 'break-words') href='/%E7%A4%BE%E6%9C%83%E6%96%B0%E8%81%9E/1005398/%E5%BE%A9%E6%B4%BB%E7%AF%80%E5%8C%97%E4%B8%8A-%E6%8C%81%E7%BA%8C%E6%9B%B4%E6%96%B0-%E6%B8%AF%E9%90%B5-%E7%BE%85%E6%B9%96%E8%90%BD%E9%A6%AC%E6%B4%B2%E4%BA%BA%E6%BD%AE%E6%B8%9B%E5%B0%91-%E5%88%97%E8%BB%8A%E5%9B%9E%E5%BE%A9%E6%AD%A3%E5%B8%B8'>,\n",
       " <Element 'a' href='/%E7%A4%BE%E6%9C%83%E6%96%B0%E8%81%9E/1005407/%E5%BE%A9%E6%B4%BB%E7%AF%80%E5%8C%97%E4%B8%8A-%E4%B8%8A%E6%B0%B4%E7%AB%99%E5%A4%96%E7%8F%BE200%E7%B1%B3%E4%BA%BA%E9%BE%8D-%E6%B8%AF%E4%BA%BA-%E9%A6%99%E6%B8%AF%E6%B6%88%E8%B2%BB%E5%BE%97%E7%BD%AA%E8%AC%9B%E5%8F%A5%E5%A4%AA%E8%B2%B4'>,\n",
       " <Element 'a' class=('card-category', 'flex', 'items-center') href='/channel/2/%E7%A4%BE%E6%9C%83%E6%96%B0%E8%81%9E'>,\n",
       " <Element 'a' class=('card-title', 'break-words') href='/%E7%A4%BE%E6%9C%83%E6%96%B0%E8%81%9E/1005407/%E5%BE%A9%E6%B4%BB%E7%AF%80%E5%8C%97%E4%B8%8A-%E4%B8%8A%E6%B0%B4%E7%AB%99%E5%A4%96%E7%8F%BE200%E7%B1%B3%E4%BA%BA%E9%BE%8D-%E6%B8%AF%E4%BA%BA-%E9%A6%99%E6%B8%AF%E6%B6%88%E8%B2%BB%E5%BE%97%E7%BD%AA%E8%AC%9B%E5%8F%A5%E5%A4%AA%E8%B2%B4'>,\n",
       " <Element 'a' class=('card-button', 'sm:grow', 'md:grow-0') href='/%E7%A4%BE%E6%9C%83%E6%96%B0%E8%81%9E/1005407/%E5%BE%A9%E6%B4%BB%E7%AF%80%E5%8C%97%E4%B8%8A-%E4%B8%8A%E6%B0%B4%E7%AB%99%E5%A4%96%E7%8F%BE200%E7%B1%B3%E4%BA%BA%E9%BE%8D-%E6%B8%AF%E4%BA%BA-%E9%A6%99%E6%B8%AF%E6%B6%88%E8%B2%BB%E5%BE%97%E7%BD%AA%E8%AC%9B%E5%8F%A5%E5%A4%AA%E8%B2%B4'>,\n",
       " <Element 'a' href='/%E5%A4%A9%E6%B0%A3/1005406/%E5%BE%A9%E6%B4%BB%E7%AF%80-%E5%A4%A9%E6%96%87%E5%8F%B0%E6%96%994%E6%97%A5%E5%81%87%E6%9C%9F%E6%9C%89%E9%9B%A8-%E7%8B%82%E9%A2%A8%E9%9B%B7%E6%9A%B4-%E5%8C%97%E4%B8%8A%E6%B3%A8%E6%84%8F%E6%B7%B1%E5%9C%B3%E6%88%96%E9%9B%A8%E5%8B%A2%E5%A4%A7'>,\n",
       " <Element 'a' class=('card-category', 'flex', 'items-center') href='/channel/421/%E5%A4%A9%E6%B0%A3'>,\n",
       " <Element 'a' class=('card-title', 'break-words') href='/%E5%A4%A9%E6%B0%A3/1005406/%E5%BE%A9%E6%B4%BB%E7%AF%80-%E5%A4%A9%E6%96%87%E5%8F%B0%E6%96%994%E6%97%A5%E5%81%87%E6%9C%9F%E6%9C%89%E9%9B%A8-%E7%8B%82%E9%A2%A8%E9%9B%B7%E6%9A%B4-%E5%8C%97%E4%B8%8A%E6%B3%A8%E6%84%8F%E6%B7%B1%E5%9C%B3%E6%88%96%E9%9B%A8%E5%8B%A2%E5%A4%A7'>,\n",
       " <Element 'a' href='/%E7%A4%BE%E6%9C%83%E6%96%B0%E8%81%9E/1005400/%E5%BE%A9%E6%B4%BB%E7%AF%80%E6%B8%AF%E4%BA%BA%E5%A4%A7%E9%81%B7%E5%BE%99-%E6%B7%B1%E5%9C%B3%E7%81%A3%E5%A4%A7%E6%A9%8B%E7%BD%95%E8%A6%8B%E5%A1%9E%E7%88%86-%E7%9A%84%E5%A3%AB%E9%95%B7%E9%BE%8D%E7%AD%89%E9%80%BE1%E5%B0%8F%E6%99%82'>,\n",
       " <Element 'a' class=('card-category', 'flex', 'items-center') href='/channel/2/%E7%A4%BE%E6%9C%83%E6%96%B0%E8%81%9E'>,\n",
       " <Element 'a' class=('card-title', 'break-words') href='/%E7%A4%BE%E6%9C%83%E6%96%B0%E8%81%9E/1005400/%E5%BE%A9%E6%B4%BB%E7%AF%80%E6%B8%AF%E4%BA%BA%E5%A4%A7%E9%81%B7%E5%BE%99-%E6%B7%B1%E5%9C%B3%E7%81%A3%E5%A4%A7%E6%A9%8B%E7%BD%95%E8%A6%8B%E5%A1%9E%E7%88%86-%E7%9A%84%E5%A3%AB%E9%95%B7%E9%BE%8D%E7%AD%89%E9%80%BE1%E5%B0%8F%E6%99%82'>,\n",
       " <Element 'a' href='/%E7%A4%BE%E6%9C%83%E6%96%B0%E8%81%9E/1005319/hk-express%E6%9B%BC%E8%B0%B7%E6%A9%9F%E5%A0%B4%E6%AD%BB%E6%A9%9F-%E7%99%BB%E6%A9%9F%E6%89%8B%E7%BA%8C%E4%BA%BA%E6%89%8B%E8%99%95%E7%90%86-%E8%87%B3%E5%B0%91%E5%85%A9%E9%A3%9B%E6%B8%AF%E8%88%AA%E7%8F%AD%E5%BB%B6%E8%AA%A4'>,\n",
       " <Element 'a' class=('card-category', 'flex', 'items-center') href='/channel/2/%E7%A4%BE%E6%9C%83%E6%96%B0%E8%81%9E'>,\n",
       " <Element 'a' class=('card-title', 'break-words') href='/%E7%A4%BE%E6%9C%83%E6%96%B0%E8%81%9E/1005319/hk-express%E6%9B%BC%E8%B0%B7%E6%A9%9F%E5%A0%B4%E6%AD%BB%E6%A9%9F-%E7%99%BB%E6%A9%9F%E6%89%8B%E7%BA%8C%E4%BA%BA%E6%89%8B%E8%99%95%E7%90%86-%E8%87%B3%E5%B0%91%E5%85%A9%E9%A3%9B%E6%B8%AF%E8%88%AA%E7%8F%AD%E5%BB%B6%E8%AA%A4'>,\n",
       " <Element 'a' href='/%E7%A4%BE%E6%9C%83%E6%96%B0%E8%81%9E/1004410/%E7%85%A7%E9%A1%A7%E8%80%85%E6%8A%95%E8%BA%AB%E9%A6%99%E6%B8%AF%E9%98%B2%E7%99%8C%E6%9C%83-%E7%B1%B2%E7%A4%BE%E6%9C%83%E6%9B%B4%E5%A4%9A%E7%99%8C%E7%97%87%E6%94%AF%E6%8F%B4%E5%AE%88%E8%AD%B7%E5%90%8C%E8%B7%AF%E4%BA%BA'>,\n",
       " <Element 'a' class=('card-category', 'flex', 'items-center') href='/channel/2/%E7%A4%BE%E6%9C%83%E6%96%B0%E8%81%9E'>,\n",
       " <Element 'a' class=('card-title', 'break-words') href='/%E7%A4%BE%E6%9C%83%E6%96%B0%E8%81%9E/1004410/%E7%85%A7%E9%A1%A7%E8%80%85%E6%8A%95%E8%BA%AB%E9%A6%99%E6%B8%AF%E9%98%B2%E7%99%8C%E6%9C%83-%E7%B1%B2%E7%A4%BE%E6%9C%83%E6%9B%B4%E5%A4%9A%E7%99%8C%E7%97%87%E6%94%AF%E6%8F%B4%E5%AE%88%E8%AD%B7%E5%90%8C%E8%B7%AF%E4%BA%BA'>,\n",
       " <Element 'a' class=('my-2', 'block', 'text-center', 'lg:hidden') href='/channel/2/%E7%A4%BE%E6%9C%83%E6%96%B0%E8%81%9E'>,\n",
       " <Element 'a' class=('hidden', 'lg:inline') href='/channel/6/%E7%AA%81%E7%99%BC'>,\n",
       " <Element 'a' href='/%E7%AA%81%E7%99%BC/1005460/%E6%9D%B1%E6%B6%8C%E7%81%AB%E8%AD%A6-%E7%81%AB%E5%A0%B4%E6%9B%9D%E5%85%89-%E5%AE%B6%E5%85%B7%E9%9B%9C%E7%89%A9%E9%81%AD%E7%87%92%E6%AF%80-%E5%A4%A9%E8%8A%B1%E7%89%86%E8%BA%AB%E5%85%A8%E7%86%8F%E9%BB%91'>,\n",
       " <Element 'a' class=('card-category', 'flex', 'items-center') href='/channel/6/%E7%AA%81%E7%99%BC'>,\n",
       " <Element 'a' class=('card-title', 'break-words') href='/%E7%AA%81%E7%99%BC/1005460/%E6%9D%B1%E6%B6%8C%E7%81%AB%E8%AD%A6-%E7%81%AB%E5%A0%B4%E6%9B%9D%E5%85%89-%E5%AE%B6%E5%85%B7%E9%9B%9C%E7%89%A9%E9%81%AD%E7%87%92%E6%AF%80-%E5%A4%A9%E8%8A%B1%E7%89%86%E8%BA%AB%E5%85%A8%E7%86%8F%E9%BB%91'>,\n",
       " <Element 'a' class=('card-button', 'sm:grow', 'md:grow-0') href='/%E7%AA%81%E7%99%BC/1005460/%E6%9D%B1%E6%B6%8C%E7%81%AB%E8%AD%A6-%E7%81%AB%E5%A0%B4%E6%9B%9D%E5%85%89-%E5%AE%B6%E5%85%B7%E9%9B%9C%E7%89%A9%E9%81%AD%E7%87%92%E6%AF%80-%E5%A4%A9%E8%8A%B1%E7%89%86%E8%BA%AB%E5%85%A8%E7%86%8F%E9%BB%91'>,\n",
       " <Element 'a' href='/%E7%AA%81%E7%99%BC/1005445/%E5%85%83%E6%9C%97%E7%99%BD%E6%B2%99%E6%9D%91%E5%80%89%E5%BA%AB%E8%B5%B7%E7%81%AB%E6%BF%83%E7%85%99%E6%B2%96%E5%A4%A9-%E9%80%BC%E8%BF%91%E6%B0%91%E5%B1%85%E6%95%B8%E4%BA%BA%E7%96%8F%E6%95%A3'>,\n",
       " <Element 'a' class=('card-category', 'flex', 'items-center') href='/channel/6/%E7%AA%81%E7%99%BC'>,\n",
       " <Element 'a' class=('card-title', 'break-words') href='/%E7%AA%81%E7%99%BC/1005445/%E5%85%83%E6%9C%97%E7%99%BD%E6%B2%99%E6%9D%91%E5%80%89%E5%BA%AB%E8%B5%B7%E7%81%AB%E6%BF%83%E7%85%99%E6%B2%96%E5%A4%A9-%E9%80%BC%E8%BF%91%E6%B0%91%E5%B1%85%E6%95%B8%E4%BA%BA%E7%96%8F%E6%95%A3'>,\n",
       " <Element 'a' href='/%E7%AA%81%E7%99%BC/1005424/%E6%9D%B1%E6%B6%8C%E7%81%AB%E8%AD%A6-%E4%BD%BF%E7%94%A8%E6%B7%98%E5%AF%B6%E7%81%AB%E6%A7%8D%E6%99%82%E8%B5%B7%E7%81%AB-%E5%A5%B3%E6%88%B6%E4%B8%BB%E4%BA%8C%E7%B4%9A%E7%87%92%E5%82%B7-4%E6%84%9B%E8%B2%93%E5%85%A8%E5%96%AA%E5%91%BD'>,\n",
       " <Element 'a' class=('card-category', 'flex', 'items-center') href='/channel/6/%E7%AA%81%E7%99%BC'>,\n",
       " <Element 'a' class=('card-title', 'break-words') href='/%E7%AA%81%E7%99%BC/1005424/%E6%9D%B1%E6%B6%8C%E7%81%AB%E8%AD%A6-%E4%BD%BF%E7%94%A8%E6%B7%98%E5%AF%B6%E7%81%AB%E6%A7%8D%E6%99%82%E8%B5%B7%E7%81%AB-%E5%A5%B3%E6%88%B6%E4%B8%BB%E4%BA%8C%E7%B4%9A%E7%87%92%E5%82%B7-4%E6%84%9B%E8%B2%93%E5%85%A8%E5%96%AA%E5%91%BD'>,\n",
       " <Element 'a' class=('card-button', 'sm:grow', 'md:grow-0') href='/%E7%AA%81%E7%99%BC/1005424/%E6%9D%B1%E6%B6%8C%E7%81%AB%E8%AD%A6-%E4%BD%BF%E7%94%A8%E6%B7%98%E5%AF%B6%E7%81%AB%E6%A7%8D%E6%99%82%E8%B5%B7%E7%81%AB-%E5%A5%B3%E6%88%B6%E4%B8%BB%E4%BA%8C%E7%B4%9A%E7%87%92%E5%82%B7-4%E6%84%9B%E8%B2%93%E5%85%A8%E5%96%AA%E5%91%BD'>,\n",
       " <Element 'a' href='/%E7%AA%81%E7%99%BC/1001150/%E6%A8%82%E7%BF%A0%E8%87%BA%E7%B6%AD%E4%BF%AE%E9%A2%A8%E6%B3%A2-%E8%87%AA%E7%B5%84%E5%9C%98%E9%9A%8A%E5%8D%8A%E5%B9%B4%E5%9C%98%E7%B5%90%E8%A1%97%E5%9D%8A-%E4%B8%80%E5%A0%B4%E6%A5%AD%E4%B8%BB%E8%A6%BA%E9%86%92%E8%87%AA%E6%95%91%E4%B9%8B%E6%88%B0'>,\n",
       " <Element 'a' class=('card-category', 'flex', 'items-center') href='/channel/6/%E7%AA%81%E7%99%BC'>,\n",
       " <Element 'a' class=('card-title', 'break-words') href='/%E7%AA%81%E7%99%BC/1001150/%E6%A8%82%E7%BF%A0%E8%87%BA%E7%B6%AD%E4%BF%AE%E9%A2%A8%E6%B3%A2-%E8%87%AA%E7%B5%84%E5%9C%98%E9%9A%8A%E5%8D%8A%E5%B9%B4%E5%9C%98%E7%B5%90%E8%A1%97%E5%9D%8A-%E4%B8%80%E5%A0%B4%E6%A5%AD%E4%B8%BB%E8%A6%BA%E9%86%92%E8%87%AA%E6%95%91%E4%B9%8B%E6%88%B0'>,\n",
       " <Element 'a' class=('card-button', 'sm:grow', 'md:grow-0') href='/%E7%AA%81%E7%99%BC/1001150/%E6%A8%82%E7%BF%A0%E8%87%BA%E7%B6%AD%E4%BF%AE%E9%A2%A8%E6%B3%A2-%E8%87%AA%E7%B5%84%E5%9C%98%E9%9A%8A%E5%8D%8A%E5%B9%B4%E5%9C%98%E7%B5%90%E8%A1%97%E5%9D%8A-%E4%B8%80%E5%A0%B4%E6%A5%AD%E4%B8%BB%E8%A6%BA%E9%86%92%E8%87%AA%E6%95%91%E4%B9%8B%E6%88%B0'>,\n",
       " <Element 'a' href='/%E7%AA%81%E7%99%BC/1005526/%E8%AD%A6%E6%B7%B1%E6%B0%B4%E5%9F%97%E6%90%97%E9%9D%9E%E6%B3%95%E9%87%A3%E9%AD%9A%E6%A9%9F%E8%B3%AD%E6%AA%94-5%E4%BA%BA%E8%A2%AB%E6%8D%95%E5%8C%85%E6%8B%AC%E5%85%A9%E5%A4%96%E7%B1%8D%E7%94%B7%E5%A5%B3'>,\n",
       " <Element 'a' class=('card-category', 'flex', 'items-center') href='/channel/6/%E7%AA%81%E7%99%BC'>,\n",
       " <Element 'a' class=('card-title', 'break-words') href='/%E7%AA%81%E7%99%BC/1005526/%E8%AD%A6%E6%B7%B1%E6%B0%B4%E5%9F%97%E6%90%97%E9%9D%9E%E6%B3%95%E9%87%A3%E9%AD%9A%E6%A9%9F%E8%B3%AD%E6%AA%94-5%E4%BA%BA%E8%A2%AB%E6%8D%95%E5%8C%85%E6%8B%AC%E5%85%A9%E5%A4%96%E7%B1%8D%E7%94%B7%E5%A5%B3'>,\n",
       " <Element 'a' class=('my-2', 'block', 'text-center', 'lg:hidden') href='/channel/6/%E7%AA%81%E7%99%BC'>,\n",
       " <Element 'a' class=('hidden', 'lg:inline') href='/channel/310/%E6%94%BF%E6%83%85'>,\n",
       " <Element 'a' href='/%E6%94%BF%E6%83%85/1005027/%E6%94%BF%E5%9C%88%E9%A2%A8%E8%81%B2-01%E6%B6%88%E6%81%AF-%E4%B8%89%E6%9C%83%E6%8F%9B%E5%B1%86%E6%94%B9%E5%A7%94%E4%BB%BB%E5%8F%96%E6%85%8B-%E5%8D%80%E8%AD%B0%E5%93%A1%E5%8F%AF%E5%85%BC%E4%BB%BB%E5%88%86%E5%8D%80%E5%A7%94%E5%93%A1%E6%9C%83'>,\n",
       " <Element 'a' class=('card-category', 'flex', 'items-center') href='/channel/310/%E6%94%BF%E6%83%85'>,\n",
       " <Element 'a' class=('card-title', 'break-words') href='/%E6%94%BF%E6%83%85/1005027/%E6%94%BF%E5%9C%88%E9%A2%A8%E8%81%B2-01%E6%B6%88%E6%81%AF-%E4%B8%89%E6%9C%83%E6%8F%9B%E5%B1%86%E6%94%B9%E5%A7%94%E4%BB%BB%E5%8F%96%E6%85%8B-%E5%8D%80%E8%AD%B0%E5%93%A1%E5%8F%AF%E5%85%BC%E4%BB%BB%E5%88%86%E5%8D%80%E5%A7%94%E5%93%A1%E6%9C%83'>,\n",
       " <Element 'a' href='/%E6%94%BF%E6%83%85/1005431/%E8%81%B7%E6%B4%A5%E9%87%91%E9%A1%8D%E4%B8%8B%E6%9C%88%E8%B5%B7%E5%8A%83%E4%B8%80%E4%B8%8A%E8%AA%BF15-%E5%AD%AB%E7%8E%89%E8%8F%A1-%E9%BC%93%E5%8B%B5%E6%8C%81%E7%BA%8C%E5%85%A8%E8%81%B7%E5%B7%A5%E4%BD%9C'>,\n",
       " <Element 'a' class=('card-category', 'flex', 'items-center') href='/channel/310/%E6%94%BF%E6%83%85'>,\n",
       " <Element 'a' class=('card-title', 'break-words') href='/%E6%94%BF%E6%83%85/1005431/%E8%81%B7%E6%B4%A5%E9%87%91%E9%A1%8D%E4%B8%8B%E6%9C%88%E8%B5%B7%E5%8A%83%E4%B8%80%E4%B8%8A%E8%AA%BF15-%E5%AD%AB%E7%8E%89%E8%8F%A1-%E9%BC%93%E5%8B%B5%E6%8C%81%E7%BA%8C%E5%85%A8%E8%81%B7%E5%B7%A5%E4%BD%9C'>,\n",
       " <Element 'a' href='/%E6%94%BF%E6%83%85/1005186/%E6%9D%B1%E5%8D%80%E5%A4%9C%E9%A3%9B%E9%BE%8D-night-loong-%E5%8D%80%E8%AD%B0%E5%93%A1-%E5%94%94%E5%A4%AA%E9%A0%86%E5%8F%A3-%E6%94%BF%E5%A3%87%E8%AB%B8%E4%BA%8B%E7%94%BA'>,\n",
       " <Element 'a' class=('card-category', 'flex', 'items-center') href='/channel/310/%E6%94%BF%E6%83%85'>,\n",
       " <Element 'a' class=('card-title', 'break-words') href='/%E6%94%BF%E6%83%85/1005186/%E6%9D%B1%E5%8D%80%E5%A4%9C%E9%A3%9B%E9%BE%8D-night-loong-%E5%8D%80%E8%AD%B0%E5%93%A1-%E5%94%94%E5%A4%AA%E9%A0%86%E5%8F%A3-%E6%94%BF%E5%A3%87%E8%AB%B8%E4%BA%8B%E7%94%BA'>,\n",
       " <Element 'a' href='/%E6%94%BF%E6%83%85/1005220/%E6%97%85%E7%99%BC%E5%B1%80%E8%BF%911-4%E5%84%84%E6%8E%A8%E5%8B%95%E5%85%A8%E6%96%B0%E7%A6%AE%E8%B2%8C%E9%81%8B%E5%8B%95%E5%8F%8A%E6%94%AF%E6%8C%81%E6%A5%AD%E7%95%8C-%E5%8C%85%E6%8B%AC%E6%8B%8D%E7%9C%9F%E4%BA%BAshow'>,\n",
       " <Element 'a' class=('card-category', 'flex', 'items-center') href='/channel/310/%E6%94%BF%E6%83%85'>,\n",
       " <Element 'a' class=('card-title', 'break-words') href='/%E6%94%BF%E6%83%85/1005220/%E6%97%85%E7%99%BC%E5%B1%80%E8%BF%911-4%E5%84%84%E6%8E%A8%E5%8B%95%E5%85%A8%E6%96%B0%E7%A6%AE%E8%B2%8C%E9%81%8B%E5%8B%95%E5%8F%8A%E6%94%AF%E6%8C%81%E6%A5%AD%E7%95%8C-%E5%8C%85%E6%8B%AC%E6%8B%8D%E7%9C%9F%E4%BA%BAshow'>,\n",
       " <Element 'a' href='/%E6%94%BF%E6%83%85/1005516/23%E6%A2%9D%E7%AB%8B%E6%B3%95-%E9%84%A7%E7%82%B3%E5%BC%B7-%E5%9C%8B%E5%AE%B6%E7%A7%98%E5%AF%86%E5%AE%9A%E7%BE%A9%E6%B8%85%E6%99%B0-%E5%AE%9A%E7%BD%AA%E9%A0%88%E8%A6%96%E4%B9%8E%E6%98%AF%E5%90%A6%E6%9C%89%E7%8A%AF%E7%BD%AA%E6%84%8F%E5%9C%96'>,\n",
       " <Element 'a' class=('card-category', 'flex', 'items-center') href='/channel/310/%E6%94%BF%E6%83%85'>,\n",
       " <Element 'a' class=('card-title', 'break-words') href='/%E6%94%BF%E6%83%85/1005516/23%E6%A2%9D%E7%AB%8B%E6%B3%95-%E9%84%A7%E7%82%B3%E5%BC%B7-%E5%9C%8B%E5%AE%B6%E7%A7%98%E5%AF%86%E5%AE%9A%E7%BE%A9%E6%B8%85%E6%99%B0-%E5%AE%9A%E7%BD%AA%E9%A0%88%E8%A6%96%E4%B9%8E%E6%98%AF%E5%90%A6%E6%9C%89%E7%8A%AF%E7%BD%AA%E6%84%8F%E5%9C%96'>,\n",
       " <Element 'a' href='/%E6%94%BF%E6%83%85/1005490/23%E6%A2%9D-%E4%BF%9D%E5%AE%89%E5%B1%80%E6%96%A5%E8%8B%B1%E5%9C%8B-%E8%A1%9B%E5%A0%B1-%E5%A0%B1%E9%81%93%E6%A5%B5%E5%85%B7%E8%AA%A4%E5%B0%8E%E6%80%A7-%E4%BF%83%E7%A2%BA%E4%BF%9D%E6%B6%89%E6%B8%AF%E5%A0%B1%E9%81%93%E5%85%AC%E6%AD%A3'>,\n",
       " <Element 'a' class=('card-category', 'flex', 'items-center') href='/channel/310/%E6%94%BF%E6%83%85'>,\n",
       " <Element 'a' class=('card-title', 'break-words') href='/%E6%94%BF%E6%83%85/1005490/23%E6%A2%9D-%E4%BF%9D%E5%AE%89%E5%B1%80%E6%96%A5%E8%8B%B1%E5%9C%8B-%E8%A1%9B%E5%A0%B1-%E5%A0%B1%E9%81%93%E6%A5%B5%E5%85%B7%E8%AA%A4%E5%B0%8E%E6%80%A7-%E4%BF%83%E7%A2%BA%E4%BF%9D%E6%B6%89%E6%B8%AF%E5%A0%B1%E9%81%93%E5%85%AC%E6%AD%A3'>,\n",
       " <Element 'a' class=('my-2', 'block', 'text-center', 'lg:hidden') href='/channel/310/%E6%94%BF%E6%83%85'>,\n",
       " <Element 'a' class=('hidden', 'lg:inline') href='/channel/143/01%E5%81%B5%E6%9F%A5'>,\n",
       " <Element 'a' href='/01%E5%81%B5%E6%9F%A5/1004077/%E4%B8%8A%E6%B0%B4%E9%87%91%E8%A8%98%E5%86%B0%E5%AE%A4%E8%A2%AB%E8%B2%BC%E5%85%AC%E5%91%8A%E6%8B%8D%E8%B3%A3%E5%82%A2%E5%85%B7-%E9%9B%86%E5%9C%98%E4%BB%8A%E5%B9%B4%E8%A2%AB%E5%85%A5%E7%A8%9F%E8%BF%BD%E8%A8%8E972%E8%90%AC%E5%85%83%E7%A7%9F%E9%87%91'>,\n",
       " <Element 'a' class=('card-category', 'flex', 'items-center') href='/channel/143/01%E5%81%B5%E6%9F%A5'>,\n",
       " <Element 'a' class=('card-title', 'break-words') href='/01%E5%81%B5%E6%9F%A5/1004077/%E4%B8%8A%E6%B0%B4%E9%87%91%E8%A8%98%E5%86%B0%E5%AE%A4%E8%A2%AB%E8%B2%BC%E5%85%AC%E5%91%8A%E6%8B%8D%E8%B3%A3%E5%82%A2%E5%85%B7-%E9%9B%86%E5%9C%98%E4%BB%8A%E5%B9%B4%E8%A2%AB%E5%85%A5%E7%A8%9F%E8%BF%BD%E8%A8%8E972%E8%90%AC%E5%85%83%E7%A7%9F%E9%87%91'>,\n",
       " <Element 'a' href='/01%E5%81%B5%E6%9F%A5/1001403/%E7%A7%81%E5%AF%86%E9%83%A8%E4%BD%8D%E9%81%AD%E6%BD%91%E7%81%91%E4%B8%8D%E6%98%8E%E6%B6%B2%E9%AB%94%E6%80%A7%E6%9A%B4%E5%8A%9B-%E5%A5%B9%E5%80%91%E7%B6%93%E6%AD%B7%E5%B4%A9%E6%BD%B0-%E7%99%BC%E8%81%B2-%E5%85%85%E6%AC%8A'>,\n",
       " <Element 'a' class=('card-category', 'flex', 'items-center') href='/channel/143/01%E5%81%B5%E6%9F%A5'>,\n",
       " <Element 'a' class=('card-title', 'break-words') href='/01%E5%81%B5%E6%9F%A5/1001403/%E7%A7%81%E5%AF%86%E9%83%A8%E4%BD%8D%E9%81%AD%E6%BD%91%E7%81%91%E4%B8%8D%E6%98%8E%E6%B6%B2%E9%AB%94%E6%80%A7%E6%9A%B4%E5%8A%9B-%E5%A5%B9%E5%80%91%E7%B6%93%E6%AD%B7%E5%B4%A9%E6%BD%B0-%E7%99%BC%E8%81%B2-%E5%85%85%E6%AC%8A'>,\n",
       " <Element 'a' class=('card-button', 'sm:grow', 'md:grow-0') href='/01%E5%81%B5%E6%9F%A5/1001403/%E7%A7%81%E5%AF%86%E9%83%A8%E4%BD%8D%E9%81%AD%E6%BD%91%E7%81%91%E4%B8%8D%E6%98%8E%E6%B6%B2%E9%AB%94%E6%80%A7%E6%9A%B4%E5%8A%9B-%E5%A5%B9%E5%80%91%E7%B6%93%E6%AD%B7%E5%B4%A9%E6%BD%B0-%E7%99%BC%E8%81%B2-%E5%85%85%E6%AC%8A'>,\n",
       " <Element 'a' href='/01%E5%81%B5%E6%9F%A5/1002454/01%E7%8D%A8%E5%AE%B6-%E6%81%92%E5%A4%A7%E8%A8%B1%E5%AE%B6%E5%8D%B0%E5%B0%96%E6%B2%99%E5%92%80300%E5%91%8E-%E7%99%BC%E8%BF%B9%E5%B1%8B-%E9%81%AD%E4%B8%AD%E4%BF%A1%E6%97%97%E4%B8%8B%E9%87%98%E5%A5%91%E6%8A%B5%E5%82%B5'>,\n",
       " <Element 'a' class=('card-category', 'flex', 'items-center') href='/channel/143/01%E5%81%B5%E6%9F%A5'>,\n",
       " <Element 'a' class=('card-title', 'break-words') href='/01%E5%81%B5%E6%9F%A5/1002454/01%E7%8D%A8%E5%AE%B6-%E6%81%92%E5%A4%A7%E8%A8%B1%E5%AE%B6%E5%8D%B0%E5%B0%96%E6%B2%99%E5%92%80300%E5%91%8E-%E7%99%BC%E8%BF%B9%E5%B1%8B-%E9%81%AD%E4%B8%AD%E4%BF%A1%E6%97%97%E4%B8%8B%E9%87%98%E5%A5%91%E6%8A%B5%E5%82%B5'>,\n",
       " <Element 'a' class=('card-button', 'sm:grow', 'md:grow-0') href='/01%E5%81%B5%E6%9F%A5/1002454/01%E7%8D%A8%E5%AE%B6-%E6%81%92%E5%A4%A7%E8%A8%B1%E5%AE%B6%E5%8D%B0%E5%B0%96%E6%B2%99%E5%92%80300%E5%91%8E-%E7%99%BC%E8%BF%B9%E5%B1%8B-%E9%81%AD%E4%B8%AD%E4%BF%A1%E6%97%97%E4%B8%8B%E9%87%98%E5%A5%91%E6%8A%B5%E5%82%B5'>,\n",
       " <Element 'a' href='/issue/10283/%E6%94%BF%E5%BA%9C%E5%B7%A5%E7%A8%8B%E9%86%9C%E8%81%9E-%E5%8D%83%E5%84%84%E5%B7%A5%E7%A8%8B%E5%81%B7%E5%B7%A5%E6%B8%9B%E6%96%99-%E6%B6%89%E9%86%AB%E9%99%A2-%E9%AB%94%E8%82%B2%E5%9C%92%E9%89%85%E6%AC%BE-%E5%B0%88%E9%A0%81'>,\n",
       " <Element 'a' class=('card-category', 'flex', 'items-center') href='/zone/1'>,\n",
       " <Element 'a' class=('card-title', 'break-words') href='/issue/10283/%E6%94%BF%E5%BA%9C%E5%B7%A5%E7%A8%8B%E9%86%9C%E8%81%9E-%E5%8D%83%E5%84%84%E5%B7%A5%E7%A8%8B%E5%81%B7%E5%B7%A5%E6%B8%9B%E6%96%99-%E6%B6%89%E9%86%AB%E9%99%A2-%E9%AB%94%E8%82%B2%E5%9C%92%E9%89%85%E6%AC%BE-%E5%B0%88%E9%A0%81'>,\n",
       " <Element 'a' class=('card-button', 'sm:grow', 'md:grow-0') href='/issue/10283/%E6%94%BF%E5%BA%9C%E5%B7%A5%E7%A8%8B%E9%86%9C%E8%81%9E-%E5%8D%83%E5%84%84%E5%B7%A5%E7%A8%8B%E5%81%B7%E5%B7%A5%E6%B8%9B%E6%96%99-%E6%B6%89%E9%86%AB%E9%99%A2-%E9%AB%94%E8%82%B2%E5%9C%92%E9%89%85%E6%AC%BE-%E5%B0%88%E9%A0%81'>,\n",
       " <Element 'a' href='/01%E5%81%B5%E6%9F%A5/998485/%E5%A0%B1%E9%8C%AF%E5%9C%B0%E5%9D%80%E5%A4%B1%E6%95%91%E4%BA%A1-%E9%96%89%E8%B7%AF%E9%9B%BB%E8%A6%96-%E5%A0%B1%E8%AD%A6%E9%8C%84%E9%9F%B3%E9%82%84%E5%8E%9F%E6%B1%82%E6%95%91%E7%B6%93%E9%81%8E-%E6%82%B2%E5%8A%87%E5%8F%AF%E9%81%BF%E5%85%8D'>,\n",
       " <Element 'a' class=('card-category', 'flex', 'items-center') href='/channel/143/01%E5%81%B5%E6%9F%A5'>,\n",
       " <Element 'a' class=('card-title', 'break-words') href='/01%E5%81%B5%E6%9F%A5/998485/%E5%A0%B1%E9%8C%AF%E5%9C%B0%E5%9D%80%E5%A4%B1%E6%95%91%E4%BA%A1-%E9%96%89%E8%B7%AF%E9%9B%BB%E8%A6%96-%E5%A0%B1%E8%AD%A6%E9%8C%84%E9%9F%B3%E9%82%84%E5%8E%9F%E6%B1%82%E6%95%91%E7%B6%93%E9%81%8E-%E6%82%B2%E5%8A%87%E5%8F%AF%E9%81%BF%E5%85%8D'>,\n",
       " <Element 'a' class=('card-button', 'sm:grow', 'md:grow-0') href='/01%E5%81%B5%E6%9F%A5/998485/%E5%A0%B1%E9%8C%AF%E5%9C%B0%E5%9D%80%E5%A4%B1%E6%95%91%E4%BA%A1-%E9%96%89%E8%B7%AF%E9%9B%BB%E8%A6%96-%E5%A0%B1%E8%AD%A6%E9%8C%84%E9%9F%B3%E9%82%84%E5%8E%9F%E6%B1%82%E6%95%91%E7%B6%93%E9%81%8E-%E6%82%B2%E5%8A%87%E5%8F%AF%E9%81%BF%E5%85%8D'>,\n",
       " <Element 'a' href='/01%E5%81%B5%E6%9F%A5/998569/%E5%A5%B3%E7%AB%A5%E8%BB%8D%E7%B8%BD%E7%9B%A3%E6%8F%9B%E5%B1%86%E9%81%B8%E8%88%89-%E8%A2%AB%E7%AF%A9%E8%B5%B0%E5%80%99%E9%81%B8%E4%BA%BA%E9%96%8B%E8%85%94-%E8%A6%81%E6%B1%82%E6%BE%84%E6%B8%85%E6%B6%89%E9%81%95%E6%9C%83%E7%AB%A0%E7%A8%8B%E5%BA%8F'>,\n",
       " <Element 'a' class=('card-category', 'flex', 'items-center') href='/channel/143/01%E5%81%B5%E6%9F%A5'>,\n",
       " <Element 'a' class=('card-title', 'break-words') href='/01%E5%81%B5%E6%9F%A5/998569/%E5%A5%B3%E7%AB%A5%E8%BB%8D%E7%B8%BD%E7%9B%A3%E6%8F%9B%E5%B1%86%E9%81%B8%E8%88%89-%E8%A2%AB%E7%AF%A9%E8%B5%B0%E5%80%99%E9%81%B8%E4%BA%BA%E9%96%8B%E8%85%94-%E8%A6%81%E6%B1%82%E6%BE%84%E6%B8%85%E6%B6%89%E9%81%95%E6%9C%83%E7%AB%A0%E7%A8%8B%E5%BA%8F'>,\n",
       " <Element 'a' class=('my-2', 'block', 'text-center', 'lg:hidden') href='/channel/143/01%E5%81%B5%E6%9F%A5'>,\n",
       " <Element 'a' class=('hidden', 'lg:inline') href='/channel/413/%E6%B7%B1%E5%BA%A6%E5%A0%B1%E9%81%93'>,\n",
       " <Element 'a' href='/%E6%B7%B1%E5%BA%A6%E5%A0%B1%E9%81%93/1003144/%E8%A7%A3%E6%B1%BA%E5%8A%8F%E6%88%BF-%E8%88%87%E6%9E%97%E7%AD%B1%E9%AD%AF%E5%B0%8D%E8%A9%B1-%E6%95%B4%E6%94%B9%E9%82%84%E6%98%AF%E5%8F%96%E7%B7%A0-%E5%9A%B4%E6%AD%A3%E5%9F%B7%E6%B3%95%E9%82%84%E6%98%AF%E8%B6%95%E4%BA%BA%E7%9E%93%E8%A1%97'>,\n",
       " <Element 'a' class=('card-category', 'flex', 'items-center') href='/channel/413/%E6%B7%B1%E5%BA%A6%E5%A0%B1%E9%81%93'>,\n",
       " <Element 'a' class=('card-title', 'break-words') href='/%E6%B7%B1%E5%BA%A6%E5%A0%B1%E9%81%93/1003144/%E8%A7%A3%E6%B1%BA%E5%8A%8F%E6%88%BF-%E8%88%87%E6%9E%97%E7%AD%B1%E9%AD%AF%E5%B0%8D%E8%A9%B1-%E6%95%B4%E6%94%B9%E9%82%84%E6%98%AF%E5%8F%96%E7%B7%A0-%E5%9A%B4%E6%AD%A3%E5%9F%B7%E6%B3%95%E9%82%84%E6%98%AF%E8%B6%95%E4%BA%BA%E7%9E%93%E8%A1%97'>,\n",
       " <Element 'a' href='/issue/10179/%E6%B2%BB%E6%B8%AF%E6%96%B0%E7%AF%87%E7%AB%A0-%E5%A4%8F%E5%AF%B6%E9%BE%8D%E9%87%8D%E7%94%B3%E5%85%A9%E5%80%8B-%E7%A0%B4-%E6%B2%BB%E6%B8%AF%E8%80%85%E4%B8%8D%E8%83%BD%E5%86%8D%E8%A3%9D%E7%9D%A1'>,\n",
       " <Element 'a' class=('card-category', 'flex', 'items-center') href='/zone/1'>,\n",
       " <Element 'a' class=('card-title', 'break-words') href='/issue/10179/%E6%B2%BB%E6%B8%AF%E6%96%B0%E7%AF%87%E7%AB%A0-%E5%A4%8F%E5%AF%B6%E9%BE%8D%E9%87%8D%E7%94%B3%E5%85%A9%E5%80%8B-%E7%A0%B4-%E6%B2%BB%E6%B8%AF%E8%80%85%E4%B8%8D%E8%83%BD%E5%86%8D%E8%A3%9D%E7%9D%A1'>,\n",
       " <Element 'a' class=('card-button', 'sm:grow', 'md:grow-0') href='/issue/10179/%E6%B2%BB%E6%B8%AF%E6%96%B0%E7%AF%87%E7%AB%A0-%E5%A4%8F%E5%AF%B6%E9%BE%8D%E9%87%8D%E7%94%B3%E5%85%A9%E5%80%8B-%E7%A0%B4-%E6%B2%BB%E6%B8%AF%E8%80%85%E4%B8%8D%E8%83%BD%E5%86%8D%E8%A3%9D%E7%9D%A1'>,\n",
       " <Element 'a' href='/%E5%9C%8B%E9%9A%9B%E5%88%86%E6%9E%90/1005444/%E5%A7%94%E5%85%A7%E7%91%9E%E6%8B%89-80%E6%AD%B2%E8%80%81%E5%A9%86%E5%A9%86%E4%B9%9F%E4%B8%8D%E7%B5%A6%E5%8F%83%E9%81%B8-%E9%A6%AC%E6%9D%9C%E7%BE%85%E5%B0%87%E6%8B%9C%E7%99%BB%E7%8E%A9%E5%BC%84%E6%96%BC%E8%82%A1%E6%8E%8C%E4%B9%8B%E4%B8%8A'>,\n",
       " <Element 'a' class=('card-category', 'flex', 'items-center') href='/channel/407/%E5%9C%8B%E9%9A%9B%E5%88%86%E6%9E%90'>,\n",
       " <Element 'a' class=('card-title', 'break-words') href='/%E5%9C%8B%E9%9A%9B%E5%88%86%E6%9E%90/1005444/%E5%A7%94%E5%85%A7%E7%91%9E%E6%8B%89-80%E6%AD%B2%E8%80%81%E5%A9%86%E5%A9%86%E4%B9%9F%E4%B8%8D%E7%B5%A6%E5%8F%83%E9%81%B8-%E9%A6%AC%E6%9D%9C%E7%BE%85%E5%B0%87%E6%8B%9C%E7%99%BB%E7%8E%A9%E5%BC%84%E6%96%BC%E8%82%A1%E6%8E%8C%E4%B9%8B%E4%B8%8A'>,\n",
       " <Element 'a' href='/%E6%B7%B1%E5%BA%A6%E5%A0%B1%E9%81%93/1005163/daniel-kahneman%E7%9A%84%E6%85%A2%E6%83%B3'>,\n",
       " <Element 'a' class=('card-category', 'flex', 'items-center') href='/channel/413/%E6%B7%B1%E5%BA%A6%E5%A0%B1%E9%81%93'>,\n",
       " <Element 'a' class=('card-title', 'break-words') href='/%E6%B7%B1%E5%BA%A6%E5%A0%B1%E9%81%93/1005163/daniel-kahneman%E7%9A%84%E6%85%A2%E6%83%B3'>,\n",
       " <Element 'a' href='/%E4%B8%AD%E5%9C%8B%E8%A7%80%E5%AF%9F/1004856/%E9%A9%AC%E8%8B%B1%E4%B9%9D%E5%88%B0%E5%BA%95%E6%98%AF%E5%92%8C%E5%B9%B3%E4%BF%A1%E4%BD%BF-%E8%BF%98%E6%98%AF%E5%9C%A8%E6%8E%A9%E6%8A%A4%E6%B0%91%E8%BF%9B%E5%85%9A%E6%90%9E%E5%8F%B0%E7%8B%AC'>,\n",
       " <Element 'a' class=('card-category', 'flex', 'items-center') href='/channel/458/%E4%B8%AD%E5%9C%8B%E8%A7%80%E5%AF%9F'>,\n",
       " <Element 'a' class=('card-title', 'break-words') href='/%E4%B8%AD%E5%9C%8B%E8%A7%80%E5%AF%9F/1004856/%E9%A9%AC%E8%8B%B1%E4%B9%9D%E5%88%B0%E5%BA%95%E6%98%AF%E5%92%8C%E5%B9%B3%E4%BF%A1%E4%BD%BF-%E8%BF%98%E6%98%AF%E5%9C%A8%E6%8E%A9%E6%8A%A4%E6%B0%91%E8%BF%9B%E5%85%9A%E6%90%9E%E5%8F%B0%E7%8B%AC'>,\n",
       " <Element 'a' href='/%E5%9C%8B%E9%9A%9B%E5%88%86%E6%9E%90/1005047/%E7%83%8F%E5%85%8B%E8%98%AD-%E6%98%A5%E5%A4%A9%E9%BB%9E%E7%87%83%E4%BF%84%E7%BE%85%E6%96%AF%E6%96%B0%E6%94%BB%E5%8B%A2-%E7%82%AE%E5%BD%88-%E6%88%B0%E5%A3%95%E8%88%87%E5%8B%95%E5%93%A1%E5%B0%87%E6%B1%BA%E5%AE%9A%E5%8B%9D%E8%B2%A0'>,\n",
       " <Element 'a' class=('card-category', 'flex', 'items-center') href='/channel/407/%E5%9C%8B%E9%9A%9B%E5%88%86%E6%9E%90'>,\n",
       " <Element 'a' class=('card-title', 'break-words') href='/%E5%9C%8B%E9%9A%9B%E5%88%86%E6%9E%90/1005047/%E7%83%8F%E5%85%8B%E8%98%AD-%E6%98%A5%E5%A4%A9%E9%BB%9E%E7%87%83%E4%BF%84%E7%BE%85%E6%96%AF%E6%96%B0%E6%94%BB%E5%8B%A2-%E7%82%AE%E5%BD%88-%E6%88%B0%E5%A3%95%E8%88%87%E5%8B%95%E5%93%A1%E5%B0%87%E6%B1%BA%E5%AE%9A%E5%8B%9D%E8%B2%A0'>,\n",
       " <Element 'a' class=('card-button', 'sm:grow', 'md:grow-0') href='/%E5%9C%8B%E9%9A%9B%E5%88%86%E6%9E%90/1005047/%E7%83%8F%E5%85%8B%E8%98%AD-%E6%98%A5%E5%A4%A9%E9%BB%9E%E7%87%83%E4%BF%84%E7%BE%85%E6%96%AF%E6%96%B0%E6%94%BB%E5%8B%A2-%E7%82%AE%E5%BD%88-%E6%88%B0%E5%A3%95%E8%88%87%E5%8B%95%E5%93%A1%E5%B0%87%E6%B1%BA%E5%AE%9A%E5%8B%9D%E8%B2%A0'>,\n",
       " <Element 'a' class=('my-2', 'block', 'text-center', 'lg:hidden') href='/channel/413/%E6%B7%B1%E5%BA%A6%E5%A0%B1%E9%81%93'>,\n",
       " <Element 'a' class=('hidden', 'lg:inline') href='/channel/403/%E9%A6%99%E6%B8%AF%E7%B6%93%E6%BF%9F'>,\n",
       " <Element 'a' href='/%E8%B2%A1%E7%B6%93%E5%BF%AB%E8%A8%8A/1005371/01%E6%B6%88%E6%81%AF-%E6%9D%9C%E6%8B%9C%E7%8E%8B%E5%AD%90%E9%A6%99%E6%B8%AF%E5%AE%B6%E8%BE%A6%E6%93%AC%E5%BB%B6%E8%87%B35%E6%9C%88%E5%BA%95%E9%96%8B%E5%B9%95-%E7%99%BC%E8%81%B2%E6%98%8E%E6%84%9F%E8%AC%9D%E6%B8%AF%E5%BA%9C%E5%8D%94%E5%8A%A9'>,\n",
       " <Element 'a' class=('card-category', 'flex', 'items-center') href='/channel/396/%E8%B2%A1%E7%B6%93%E5%BF%AB%E8%A8%8A'>,\n",
       " <Element 'a' class=('card-title', 'break-words') href='/%E8%B2%A1%E7%B6%93%E5%BF%AB%E8%A8%8A/1005371/01%E6%B6%88%E6%81%AF-%E6%9D%9C%E6%8B%9C%E7%8E%8B%E5%AD%90%E9%A6%99%E6%B8%AF%E5%AE%B6%E8%BE%A6%E6%93%AC%E5%BB%B6%E8%87%B35%E6%9C%88%E5%BA%95%E9%96%8B%E5%B9%95-%E7%99%BC%E8%81%B2%E6%98%8E%E6%84%9F%E8%AC%9D%E6%B8%AF%E5%BA%9C%E5%8D%94%E5%8A%A9'>,\n",
       " <Element 'a' href='/issue/10214/%E4%B8%AD%E4%BF%A1%E8%B3%87%E6%9C%AC%E5%91%88%E7%8D%BB%E9%A6%99%E6%B8%AF01%E7%B6%93%E6%BF%9F%E9%AB%98%E5%B3%B0%E8%AB%96%E5%A3%872023-%E7%99%BE%E5%B9%B4%E5%A4%A7%E8%AE%8A%E5%B1%80%E4%B8%AD%E7%9A%84%E9%A6%99%E6%B8%AF%E7%B6%93%E6%BF%9F'>,\n",
       " <Element 'a' class=('card-category', 'flex', 'items-center') href='/zone/14'>,\n",
       " <Element 'a' class=('card-title', 'break-words') href='/issue/10214/%E4%B8%AD%E4%BF%A1%E8%B3%87%E6%9C%AC%E5%91%88%E7%8D%BB%E9%A6%99%E6%B8%AF01%E7%B6%93%E6%BF%9F%E9%AB%98%E5%B3%B0%E8%AB%96%E5%A3%872023-%E7%99%BE%E5%B9%B4%E5%A4%A7%E8%AE%8A%E5%B1%80%E4%B8%AD%E7%9A%84%E9%A6%99%E6%B8%AF%E7%B6%93%E6%BF%9F'>,\n",
       " <Element 'a' class=('card-button', 'sm:grow', 'md:grow-0') href='/issue/10214/%E4%B8%AD%E4%BF%A1%E8%B3%87%E6%9C%AC%E5%91%88%E7%8D%BB%E9%A6%99%E6%B8%AF01%E7%B6%93%E6%BF%9F%E9%AB%98%E5%B3%B0%E8%AB%96%E5%A3%872023-%E7%99%BE%E5%B9%B4%E5%A4%A7%E8%AE%8A%E5%B1%80%E4%B8%AD%E7%9A%84%E9%A6%99%E6%B8%AF%E7%B6%93%E6%BF%9F'>,\n",
       " <Element 'a' href='/%E8%B2%A1%E7%B6%93%E5%BF%AB%E8%A8%8A/1005316/%E9%A6%99%E6%B8%AF%E5%AD%90%E5%85%AC%E5%8F%B8%E9%81%AD%E5%8D%97%E9%9F%93%E8%B5%B7%E8%A8%B4%E9%9D%9E%E6%B3%95%E6%B2%BD%E7%A9%BA-%E6%BB%99%E8%B1%90-%E5%81%9A%E6%B3%95%E4%B8%8D%E5%90%88%E7%90%86-%E5%B0%87%E5%85%A8%E5%8A%9B%E6%8A%97%E8%BE%AF'>,\n",
       " <Element 'a' class=('card-category', 'flex', 'items-center') href='/channel/396/%E8%B2%A1%E7%B6%93%E5%BF%AB%E8%A8%8A'>,\n",
       " <Element 'a' class=('card-title', 'break-words') href='/%E8%B2%A1%E7%B6%93%E5%BF%AB%E8%A8%8A/1005316/%E9%A6%99%E6%B8%AF%E5%AD%90%E5%85%AC%E5%8F%B8%E9%81%AD%E5%8D%97%E9%9F%93%E8%B5%B7%E8%A8%B4%E9%9D%9E%E6%B3%95%E6%B2%BD%E7%A9%BA-%E6%BB%99%E8%B1%90-%E5%81%9A%E6%B3%95%E4%B8%8D%E5%90%88%E7%90%86-%E5%B0%87%E5%85%A8%E5%8A%9B%E6%8A%97%E8%BE%AF'>,\n",
       " <Element 'a' href='/%E8%B2%A1%E7%B6%93%E5%BF%AB%E8%A8%8A/1005302/%E4%B8%AD%E9%8A%80%E9%A6%99%E6%B8%AF-%E4%B8%8D%E5%9B%A0%E6%8A%B5%E6%8A%BC%E5%93%81%E5%83%B9%E6%A0%BC%E4%B8%8B%E8%B7%8C%E8%80%8Ccall-loan-%E6%B8%AF%E6%81%AF%E8%AA%BF%E6%95%B4%E6%96%99%E6%BB%AF%E5%BE%8C%E7%BE%8E%E6%81%AF'>,\n",
       " <Element 'a' class=('card-category', 'flex', 'items-center') href='/channel/396/%E8%B2%A1%E7%B6%93%E5%BF%AB%E8%A8%8A'>,\n",
       " <Element 'a' class=('card-title', 'break-words') href='/%E8%B2%A1%E7%B6%93%E5%BF%AB%E8%A8%8A/1005302/%E4%B8%AD%E9%8A%80%E9%A6%99%E6%B8%AF-%E4%B8%8D%E5%9B%A0%E6%8A%B5%E6%8A%BC%E5%93%81%E5%83%B9%E6%A0%BC%E4%B8%8B%E8%B7%8C%E8%80%8Ccall-loan-%E6%B8%AF%E6%81%AF%E8%AA%BF%E6%95%B4%E6%96%99%E6%BB%AF%E5%BE%8C%E7%BE%8E%E6%81%AF'>,\n",
       " <Element 'a' href='/%E8%B2%A1%E7%B6%93%E5%BF%AB%E8%A8%8A/1005228/%E9%95%B7%E5%92%8C%E7%B3%BB%E5%86%8D%E6%9C%89%E9%AB%98%E5%B1%A4%E8%AA%BF%E5%8B%95-%E9%95%B7%E5%AF%A6%E8%91%89%E5%BE%B7%E9%8A%93%E8%AA%BF%E4%BB%BB-%E5%89%AF%E4%B8%BB%E5%B8%AD'>,\n",
       " <Element 'a' class=('card-category', 'flex', 'items-center') href='/channel/396/%E8%B2%A1%E7%B6%93%E5%BF%AB%E8%A8%8A'>,\n",
       " <Element 'a' class=('card-title', 'break-words') href='/%E8%B2%A1%E7%B6%93%E5%BF%AB%E8%A8%8A/1005228/%E9%95%B7%E5%92%8C%E7%B3%BB%E5%86%8D%E6%9C%89%E9%AB%98%E5%B1%A4%E8%AA%BF%E5%8B%95-%E9%95%B7%E5%AF%A6%E8%91%89%E5%BE%B7%E9%8A%93%E8%AA%BF%E4%BB%BB-%E5%89%AF%E4%B8%BB%E5%B8%AD'>,\n",
       " <Element 'a' href='/%E7%A4%BE%E6%9C%83%E6%96%B0%E8%81%9E/1005221/%E9%A6%AE%E7%A5%A5%E8%A8%98%E6%B8%85%E7%9B%A4-%E5%AF%8C%E9%82%A6%E8%BF%BD%E5%85%AC%E5%8F%B8%E5%8F%8A%E7%9B%B8%E9%97%9C%E4%BA%BA%E5%A3%AB%E8%BF%917%E5%8D%83%E8%90%AC%E5%85%83-%E6%B1%82%E4%BA%A4%E5%87%BA%E6%8A%B5%E6%8A%BC%E7%89%A9%E6%A5%AD'>,\n",
       " <Element 'a' class=('card-category', 'flex', 'items-center') href='/channel/2/%E7%A4%BE%E6%9C%83%E6%96%B0%E8%81%9E'>,\n",
       " <Element 'a' class=('card-title', 'break-words') href='/%E7%A4%BE%E6%9C%83%E6%96%B0%E8%81%9E/1005221/%E9%A6%AE%E7%A5%A5%E8%A8%98%E6%B8%85%E7%9B%A4-%E5%AF%8C%E9%82%A6%E8%BF%BD%E5%85%AC%E5%8F%B8%E5%8F%8A%E7%9B%B8%E9%97%9C%E4%BA%BA%E5%A3%AB%E8%BF%917%E5%8D%83%E8%90%AC%E5%85%83-%E6%B1%82%E4%BA%A4%E5%87%BA%E6%8A%B5%E6%8A%BC%E7%89%A9%E6%A5%AD'>,\n",
       " <Element 'a' class=('my-2', 'block', 'text-center', 'lg:hidden') href='/channel/403/%E9%A6%99%E6%B8%AF%E7%B6%93%E6%BF%9F'>,\n",
       " <Element 'a' class=('hidden', 'lg:inline') href='/zone/issue/1'>,\n",
       " <Element 'a' href='/issue/10303/%E8%B2%A1%E6%94%BF%E9%A0%90%E7%AE%97%E6%A1%882024-%E5%B0%88%E9%A0%81-%E5%BA%AB%E6%88%BF%E8%B2%A1%E8%B5%A4%E5%9A%B4%E9%87%8D-%E5%B7%BF%E6%B0%91%E6%B4%BE%E7%B3%96%E9%A1%98%E6%9C%9B%E8%90%BD%E7%A9%BA'>,\n",
       " <Element 'a' class=('card-category', 'flex', 'items-center') href='/zone/1'>,\n",
       " <Element 'a' class=('card-title', 'break-words') href='/issue/10303/%E8%B2%A1%E6%94%BF%E9%A0%90%E7%AE%97%E6%A1%882024-%E5%B0%88%E9%A0%81-%E5%BA%AB%E6%88%BF%E8%B2%A1%E8%B5%A4%E5%9A%B4%E9%87%8D-%E5%B7%BF%E6%B0%91%E6%B4%BE%E7%B3%96%E9%A1%98%E6%9C%9B%E8%90%BD%E7%A9%BA'>,\n",
       " <Element 'a' class=('card-button', 'sm:grow', 'md:grow-0') href='/issue/10303/%E8%B2%A1%E6%94%BF%E9%A0%90%E7%AE%97%E6%A1%882024-%E5%B0%88%E9%A0%81-%E5%BA%AB%E6%88%BF%E8%B2%A1%E8%B5%A4%E5%9A%B4%E9%87%8D-%E5%B7%BF%E6%B0%91%E6%B4%BE%E7%B3%96%E9%A1%98%E6%9C%9B%E8%90%BD%E7%A9%BA'>,\n",
       " <Element 'a' href='/issue/10298/4-22%E7%AE%A1%E5%88%B6%E5%8D%B3%E6%A3%84%E5%A1%91%E8%86%A0-%E5%B0%88%E9%A0%81-%E7%A6%81%E8%86%A0%E7%9A%84%E7%96%91%E6%83%91-%E8%B5%B0%E5%A1%91%E6%9B%BF%E4%BB%A3%E5%93%81-%E6%9C%80%E6%96%B0%E8%B3%87%E8%A8%8A%E5%85%A8%E9%9B%86'>,\n",
       " <Element 'a' class=('card-category', 'flex', 'items-center') href='/zone/1'>,\n",
       " <Element 'a' class=('card-title', 'break-words') href='/issue/10298/4-22%E7%AE%A1%E5%88%B6%E5%8D%B3%E6%A3%84%E5%A1%91%E8%86%A0-%E5%B0%88%E9%A0%81-%E7%A6%81%E8%86%A0%E7%9A%84%E7%96%91%E6%83%91-%E8%B5%B0%E5%A1%91%E6%9B%BF%E4%BB%A3%E5%93%81-%E6%9C%80%E6%96%B0%E8%B3%87%E8%A8%8A%E5%85%A8%E9%9B%86'>,\n",
       " <Element 'a' class=('card-button', 'sm:grow', 'md:grow-0') href='/issue/10298/4-22%E7%AE%A1%E5%88%B6%E5%8D%B3%E6%A3%84%E5%A1%91%E8%86%A0-%E5%B0%88%E9%A0%81-%E7%A6%81%E8%86%A0%E7%9A%84%E7%96%91%E6%83%91-%E8%B5%B0%E5%A1%91%E6%9B%BF%E4%BB%A3%E5%93%81-%E6%9C%80%E6%96%B0%E8%B3%87%E8%A8%8A%E5%85%A8%E9%9B%86'>,\n",
       " <Element 'a' href='/issue/10291/%E6%88%91%E5%80%91%E7%9A%842023-%E5%BD%B1%E9%9F%BF%E4%B8%96%E7%95%8C%E5%92%8C%E9%A6%99%E6%B8%AF%E6%AD%B7%E5%8F%B2%E5%A4%A7%E4%BA%8B-%E5%8D%B1%E6%A9%9F%E5%92%8C%E5%B8%8C%E6%9C%9B%E7%9A%84%E6%8B%94%E6%B2%B3%E5%8B%9D%E8%B2%A0%E6%9C%AA%E5%88%86'>,\n",
       " <Element 'a' class=('card-category', 'flex', 'items-center') href='/zone/1'>,\n",
       " <Element 'a' class=('card-title', 'break-words') href='/issue/10291/%E6%88%91%E5%80%91%E7%9A%842023-%E5%BD%B1%E9%9F%BF%E4%B8%96%E7%95%8C%E5%92%8C%E9%A6%99%E6%B8%AF%E6%AD%B7%E5%8F%B2%E5%A4%A7%E4%BA%8B-%E5%8D%B1%E6%A9%9F%E5%92%8C%E5%B8%8C%E6%9C%9B%E7%9A%84%E6%8B%94%E6%B2%B3%E5%8B%9D%E8%B2%A0%E6%9C%AA%E5%88%86'>,\n",
       " <Element 'a' class=('card-button', 'sm:grow', 'md:grow-0') href='/issue/10291/%E6%88%91%E5%80%91%E7%9A%842023-%E5%BD%B1%E9%9F%BF%E4%B8%96%E7%95%8C%E5%92%8C%E9%A6%99%E6%B8%AF%E6%AD%B7%E5%8F%B2%E5%A4%A7%E4%BA%8B-%E5%8D%B1%E6%A9%9F%E5%92%8C%E5%B8%8C%E6%9C%9B%E7%9A%84%E6%8B%94%E6%B2%B3%E5%8B%9D%E8%B2%A0%E6%9C%AA%E5%88%86'>,\n",
       " <Element 'a' class=('my-2', 'block', 'text-center', 'lg:hidden') href='/zone/issue/1'>,\n",
       " <Element 'a' data-testid='footer-hk01-logo' href='/'>,\n",
       " <Element 'a' data-testid='footer-textLink-hotline' href='/hotline'>,\n",
       " <Element 'a' data-testid='footer-textLink-about' href='/about'>,\n",
       " <Element 'a' data-testid='footer-textLink-career' href='/career'>,\n",
       " <Element 'a' data-testid='footer-textLink-advertise' href='/advertise'>,\n",
       " <Element 'a' data-testid='footer-textLink-app' href='/app'>,\n",
       " <Element 'a' href='https://faq.hk01.com' data-testid='footer-textLink-faq'>,\n",
       " <Element 'a' data-testid='footer-textLink-contact' href='/contact'>,\n",
       " <Element 'a' data-testid='footer-textLink-privacy' href='/privacy'>,\n",
       " <Element 'a' data-testid='footer-textLink-terms' href='/terms'>,\n",
       " <Element 'a' href='https://www.facebook.com/hk01wemedia' target='_blank' rel=('noreferrer',) data-testid='footer-iconLink-facebook'>,\n",
       " <Element 'a' href='https://www.instagram.com/hk01_hk/' target='_blank' rel=('noreferrer',) data-testid='footer-iconLink-instagram'>,\n",
       " <Element 'a' href='https://www.youtube.com/c/香港01official' target='_blank' rel=('noreferrer',) data-testid='footer-iconLink-youtube'>,\n",
       " <Element 'a' href='https://www.linkedin.com/company/hk01/' target='_blank' rel=('noreferrer',) data-testid='footer-iconLink-linkedin'>,\n",
       " <Element 'a' href='https://twitter.com/hk01official' target='_blank' rel=('noreferrer',) data-testid='footer-iconLink-twitter'>]"
      ]
     },
     "execution_count": 8,
     "metadata": {},
     "output_type": "execute_result"
    }
   ],
   "source": [
    "links = r.html.find(\"a\")\n",
    "links"
   ]
  },
  {
   "cell_type": "code",
   "execution_count": 11,
   "id": "685f29aee2e0380e",
   "metadata": {
    "ExecuteTime": {
     "end_time": "2024-03-29T13:10:56.547105Z",
     "start_time": "2024-03-29T13:10:56.543550Z"
    },
    "collapsed": false
   },
   "outputs": [
    {
     "data": {
      "text/plain": [
       "{'href': '/zone/8/%E7%94%9F%E6%B4%BB'}"
      ]
     },
     "execution_count": 11,
     "metadata": {},
     "output_type": "execute_result"
    }
   ],
   "source": [
    "links[4]\n",
    "links[4].html\n",
    "links[4].text\n",
    "links[4].attrs"
   ]
  },
  {
   "cell_type": "code",
   "execution_count": 14,
   "id": "6971f4b2933e2692",
   "metadata": {
    "ExecuteTime": {
     "end_time": "2024-03-29T13:13:11.432184Z",
     "start_time": "2024-03-29T13:13:11.349204Z"
    },
    "collapsed": false
   },
   "outputs": [
    {
     "data": {
      "text/plain": [
       "['天氣', '天氣', '天氣']"
      ]
     },
     "execution_count": 14,
     "metadata": {},
     "output_type": "execute_result"
    }
   ],
   "source": [
    "r.html.find(\"a\", containing=\"天氣\")\n",
    "[tag.text for tag in r.html.find(\"a\", containing=\"天氣\")]"
   ]
  },
  {
   "cell_type": "code",
   "execution_count": 15,
   "id": "b27ba06dbecc1743",
   "metadata": {
    "ExecuteTime": {
     "end_time": "2024-03-29T13:13:43.238503Z",
     "start_time": "2024-03-29T13:13:43.235440Z"
    },
    "collapsed": false
   },
   "outputs": [
    {
     "data": {
      "text/plain": [
       "<Element 'a' href='/'>"
      ]
     },
     "execution_count": 15,
     "metadata": {},
     "output_type": "execute_result"
    }
   ],
   "source": [
    "r.html.find(\"a\", first=True)"
   ]
  },
  {
   "cell_type": "code",
   "execution_count": null,
   "id": "6eae0f42e498ed0e",
   "metadata": {
    "collapsed": false
   },
   "outputs": [],
   "source": [
    "# search for text\n",
    "r.html.search(\"known{}soccer\")\n",
    "r.html.search_all(\"known{}soccer\")"
   ]
  },
  {
   "cell_type": "markdown",
   "id": "a53975879aa5625d",
   "metadata": {
    "collapsed": false
   },
   "source": [
    "### CSS"
   ]
  },
  {
   "cell_type": "code",
   "execution_count": null,
   "id": "aa7433ac72062743",
   "metadata": {
    "collapsed": false
   },
   "outputs": [],
   "source": [
    "r.html.find(\"#Name\")\n",
    "r.html.find(\"#hehe\", first=True)"
   ]
  },
  {
   "cell_type": "code",
   "execution_count": null,
   "id": "925b21ef0074a1f3",
   "metadata": {
    "collapsed": false
   },
   "outputs": [],
   "source": [
    "r.html.find(\".mw-headline\")\n",
    "r.html.find(\".mw-headline.plain-link\") # have both classes"
   ]
  },
  {
   "cell_type": "code",
   "execution_count": null,
   "id": "d385130f45793bf3",
   "metadata": {
    "collapsed": false
   },
   "outputs": [],
   "source": [
    "# other attributes\n",
    "r.html.find(\"[role=note]\")\n",
    "\n",
    "# [attribute*=value] contain substring value\n",
    "r.html.find(\"[href*=wikipedia]\")\n",
    "r.html.find(\"a[href*=wikipedia]\") # anchor tag + having specific href"
   ]
  },
  {
   "cell_type": "code",
   "execution_count": null,
   "id": "c021db6ba24053b",
   "metadata": {
    "collapsed": false
   },
   "outputs": [],
   "source": [
    "r.html.find(\"a[href*=wikipedia][class='hatnode mw-headline']\")"
   ]
  },
  {
   "cell_type": "code",
   "execution_count": null,
   "id": "2d3dbaccb07d79e1",
   "metadata": {
    "collapsed": false
   },
   "outputs": [],
   "source": [
    "# tag hierarchy\n",
    "r.html.find(\"h2 span\") # find all span inside h2\n",
    "r.html.find(\"h2 > p\")  # find direct children"
   ]
  },
  {
   "cell_type": "code",
   "execution_count": 16,
   "id": "d64a22dddc5300bd",
   "metadata": {
    "ExecuteTime": {
     "end_time": "2024-03-29T13:29:21.296012Z",
     "start_time": "2024-03-29T13:29:21.287272Z"
    },
    "collapsed": false
   },
   "outputs": [],
   "source": [
    "session.close()"
   ]
  },
  {
   "cell_type": "markdown",
   "id": "6221f193c861598d",
   "metadata": {
    "collapsed": false
   },
   "source": [
    "### JS"
   ]
  },
  {
   "cell_type": "code",
   "execution_count": null,
   "id": "c9628c8e33cdafea",
   "metadata": {
    "collapsed": false
   },
   "outputs": [],
   "source": [
    "from requests_html import AsyncHTMLSession"
   ]
  },
  {
   "cell_type": "code",
   "execution_count": null,
   "id": "e40ffeb25fa5ac68",
   "metadata": {
    "collapsed": false
   },
   "outputs": [],
   "source": [
    "session = AsyncHTMLSession()\n",
    "r = await session.get(\"https://www.hk01.com/zone/1/%E6%B8%AF%E8%81%9E\")\n",
    "r.status_code"
   ]
  },
  {
   "cell_type": "code",
   "execution_count": null,
   "id": "848ce4eaba7e719b",
   "metadata": {
    "collapsed": false
   },
   "outputs": [],
   "source": [
    "divs = r.html.find(\"div\")\n",
    "links = r.html.find(\"a\")\n",
    "urls = r.html.absolute_links"
   ]
  },
  {
   "cell_type": "code",
   "execution_count": null,
   "id": "2d8231e207f5796e",
   "metadata": {
    "collapsed": false
   },
   "outputs": [],
   "source": [
    "await r.html.arender()"
   ]
  },
  {
   "cell_type": "code",
   "execution_count": null,
   "id": "9dac22e5f8b92177",
   "metadata": {
    "collapsed": false
   },
   "outputs": [],
   "source": [
    "session.close()"
   ]
  },
  {
   "cell_type": "markdown",
   "id": "6b8892a49449bf31",
   "metadata": {
    "collapsed": false
   },
   "source": [
    "# Trial"
   ]
  },
  {
   "cell_type": "markdown",
   "source": [
    "### Step 1 : Get all channels"
   ],
   "metadata": {
    "collapsed": false
   },
   "id": "6812340eec54257f"
  },
  {
   "cell_type": "code",
   "execution_count": 1,
   "id": "92f455ab8888ca27",
   "metadata": {
    "collapsed": false,
    "ExecuteTime": {
     "end_time": "2024-03-30T03:17:24.152437Z",
     "start_time": "2024-03-30T03:17:24.024385Z"
    }
   },
   "outputs": [],
   "source": [
    "from requests_html import HTMLSession"
   ]
  },
  {
   "cell_type": "code",
   "execution_count": 2,
   "id": "347a0909dd8846e5",
   "metadata": {
    "collapsed": false,
    "ExecuteTime": {
     "end_time": "2024-03-30T03:17:27.740210Z",
     "start_time": "2024-03-30T03:17:27.669360Z"
    }
   },
   "outputs": [
    {
     "data": {
      "text/plain": "200"
     },
     "execution_count": 2,
     "metadata": {},
     "output_type": "execute_result"
    }
   ],
   "source": [
    "session = HTMLSession()\n",
    "r = session.get(\"https://www.hk01.com/\")\n",
    "r.status_code"
   ]
  },
  {
   "cell_type": "code",
   "outputs": [
    {
     "data": {
      "text/plain": "<HTML url='https://www.hk01.com/'>"
     },
     "execution_count": 3,
     "metadata": {},
     "output_type": "execute_result"
    }
   ],
   "source": [
    "r.html"
   ],
   "metadata": {
    "collapsed": false,
    "ExecuteTime": {
     "end_time": "2024-03-30T03:17:36.526376Z",
     "start_time": "2024-03-30T03:17:36.514338Z"
    }
   },
   "id": "3de078dd5194335c",
   "execution_count": 3
  },
  {
   "cell_type": "code",
   "outputs": [
    {
     "data": {
      "text/plain": "requests_html.Element"
     },
     "execution_count": 16,
     "metadata": {},
     "output_type": "execute_result"
    }
   ],
   "source": [
    "navbar = r.html.find(\"nav\", first=True)\n",
    "type(navbar)"
   ],
   "metadata": {
    "collapsed": false,
    "ExecuteTime": {
     "end_time": "2024-03-30T03:46:35.647540Z",
     "start_time": "2024-03-30T03:46:35.641535Z"
    }
   },
   "id": "8e22b1d477f4faf4",
   "execution_count": 16
  },
  {
   "cell_type": "code",
   "outputs": [
    {
     "data": {
      "text/plain": "[<Element 'a' href='/'>,\n <Element 'a' href='/zone/1/%E6%B8%AF%E8%81%9E'>,\n <Element 'a' href='/zone/2/%E5%A8%9B%E6%A8%82'>,\n <Element 'a' href='/issue/1014?itm_source=webmenu&itm_medium=web'>,\n <Element 'a' href='/zone/8/%E7%94%9F%E6%B4%BB'>,\n <Element 'a' href='/zone/4/%E5%9C%8B%E9%9A%9B'>,\n <Element 'a' href='/latest'>,\n <Element 'a' href='/hot'>,\n <Element 'a' href='/zone/3/%E9%AB%94%E8%82%B2'>,\n <Element 'a' href='/zone/11/%E7%A7%91%E6%8A%80%E7%8E%A9%E7%89%A9'>,\n <Element 'a' href='/zone/5/%E4%B8%AD%E5%9C%8B'>,\n <Element 'a' href='/zone/14/%E7%B6%93%E6%BF%9F'>,\n <Element 'a' href='/zone/12/%E8%A7%80%E9%BB%9E'>,\n <Element 'a' href='/zone/24/%E5%81%A5%E5%BA%B7'>,\n <Element 'a' href='/zone/19/%E5%A5%BD%E9%A3%9F%E7%8E%A9%E9%A3%9B'>,\n <Element 'a' href='/zone/6/%E5%A5%B3%E7%94%9F'>,\n <Element 'a' href='/zone/7/%E7%86%B1%E8%A9%B1'>,\n <Element 'a' href='/zone/9/%E8%97%9D%E6%96%87%E6%A0%BC%E7%89%A9'>,\n <Element 'a' href='/zone/10/%E7%A4%BE%E5%8D%80'>,\n <Element 'a' href='/zone/23/%E6%95%99%E8%82%B2'>,\n <Element 'a' title='港聞' href='/zone/1/%E6%B8%AF%E8%81%9E'>,\n <Element 'a' title='社會新聞' href='/channel/2/%E7%A4%BE%E6%9C%83%E6%96%B0%E8%81%9E'>,\n <Element 'a' title='突發' href='/channel/6/%E7%AA%81%E7%99%BC'>,\n <Element 'a' title='政情' href='/channel/310/%E6%94%BF%E6%83%85'>,\n <Element 'a' title='偵查' href='/channel/143/01%E5%81%B5%E6%9F%A5'>,\n <Element 'a' title='教育' href='/zone/23/%E6%95%99%E8%82%B2'>,\n <Element 'a' title='新聞影片' href='/01TV'>,\n <Element 'a' title='深度' href='/channel/413/%E6%B7%B1%E5%BA%A6%E5%A0%B1%E9%81%93'>,\n <Element 'a' title='香港經濟' href='/channel/403/%E9%A6%99%E6%B8%AF%E7%B6%93%E6%BF%9F'>,\n <Element 'a' title='天氣' href='/channel/421/%E5%A4%A9%E6%B0%A3'>,\n <Element 'a' title='娛樂' href='/zone/2/%E5%A8%9B%E6%A8%82'>,\n <Element 'a' title='即時娛樂' href='/channel/22/%E5%8D%B3%E6%99%82%E5%A8%9B%E6%A8%82'>,\n <Element 'a' title='電影' href='/channel/66/%E9%9B%BB%E5%BD%B1'>,\n <Element 'a' title='娛樂影片' href='/01TV'>,\n <Element 'a' title='眾樂迷' href='/channel/447/%E7%9C%BE%E6%A8%82%E8%BF%B7'>,\n <Element 'a' title='MIRROR' href='/issue/10126/mirror%E5%8B%95%E6%85%8B%E6%AF%8F%E6%97%A5%E6%9B%B4%E6%96%B0-%E5%A7%9C%E6%BF%A4-anson-lo-edan-ian%E4%BB%8A%E5%A4%A9%E7%99%BC%E7%94%9F%E4%BB%80%E9%BA%BC%E4%BA%8B?itm_source=webmenu&itm_medium=web'>,\n <Element 'a' title='聲夢傳奇' href='/issue/10127/%E8%81%B2%E5%A4%A2%E5%82%B3%E5%A5%87%E7%B2%89%E7%B5%B2%E9%A0%81%EF%BC%9A%E7%82%8E%E6%98%8E%E7%86%B9-%E5%A7%9A%E7%84%AF%E8%8F%B2-%E9%8D%BE%E6%9F%94%E7%BE%8E%E6%AF%8F%E6%97%A5%E8%BF%BD%E8%B9%A4-%E4%B8%8B%E5%AD%A3%E5%A4%A7%E8%B3%BD%E5%8B%95%E6%85%8B?itm_source=webmenu&itm_medium=web'>,\n <Element 'a' title='高清相片下載' href='https://imageservice.hk01.com/celebalbum'>,\n <Element 'a' title='激平酒店' href='/issue/1014?itm_source=webmenu&itm_medium=web'>,\n <Element 'a' title='日本酒店' href='/tag/21462?itm_source=webmenu&itm_medium=web'>,\n <Element 'a' title='澳門香港酒店' href='/tag/28964?itm_source=webmenu&itm_medium=web'>,\n <Element 'a' title='台灣酒店' href='/tag/21847?itm_source=webmenu&itm_medium=web'>,\n <Element 'a' title='深圳酒店' href='/tag/23248?itm_source=webmenu&itm_medium=web'>,\n <Element 'a' title='特價餐飲及門票' href='https://space.hk01.com/?itm_source=webmenu&itm_medium=web'>,\n <Element 'a' title='特價旅遊Sim卡' href='https://01mall.hk01.com/recommend/440/%E5%8D%B3%E6%8F%92%E5%8D%B3%E7%94%A8%EF%BD%9C%E6%95%B8%E6%93%9A%E5%8D%A1?itm_source=webmenu&itm_medium=web'>,\n <Element 'a' title='生活' href='/zone/8/%E7%94%9F%E6%B4%BB'>,\n <Element 'a' title='教煮' href='/channel/38/%E6%95%99%E7%85%AE'>,\n <Element 'a' title='親子' href='/channel/26/%E8%A6%AA%E5%AD%90'>,\n <Element 'a' title='01TV' href='/01TV'>,\n <Element 'a' title='寵物' href='/channel/28/%E5%AF%B5%E7%89%A9'>,\n <Element 'a' title='教育職場' href='/channel/142/%E8%81%B7%E5%A0%B4'>,\n <Element 'a' title='好生活' href='/channel/25/%E5%A5%BD%E7%94%9F%E6%B4%BB'>,\n <Element 'a' title='網購攻略' href='/channel/442/%E7%B6%B2%E8%B3%BC%E6%94%BB%E7%95%A5'>,\n <Element 'a' title='國際' href='/zone/4/%E5%9C%8B%E9%9A%9B'>,\n <Element 'a' title='以巴戰爭' href='/issue/10280?itm_source=webmenu&itm_medium=web'>,\n <Element 'a' title='即時國際' href='/channel/19/%E5%8D%B3%E6%99%82%E5%9C%8B%E9%9A%9B'>,\n <Element 'a' title='環球趣聞' href='/channel/406/%E7%92%B0%E7%90%83%E8%B6%A3%E8%81%9E'>,\n <Element 'a' title='國際分析' href='/channel/407/%E5%9C%8B%E9%9A%9B%E5%88%86%E6%9E%90'>,\n <Element 'a' title='世界專題' href='/channel/405/%E4%B8%96%E7%95%8C%E5%B0%88%E9%A1%8C'>,\n <Element 'a' title='俄烏戰爭' href='/issue/10158/%E7%83%8F%E5%85%8B%E8%98%AD%E6%88%B0%E7%88%AD%EF%BC%9A%E7%BF%92%E8%BF%91%E5%B9%B3%E8%88%87%E6%BE%A4%E9%80%A3%E6%96%AF%E5%9F%BA%E9%80%9A%E8%A9%B1-%E5%8B%B8%E5%92%8C%E4%BF%83%E8%AB%87%E6%99%82%E6%A9%9F%E5%B7%B2%E8%87%B3?itm_source=webmenu&itm_medium=web'>,\n <Element 'a' title='紀實影像' href='/channel/259/%E7%B4%80%E5%AF%A6?itm_source=webmenu&itm_medium=web'>,\n <Element 'a' title='體育' href='/zone/3/%E9%AB%94%E8%82%B2'>,\n <Element 'a' title='即時體育' href='/channel/20/%E5%8D%B3%E6%99%82%E9%AB%94%E8%82%B2'>,\n <Element 'a' title='跑步行山' href='/channel/30/%E8%B7%91%E6%AD%A5'>,\n <Element 'a' title='Jumper' href='/channel/184/Jumper'>,\n <Element 'a' title='武備志' href='/channel/166/%E6%AD%A6%E5%82%99%E5%BF%97'>,\n <Element 'a' title='動感影像' href='/channel/256/%E5%8B%95%E6%84%9F?itm_source=webmenu&itm_medium=web'>,\n <Element 'a' title='科技' href='/zone/11/%E7%A7%91%E6%8A%80%E7%8E%A9%E7%89%A9'>,\n <Element 'a' title='實用教學' href='/channel/445/%E5%AF%A6%E7%94%A8%E6%95%99%E5%AD%B8'>,\n <Element 'a' title='數碼生活' href='/channel/391/%E6%95%B8%E7%A2%BC%E7%94%9F%E6%B4%BB'>,\n <Element 'a' title='遊戲動漫' href='/channel/390/%E9%81%8A%E6%88%B2%E5%8B%95%E6%BC%AB'>,\n <Element 'a' title='網科3.0' href='/channel/479/%E7%B6%B2%E7%A7%913-0'>,\n <Element 'a' title='攝影專區' href='/zone/13/%E5%BD%B1%E5%83%8F?itm_source=webmenu&itm_medium=web'>,\n <Element 'a' title='中國' href='/zone/5/%E4%B8%AD%E5%9C%8B'>,\n <Element 'a' title='即時中國' href='/channel/364/%E5%8D%B3%E6%99%82%E4%B8%AD%E5%9C%8B'>,\n <Element 'a' title='大國小事' href='/channel/366/%E5%A4%A7%E5%9C%8B%E5%B0%8F%E4%BA%8B'>,\n <Element 'a' title='北上廣東' href='/channel/477/%E5%8C%97%E4%B8%8A%E5%BB%A3%E6%9D%B1'>,\n <Element 'a' title='半導體大戰' href='/tag/15912'>,\n <Element 'a' title='藝文中國' href='/channel/369/%E8%97%9D%E6%96%87%E4%B8%AD%E5%9C%8B'>,\n <Element 'a' title='中國觀察' href='/channel/458/%E4%B8%AD%E5%9C%8B%E8%A7%80%E5%AF%9F'>,\n <Element 'a' title='台灣新聞' href='/channel/367/%E5%8F%B0%E7%81%A3%E6%96%B0%E8%81%9E'>,\n <Element 'a' title='經濟' href='/zone/14/%E7%B6%93%E6%BF%9F'>,\n <Element 'a' title='財經快訊' href='/channel/396/%E8%B2%A1%E7%B6%93%E5%BF%AB%E8%A8%8A'>,\n <Element 'a' title='宏觀解讀' href='/channel/398/%E5%AE%8F%E8%A7%80%E8%A7%A3%E8%AE%80'>,\n <Element 'a' title='地產樓市' href='/channel/399/%E5%9C%B0%E7%94%A2%E6%A8%93%E5%B8%82'>,\n <Element 'a' title='專題人訪' href='/channel/400/%E5%B0%88%E9%A1%8C%E4%BA%BA%E8%A8%AA'>,\n <Element 'a' title='觀點' href='/zone/12/%E8%A7%80%E9%BB%9E'>,\n <Element 'a' title='社論' href='/channel/449/%E7%A4%BE%E8%AB%96'>,\n <Element 'a' title='全部' href='/zone/12/%E5%85%A8%E9%83%A8'>,\n <Element 'a' title='01觀點' href='/channel/50/01%E8%A7%80%E9%BB%9E'>,\n <Element 'a' title='01論壇' href='/channel/415/01%E8%AB%96%E5%A3%87'>,\n <Element 'a' title='01專欄' href='/channel/480/01%E5%B0%88%E6%AC%84'>,\n <Element 'a' title='健康' href='/zone/24/%E5%81%A5%E5%BA%B7'>,\n <Element 'a' title='健康Easy' href='/channel/444/%E5%81%A5%E5%BA%B7Easy'>,\n <Element 'a' title='醫師Easy' href='/channel/463/%E9%86%AB%E5%B8%ABEasy'>,\n <Element 'a' title='醫美Easy' href='/channel/464/%E9%86%AB%E7%BE%8EEasy'>,\n <Element 'a' title='體檢優惠攻略' href='/issue/10178?utm_source=webmenu&utm_medium=web'>,\n <Element 'a' title='銀髮族' href='/issue/10139/%E9%8A%80%E9%AB%AE%E6%97%8F%E5%B0%88%E8%BC%AF-%E6%8F%90%E4%BE%9B%E6%A8%82%E9%BD%A1%E5%81%A5%E5%BA%B7%E4%BF%9D%E9%A4%8A%E6%96%B9%E6%A1%88-%E5%88%86%E4%BA%AB%E9%80%80%E4%BC%91%E7%90%86%E8%B2%A1%E5%AE%89%E8%80%81%E6%9C%80%E6%96%B0%E8%B3%87%E8%A8%8A?utm_source=webmenu&utm_medium=web'>,\n <Element 'a' title='好食玩飛' href='/zone/19/%E5%A5%BD%E9%A3%9F%E7%8E%A9%E9%A3%9B'>,\n <Element 'a' title='食玩買' href='/channel/446/%E9%A3%9F%E7%8E%A9%E8%B2%B7'>,\n <Element 'a' title='旅遊' href='/channel/411/%E6%97%85%E9%81%8A'>,\n <Element 'a' title='賞櫻攻略' href='/issue/948?utm_source=webmenu&utm_medium=web'>,\n <Element 'a' title='旅遊熱' href='/issue/10246?utm_source=webmenu&utm_medium=web'>,\n <Element 'a' title='玩樂影片' href='/01TV'>,\n <Element 'a' title='活動好去處' href='/channel/178/01%E6%B4%BB%E5%8B%95?utm_source=webmenu&utm_medium=web'>,\n <Element 'a' title='女生' href='/zone/6/%E5%A5%B3%E7%94%9F'>,\n <Element 'a' title='知性女生' href='/channel/388/%E7%9F%A5%E6%80%A7%E5%A5%B3%E7%94%9F'>,\n <Element 'a' title='穿搭筆記' href='/channel/387/%E7%A9%BF%E6%90%AD%E7%AD%86%E8%A8%98'>,\n <Element 'a' title='談情說性' href='/channel/389/%E8%AB%87%E6%83%85%E8%AA%AA%E6%80%A7'>,\n <Element 'a' title='美容手帳' href='/channel/443/%E7%BE%8E%E5%AE%B9%E6%89%8B%E5%B8%B3'>,\n <Element 'a' title='熱話' href='/zone/7/%E7%86%B1%E8%A9%B1'>,\n <Element 'a' title='熱爆話題' href='/channel/7/%E7%86%B1%E7%88%86%E8%A9%B1%E9%A1%8C'>,\n <Element 'a' title='開罐' href='/channel/317/%E9%96%8B%E7%BD%90'>,\n <Element 'a' title='研數所' href='/channel/460'>,\n <Element 'a' title='影像熱話' href='/channel/260/%E5%BD%B1%E5%83%8F%E7%86%B1%E8%A9%B1?utm_source=webmenu&utm_medium=web'>,\n <Element 'a' title='藝文格物' href='/zone/9/%E8%97%9D%E6%96%87%E6%A0%BC%E7%89%A9'>,\n <Element 'a' title='一物' href='/channel/182/%E4%B8%80%E7%89%A9'>,\n <Element 'a' title='形而' href='https://mensluxe.hk01.com/'>,\n <Element 'a' title='藝文' href='/channel/206/%E8%97%9D%E6%96%87'>,\n <Element 'a' title='哲學' href='/channel/61/%E5%93%B2%E5%AD%B8'>,\n <Element 'a' title='第二身' href='/channel/323/%E7%AC%AC%E4%BA%8C%E8%BA%AB'>,\n <Element 'a' title='扭耳仔' href='/channel/183/%E6%89%AD%E8%80%B3%E4%BB%94'>,\n <Element 'a' title='攝影界' href='/channel/348/%E6%94%9D%E5%BD%B1%E7%95%8C?utm_source=webmenu&utm_medium=web'>,\n <Element 'a' title='社區' href='/zone/10/%E7%A4%BE%E5%8D%80'>,\n <Element 'a' title='社區專題' href='/channel/23/%E7%A4%BE%E5%8D%80%E5%B0%88%E9%A1%8C'>,\n <Element 'a' title='18區新聞' href='/channel/422/18%E5%8D%80%E6%96%B0%E8%81%9E'>,\n <Element 'a' title='隱形香港' href='/channel/293/%E9%9A%B1%E5%BD%A2%E9%A6%99%E6%B8%AF'>,\n <Element 'a' title='紀實影像' href='/channel/259/%E7%B4%80%E5%AF%A6?itm_source=webmenu&itm_medium=web'>,\n <Element 'a' title='教育' href='/zone/23/%E6%95%99%E8%82%B2'>,\n <Element 'a' title='中小學校園' href='/channel/468/%E4%B8%AD%E5%B0%8F%E5%AD%B8%E6%A0%A1%E5%9C%92'>,\n <Element 'a' title='教育發展' href='/channel/474/%E6%95%99%E8%82%B2%E7%99%BC%E5%B1%95'>,\n <Element 'a' title='DSE專區' href='/channel/473/DSE%E5%B0%88%E5%8D%80'>,\n <Element 'a' title='專上教育' href='/channel/469/%E5%B0%88%E4%B8%8A%E6%95%99%E8%82%B2'>,\n <Element 'a' title='海外升學' href='/channel/475/%E6%B5%B7%E5%A4%96%E5%8D%87%E5%AD%B8'>,\n <Element 'a' title='深造進修' href='/channel/476/%E6%B7%B1%E9%80%A0%E9%80%B2%E4%BF%AE'>,\n <Element 'a' href='https://www.hk01.com/zone/17/會員專區'>,\n <Element 'a' href='https://space.hk01.com?itm_source=svc_ent_web&itm_medium=referral&itm_content=01space'>,\n <Element 'a' href='https://01mall.hk01.com?itm_source=svc_ent_web&itm_medium=referral&itm_content=hkshopnet'>,\n <Element 'a' href='https://heart.hk01.com?itm_source=svc_ent_web&itm_medium=referral&itm_content=01heart'>,\n <Element 'a' href='https://eceasybook.com?itm_source=svc_ent_web&itm_medium=referral&itm_content=eceasybook'>,\n <Element 'a' href='https://01market.hk01.com?itm_source=svc_ent_web&itm_medium=Referral&itm_content=MKT'>,\n <Element 'a' href='https://www.01icon.hk?itm_source=svc_ent_web&itm_medium=Referral'>,\n <Element 'a' href='https://www.hk01.com/%E6%95%99%E7%85%AE/393455?itm_source=svc_ent_web&itm_medium=Referral&itm_campaign=recipedirectory'>,\n <Element 'a' href='/hotline'>,\n <Element 'a' href='/about'>,\n <Element 'a' href='/career'>,\n <Element 'a' href='/advertise'>,\n <Element 'a' href='/app'>,\n <Element 'a' href='https://faq.hk01.com'>,\n <Element 'a' href='/contact'>,\n <Element 'a' href='/privacy'>,\n <Element 'a' href='/terms'>,\n <Element 'a' href='https://www.facebook.com/hk01wemedia' target='_blank' rel=('noreferrer',)>,\n <Element 'a' href='https://www.instagram.com/hk01_hk/' target='_blank' rel=('noreferrer',)>,\n <Element 'a' href='https://www.youtube.com/c/香港01official' target='_blank' rel=('noreferrer',)>,\n <Element 'a' href='https://www.linkedin.com/company/hk01/' target='_blank' rel=('noreferrer',)>,\n <Element 'a' href='https://twitter.com/hk01official' target='_blank' rel=('noreferrer',)>]"
     },
     "execution_count": 17,
     "metadata": {},
     "output_type": "execute_result"
    }
   ],
   "source": [
    "navbar.find(\"a\")"
   ],
   "metadata": {
    "collapsed": false,
    "ExecuteTime": {
     "end_time": "2024-03-30T03:46:37.874423Z",
     "start_time": "2024-03-30T03:46:37.855009Z"
    }
   },
   "id": "96a2469019527f56",
   "execution_count": 17
  },
  {
   "cell_type": "code",
   "outputs": [
    {
     "data": {
      "text/plain": "['https://www.hk01.com//channel/2/%E7%A4%BE%E6%9C%83%E6%96%B0%E8%81%9E',\n 'https://www.hk01.com//channel/6/%E7%AA%81%E7%99%BC',\n 'https://www.hk01.com//channel/310/%E6%94%BF%E6%83%85',\n 'https://www.hk01.com//channel/143/01%E5%81%B5%E6%9F%A5',\n 'https://www.hk01.com//channel/413/%E6%B7%B1%E5%BA%A6%E5%A0%B1%E9%81%93',\n 'https://www.hk01.com//channel/403/%E9%A6%99%E6%B8%AF%E7%B6%93%E6%BF%9F',\n 'https://www.hk01.com//channel/421/%E5%A4%A9%E6%B0%A3',\n 'https://www.hk01.com//channel/22/%E5%8D%B3%E6%99%82%E5%A8%9B%E6%A8%82',\n 'https://www.hk01.com//channel/66/%E9%9B%BB%E5%BD%B1',\n 'https://www.hk01.com//channel/447/%E7%9C%BE%E6%A8%82%E8%BF%B7',\n 'https://www.hk01.com//channel/38/%E6%95%99%E7%85%AE',\n 'https://www.hk01.com//channel/26/%E8%A6%AA%E5%AD%90',\n 'https://www.hk01.com//channel/28/%E5%AF%B5%E7%89%A9',\n 'https://www.hk01.com//channel/142/%E8%81%B7%E5%A0%B4',\n 'https://www.hk01.com//channel/25/%E5%A5%BD%E7%94%9F%E6%B4%BB',\n 'https://www.hk01.com//channel/442/%E7%B6%B2%E8%B3%BC%E6%94%BB%E7%95%A5',\n 'https://www.hk01.com//channel/19/%E5%8D%B3%E6%99%82%E5%9C%8B%E9%9A%9B',\n 'https://www.hk01.com//channel/406/%E7%92%B0%E7%90%83%E8%B6%A3%E8%81%9E',\n 'https://www.hk01.com//channel/407/%E5%9C%8B%E9%9A%9B%E5%88%86%E6%9E%90',\n 'https://www.hk01.com//channel/405/%E4%B8%96%E7%95%8C%E5%B0%88%E9%A1%8C',\n 'https://www.hk01.com//channel/259/%E7%B4%80%E5%AF%A6?itm_source=webmenu&itm_medium=web',\n 'https://www.hk01.com//channel/20/%E5%8D%B3%E6%99%82%E9%AB%94%E8%82%B2',\n 'https://www.hk01.com//channel/30/%E8%B7%91%E6%AD%A5',\n 'https://www.hk01.com//channel/184/Jumper',\n 'https://www.hk01.com//channel/166/%E6%AD%A6%E5%82%99%E5%BF%97',\n 'https://www.hk01.com//channel/256/%E5%8B%95%E6%84%9F?itm_source=webmenu&itm_medium=web',\n 'https://www.hk01.com//channel/445/%E5%AF%A6%E7%94%A8%E6%95%99%E5%AD%B8',\n 'https://www.hk01.com//channel/391/%E6%95%B8%E7%A2%BC%E7%94%9F%E6%B4%BB',\n 'https://www.hk01.com//channel/390/%E9%81%8A%E6%88%B2%E5%8B%95%E6%BC%AB',\n 'https://www.hk01.com//channel/479/%E7%B6%B2%E7%A7%913-0',\n 'https://www.hk01.com//channel/364/%E5%8D%B3%E6%99%82%E4%B8%AD%E5%9C%8B',\n 'https://www.hk01.com//channel/366/%E5%A4%A7%E5%9C%8B%E5%B0%8F%E4%BA%8B',\n 'https://www.hk01.com//channel/477/%E5%8C%97%E4%B8%8A%E5%BB%A3%E6%9D%B1',\n 'https://www.hk01.com//channel/369/%E8%97%9D%E6%96%87%E4%B8%AD%E5%9C%8B',\n 'https://www.hk01.com//channel/458/%E4%B8%AD%E5%9C%8B%E8%A7%80%E5%AF%9F',\n 'https://www.hk01.com//channel/367/%E5%8F%B0%E7%81%A3%E6%96%B0%E8%81%9E',\n 'https://www.hk01.com//channel/396/%E8%B2%A1%E7%B6%93%E5%BF%AB%E8%A8%8A',\n 'https://www.hk01.com//channel/398/%E5%AE%8F%E8%A7%80%E8%A7%A3%E8%AE%80',\n 'https://www.hk01.com//channel/399/%E5%9C%B0%E7%94%A2%E6%A8%93%E5%B8%82',\n 'https://www.hk01.com//channel/400/%E5%B0%88%E9%A1%8C%E4%BA%BA%E8%A8%AA',\n 'https://www.hk01.com//channel/449/%E7%A4%BE%E8%AB%96',\n 'https://www.hk01.com//channel/50/01%E8%A7%80%E9%BB%9E',\n 'https://www.hk01.com//channel/415/01%E8%AB%96%E5%A3%87',\n 'https://www.hk01.com//channel/480/01%E5%B0%88%E6%AC%84',\n 'https://www.hk01.com//channel/444/%E5%81%A5%E5%BA%B7Easy',\n 'https://www.hk01.com//channel/463/%E9%86%AB%E5%B8%ABEasy',\n 'https://www.hk01.com//channel/464/%E9%86%AB%E7%BE%8EEasy',\n 'https://www.hk01.com//channel/446/%E9%A3%9F%E7%8E%A9%E8%B2%B7',\n 'https://www.hk01.com//channel/411/%E6%97%85%E9%81%8A',\n 'https://www.hk01.com//channel/178/01%E6%B4%BB%E5%8B%95?utm_source=webmenu&utm_medium=web',\n 'https://www.hk01.com//channel/388/%E7%9F%A5%E6%80%A7%E5%A5%B3%E7%94%9F',\n 'https://www.hk01.com//channel/387/%E7%A9%BF%E6%90%AD%E7%AD%86%E8%A8%98',\n 'https://www.hk01.com//channel/389/%E8%AB%87%E6%83%85%E8%AA%AA%E6%80%A7',\n 'https://www.hk01.com//channel/443/%E7%BE%8E%E5%AE%B9%E6%89%8B%E5%B8%B3',\n 'https://www.hk01.com//channel/7/%E7%86%B1%E7%88%86%E8%A9%B1%E9%A1%8C',\n 'https://www.hk01.com//channel/317/%E9%96%8B%E7%BD%90',\n 'https://www.hk01.com//channel/460',\n 'https://www.hk01.com//channel/260/%E5%BD%B1%E5%83%8F%E7%86%B1%E8%A9%B1?utm_source=webmenu&utm_medium=web',\n 'https://www.hk01.com//channel/182/%E4%B8%80%E7%89%A9',\n 'https://www.hk01.com//channel/206/%E8%97%9D%E6%96%87',\n 'https://www.hk01.com//channel/61/%E5%93%B2%E5%AD%B8',\n 'https://www.hk01.com//channel/323/%E7%AC%AC%E4%BA%8C%E8%BA%AB',\n 'https://www.hk01.com//channel/183/%E6%89%AD%E8%80%B3%E4%BB%94',\n 'https://www.hk01.com//channel/348/%E6%94%9D%E5%BD%B1%E7%95%8C?utm_source=webmenu&utm_medium=web',\n 'https://www.hk01.com//channel/23/%E7%A4%BE%E5%8D%80%E5%B0%88%E9%A1%8C',\n 'https://www.hk01.com//channel/422/18%E5%8D%80%E6%96%B0%E8%81%9E',\n 'https://www.hk01.com//channel/293/%E9%9A%B1%E5%BD%A2%E9%A6%99%E6%B8%AF',\n 'https://www.hk01.com//channel/259/%E7%B4%80%E5%AF%A6?itm_source=webmenu&itm_medium=web',\n 'https://www.hk01.com//channel/468/%E4%B8%AD%E5%B0%8F%E5%AD%B8%E6%A0%A1%E5%9C%92',\n 'https://www.hk01.com//channel/474/%E6%95%99%E8%82%B2%E7%99%BC%E5%B1%95',\n 'https://www.hk01.com//channel/473/DSE%E5%B0%88%E5%8D%80',\n 'https://www.hk01.com//channel/469/%E5%B0%88%E4%B8%8A%E6%95%99%E8%82%B2',\n 'https://www.hk01.com//channel/475/%E6%B5%B7%E5%A4%96%E5%8D%87%E5%AD%B8',\n 'https://www.hk01.com//channel/476/%E6%B7%B1%E9%80%A0%E9%80%B2%E4%BF%AE']"
     },
     "execution_count": 23,
     "metadata": {},
     "output_type": "execute_result"
    }
   ],
   "source": [
    "[a.base_url + a.attrs.get(\"href\") for a in navbar.find(\"a\") if \"/channel/\" in a.attrs.get(\"href\")]"
   ],
   "metadata": {
    "collapsed": false,
    "ExecuteTime": {
     "end_time": "2024-03-30T03:54:25.600637Z",
     "start_time": "2024-03-30T03:54:25.589580Z"
    }
   },
   "id": "810eda9b50522279",
   "execution_count": 23
  },
  {
   "cell_type": "code",
   "outputs": [],
   "source": [
    "session.close()"
   ],
   "metadata": {
    "collapsed": false,
    "ExecuteTime": {
     "end_time": "2024-03-30T04:14:08.191615Z",
     "start_time": "2024-03-30T04:14:08.187074Z"
    }
   },
   "id": "b9a00d50faadd84c",
   "execution_count": 28
  },
  {
   "cell_type": "markdown",
   "source": [
    "### Step 2 : Get all news"
   ],
   "metadata": {
    "collapsed": false
   },
   "id": "b7bbce3e23d076f6"
  },
  {
   "cell_type": "code",
   "outputs": [
    {
     "data": {
      "text/plain": "200"
     },
     "execution_count": 1,
     "metadata": {},
     "output_type": "execute_result"
    }
   ],
   "source": [
    "from requests_html import HTMLSession\n",
    "session = HTMLSession()\n",
    "r1 = session.get(\"https://www.hk01.com//channel/2/%E7%A4%BE%E6%9C%83%E6%96%B0%E8%81%9E\")\n",
    "r1.status_code"
   ],
   "metadata": {
    "collapsed": false,
    "ExecuteTime": {
     "end_time": "2024-03-30T06:51:00.644183Z",
     "start_time": "2024-03-30T06:51:00.345983Z"
    }
   },
   "id": "3b00d83b92e90bcf",
   "execution_count": 1
  },
  {
   "cell_type": "code",
   "outputs": [
    {
     "ename": "RuntimeError",
     "evalue": "Cannot use HTMLSession within an existing event loop. Use AsyncHTMLSession instead.",
     "output_type": "error",
     "traceback": [
      "\u001B[0;31m---------------------------------------------------------------------------\u001B[0m",
      "\u001B[0;31mRuntimeError\u001B[0m                              Traceback (most recent call last)",
      "Cell \u001B[0;32mIn[39], line 2\u001B[0m\n\u001B[1;32m      1\u001B[0m r1\u001B[38;5;241m.\u001B[39mhtml\n\u001B[0;32m----> 2\u001B[0m \u001B[43mr1\u001B[49m\u001B[38;5;241;43m.\u001B[39;49m\u001B[43mhtml\u001B[49m\u001B[38;5;241;43m.\u001B[39;49m\u001B[43mrender\u001B[49m\u001B[43m(\u001B[49m\u001B[43m)\u001B[49m\n",
      "File \u001B[0;32m~/miniconda3/envs/comp7705/lib/python3.9/site-packages/requests_html.py:586\u001B[0m, in \u001B[0;36mHTML.render\u001B[0;34m(self, retries, script, wait, scrolldown, sleep, reload, timeout, keep_page)\u001B[0m\n\u001B[1;32m    541\u001B[0m \u001B[38;5;28;01mdef\u001B[39;00m \u001B[38;5;21mrender\u001B[39m(\u001B[38;5;28mself\u001B[39m, retries: \u001B[38;5;28mint\u001B[39m \u001B[38;5;241m=\u001B[39m \u001B[38;5;241m8\u001B[39m, script: \u001B[38;5;28mstr\u001B[39m \u001B[38;5;241m=\u001B[39m \u001B[38;5;28;01mNone\u001B[39;00m, wait: \u001B[38;5;28mfloat\u001B[39m \u001B[38;5;241m=\u001B[39m \u001B[38;5;241m0.2\u001B[39m, scrolldown\u001B[38;5;241m=\u001B[39m\u001B[38;5;28;01mFalse\u001B[39;00m, sleep: \u001B[38;5;28mint\u001B[39m \u001B[38;5;241m=\u001B[39m \u001B[38;5;241m0\u001B[39m, reload: \u001B[38;5;28mbool\u001B[39m \u001B[38;5;241m=\u001B[39m \u001B[38;5;28;01mTrue\u001B[39;00m, timeout: Union[\u001B[38;5;28mfloat\u001B[39m, \u001B[38;5;28mint\u001B[39m] \u001B[38;5;241m=\u001B[39m \u001B[38;5;241m8.0\u001B[39m, keep_page: \u001B[38;5;28mbool\u001B[39m \u001B[38;5;241m=\u001B[39m \u001B[38;5;28;01mFalse\u001B[39;00m):\n\u001B[1;32m    542\u001B[0m \u001B[38;5;250m    \u001B[39m\u001B[38;5;124;03m\"\"\"Reloads the response in Chromium, and replaces HTML content\u001B[39;00m\n\u001B[1;32m    543\u001B[0m \u001B[38;5;124;03m    with an updated version, with JavaScript executed.\u001B[39;00m\n\u001B[1;32m    544\u001B[0m \n\u001B[0;32m   (...)\u001B[0m\n\u001B[1;32m    583\u001B[0m \u001B[38;5;124;03m    Chromium into your home directory (``~/.pyppeteer``).\u001B[39;00m\n\u001B[1;32m    584\u001B[0m \u001B[38;5;124;03m    \"\"\"\u001B[39;00m\n\u001B[0;32m--> 586\u001B[0m     \u001B[38;5;28mself\u001B[39m\u001B[38;5;241m.\u001B[39mbrowser \u001B[38;5;241m=\u001B[39m \u001B[38;5;28;43mself\u001B[39;49m\u001B[38;5;241;43m.\u001B[39;49m\u001B[43msession\u001B[49m\u001B[38;5;241;43m.\u001B[39;49m\u001B[43mbrowser\u001B[49m  \u001B[38;5;66;03m# Automatically create a event loop and browser\u001B[39;00m\n\u001B[1;32m    587\u001B[0m     content \u001B[38;5;241m=\u001B[39m \u001B[38;5;28;01mNone\u001B[39;00m\n\u001B[1;32m    589\u001B[0m     \u001B[38;5;66;03m# Automatically set Reload to False, if example URL is being used.\u001B[39;00m\n",
      "File \u001B[0;32m~/miniconda3/envs/comp7705/lib/python3.9/site-packages/requests_html.py:729\u001B[0m, in \u001B[0;36mHTMLSession.browser\u001B[0;34m(self)\u001B[0m\n\u001B[1;32m    727\u001B[0m     \u001B[38;5;28mself\u001B[39m\u001B[38;5;241m.\u001B[39mloop \u001B[38;5;241m=\u001B[39m asyncio\u001B[38;5;241m.\u001B[39mget_event_loop()\n\u001B[1;32m    728\u001B[0m     \u001B[38;5;28;01mif\u001B[39;00m \u001B[38;5;28mself\u001B[39m\u001B[38;5;241m.\u001B[39mloop\u001B[38;5;241m.\u001B[39mis_running():\n\u001B[0;32m--> 729\u001B[0m         \u001B[38;5;28;01mraise\u001B[39;00m \u001B[38;5;167;01mRuntimeError\u001B[39;00m(\u001B[38;5;124m\"\u001B[39m\u001B[38;5;124mCannot use HTMLSession within an existing event loop. Use AsyncHTMLSession instead.\u001B[39m\u001B[38;5;124m\"\u001B[39m)\n\u001B[1;32m    730\u001B[0m     \u001B[38;5;28mself\u001B[39m\u001B[38;5;241m.\u001B[39m_browser \u001B[38;5;241m=\u001B[39m \u001B[38;5;28mself\u001B[39m\u001B[38;5;241m.\u001B[39mloop\u001B[38;5;241m.\u001B[39mrun_until_complete(\u001B[38;5;28msuper\u001B[39m()\u001B[38;5;241m.\u001B[39mbrowser)\n\u001B[1;32m    731\u001B[0m \u001B[38;5;28;01mreturn\u001B[39;00m \u001B[38;5;28mself\u001B[39m\u001B[38;5;241m.\u001B[39m_browser\n",
      "\u001B[0;31mRuntimeError\u001B[0m: Cannot use HTMLSession within an existing event loop. Use AsyncHTMLSession instead."
     ]
    }
   ],
   "source": [
    "r1.html"
   ],
   "metadata": {
    "collapsed": false,
    "ExecuteTime": {
     "end_time": "2024-03-30T07:20:41.545415Z",
     "start_time": "2024-03-30T07:20:41.484221Z"
    }
   },
   "id": "27a2b65ba7de30ea",
   "execution_count": 39
  },
  {
   "cell_type": "code",
   "outputs": [
    {
     "data": {
      "text/plain": "1"
     },
     "execution_count": 14,
     "metadata": {},
     "output_type": "execute_result"
    }
   ],
   "source": [
    "cards = r1.html.find(\".infinite-scroll\")\n",
    "len(cards)"
   ],
   "metadata": {
    "collapsed": false,
    "ExecuteTime": {
     "end_time": "2024-03-30T06:56:09.022333Z",
     "start_time": "2024-03-30T06:56:09.018357Z"
    }
   },
   "id": "bc9a999b57be7109",
   "execution_count": 14
  },
  {
   "cell_type": "code",
   "outputs": [
    {
     "data": {
      "text/plain": "'<div class=\"infinite-scroll w-full\"><div class=\"Box-v2-cdGtvJ iYsdmq section-display--grid-3-2-infinite scroll-helper--grid-32-infinite-display\" data-scroll-helper-class=\"scroll-helper--grid-32-infinite-display\"/><div class=\"Box-v2-cdGtvJ eoMZVt\"><div class=\"Box-v2-cdGtvJ kEzpue sc-1txa9fi-0 iEQgZe sc-15zbnp3-0 sc-1eac1me-0 glcGgi oqZcT\"><svg xmlns=\"http://www.w3.org/2000/svg\" viewbox=\"0 0 16 16\"><path d=\"M12.58 2.23a6.41 6.41 0 012.072 1.92c1.01 1.469 1.465 3.083 1.322 4.848-.118 1.46-.619 2.791-1.535 3.953-1.278 1.62-2.976 2.563-5.042 2.934-3.388.608-7.37-1.224-8.811-4.902C.145 9.856-.07 8.689.021 7.485.286 3.967 2.809 1.225 6.018.318A8.543 8.543 0 018.292 0c.515-.004.943.372.96.845.018.507-.375.924-.911.936-.909.022-1.803.118-2.65.458-2.164.87-3.595 2.419-4.117 4.618-.956 4.03 1.737 7.444 5.37 8.186 2.138.437 4.09.011 5.831-1.273 1.325-.977 2.222-2.265 2.6-3.83.725-2.994-.147-5.511-2.552-7.519-.08-.066-.162-.128-.243-.191\"/></svg></div></div></div>'"
     },
     "execution_count": 21,
     "metadata": {},
     "output_type": "execute_result"
    }
   ],
   "source": [
    "card = cards[0]\n",
    "card.html"
   ],
   "metadata": {
    "collapsed": false,
    "ExecuteTime": {
     "end_time": "2024-03-30T06:58:16.874334Z",
     "start_time": "2024-03-30T06:58:16.871423Z"
    }
   },
   "id": "bb39b70a3585e61",
   "execution_count": 21
  },
  {
   "cell_type": "code",
   "outputs": [
    {
     "data": {
      "text/plain": "[<Element 'a' href='/%E7%A4%BE%E6%9C%83%E6%96%B0%E8%81%9E/1005551/%E8%91%B5%E8%8A%B3%E7%89%9B%E8%A7%92%E4%B8%80%E5%BC%B5%E5%96%AE4-7%E8%90%AC-%E8%80%81%E9%97%86%E9%BB%83%E5%82%91%E9%BE%8D-%E6%B6%88%E8%B2%BB%E5%AF%92%E5%86%AC%E4%B8%AD-%E7%B0%A1%E7%9B%B4%E4%BF%82%E5%86%8D%E7%94%9F%E7%88%B6%E6%AF%8D'>,\n <Element 'a' class=('card-category', 'flex', 'items-center') href='/channel/2/%E7%A4%BE%E6%9C%83%E6%96%B0%E8%81%9E'>,\n <Element 'a' class=('card-title', 'break-words') href='/%E7%A4%BE%E6%9C%83%E6%96%B0%E8%81%9E/1005551/%E8%91%B5%E8%8A%B3%E7%89%9B%E8%A7%92%E4%B8%80%E5%BC%B5%E5%96%AE4-7%E8%90%AC-%E8%80%81%E9%97%86%E9%BB%83%E5%82%91%E9%BE%8D-%E6%B6%88%E8%B2%BB%E5%AF%92%E5%86%AC%E4%B8%AD-%E7%B0%A1%E7%9B%B4%E4%BF%82%E5%86%8D%E7%94%9F%E7%88%B6%E6%AF%8D'>]"
     },
     "execution_count": 25,
     "metadata": {},
     "output_type": "execute_result"
    }
   ],
   "source": [
    "r1.html.find(\".content-card\")[0].find(\"a\", href=re.compile(\"^/channel\"))"
   ],
   "metadata": {
    "collapsed": false,
    "ExecuteTime": {
     "end_time": "2024-03-30T07:00:56.962107Z",
     "start_time": "2024-03-30T07:00:56.957588Z"
    }
   },
   "id": "cb4fe6f0975b17e2",
   "execution_count": 25
  },
  {
   "cell_type": "code",
   "outputs": [],
   "source": [],
   "metadata": {
    "collapsed": false
   },
   "id": "b9387318177e28fe"
  },
  {
   "cell_type": "code",
   "outputs": [],
   "source": [],
   "metadata": {
    "collapsed": false
   },
   "id": "a96eb03a169199dd"
  },
  {
   "cell_type": "code",
   "outputs": [],
   "source": [
    "session.close()"
   ],
   "metadata": {
    "collapsed": false,
    "ExecuteTime": {
     "end_time": "2024-03-30T07:04:15.435491Z",
     "start_time": "2024-03-30T07:04:15.431011Z"
    }
   },
   "id": "6c7a7abd211e722e",
   "execution_count": 26
  },
  {
   "cell_type": "code",
   "outputs": [],
   "source": [],
   "metadata": {
    "collapsed": false
   },
   "id": "3bb240a9c6cededd"
  },
  {
   "cell_type": "code",
   "outputs": [
    {
     "name": "stderr",
     "output_type": "stream",
     "text": [
      "/Users/louischiu/miniconda3/envs/comp7705/lib/python3.9/site-packages/requests/__init__.py:78: RequestsDependencyWarning: urllib3 (1.26.18) or chardet (3.0.4) doesn't match a supported version!\n",
      "  warnings.warn(\"urllib3 ({0}) or chardet ({1}) doesn't match a supported \"\n"
     ]
    }
   ],
   "source": [
    "from requests_html import HTMLSession, HTML"
   ],
   "metadata": {
    "collapsed": false,
    "ExecuteTime": {
     "end_time": "2024-03-30T08:25:43.167965Z",
     "start_time": "2024-03-30T08:25:43.036898Z"
    }
   },
   "id": "cf9f649906a5e408",
   "execution_count": 1
  },
  {
   "cell_type": "code",
   "outputs": [],
   "source": [
    "url=\"https://www.hk01.com/%E7%A4%BE%E6%9C%83%E6%96%B0%E8%81%9E/1005551/%E8%91%B5%E8%8A%B3%E7%89%9B%E8%A7%92%E4%B8%80%E5%BC%B5%E5%96%AE4-7%E8%90%AC-%E8%80%81%E9%97%86%E9%BB%83%E5%82%91%E9%BE%8D-%E6%B6%88%E8%B2%BB%E5%AF%92%E5%86%AC%E4%B8%AD-%E7%B0%A1%E7%9B%B4%E4%BF%82%E5%86%8D%E7%94%9F%E7%88%B6%E6%AF%8D\""
   ],
   "metadata": {
    "collapsed": false,
    "ExecuteTime": {
     "end_time": "2024-03-30T08:25:51.092103Z",
     "start_time": "2024-03-30T08:25:51.089417Z"
    }
   },
   "id": "ca88738ec6e8298a",
   "execution_count": 2
  },
  {
   "cell_type": "code",
   "outputs": [],
   "source": [
    "def fetch_content_in_news(url):\n",
    "    print(\"Fetching each news content ...\")\n",
    "\n",
    "    session = HTMLSession()\n",
    "    r = session.get(url)\n",
    "    print(\"status code :\", r.status_code)\n",
    "    print(r.html)\n",
    "\n",
    "    data_dict = {\n",
    "        \"date\" : r.html.find(\"div[data-testid='article-publish-info']\", first=True).text,\n",
    "        \"headline\" : r.html.find(\"#articleTitle\").text,\n",
    "        \"url\" : url,\n",
    "        \"opening_text\" : r.html.find(\"article#article-content-section\", first=True).find(\"p\", first=True).text\n",
    "    }\n",
    "    \n",
    "\n",
    "fetch_content_in_news(url)"
   ],
   "metadata": {
    "collapsed": false
   },
   "id": "fc98635a97f0808"
  },
  {
   "cell_type": "code",
   "outputs": [
    {
     "name": "stdout",
     "output_type": "stream",
     "text": [
      "status code : 200\n",
      "<HTML url='https://www.hk01.com/%E7%A4%BE%E6%9C%83%E6%96%B0%E8%81%9E/1005551/%E8%91%B5%E8%8A%B3%E7%89%9B%E8%A7%92%E4%B8%80%E5%BC%B5%E5%96%AE4-7%E8%90%AC-%E8%80%81%E9%97%86%E9%BB%83%E5%82%91%E9%BE%8D-%E6%B6%88%E8%B2%BB%E5%AF%92%E5%86%AC%E4%B8%AD-%E7%B0%A1%E7%9B%B4%E4%BF%82%E5%86%8D%E7%94%9F%E7%88%B6%E6%AF%8D'>\n"
     ]
    }
   ],
   "source": [
    "session = HTMLSession()\n",
    "r = session.get(url)\n",
    "print(\"status code :\", r.status_code)\n",
    "print(r.html)\n"
   ],
   "metadata": {
    "collapsed": false,
    "ExecuteTime": {
     "end_time": "2024-03-30T08:26:23.415554Z",
     "start_time": "2024-03-30T08:26:23.332883Z"
    }
   },
   "id": "78859756cc400b10",
   "execution_count": 3
  },
  {
   "cell_type": "code",
   "outputs": [
    {
     "data": {
      "text/plain": "'葵芳牛角一張單4.7萬\\u3000老闆黃傑龍：消費寒冬中\\u3000簡直係再生父母'"
     },
     "execution_count": 5,
     "metadata": {},
     "output_type": "execute_result"
    }
   ],
   "source": [
    "r.html.find(\"#articleTitle\", first=True).text # headline"
   ],
   "metadata": {
    "collapsed": false,
    "ExecuteTime": {
     "end_time": "2024-03-30T08:26:50.122470Z",
     "start_time": "2024-03-30T08:26:50.118277Z"
    }
   },
   "id": "1f4eb2e9786fa924",
   "execution_count": 5
  },
  {
   "cell_type": "code",
   "outputs": [
    {
     "data": {
      "text/plain": "'出版：2024-03-29 23:15更新：2024-03-30 01:46'"
     },
     "execution_count": 7,
     "metadata": {},
     "output_type": "execute_result"
    }
   ],
   "source": [
    "r.html.find(\"div[data-testid='article-publish-info']\", first=True).text # date"
   ],
   "metadata": {
    "collapsed": false,
    "ExecuteTime": {
     "end_time": "2024-03-30T08:32:57.714847Z",
     "start_time": "2024-03-30T08:32:57.709968Z"
    }
   },
   "id": "6b39b2bc5af56c2d",
   "execution_count": 7
  },
  {
   "cell_type": "code",
   "outputs": [
    {
     "data": {
      "text/plain": "'經濟不景及北上潮，重創本港零售及飲食業。敍福樓集團主席黃傑龍昨晚（28日）在社交謀體上載旗下日式燒肉店、葵芳牛角Buffet一張「大單」，總額4.7萬元，「唔知幾耐冇見過一張牛角嘅收據$47336」，「今時今日簡直係再生父母感激非常」。\\n\\n黃傑龍在《香港01》電話訪問中表示，現時香港進入消費寒冬，收到客人消費4萬多元的單據已讓他感到雀躍；又認為香港市道差不能全歸咎到北上潮，反而現時香港的樓市、股市皆疲弱才是導致市民消費力弱的主因。不過，他對香港市道始終都有信心，認為未來美國減息將有助市民消費力上升，「一旦進入市道上升嘅勢頭，大家就會冇咁痛苦㗎喇。」\\n\\n+1\\n唔知幾耐冇見過一張牛角嘅收據$47336，今時今日簡直係再生父母感激非常，無論係$78一個lunch定係$47336，我哋全體同事都非常珍惜你們每一單交易，因為每一單幫襯都代表多一筆港幣留在香港，多謝多謝\\n敍福樓集團主席黃傑龍\\n黃傑龍在昨晚在其Facebook專頁出帖文，附有集團旗下的葵芳新都會廣場「牛角Buffet」一張收據，款額共47,336元，一間公司聚會，一共有122人參加，人均消費388.2元。他在帖文寫：「唔知幾耐冇見過一張牛角嘅收據$47336， 今時今日簡直係再生父母感激非常」，亦感謝港人留港消費。\\n黃傑龍在接受《香港01》訪問時說，因見到有4萬多元的消費單據感雀躍，故特意出此帖文。\\n黃傑龍對集團旗下餐廳出現4萬多元的消費單據感雀躍，特意在Facebook出帖文感激他們在港消費。（黃傑龍Facebook）\\n3、4月為餐飲業淡季\\u3000黃傑龍料結業潮持續一段時間\\n黃傑龍指出，即使疫情已過，但香港飲食零售業的消費力仍「好疲弱」，「消費寒冬喺現實正發生」，不少餐廳想在農曆長假期，試驗究竟生意有否起色，「結果見到好多都無奈結業」，加上3、4月是餐飲業淡季，他預料飲食業結業潮都會持續一段時間。\\n他將餐廳結業形容為「魷魚游戲」，在消費寒冬下，餐飲業正上演一場淘汰賽，將劣質餐廳淘汰走，留低一些價格、食物質素、服務質素都較優勝的餐廳。他指本地餐廳可繼續發展香港飲食業具優勝的地方，如食品安全、食物選擇多元化等，「剩低落嚟嗰啲好嘅，相信會經歷到下一波黃金時期，可以見到好景」。\\n黃傑龍相信未來美國減息將有助提升香港市民的消費力。（資料圖片）\\n指北上潮非市道差主因\\u3000樓市股市雙失才導致市民消費力弱\\n黃傑龍認為，香港餐飲業市道差，不能單單歸咎於北上潮和內地物價較低，「放假去旅行無可厚非，好難咁樣去講」，加上從來都是港人北上易，內地人南下難，因不少內地居民需持簽證才能來港，同時內地亦有管制錢財流動，導致北上流動較自由，港人好容易就可北上消費。因此他覺得港人其實一直都有北上消費，而香港內地物價差異「幾十年都係咁」。\\n他認為現時香港市道差的主要原因為樓市、股市雙雙疲弱，「留得喺度嘅香港人，冇可能日日都北上，至少周日都喺到喇啩。」但因樓市股市差，市民消費都無從前疏爽，導致消費力在衣食住行上都比以前差，「而家個股市去到1997咁樣，叫啲人點消費啊？」\\n相信寒冬終過去迎來復蘇時刻：經濟有起有伏\\n不過，他認為這消費寒冬終會過去，對香港未來經濟有信心，不少經濟學家分析未來美國會數次減息。他亦認為經濟有起有伏，現時香港在低谷，但總會迎來復蘇的時刻，「你話會唔會去得返2018年生意巔峰，我就未知嘅。」他稱會保持信心和希望，「一旦進入市道上升嘅勢頭，大家就會冇咁痛苦㗎喇。」\\n復活節｜52萬港人3.28率先離港\\u300038萬北上6萬搭飛機均創疫後新高復活節北上｜香園圍口岸打蛇餅\\u3000人流倒灌至地下巴士站復活節北上｜首日假期\\u3000至上午10時28萬人出入境\\u300022.7萬港人離港復活節北上｜上水站外現200米人龍\\u3000港人：香港消費得罪講句太貴復活節北上｜港珠澳大橋逼爆\\u3000逾千人打蛇餅等過關\\u3000巴士排隊埋站復活節｜入境處料周五60萬人北上\\u3000商場推免費泊車日吸客留港消費牛角放題$288/2位\\u3000食客剩大量食物極浪費\\u3000老闆黃傑龍撐職員罰款垃圾徵費｜黃傑龍：未清楚政府廚餘回收安排\\u3000飲食界憂分類困難牛角母企員工明年平均加薪4%兼加假\\u3000黃傑龍：咁嘅市道下算係咁！有議員倡禮貌運動\\u3000黃傑龍稱香港不走熱情路線：不改善質素會淘汰旅發局餐飲消費券｜黃傑龍讚消費滿$100等於免費︰幾好嘅聖誕禮物'"
     },
     "execution_count": 8,
     "metadata": {},
     "output_type": "execute_result"
    }
   ],
   "source": [
    "r.html.find(\"article#article-content-section\", first=True).text"
   ],
   "metadata": {
    "collapsed": false,
    "ExecuteTime": {
     "end_time": "2024-03-30T08:37:30.581396Z",
     "start_time": "2024-03-30T08:37:30.575303Z"
    }
   },
   "id": "960989403ba0e50d",
   "execution_count": 8
  },
  {
   "cell_type": "code",
   "outputs": [
    {
     "data": {
      "text/plain": "'經濟不景及北上潮，重創本港零售及飲食業。敍福樓集團主席黃傑龍昨晚（28日）在社交謀體上載旗下日式燒肉店、葵芳牛角Buffet一張「大單」，總額4.7萬元，「唔知幾耐冇見過一張牛角嘅收據$47336」，「今時今日簡直係再生父母感激非常」。'"
     },
     "execution_count": 9,
     "metadata": {},
     "output_type": "execute_result"
    }
   ],
   "source": [
    "r.html.find(\"article#article-content-section\", first=True).find(\"p\", first=True).text # opening text"
   ],
   "metadata": {
    "collapsed": false,
    "ExecuteTime": {
     "end_time": "2024-03-30T08:38:50.352906Z",
     "start_time": "2024-03-30T08:38:50.345047Z"
    }
   },
   "id": "b986779424f4d9d8",
   "execution_count": 9
  },
  {
   "cell_type": "code",
   "outputs": [],
   "source": [],
   "metadata": {
    "collapsed": false
   },
   "id": "46f382483cf7838e"
  },
  {
   "cell_type": "code",
   "outputs": [],
   "source": [],
   "metadata": {
    "collapsed": false
   },
   "id": "a03f0b8237eac8e9"
  },
  {
   "cell_type": "code",
   "outputs": [],
   "source": [],
   "metadata": {
    "collapsed": false
   },
   "id": "4718f0c5140c89b7"
  },
  {
   "cell_type": "code",
   "outputs": [],
   "source": [
    "# Date, <----------- ..\n",
    "# Headline, <----------- ..\n",
    "# URL, <----------- ..\n",
    "# Opening Text, <-----------\n",
    "# Source, <-----------\n",
    "# Language, <-----------\n",
    "# Key Phrases, <-----------"
   ],
   "metadata": {
    "collapsed": false
   },
   "id": "433ab2a87199cd2"
  },
  {
   "cell_type": "code",
   "outputs": [],
   "source": [
    "\"\"\"\n",
    "https://portal.sina.com.hk/, /category/, [\"news-hongkong\", \"news-china\", \"news-intl\", \"technology\", \"lifestyle\"]\n",
    "https://www.hket.com/\n",
    "https://www.hk01.com/\n",
    "https://std.stheadline.com/\n",
    "https://www.stheadline.com/\n",
    "https://www.mingpao.com/\n",
    "https://www.am730.com.hk/\n",
    "https://orientaldaily.on.cc/\n",
    "https://news.now.com/home\n",
    "http://www.hkej.com/\n",
    "https://www.tvb.com/\n",
    "https://www.ulifestyle.com.hk/\n",
    "https://news.rthk.hk/rthk/en/\n",
    "https://www.scmp.com/\n",
    "https://www.rthk.hk/\n",
    "https://www.wenweipo.com/\n",
    "https://www.takungpao.com.hk/\n",
    "\"\"\"\n"
   ],
   "metadata": {
    "collapsed": false
   },
   "id": "c2cdd75d8d41b4e9"
  },
  {
   "cell_type": "code",
   "outputs": [
    {
     "name": "stderr",
     "output_type": "stream",
     "text": [
      "/Users/louischiu/miniconda3/envs/comp7705/lib/python3.9/site-packages/requests/__init__.py:78: RequestsDependencyWarning: urllib3 (1.26.18) or chardet (3.0.4) doesn't match a supported version!\n",
      "  warnings.warn(\"urllib3 ({0}) or chardet ({1}) doesn't match a supported \"\n"
     ]
    }
   ],
   "source": [
    "import requests\n",
    "from bs4 import BeautifulSoup\n",
    "from pyppeteer import launch\n",
    "import asyncio\n",
    "import nest_asyncio"
   ],
   "metadata": {
    "collapsed": false,
    "ExecuteTime": {
     "end_time": "2024-04-01T07:17:01.307065Z",
     "start_time": "2024-04-01T07:17:01.164031Z"
    }
   },
   "id": "a81f81184d676a27",
   "execution_count": 1
  },
  {
   "cell_type": "code",
   "outputs": [],
   "source": [
    "nest_asyncio.apply()"
   ],
   "metadata": {
    "collapsed": false,
    "ExecuteTime": {
     "end_time": "2024-04-01T07:17:02.928465Z",
     "start_time": "2024-04-01T07:17:02.926194Z"
    }
   },
   "id": "25de5d3712e13a91",
   "execution_count": 2
  },
  {
   "cell_type": "code",
   "outputs": [],
   "source": [
    "class WebScraper:\n",
    "    \n",
    "    def __init__(self, config):\n",
    "        self.base_url = config.get(\"base_url\", \"\")\n",
    "        self.category_str = config.get(\"category_str\", \"\")\n",
    "        self.target_categories = config.get(\"target_categories\", \"\")\n",
    "        \n",
    "        self.num_scroll = config.get(\"num_scroll\", 3)\n",
    "        self.news_card_identifier = config.get(\"news_card_identifier\", \"\")\n",
    "        \n",
    "        self.content_identifier_dict = config.get(\"content_identifier_dict\", {})\n",
    "        \n",
    "        self.is_debug = config.get(\"is_debug\", False) \n",
    "    \n",
    "    def fetch_navbar(self):\n",
    "        base_url = self.base_url\n",
    "        category_str = self.category_str\n",
    "        target_categories = self.target_categories\n",
    "        \n",
    "        with requests.get(base_url) as r:\n",
    "            soup = BeautifulSoup(r.content, \"lxml\")\n",
    "            if self.is_debug:\n",
    "                print(\"Status code :\", r.status_code)\n",
    "        \n",
    "        navbar = soup.find(\"nav\")\n",
    "        a_tags = navbar.find_all(\"a\")\n",
    "        \n",
    "        category_urls = [a[\"href\"] for a in a_tags if category_str in a[\"href\"]]\n",
    "        category_urls = [url for url in category_urls if any(category in url for category in target_categories)]\n",
    "        category_urls = self.format_urls_to_absolute_urls(category_urls)\n",
    "        \n",
    "        return category_urls\n",
    "    \n",
    "    def fetch_links_in_category(self, url):\n",
    "        news_card_identifier = self.news_card_identifier\n",
    "        \n",
    "        with requests.get(url) as r:\n",
    "            soup = BeautifulSoup(r.content, \"lxml\")\n",
    "            if self.is_debug:\n",
    "                print(\"status code :\", r.status_code)\n",
    "        \n",
    "        content = asyncio.get_event_loop().run_until_complete(self.scroll_and_scrape(url, num_scroll=self.num_scroll))\n",
    "        soup = BeautifulSoup(content, \"lxml\")\n",
    "    \n",
    "        cards = soup.select(news_card_identifier)\n",
    "        news_urls = [card.find(\"a\").attrs[\"href\"] for card in cards if card.find(\"a\")]\n",
    "        news_urls = self.format_urls_to_absolute_urls(news_urls)\n",
    "    \n",
    "        return news_urls\n",
    "    \n",
    "    def fetch_content_in_news(self, url):\n",
    "        content_identifier_dict = self.content_identifier_dict\n",
    "        headline_identifier = content_identifier_dict[\"headline\"]\n",
    "        datetime_identifier = content_identifier_dict[\"datetime\"]\n",
    "        content_identifier = content_identifier_dict[\"content\"]\n",
    "        \n",
    "        with requests.get(url) as r:\n",
    "            soup = BeautifulSoup(r.content, \"lxml\")\n",
    "            if self.is_debug:\n",
    "                print(\"Status code :\", r.status_code)\n",
    "            \n",
    "        data_dict = {\n",
    "            \"headline\": soup.select_one(headline_identifier).text.strip(),\n",
    "            \"datetime\": soup.select_one(datetime_identifier)[\"datetime\"].strip(),\n",
    "            \"url\": url,\n",
    "            \"content\": soup.select_one(content_identifier).text.strip()\n",
    "        }\n",
    "    \n",
    "        return data_dict\n",
    "    \n",
    "    async def scroll_and_scrape(self, url, num_scroll=3):\n",
    "        browser = await launch()\n",
    "        page = await browser.newPage()\n",
    "        await page.goto(url)\n",
    "        \n",
    "        # Scroll down the page\n",
    "        for _ in range(num_scroll):\n",
    "            await page.evaluate('window.scrollTo(0, document.body.scrollHeight);')\n",
    "            await asyncio.sleep(2)  # Wait for content to load\n",
    "    \n",
    "        # Scrape the content\n",
    "        content = await page.content()\n",
    "    \n",
    "        await browser.close()\n",
    "    \n",
    "        return content\n",
    "    \n",
    "    def format_urls_to_absolute_urls(self, urls):\n",
    "        base_url = self.base_url\n",
    "        return [url if url.startswith(\"http\") else base_url + url for url in urls]\n",
    "    \n",
    "    def start_scraping(self):\n",
    "        print(\"Fetching navbar ...\", self.base_url)\n",
    "        category_urls = self.fetch_navbar()\n",
    "        print(\"Category URLs :\", category_urls)\n",
    "        \n",
    "        data_dict_list = []\n",
    "        for category_url in category_urls:\n",
    "            print(\"Fetching all news links ...\", category_url)\n",
    "            news_urls = self.fetch_links_in_category(category_url)\n",
    "            \n",
    "            print(\"Fetching each news content ...\")\n",
    "            for news_url in news_urls:\n",
    "                data_dict_list.append(self.fetch_content_in_news(news_url))\n",
    "                return data_dict_list\n",
    "        \n",
    "        return data_dict_list"
   ],
   "metadata": {
    "collapsed": false,
    "ExecuteTime": {
     "end_time": "2024-04-01T08:32:14.574451Z",
     "start_time": "2024-04-01T08:32:14.560276Z"
    }
   },
   "id": "5ef05b61dfe192dc",
   "execution_count": 89
  },
  {
   "cell_type": "code",
   "outputs": [
    {
     "name": "stdout",
     "output_type": "stream",
     "text": [
      "Fetching navbar ... https://portal.sina.com.hk/\n",
      "Status code : 200\n",
      "Category URLs : ['https://portal.sina.com.hk/category/news-hongkong/', 'https://portal.sina.com.hk/category/news-china/', 'https://portal.sina.com.hk/category/news-intl/', 'https://portal.sina.com.hk/category/technology/', 'https://portal.sina.com.hk/category/lifestyle/']\n",
      "Fetching all news links ... https://portal.sina.com.hk/category/news-hongkong/\n",
      "status code : 200\n",
      "Fetching each news content ...\n",
      "Status code : 200\n"
     ]
    },
    {
     "data": {
      "text/plain": "[{'headline': '迪拜皇室成員家族辦公室在港設家辦\\u3000啟動禮延至5月舉行',\n  'datetime': '2024-04-01T12:51:58+08:00',\n  'url': 'https://portal.sina.com.hk/news-hongkong/news-realtime/rthk/2024/04/01/795982/%e8%bf%aa%e6%8b%9c%e7%9a%87%e5%ae%a4%e6%88%90%e5%93%a1%e5%ae%b6%e6%97%8f%e8%be%a6%e5%85%ac%e5%ae%a4%e5%9c%a8%e6%b8%af%e8%a8%ad%e5%ae%b6%e8%be%a6%e3%80%80%e5%95%9f%e5%8b%95%e7%a6%ae%e5%bb%b6%e8%87%b35/',\n  'content': '圖為迪拜皇室成員代表 Sheikh Ali Rashed Ali Saeed Al Maktoum。（家族辦公室網站圖片）\\n迪拜皇室成員代表Sheikh Ali Rashed Ali Saeed Al Maktoum王子家族辦公室發聲明指，由於某些緊急而意外的私人事務，家族辦公室啟動典禮延期至今年5月底，屆時Sheikh王子將再次訪港。\\n聲明表示，較早前安排的新聞發布會延期，家族辦公室對各方及香港特區政府因延期而造成的不便表示歉意，對各界尤其香港特區政府的支持表達衷心感謝。\\n聲明強調，目前只是將啟動禮延至5月底，確定家族辦公室在香港的營運將按計劃進行，未來將再次考察南沙，重申對內地、香港及亞洲的發展機會非常感興趣。\\n\\n\\n\\n聲明又說，皇室成員代表多次造訪，包括但不限於南沙在內的大灣區各地，探索各種新商機。自去年12月首次訪港後，皇室成員代表先後訪問北京、南京、福州、成都等地。在成都，已與中國新能源空鐵、中唐空鐵、四川各鐵路公司、西南交通大學國家軌道交通實驗室，取得聯繫。\\nSheikh王子家族辦公室啟動典禮原定上周四舉行，但官方在活動前一晚突然公布，因為緊急事務而延期。'}]"
     },
     "execution_count": 90,
     "metadata": {},
     "output_type": "execute_result"
    }
   ],
   "source": [
    "content_identifier_dict = {\n",
    "    \"headline\": \"h1.entry-title\",\n",
    "    \"datetime\": \"time.entry-date\",\n",
    "    \"content\": \"div.entry-content\"\n",
    "}\n",
    "\n",
    "config = {\n",
    "    \"base_url\": \"https://portal.sina.com.hk/\",\n",
    "    \"category_str\": \"/category/\",\n",
    "    \"target_categories\": [\"news-hongkong\", \"news-china\", \"news-intl\", \"technology\", \"lifestyle\"],\n",
    "    \"news_card_identifier\": \"article\",\n",
    "    \"content_identifier_dict\": content_identifier_dict,\n",
    "    \"is_debug\": True\n",
    "}\n",
    "\n",
    "webscraper = WebScraper(config)\n",
    "webscraper.start_scraping()"
   ],
   "metadata": {
    "collapsed": false,
    "ExecuteTime": {
     "end_time": "2024-04-01T08:32:26.442928Z",
     "start_time": "2024-04-01T08:32:14.771320Z"
    }
   },
   "id": "b21bc8a506c572b1",
   "execution_count": 90
  },
  {
   "cell_type": "code",
   "outputs": [],
   "source": [
    "url = 'https://portal.sina.com.hk/category/news-hongkong/'\n",
    "content = asyncio.get_event_loop().run_until_complete(scroll_and_scrape(url, num_scroll=3))"
   ],
   "metadata": {
    "collapsed": false,
    "ExecuteTime": {
     "end_time": "2024-04-01T07:18:02.474452Z",
     "start_time": "2024-04-01T07:17:53.989095Z"
    }
   },
   "id": "4ccf0d2959ffd452",
   "execution_count": 7
  },
  {
   "cell_type": "code",
   "outputs": [],
   "source": [
    "body = HTML(html=content)"
   ],
   "metadata": {
    "collapsed": false,
    "ExecuteTime": {
     "end_time": "2024-04-01T07:18:06.098382Z",
     "start_time": "2024-04-01T07:18:06.088169Z"
    }
   },
   "id": "22f6ea4c768210a3",
   "execution_count": 8
  },
  {
   "cell_type": "code",
   "outputs": [
    {
     "data": {
      "text/plain": "str"
     },
     "execution_count": 9,
     "metadata": {},
     "output_type": "execute_result"
    }
   ],
   "source": [
    "type(content)"
   ],
   "metadata": {
    "collapsed": false,
    "ExecuteTime": {
     "end_time": "2024-04-01T07:18:07.612288Z",
     "start_time": "2024-04-01T07:18:07.607829Z"
    }
   },
   "id": "c88f69131777a290",
   "execution_count": 9
  },
  {
   "cell_type": "code",
   "outputs": [],
   "source": [
    "soup = BeautifulSoup(content, 'lxml')"
   ],
   "metadata": {
    "collapsed": false,
    "ExecuteTime": {
     "end_time": "2024-04-01T07:18:12.369900Z",
     "start_time": "2024-04-01T07:18:12.346094Z"
    }
   },
   "id": "b948cf54873ab4c1",
   "execution_count": 10
  },
  {
   "cell_type": "code",
   "outputs": [],
   "source": [
    "cards = soup.find_all(\"article\")"
   ],
   "metadata": {
    "collapsed": false,
    "ExecuteTime": {
     "end_time": "2024-04-01T07:21:53.663942Z",
     "start_time": "2024-04-01T07:21:53.661182Z"
    }
   },
   "id": "40376eec5dfc15b5",
   "execution_count": 20
  },
  {
   "cell_type": "code",
   "outputs": [
    {
     "data": {
      "text/plain": "[<article class=\"archive-layout-two post-795945 post type-post status-publish format-standard has-post-thumbnail hentry category-news-realtime tag-newshkautohilite\" id=\"post-795945\">\n <div class=\"featured-image\">\n <a href=\"https://portal.sina.com.hk/news-hongkong/news-realtime/rthk/2024/04/01/795945/%e6%9c%89%e8%a9%a6%e8%a1%8c%e5%9e%83%e5%9c%be%e6%94%b6%e8%b2%bb%e5%85%ac%e5%b1%8b%e5%b1%85%e6%b0%91%e8%aa%aa%e5%b7%b2%e7%94%a8%e6%8c%87%e5%ae%9a%e8%a2%8b%e3%80%80%e6%9c%89%e5%ae%89%e8%80%81%e9%99%a2/\" title=\"有試行垃圾收費公屋居民說已用指定袋　有安老院料成本大增\">\n </a><figure><a href=\"https://portal.sina.com.hk/news-hongkong/news-realtime/rthk/2024/04/01/795945/%e6%9c%89%e8%a9%a6%e8%a1%8c%e5%9e%83%e5%9c%be%e6%94%b6%e8%b2%bb%e5%85%ac%e5%b1%8b%e5%b1%85%e6%b0%91%e8%aa%aa%e5%b7%b2%e7%94%a8%e6%8c%87%e5%ae%9a%e8%a2%8b%e3%80%80%e6%9c%89%e5%ae%89%e8%80%81%e9%99%a2/\" title=\"有試行垃圾收費公屋居民說已用指定袋　有安老院料成本大增\"></a><a href=\"https://portal.sina.com.hk/news-hongkong/news-realtime/rthk/2024/04/01/795945/%e6%9c%89%e8%a9%a6%e8%a1%8c%e5%9e%83%e5%9c%be%e6%94%b6%e8%b2%bb%e5%85%ac%e5%b1%8b%e5%b1%85%e6%b0%91%e8%aa%aa%e5%b7%b2%e7%94%a8%e6%8c%87%e5%ae%9a%e8%a2%8b%e3%80%80%e6%9c%89%e5%ae%89%e8%80%81%e9%99%a2/\" title=\"有試行垃圾收費公屋居民說已用指定袋　有安老院料成本大增\"><img alt=\"\" height=\"205\" src=\"https://newsstatic.rthk.hk/images/mfile_1747079_1_L_20240401123717.jpg\" style=\"object-position:100% 20%;object-fit:cover;width:390px;height:205px\" title=\"\" width=\"390\"/></a></figure>\n </div>\n <div class=\"article-content clearfix\">\n <header class=\"entry-header\">\n <h2 class=\"entry-title\">\n <a href=\"https://portal.sina.com.hk/news-hongkong/news-realtime/rthk/2024/04/01/795945/%e6%9c%89%e8%a9%a6%e8%a1%8c%e5%9e%83%e5%9c%be%e6%94%b6%e8%b2%bb%e5%85%ac%e5%b1%8b%e5%b1%85%e6%b0%91%e8%aa%aa%e5%b7%b2%e7%94%a8%e6%8c%87%e5%ae%9a%e8%a2%8b%e3%80%80%e6%9c%89%e5%ae%89%e8%80%81%e9%99%a2/\" title=\"有試行垃圾收費公屋居民說已用指定袋　有安老院料成本大增\">\n \t\t\t\t有試行垃圾收費公屋居民說已用指定袋　有安老院料成本大增\t\t\t\t</a>\n </h2>\n </header>\n <div class=\"below-entry-meta\">\n <span class=\"posted-on\"><a href=\"https://portal.sina.com.hk/news-hongkong/news-realtime/rthk/2024/04/01/795945/%e6%9c%89%e8%a9%a6%e8%a1%8c%e5%9e%83%e5%9c%be%e6%94%b6%e8%b2%bb%e5%85%ac%e5%b1%8b%e5%b1%85%e6%b0%91%e8%aa%aa%e5%b7%b2%e7%94%a8%e6%8c%87%e5%ae%9a%e8%a2%8b%e3%80%80%e6%9c%89%e5%ae%89%e8%80%81%e9%99%a2/\" rel=\"bookmark\" title=\"12:25 pm\"><i class=\"fa fa-calendar-o\"></i> <time class=\"entry-date published\" datetime=\"2024-04-01T12:25:55+08:00\">04月01日 12:25</time><time class=\"updated\" datetime=\"2024-04-01T15:05:51+08:00\">04月01日 15:05</time></a></span>\n <span class=\"byline\">\n <span class=\"author vcard\">\n <i class=\"fa fa-user\"></i>\n <a class=\"url fn n\" href=\"https://portal.sina.com.hk/author/rthk/\" title=\"香港電台\">\n \t\t\t\t\t\t香港電台\t\t\t\t\t</a>\n </span>\n </span>\n <span class=\"tag-links\"><i class=\"fa fa-tags\"></i><a href=\"https://portal.sina.com.hk/tag/newshkautohilite/\" rel=\"tag\">news-hk-auto-hilite</a></span></div>\n <div class=\"entry-content clearfix\">\n <p>垃圾收費「先行先試」計劃今日起在政府大樓，住宅，商場，食肆及院舍等14個處所推行。有參與的公屋居民表…</p>\n </div>\n </div>\n </article>,\n <article class=\"archive-layout-two post-795888 post type-post status-publish format-standard has-post-thumbnail hentry category-news-realtime tag-newshkautohilite\" id=\"post-795888\">\n <div class=\"featured-image\">\n <a href=\"https://portal.sina.com.hk/news-hongkong/news-realtime/rthk/2024/04/01/795888/%e6%a9%ab%e9%a0%ad%e7%a3%a1%e8%b3%bd%e9%a6%ac%e6%9c%83%e8%a8%ba%e6%89%80%e8%a3%9d%e4%bf%ae%e3%80%80%e4%b8%8b%e5%91%a8%e4%b8%80%e8%b5%b7%e6%9c%8d%e5%8b%99%e6%9a%ab%e9%81%b7%e8%87%b3%e6%96%b0%e8%92%b2/\" title=\"橫頭磡賽馬會診所裝修　下周一起服務暫遷至新蒲崗柏立基診所\">\n </a><figure><a href=\"https://portal.sina.com.hk/news-hongkong/news-realtime/rthk/2024/04/01/795888/%e6%a9%ab%e9%a0%ad%e7%a3%a1%e8%b3%bd%e9%a6%ac%e6%9c%83%e8%a8%ba%e6%89%80%e8%a3%9d%e4%bf%ae%e3%80%80%e4%b8%8b%e5%91%a8%e4%b8%80%e8%b5%b7%e6%9c%8d%e5%8b%99%e6%9a%ab%e9%81%b7%e8%87%b3%e6%96%b0%e8%92%b2/\" title=\"橫頭磡賽馬會診所裝修　下周一起服務暫遷至新蒲崗柏立基診所\"></a><a href=\"https://portal.sina.com.hk/news-hongkong/news-realtime/rthk/2024/04/01/795888/%e6%a9%ab%e9%a0%ad%e7%a3%a1%e8%b3%bd%e9%a6%ac%e6%9c%83%e8%a8%ba%e6%89%80%e8%a3%9d%e4%bf%ae%e3%80%80%e4%b8%8b%e5%91%a8%e4%b8%80%e8%b5%b7%e6%9c%8d%e5%8b%99%e6%9a%ab%e9%81%b7%e8%87%b3%e6%96%b0%e8%92%b2/\" title=\"橫頭磡賽馬會診所裝修　下周一起服務暫遷至新蒲崗柏立基診所\"><img alt=\"\" height=\"205\" src=\"https://newsstatic.rthk.hk/images/mfile_1747075_1_L_20240401113331.jpg\" style=\"object-position:100% 20%;object-fit:cover;width:390px;height:205px\" title=\"\" width=\"390\"/></a></figure>\n </div>\n <div class=\"article-content clearfix\">\n <header class=\"entry-header\">\n <h2 class=\"entry-title\">\n <a href=\"https://portal.sina.com.hk/news-hongkong/news-realtime/rthk/2024/04/01/795888/%e6%a9%ab%e9%a0%ad%e7%a3%a1%e8%b3%bd%e9%a6%ac%e6%9c%83%e8%a8%ba%e6%89%80%e8%a3%9d%e4%bf%ae%e3%80%80%e4%b8%8b%e5%91%a8%e4%b8%80%e8%b5%b7%e6%9c%8d%e5%8b%99%e6%9a%ab%e9%81%b7%e8%87%b3%e6%96%b0%e8%92%b2/\" title=\"橫頭磡賽馬會診所裝修　下周一起服務暫遷至新蒲崗柏立基診所\">\n \t\t\t\t橫頭磡賽馬會診所裝修　下周一起服務暫遷至新蒲崗柏立基診所\t\t\t\t</a>\n </h2>\n </header>\n <div class=\"below-entry-meta\">\n <span class=\"posted-on\"><a href=\"https://portal.sina.com.hk/news-hongkong/news-realtime/rthk/2024/04/01/795888/%e6%a9%ab%e9%a0%ad%e7%a3%a1%e8%b3%bd%e9%a6%ac%e6%9c%83%e8%a8%ba%e6%89%80%e8%a3%9d%e4%bf%ae%e3%80%80%e4%b8%8b%e5%91%a8%e4%b8%80%e8%b5%b7%e6%9c%8d%e5%8b%99%e6%9a%ab%e9%81%b7%e8%87%b3%e6%96%b0%e8%92%b2/\" rel=\"bookmark\" title=\"11:24 am\"><i class=\"fa fa-calendar-o\"></i> <time class=\"entry-date published\" datetime=\"2024-04-01T11:24:59+08:00\">04月01日 11:24</time><time class=\"updated\" datetime=\"2024-04-01T15:06:08+08:00\">04月01日 15:06</time></a></span>\n <span class=\"byline\">\n <span class=\"author vcard\">\n <i class=\"fa fa-user\"></i>\n <a class=\"url fn n\" href=\"https://portal.sina.com.hk/author/rthk/\" title=\"香港電台\">\n \t\t\t\t\t\t香港電台\t\t\t\t\t</a>\n </span>\n </span>\n <span class=\"tag-links\"><i class=\"fa fa-tags\"></i><a href=\"https://portal.sina.com.hk/tag/newshkautohilite/\" rel=\"tag\">news-hk-auto-hilite</a></span></div>\n <div class=\"entry-content clearfix\">\n <p>九龍中醫院聯網表示，橫頭磡賽馬會普通科門診診所，將會進行全面翻新工程以提升服務水平。診所服務將由4月…</p>\n </div>\n </div>\n </article>,\n <article class=\"archive-layout-two post-795881 post type-post status-publish format-standard has-post-thumbnail hentry category-news-realtime tag-newshkautohilite\" id=\"post-795881\">\n <div class=\"featured-image\">\n <a href=\"https://portal.sina.com.hk/news-hongkong/news-realtime/rthk/2024/04/01/795881/%e5%85%83%e6%9c%97%e8%87%b4%e5%91%bd%e8%bb%8a%e7%a6%8d%e3%80%80%e7%9a%84%e5%a3%ab%e5%8f%b8%e6%a9%9f%e6%b6%89%e5%8d%b1%e9%a7%95%e5%b0%8e%e8%87%b4%e4%bb%96%e4%ba%ba%e6%ad%bb%e4%ba%a1%e8%a2%ab%e6%89%a3/\" title=\"元朗致命車禍　的士司機涉危駕導致他人死亡被扣查\">\n </a><figure><a href=\"https://portal.sina.com.hk/news-hongkong/news-realtime/rthk/2024/04/01/795881/%e5%85%83%e6%9c%97%e8%87%b4%e5%91%bd%e8%bb%8a%e7%a6%8d%e3%80%80%e7%9a%84%e5%a3%ab%e5%8f%b8%e6%a9%9f%e6%b6%89%e5%8d%b1%e9%a7%95%e5%b0%8e%e8%87%b4%e4%bb%96%e4%ba%ba%e6%ad%bb%e4%ba%a1%e8%a2%ab%e6%89%a3/\" title=\"元朗致命車禍　的士司機涉危駕導致他人死亡被扣查\"></a><a href=\"https://portal.sina.com.hk/news-hongkong/news-realtime/rthk/2024/04/01/795881/%e5%85%83%e6%9c%97%e8%87%b4%e5%91%bd%e8%bb%8a%e7%a6%8d%e3%80%80%e7%9a%84%e5%a3%ab%e5%8f%b8%e6%a9%9f%e6%b6%89%e5%8d%b1%e9%a7%95%e5%b0%8e%e8%87%b4%e4%bb%96%e4%ba%ba%e6%ad%bb%e4%ba%a1%e8%a2%ab%e6%89%a3/\" title=\"元朗致命車禍　的士司機涉危駕導致他人死亡被扣查\"><img alt=\"\" height=\"205\" src=\"https://newsstatic.rthk.hk/images/mfile_1747074_1_L_20240401113111.jpg\" style=\"object-position:100% 20%;object-fit:cover;width:390px;height:205px\" title=\"\" width=\"390\"/></a></figure>\n </div>\n <div class=\"article-content clearfix\">\n <header class=\"entry-header\">\n <h2 class=\"entry-title\">\n <a href=\"https://portal.sina.com.hk/news-hongkong/news-realtime/rthk/2024/04/01/795881/%e5%85%83%e6%9c%97%e8%87%b4%e5%91%bd%e8%bb%8a%e7%a6%8d%e3%80%80%e7%9a%84%e5%a3%ab%e5%8f%b8%e6%a9%9f%e6%b6%89%e5%8d%b1%e9%a7%95%e5%b0%8e%e8%87%b4%e4%bb%96%e4%ba%ba%e6%ad%bb%e4%ba%a1%e8%a2%ab%e6%89%a3/\" title=\"元朗致命車禍　的士司機涉危駕導致他人死亡被扣查\">\n \t\t\t\t元朗致命車禍　的士司機涉危駕導致他人死亡被扣查\t\t\t\t</a>\n </h2>\n </header>\n <div class=\"below-entry-meta\">\n <span class=\"posted-on\"><a href=\"https://portal.sina.com.hk/news-hongkong/news-realtime/rthk/2024/04/01/795881/%e5%85%83%e6%9c%97%e8%87%b4%e5%91%bd%e8%bb%8a%e7%a6%8d%e3%80%80%e7%9a%84%e5%a3%ab%e5%8f%b8%e6%a9%9f%e6%b6%89%e5%8d%b1%e9%a7%95%e5%b0%8e%e8%87%b4%e4%bb%96%e4%ba%ba%e6%ad%bb%e4%ba%a1%e8%a2%ab%e6%89%a3/\" rel=\"bookmark\" title=\"11:23 am\"><i class=\"fa fa-calendar-o\"></i> <time class=\"entry-date published\" datetime=\"2024-04-01T11:23:53+08:00\">04月01日 11:23</time><time class=\"updated\" datetime=\"2024-04-01T15:06:22+08:00\">04月01日 15:06</time></a></span>\n <span class=\"byline\">\n <span class=\"author vcard\">\n <i class=\"fa fa-user\"></i>\n <a class=\"url fn n\" href=\"https://portal.sina.com.hk/author/rthk/\" title=\"香港電台\">\n \t\t\t\t\t\t香港電台\t\t\t\t\t</a>\n </span>\n </span>\n <span class=\"tag-links\"><i class=\"fa fa-tags\"></i><a href=\"https://portal.sina.com.hk/tag/newshkautohilite/\" rel=\"tag\">news-hk-auto-hilite</a></span></div>\n <div class=\"entry-content clearfix\">\n <p>警方正調查今早在元朗發生的致命交通意外，意外中一名71歲男子死亡，涉事的士司機涉嫌危險駕駛導致他人死…</p>\n </div>\n </div>\n </article>,\n <article class=\"archive-layout-two post-795889 post type-post status-publish format-standard has-post-thumbnail hentry category-news-hongkong\" id=\"post-795889\">\n <div class=\"featured-image\">\n <a href=\"https://portal.sina.com.hk/news-hongkong/gia-info-gov-hk/2024/04/01/795889/%e6%a9%ab%e9%a0%ad%e7%a3%a1%e8%b3%bd%e9%a6%ac%e6%9c%83%e6%99%ae%e9%80%9a%e7%a7%91%e9%96%80%e8%a8%ba%e8%a8%ba%e6%89%80%e6%9a%ab%e9%81%b7%e6%9c%8d%e5%8b%99%e9%96%8b%e5%b1%95%e7%bf%bb%e6%96%b0%e5%b7%a5/\" title=\"橫頭磡賽馬會普通科門診診所暫遷服務開展翻新工程\">\n </a><figure><a href=\"https://portal.sina.com.hk/news-hongkong/gia-info-gov-hk/2024/04/01/795889/%e6%a9%ab%e9%a0%ad%e7%a3%a1%e8%b3%bd%e9%a6%ac%e6%9c%83%e6%99%ae%e9%80%9a%e7%a7%91%e9%96%80%e8%a8%ba%e8%a8%ba%e6%89%80%e6%9a%ab%e9%81%b7%e6%9c%8d%e5%8b%99%e9%96%8b%e5%b1%95%e7%bf%bb%e6%96%b0%e5%b7%a5/\" title=\"橫頭磡賽馬會普通科門診診所暫遷服務開展翻新工程\"></a><a href=\"https://portal.sina.com.hk/news-hongkong/gia-info-gov-hk/2024/04/01/795889/%e6%a9%ab%e9%a0%ad%e7%a3%a1%e8%b3%bd%e9%a6%ac%e6%9c%83%e6%99%ae%e9%80%9a%e7%a7%91%e9%96%80%e8%a8%ba%e8%a8%ba%e6%89%80%e6%9a%ab%e9%81%b7%e6%9c%8d%e5%8b%99%e9%96%8b%e5%b1%95%e7%bf%bb%e6%96%b0%e5%b7%a5/\" title=\"橫頭磡賽馬會普通科門診診所暫遷服務開展翻新工程\"><img alt=\"\" height=\"205\" src=\"https://portal.sina.com.hk/wp-content/uploads/2023/02/sinacontent_hknews.jpg\" style=\"object-position:100% 20%;object-fit:cover;width:390px;height:205px\" title=\"\" width=\"390\"/></a></figure>\n </div>\n <div class=\"article-content clearfix\">\n <header class=\"entry-header\">\n <h2 class=\"entry-title\">\n <a href=\"https://portal.sina.com.hk/news-hongkong/gia-info-gov-hk/2024/04/01/795889/%e6%a9%ab%e9%a0%ad%e7%a3%a1%e8%b3%bd%e9%a6%ac%e6%9c%83%e6%99%ae%e9%80%9a%e7%a7%91%e9%96%80%e8%a8%ba%e8%a8%ba%e6%89%80%e6%9a%ab%e9%81%b7%e6%9c%8d%e5%8b%99%e9%96%8b%e5%b1%95%e7%bf%bb%e6%96%b0%e5%b7%a5/\" title=\"橫頭磡賽馬會普通科門診診所暫遷服務開展翻新工程\">\n \t\t\t\t橫頭磡賽馬會普通科門診診所暫遷服務開展翻新工程\t\t\t\t</a>\n </h2>\n </header>\n <div class=\"below-entry-meta\">\n <span class=\"posted-on\"><a href=\"https://portal.sina.com.hk/news-hongkong/gia-info-gov-hk/2024/04/01/795889/%e6%a9%ab%e9%a0%ad%e7%a3%a1%e8%b3%bd%e9%a6%ac%e6%9c%83%e6%99%ae%e9%80%9a%e7%a7%91%e9%96%80%e8%a8%ba%e8%a8%ba%e6%89%80%e6%9a%ab%e9%81%b7%e6%9c%8d%e5%8b%99%e9%96%8b%e5%b1%95%e7%bf%bb%e6%96%b0%e5%b7%a5/\" rel=\"bookmark\" title=\"11:00 am\"><i class=\"fa fa-calendar-o\"></i> <time class=\"entry-date published updated\" datetime=\"2024-04-01T11:00:00+08:00\">04月01日 11:00</time></a></span>\n <span class=\"byline\">\n <span class=\"author vcard\">\n <i class=\"fa fa-user\"></i>\n <a class=\"url fn n\" href=\"https://portal.sina.com.hk/author/gia-info-gov-hk/\" title=\"香港政府新聞公報\">\n \t\t\t\t\t\t香港政府新聞公報\t\t\t\t\t</a>\n </span>\n </span>\n </div>\n <div class=\"entry-content clearfix\">\n <p>下稿代醫院管理局發出：</p>\n <p> 九龍中醫院聯網發言人今日（四月一日）公布，位於橫頭磡聯合道2…</p>\n </div>\n </div>\n </article>,\n <article class=\"archive-layout-two post-795859 post type-post status-publish format-standard has-post-thumbnail hentry category-news-realtime tag-newshkautohilite\" id=\"post-795859\">\n <div class=\"featured-image\">\n <a href=\"https://portal.sina.com.hk/news-hongkong/news-realtime/rthk/2024/04/01/795859/%e5%9e%83%e5%9c%be%e6%94%b6%e8%b2%bb%e5%85%88%e8%a1%8c%e5%85%88%e8%a9%a6%e4%bb%8a%e6%8e%a8%e8%a1%8c%e3%80%80%e6%9c%89%e5%b8%82%e6%b0%91%e5%8f%83%e8%88%87%e5%8a%a9%e6%8e%a8%e7%92%b0%e4%bf%9d%e6%84%8f/\" title=\"垃圾收費先行先試今推行　有市民參與助推環保意識\">\n </a><figure><a href=\"https://portal.sina.com.hk/news-hongkong/news-realtime/rthk/2024/04/01/795859/%e5%9e%83%e5%9c%be%e6%94%b6%e8%b2%bb%e5%85%88%e8%a1%8c%e5%85%88%e8%a9%a6%e4%bb%8a%e6%8e%a8%e8%a1%8c%e3%80%80%e6%9c%89%e5%b8%82%e6%b0%91%e5%8f%83%e8%88%87%e5%8a%a9%e6%8e%a8%e7%92%b0%e4%bf%9d%e6%84%8f/\" title=\"垃圾收費先行先試今推行　有市民參與助推環保意識\"></a><a href=\"https://portal.sina.com.hk/news-hongkong/news-realtime/rthk/2024/04/01/795859/%e5%9e%83%e5%9c%be%e6%94%b6%e8%b2%bb%e5%85%88%e8%a1%8c%e5%85%88%e8%a9%a6%e4%bb%8a%e6%8e%a8%e8%a1%8c%e3%80%80%e6%9c%89%e5%b8%82%e6%b0%91%e5%8f%83%e8%88%87%e5%8a%a9%e6%8e%a8%e7%92%b0%e4%bf%9d%e6%84%8f/\" title=\"垃圾收費先行先試今推行　有市民參與助推環保意識\"><img alt=\"\" height=\"205\" src=\"https://newsstatic.rthk.hk/images/mfile_1747070_1_L_20240401115845.jpg\" style=\"object-position:100% 20%;object-fit:cover;width:390px;height:205px\" title=\"\" width=\"390\"/></a></figure>\n </div>\n <div class=\"article-content clearfix\">\n <header class=\"entry-header\">\n <h2 class=\"entry-title\">\n <a href=\"https://portal.sina.com.hk/news-hongkong/news-realtime/rthk/2024/04/01/795859/%e5%9e%83%e5%9c%be%e6%94%b6%e8%b2%bb%e5%85%88%e8%a1%8c%e5%85%88%e8%a9%a6%e4%bb%8a%e6%8e%a8%e8%a1%8c%e3%80%80%e6%9c%89%e5%b8%82%e6%b0%91%e5%8f%83%e8%88%87%e5%8a%a9%e6%8e%a8%e7%92%b0%e4%bf%9d%e6%84%8f/\" title=\"垃圾收費先行先試今推行　有市民參與助推環保意識\">\n \t\t\t\t垃圾收費先行先試今推行　有市民參與助推環保意識\t\t\t\t</a>\n </h2>\n </header>\n <div class=\"below-entry-meta\">\n <span class=\"posted-on\"><a href=\"https://portal.sina.com.hk/news-hongkong/news-realtime/rthk/2024/04/01/795859/%e5%9e%83%e5%9c%be%e6%94%b6%e8%b2%bb%e5%85%88%e8%a1%8c%e5%85%88%e8%a9%a6%e4%bb%8a%e6%8e%a8%e8%a1%8c%e3%80%80%e6%9c%89%e5%b8%82%e6%b0%91%e5%8f%83%e8%88%87%e5%8a%a9%e6%8e%a8%e7%92%b0%e4%bf%9d%e6%84%8f/\" rel=\"bookmark\" title=\"10:58 am\"><i class=\"fa fa-calendar-o\"></i> <time class=\"entry-date published\" datetime=\"2024-04-01T10:58:45+08:00\">04月01日 10:58</time><time class=\"updated\" datetime=\"2024-04-01T15:06:32+08:00\">04月01日 15:06</time></a></span>\n <span class=\"byline\">\n <span class=\"author vcard\">\n <i class=\"fa fa-user\"></i>\n <a class=\"url fn n\" href=\"https://portal.sina.com.hk/author/rthk/\" title=\"香港電台\">\n \t\t\t\t\t\t香港電台\t\t\t\t\t</a>\n </span>\n </span>\n <span class=\"tag-links\"><i class=\"fa fa-tags\"></i><a href=\"https://portal.sina.com.hk/tag/newshkautohilite/\" rel=\"tag\">news-hk-auto-hilite</a></span></div>\n <div class=\"entry-content clearfix\">\n <p>政府今日起在全港14個指定地點，推行垃圾收費先行先試計劃，包括政府大樓、住宅、商場、食肆以及院舍等。…</p>\n </div>\n </div>\n </article>,\n <article class=\"archive-layout-two post-795859 type-post status-publish format-standard has-post-thumbnail hentry category-news-realtime tag-newshkautohilite post\" id=\"post-795859\">\n <div class=\"featured-image\">\n <a href=\"https://portal.sina.com.hk/news-hongkong/news-realtime/rthk/2024/04/01/795859/%e5%9e%83%e5%9c%be%e6%94%b6%e8%b2%bb%e5%85%88%e8%a1%8c%e5%85%88%e8%a9%a6%e4%bb%8a%e6%8e%a8%e8%a1%8c%e3%80%80%e6%9c%89%e5%b8%82%e6%b0%91%e5%8f%83%e8%88%87%e5%8a%a9%e6%8e%a8%e7%92%b0%e4%bf%9d%e6%84%8f/\" title=\"垃圾收費先行先試今推行　有市民參與助推環保意識\">\n </a><figure><a href=\"https://portal.sina.com.hk/news-hongkong/news-realtime/rthk/2024/04/01/795859/%e5%9e%83%e5%9c%be%e6%94%b6%e8%b2%bb%e5%85%88%e8%a1%8c%e5%85%88%e8%a9%a6%e4%bb%8a%e6%8e%a8%e8%a1%8c%e3%80%80%e6%9c%89%e5%b8%82%e6%b0%91%e5%8f%83%e8%88%87%e5%8a%a9%e6%8e%a8%e7%92%b0%e4%bf%9d%e6%84%8f/\" title=\"垃圾收費先行先試今推行　有市民參與助推環保意識\"></a><a href=\"https://portal.sina.com.hk/news-hongkong/news-realtime/rthk/2024/04/01/795859/%e5%9e%83%e5%9c%be%e6%94%b6%e8%b2%bb%e5%85%88%e8%a1%8c%e5%85%88%e8%a9%a6%e4%bb%8a%e6%8e%a8%e8%a1%8c%e3%80%80%e6%9c%89%e5%b8%82%e6%b0%91%e5%8f%83%e8%88%87%e5%8a%a9%e6%8e%a8%e7%92%b0%e4%bf%9d%e6%84%8f/\" title=\"垃圾收費先行先試今推行　有市民參與助推環保意識\"><img alt=\"\" height=\"205\" src=\"https://newsstatic.rthk.hk/images/mfile_1747070_1_L_20240401115845.jpg\" style=\"object-position:100% 20%;object-fit:cover;width:390px;height:205px\" title=\"\" width=\"390\"/></a></figure>\n </div>\n <div class=\"article-content clearfix\">\n <header class=\"entry-header\">\n <h2 class=\"entry-title\">\n <a href=\"https://portal.sina.com.hk/news-hongkong/news-realtime/rthk/2024/04/01/795859/%e5%9e%83%e5%9c%be%e6%94%b6%e8%b2%bb%e5%85%88%e8%a1%8c%e5%85%88%e8%a9%a6%e4%bb%8a%e6%8e%a8%e8%a1%8c%e3%80%80%e6%9c%89%e5%b8%82%e6%b0%91%e5%8f%83%e8%88%87%e5%8a%a9%e6%8e%a8%e7%92%b0%e4%bf%9d%e6%84%8f/\" title=\"垃圾收費先行先試今推行　有市民參與助推環保意識\">\n \t\t\t\t垃圾收費先行先試今推行　有市民參與助推環保意識\t\t\t\t</a>\n </h2>\n </header>\n <div class=\"below-entry-meta\">\n <span class=\"posted-on\"><a href=\"https://portal.sina.com.hk/news-hongkong/news-realtime/rthk/2024/04/01/795859/%e5%9e%83%e5%9c%be%e6%94%b6%e8%b2%bb%e5%85%88%e8%a1%8c%e5%85%88%e8%a9%a6%e4%bb%8a%e6%8e%a8%e8%a1%8c%e3%80%80%e6%9c%89%e5%b8%82%e6%b0%91%e5%8f%83%e8%88%87%e5%8a%a9%e6%8e%a8%e7%92%b0%e4%bf%9d%e6%84%8f/\" rel=\"bookmark\" title=\"10:58 am\"><i class=\"fa fa-calendar-o\"></i> <time class=\"entry-date published\" datetime=\"2024-04-01T10:58:45+08:00\">04月01日 10:58</time><time class=\"updated\" datetime=\"2024-04-01T15:11:57+08:00\">04月01日 15:11</time></a></span>\n <span class=\"byline\">\n <span class=\"author vcard\">\n <i class=\"fa fa-user\"></i>\n <a class=\"url fn n\" href=\"https://portal.sina.com.hk/author/rthk/\" title=\"香港電台\">\n \t\t\t\t\t\t香港電台\t\t\t\t\t</a>\n </span>\n </span>\n <span class=\"tag-links\"><i class=\"fa fa-tags\"></i><a href=\"https://portal.sina.com.hk/tag/newshkautohilite/\" rel=\"tag\">news-hk-auto-hilite</a></span></div>\n <div class=\"entry-content clearfix\">\n <p>政府今日起在全港14個指定地點，推行垃圾收費先行先試計劃，包括政府大樓、住宅、商場、食肆以及院舍等。…</p>\n </div>\n </div>\n </article>,\n <article class=\"archive-layout-two post-795861 type-post status-publish format-standard has-post-thumbnail hentry category-news-realtime tag-newshkautohilite post\" id=\"post-795861\">\n <div class=\"featured-image\">\n <a href=\"https://portal.sina.com.hk/news-hongkong/news-realtime/rthk/2024/04/01/795861/%e6%b7%b1%e5%9c%b3%e6%96%99%e4%bb%8a%e6%97%a5%e9%81%8e%e9%97%9c%e9%ab%98%e5%b3%b0%e4%b8%ad%e5%8d%88%e8%87%b3%e6%99%9a%e4%b8%8a10%e6%99%82%e3%80%80%e7%b1%b2%e6%97%85%e5%ae%a2%e9%8c%af%e5%b3%b0%e5%87%ba/\" title=\"深圳料今日過關高峰中午至晚上10時　籲旅客錯峰出行\">\n </a><figure><a href=\"https://portal.sina.com.hk/news-hongkong/news-realtime/rthk/2024/04/01/795861/%e6%b7%b1%e5%9c%b3%e6%96%99%e4%bb%8a%e6%97%a5%e9%81%8e%e9%97%9c%e9%ab%98%e5%b3%b0%e4%b8%ad%e5%8d%88%e8%87%b3%e6%99%9a%e4%b8%8a10%e6%99%82%e3%80%80%e7%b1%b2%e6%97%85%e5%ae%a2%e9%8c%af%e5%b3%b0%e5%87%ba/\" title=\"深圳料今日過關高峰中午至晚上10時　籲旅客錯峰出行\"></a><a href=\"https://portal.sina.com.hk/news-hongkong/news-realtime/rthk/2024/04/01/795861/%e6%b7%b1%e5%9c%b3%e6%96%99%e4%bb%8a%e6%97%a5%e9%81%8e%e9%97%9c%e9%ab%98%e5%b3%b0%e4%b8%ad%e5%8d%88%e8%87%b3%e6%99%9a%e4%b8%8a10%e6%99%82%e3%80%80%e7%b1%b2%e6%97%85%e5%ae%a2%e9%8c%af%e5%b3%b0%e5%87%ba/\" title=\"深圳料今日過關高峰中午至晚上10時　籲旅客錯峰出行\"><img alt=\"\" height=\"205\" src=\"https://newsstatic.rthk.hk/images/mfile_1747069_1_L_20240401111924.jpg\" style=\"object-position:100% 20%;object-fit:cover;width:390px;height:205px\" title=\"\" width=\"390\"/></a></figure>\n </div>\n <div class=\"article-content clearfix\">\n <header class=\"entry-header\">\n <h2 class=\"entry-title\">\n <a href=\"https://portal.sina.com.hk/news-hongkong/news-realtime/rthk/2024/04/01/795861/%e6%b7%b1%e5%9c%b3%e6%96%99%e4%bb%8a%e6%97%a5%e9%81%8e%e9%97%9c%e9%ab%98%e5%b3%b0%e4%b8%ad%e5%8d%88%e8%87%b3%e6%99%9a%e4%b8%8a10%e6%99%82%e3%80%80%e7%b1%b2%e6%97%85%e5%ae%a2%e9%8c%af%e5%b3%b0%e5%87%ba/\" title=\"深圳料今日過關高峰中午至晚上10時　籲旅客錯峰出行\">\n \t\t\t\t深圳料今日過關高峰中午至晚上10時　籲旅客錯峰出行\t\t\t\t</a>\n </h2>\n </header>\n <div class=\"below-entry-meta\">\n <span class=\"posted-on\"><a href=\"https://portal.sina.com.hk/news-hongkong/news-realtime/rthk/2024/04/01/795861/%e6%b7%b1%e5%9c%b3%e6%96%99%e4%bb%8a%e6%97%a5%e9%81%8e%e9%97%9c%e9%ab%98%e5%b3%b0%e4%b8%ad%e5%8d%88%e8%87%b3%e6%99%9a%e4%b8%8a10%e6%99%82%e3%80%80%e7%b1%b2%e6%97%85%e5%ae%a2%e9%8c%af%e5%b3%b0%e5%87%ba/\" rel=\"bookmark\" title=\"10:54 am\"><i class=\"fa fa-calendar-o\"></i> <time class=\"entry-date published\" datetime=\"2024-04-01T10:54:35+08:00\">04月01日 10:54</time><time class=\"updated\" datetime=\"2024-04-01T15:12:09+08:00\">04月01日 15:12</time></a></span>\n <span class=\"byline\">\n <span class=\"author vcard\">\n <i class=\"fa fa-user\"></i>\n <a class=\"url fn n\" href=\"https://portal.sina.com.hk/author/rthk/\" title=\"香港電台\">\n \t\t\t\t\t\t香港電台\t\t\t\t\t</a>\n </span>\n </span>\n <span class=\"tag-links\"><i class=\"fa fa-tags\"></i><a href=\"https://portal.sina.com.hk/tag/newshkautohilite/\" rel=\"tag\">news-hk-auto-hilite</a></span></div>\n <div class=\"entry-content clearfix\">\n <p>今日是最後一天復活節假期，深圳邊檢總站預料，中午12時至晚上10時是深港口岸過關高峰期。 深圳邊檢總…</p>\n </div>\n </div>\n </article>,\n <article class=\"archive-layout-two post-795840 type-post status-publish format-standard has-post-thumbnail hentry category-news-realtime category-news-bayarea tag-newshkautohilite post\" id=\"post-795840\">\n <div class=\"featured-image\">\n <a href=\"https://portal.sina.com.hk/news-hongkong/news-realtime/rthk/2024/04/01/795840/%e5%be%a9%e6%b4%bb%e7%af%80%e5%81%87%e5%a0%b1%e5%9c%98%e4%ba%ba%e6%95%b8%e5%80%8d%e5%a2%9e%e3%80%80%e6%a5%ad%e7%95%8c%e6%8c%87%e5%85%a7%e5%9c%b0%e9%81%8a%e5%9c%98%e9%87%8f%e5%8d%87%e4%b8%89%e5%80%8d/\" title=\"政府委任近3千人為新一屆三會委員包涵全數現屆區議員\">\n </a><figure><a href=\"https://portal.sina.com.hk/news-hongkong/news-realtime/rthk/2024/04/01/795840/%e5%be%a9%e6%b4%bb%e7%af%80%e5%81%87%e5%a0%b1%e5%9c%98%e4%ba%ba%e6%95%b8%e5%80%8d%e5%a2%9e%e3%80%80%e6%a5%ad%e7%95%8c%e6%8c%87%e5%85%a7%e5%9c%b0%e9%81%8a%e5%9c%98%e9%87%8f%e5%8d%87%e4%b8%89%e5%80%8d/\" title=\"政府委任近3千人為新一屆三會委員包涵全數現屆區議員\"></a><a href=\"https://portal.sina.com.hk/news-hongkong/news-realtime/rthk/2024/04/01/795840/%e5%be%a9%e6%b4%bb%e7%af%80%e5%81%87%e5%a0%b1%e5%9c%98%e4%ba%ba%e6%95%b8%e5%80%8d%e5%a2%9e%e3%80%80%e6%a5%ad%e7%95%8c%e6%8c%87%e5%85%a7%e5%9c%b0%e9%81%8a%e5%9c%98%e9%87%8f%e5%8d%87%e4%b8%89%e5%80%8d/\" title=\"政府委任近3千人為新一屆三會委員包涵全數現屆區議員\"><img alt=\"\" height=\"205\" src=\"https://newsstatic.rthk.hk/images/mfile_1747066_1_L_20240401124435.jpg\" style=\"object-position:100% 20%;object-fit:cover;width:390px;height:205px\" title=\"\" width=\"390\"/></a></figure>\n </div>\n <div class=\"article-content clearfix\">\n <header class=\"entry-header\">\n <h2 class=\"entry-title\">\n <a href=\"https://portal.sina.com.hk/news-hongkong/news-realtime/rthk/2024/04/01/795840/%e5%be%a9%e6%b4%bb%e7%af%80%e5%81%87%e5%a0%b1%e5%9c%98%e4%ba%ba%e6%95%b8%e5%80%8d%e5%a2%9e%e3%80%80%e6%a5%ad%e7%95%8c%e6%8c%87%e5%85%a7%e5%9c%b0%e9%81%8a%e5%9c%98%e9%87%8f%e5%8d%87%e4%b8%89%e5%80%8d/\" title=\"政府委任近3千人為新一屆三會委員包涵全數現屆區議員\">\n \t\t\t\t政府委任近3千人為新一屆三會委員包涵全數現屆區議員\t\t\t\t</a>\n </h2>\n </header>\n <div class=\"below-entry-meta\">\n <span class=\"posted-on\"><a href=\"https://portal.sina.com.hk/news-hongkong/news-realtime/rthk/2024/04/01/795840/%e5%be%a9%e6%b4%bb%e7%af%80%e5%81%87%e5%a0%b1%e5%9c%98%e4%ba%ba%e6%95%b8%e5%80%8d%e5%a2%9e%e3%80%80%e6%a5%ad%e7%95%8c%e6%8c%87%e5%85%a7%e5%9c%b0%e9%81%8a%e5%9c%98%e9%87%8f%e5%8d%87%e4%b8%89%e5%80%8d/\" rel=\"bookmark\" title=\"10:38 am\"><i class=\"fa fa-calendar-o\"></i> <time class=\"entry-date published\" datetime=\"2024-04-01T10:38:19+08:00\">04月01日 10:38</time><time class=\"updated\" datetime=\"2024-04-01T15:12:18+08:00\">04月01日 15:12</time></a></span>\n <span class=\"byline\">\n <span class=\"author vcard\">\n <i class=\"fa fa-user\"></i>\n <a class=\"url fn n\" href=\"https://portal.sina.com.hk/author/rthk/\" title=\"香港電台\">\n \t\t\t\t\t\t香港電台\t\t\t\t\t</a>\n </span>\n </span>\n <span class=\"tag-links\"><i class=\"fa fa-tags\"></i><a href=\"https://portal.sina.com.hk/tag/newshkautohilite/\" rel=\"tag\">news-hk-auto-hilite</a></span></div>\n <div class=\"entry-content clearfix\">\n <p>旅行社東瀛遊執行董事禤國全表示，今個復活節假期是疫後復常的第二個復活節，報團人數有很大升幅，整體較去…</p>\n </div>\n </div>\n </article>,\n <article class=\"archive-layout-two post-795813 type-post status-publish format-standard has-post-thumbnail hentry category-news-realtime category-news-bayarea tag-newshkautohilite post\" id=\"post-795813\">\n <div class=\"featured-image\">\n <a href=\"https://portal.sina.com.hk/news-hongkong/news-realtime/rthk/2024/04/01/795813/%e6%9c%89%e6%97%85%e8%a1%8c%e7%a4%be%e6%8c%87%e5%be%a9%e6%b4%bb%e7%af%80%e6%95%b4%e9%ab%94%e5%a0%b1%e5%9c%98%e4%ba%ba%e6%95%b8%e8%b6%85%e9%81%8e%e4%b8%80%e5%80%8d%e3%80%80%e5%be%80%e5%85%a7%e5%9c%b0/\" title=\"有旅行社指復活節整體報團人數超過一倍　往內地旅遊升幅最顯著\">\n </a><figure><a href=\"https://portal.sina.com.hk/news-hongkong/news-realtime/rthk/2024/04/01/795813/%e6%9c%89%e6%97%85%e8%a1%8c%e7%a4%be%e6%8c%87%e5%be%a9%e6%b4%bb%e7%af%80%e6%95%b4%e9%ab%94%e5%a0%b1%e5%9c%98%e4%ba%ba%e6%95%b8%e8%b6%85%e9%81%8e%e4%b8%80%e5%80%8d%e3%80%80%e5%be%80%e5%85%a7%e5%9c%b0/\" title=\"有旅行社指復活節整體報團人數超過一倍　往內地旅遊升幅最顯著\"></a><a href=\"https://portal.sina.com.hk/news-hongkong/news-realtime/rthk/2024/04/01/795813/%e6%9c%89%e6%97%85%e8%a1%8c%e7%a4%be%e6%8c%87%e5%be%a9%e6%b4%bb%e7%af%80%e6%95%b4%e9%ab%94%e5%a0%b1%e5%9c%98%e4%ba%ba%e6%95%b8%e8%b6%85%e9%81%8e%e4%b8%80%e5%80%8d%e3%80%80%e5%be%80%e5%85%a7%e5%9c%b0/\" title=\"有旅行社指復活節整體報團人數超過一倍　往內地旅遊升幅最顯著\"><img alt=\"\" height=\"205\" src=\"https://newsstatic.rthk.hk/images/mfile_1747065_1_L_20240401104423.jpg\" style=\"object-position:100% 20%;object-fit:cover;width:390px;height:205px\" title=\"\" width=\"390\"/></a></figure>\n </div>\n <div class=\"article-content clearfix\">\n <header class=\"entry-header\">\n <h2 class=\"entry-title\">\n <a href=\"https://portal.sina.com.hk/news-hongkong/news-realtime/rthk/2024/04/01/795813/%e6%9c%89%e6%97%85%e8%a1%8c%e7%a4%be%e6%8c%87%e5%be%a9%e6%b4%bb%e7%af%80%e6%95%b4%e9%ab%94%e5%a0%b1%e5%9c%98%e4%ba%ba%e6%95%b8%e8%b6%85%e9%81%8e%e4%b8%80%e5%80%8d%e3%80%80%e5%be%80%e5%85%a7%e5%9c%b0/\" title=\"有旅行社指復活節整體報團人數超過一倍　往內地旅遊升幅最顯著\">\n \t\t\t\t有旅行社指復活節整體報團人數超過一倍　往內地旅遊升幅最顯著\t\t\t\t</a>\n </h2>\n </header>\n <div class=\"below-entry-meta\">\n <span class=\"posted-on\"><a href=\"https://portal.sina.com.hk/news-hongkong/news-realtime/rthk/2024/04/01/795813/%e6%9c%89%e6%97%85%e8%a1%8c%e7%a4%be%e6%8c%87%e5%be%a9%e6%b4%bb%e7%af%80%e6%95%b4%e9%ab%94%e5%a0%b1%e5%9c%98%e4%ba%ba%e6%95%b8%e8%b6%85%e9%81%8e%e4%b8%80%e5%80%8d%e3%80%80%e5%be%80%e5%85%a7%e5%9c%b0/\" rel=\"bookmark\" title=\"10:28 am\"><i class=\"fa fa-calendar-o\"></i> <time class=\"entry-date published\" datetime=\"2024-04-01T10:28:23+08:00\">04月01日 10:28</time><time class=\"updated\" datetime=\"2024-04-01T15:12:27+08:00\">04月01日 15:12</time></a></span>\n <span class=\"byline\">\n <span class=\"author vcard\">\n <i class=\"fa fa-user\"></i>\n <a class=\"url fn n\" href=\"https://portal.sina.com.hk/author/rthk/\" title=\"香港電台\">\n \t\t\t\t\t\t香港電台\t\t\t\t\t</a>\n </span>\n </span>\n <span class=\"tag-links\"><i class=\"fa fa-tags\"></i><a href=\"https://portal.sina.com.hk/tag/newshkautohilite/\" rel=\"tag\">news-hk-auto-hilite</a></span></div>\n <div class=\"entry-content clearfix\">\n <p>旅行社東瀛遊執行董事禤國全表示，今個復活節假期是疫後復常的第二個復活節，報團人數有很大升幅，整體較去…</p>\n </div>\n </div>\n </article>,\n <article class=\"archive-layout-two post-795803 type-post status-publish format-standard has-post-thumbnail hentry category-news-realtime tag-newshkautohilite post\" id=\"post-795803\">\n <div class=\"featured-image\">\n <a href=\"https://portal.sina.com.hk/news-hongkong/news-realtime/rthk/2024/04/01/795803/%e9%99%b3%e7%a9%8d%e5%bf%97%e4%bb%8a%e6%97%a5%e5%b1%a5%e6%96%b0%e7%94%b3%e8%a8%b4%e5%b0%88%e5%93%a1%e8%81%b7%e5%8b%99%e3%80%80%e7%ab%ad%e5%8a%9b%e6%8f%90%e9%ab%98%e5%85%ac%e5%85%b1%e8%a1%8c%e6%94%bf/\" title=\"陳積志今日履新申訴專員職務　竭力提高公共行政質素\">\n </a><figure><a href=\"https://portal.sina.com.hk/news-hongkong/news-realtime/rthk/2024/04/01/795803/%e9%99%b3%e7%a9%8d%e5%bf%97%e4%bb%8a%e6%97%a5%e5%b1%a5%e6%96%b0%e7%94%b3%e8%a8%b4%e5%b0%88%e5%93%a1%e8%81%b7%e5%8b%99%e3%80%80%e7%ab%ad%e5%8a%9b%e6%8f%90%e9%ab%98%e5%85%ac%e5%85%b1%e8%a1%8c%e6%94%bf/\" title=\"陳積志今日履新申訴專員職務　竭力提高公共行政質素\"></a><a href=\"https://portal.sina.com.hk/news-hongkong/news-realtime/rthk/2024/04/01/795803/%e9%99%b3%e7%a9%8d%e5%bf%97%e4%bb%8a%e6%97%a5%e5%b1%a5%e6%96%b0%e7%94%b3%e8%a8%b4%e5%b0%88%e5%93%a1%e8%81%b7%e5%8b%99%e3%80%80%e7%ab%ad%e5%8a%9b%e6%8f%90%e9%ab%98%e5%85%ac%e5%85%b1%e8%a1%8c%e6%94%bf/\" title=\"陳積志今日履新申訴專員職務　竭力提高公共行政質素\"><img alt=\"\" height=\"205\" src=\"https://newsstatic.rthk.hk/images/mfile_1747064_1_L_20240401105937.jpg\" style=\"object-position:100% 20%;object-fit:cover;width:390px;height:205px\" title=\"\" width=\"390\"/></a></figure>\n </div>\n <div class=\"article-content clearfix\">\n <header class=\"entry-header\">\n <h2 class=\"entry-title\">\n <a href=\"https://portal.sina.com.hk/news-hongkong/news-realtime/rthk/2024/04/01/795803/%e9%99%b3%e7%a9%8d%e5%bf%97%e4%bb%8a%e6%97%a5%e5%b1%a5%e6%96%b0%e7%94%b3%e8%a8%b4%e5%b0%88%e5%93%a1%e8%81%b7%e5%8b%99%e3%80%80%e7%ab%ad%e5%8a%9b%e6%8f%90%e9%ab%98%e5%85%ac%e5%85%b1%e8%a1%8c%e6%94%bf/\" title=\"陳積志今日履新申訴專員職務　竭力提高公共行政質素\">\n \t\t\t\t陳積志今日履新申訴專員職務　竭力提高公共行政質素\t\t\t\t</a>\n </h2>\n </header>\n <div class=\"below-entry-meta\">\n <span class=\"posted-on\"><a href=\"https://portal.sina.com.hk/news-hongkong/news-realtime/rthk/2024/04/01/795803/%e9%99%b3%e7%a9%8d%e5%bf%97%e4%bb%8a%e6%97%a5%e5%b1%a5%e6%96%b0%e7%94%b3%e8%a8%b4%e5%b0%88%e5%93%a1%e8%81%b7%e5%8b%99%e3%80%80%e7%ab%ad%e5%8a%9b%e6%8f%90%e9%ab%98%e5%85%ac%e5%85%b1%e8%a1%8c%e6%94%bf/\" rel=\"bookmark\" title=\"10:15 am\"><i class=\"fa fa-calendar-o\"></i> <time class=\"entry-date published\" datetime=\"2024-04-01T10:15:44+08:00\">04月01日 10:15</time><time class=\"updated\" datetime=\"2024-04-01T15:12:36+08:00\">04月01日 15:12</time></a></span>\n <span class=\"byline\">\n <span class=\"author vcard\">\n <i class=\"fa fa-user\"></i>\n <a class=\"url fn n\" href=\"https://portal.sina.com.hk/author/rthk/\" title=\"香港電台\">\n \t\t\t\t\t\t香港電台\t\t\t\t\t</a>\n </span>\n </span>\n <span class=\"tag-links\"><i class=\"fa fa-tags\"></i><a href=\"https://portal.sina.com.hk/tag/newshkautohilite/\" rel=\"tag\">news-hk-auto-hilite</a></span></div>\n <div class=\"entry-content clearfix\">\n <p>新任申訴專員陳積志今日履新，展開5年任期。 陳積志表示，十分榮幸獲得行政長官委任為申訴專員，他會根據…</p>\n </div>\n </div>\n </article>,\n <article class=\"archive-layout-two post-795797 type-post status-publish format-standard has-post-thumbnail hentry category-news-realtime tag-newshkautohilite post\" id=\"post-795797\">\n <div class=\"featured-image\">\n <a href=\"https://portal.sina.com.hk/news-hongkong/news-realtime/rthk/2024/04/01/795797/%e7%82%ba%e4%bf%9d%e8%ad%b7%e7%b6%a0%e6%b5%b7%e9%be%9c%e7%94%a2%e5%8d%b5%e3%80%80%e6%9c%aa%e7%b6%93%e8%a8%b1%e5%8f%af%e8%80%85%e5%8b%bf%e9%80%b2%e5%85%a5%e5%8d%97%e4%b8%ab%e5%b3%b6%e6%b7%b1%e7%81%a3/\" title=\"為保護綠海龜產卵　未經許可者勿進入南丫島深灣限制區\">\n </a><figure><a href=\"https://portal.sina.com.hk/news-hongkong/news-realtime/rthk/2024/04/01/795797/%e7%82%ba%e4%bf%9d%e8%ad%b7%e7%b6%a0%e6%b5%b7%e9%be%9c%e7%94%a2%e5%8d%b5%e3%80%80%e6%9c%aa%e7%b6%93%e8%a8%b1%e5%8f%af%e8%80%85%e5%8b%bf%e9%80%b2%e5%85%a5%e5%8d%97%e4%b8%ab%e5%b3%b6%e6%b7%b1%e7%81%a3/\" title=\"為保護綠海龜產卵　未經許可者勿進入南丫島深灣限制區\"></a><a href=\"https://portal.sina.com.hk/news-hongkong/news-realtime/rthk/2024/04/01/795797/%e7%82%ba%e4%bf%9d%e8%ad%b7%e7%b6%a0%e6%b5%b7%e9%be%9c%e7%94%a2%e5%8d%b5%e3%80%80%e6%9c%aa%e7%b6%93%e8%a8%b1%e5%8f%af%e8%80%85%e5%8b%bf%e9%80%b2%e5%85%a5%e5%8d%97%e4%b8%ab%e5%b3%b6%e6%b7%b1%e7%81%a3/\" title=\"為保護綠海龜產卵　未經許可者勿進入南丫島深灣限制區\"><img alt=\"\" height=\"205\" src=\"https://newsstatic.rthk.hk/images/mfile_1747062_1_L_20240401104138.jpg\" style=\"object-position:100% 20%;object-fit:cover;width:390px;height:205px\" title=\"\" width=\"390\"/></a></figure>\n </div>\n <div class=\"article-content clearfix\">\n <header class=\"entry-header\">\n <h2 class=\"entry-title\">\n <a href=\"https://portal.sina.com.hk/news-hongkong/news-realtime/rthk/2024/04/01/795797/%e7%82%ba%e4%bf%9d%e8%ad%b7%e7%b6%a0%e6%b5%b7%e9%be%9c%e7%94%a2%e5%8d%b5%e3%80%80%e6%9c%aa%e7%b6%93%e8%a8%b1%e5%8f%af%e8%80%85%e5%8b%bf%e9%80%b2%e5%85%a5%e5%8d%97%e4%b8%ab%e5%b3%b6%e6%b7%b1%e7%81%a3/\" title=\"為保護綠海龜產卵　未經許可者勿進入南丫島深灣限制區\">\n \t\t\t\t為保護綠海龜產卵　未經許可者勿進入南丫島深灣限制區\t\t\t\t</a>\n </h2>\n </header>\n <div class=\"below-entry-meta\">\n <span class=\"posted-on\"><a href=\"https://portal.sina.com.hk/news-hongkong/news-realtime/rthk/2024/04/01/795797/%e7%82%ba%e4%bf%9d%e8%ad%b7%e7%b6%a0%e6%b5%b7%e9%be%9c%e7%94%a2%e5%8d%b5%e3%80%80%e6%9c%aa%e7%b6%93%e8%a8%b1%e5%8f%af%e8%80%85%e5%8b%bf%e9%80%b2%e5%85%a5%e5%8d%97%e4%b8%ab%e5%b3%b6%e6%b7%b1%e7%81%a3/\" rel=\"bookmark\" title=\"10:10 am\"><i class=\"fa fa-calendar-o\"></i> <time class=\"entry-date published\" datetime=\"2024-04-01T10:10:28+08:00\">04月01日 10:10</time><time class=\"updated\" datetime=\"2024-04-01T15:12:47+08:00\">04月01日 15:12</time></a></span>\n <span class=\"byline\">\n <span class=\"author vcard\">\n <i class=\"fa fa-user\"></i>\n <a class=\"url fn n\" href=\"https://portal.sina.com.hk/author/rthk/\" title=\"香港電台\">\n \t\t\t\t\t\t香港電台\t\t\t\t\t</a>\n </span>\n </span>\n <span class=\"tag-links\"><i class=\"fa fa-tags\"></i><a href=\"https://portal.sina.com.hk/tag/newshkautohilite/\" rel=\"tag\">news-hk-auto-hilite</a></span></div>\n <div class=\"entry-content clearfix\">\n <p>漁護署提醒市民，即日起至10月31日期間，切勿進入南丫島深灣限制地區，以保護綠海龜產卵。 限制地區涉…</p>\n </div>\n </div>\n </article>,\n <article class=\"archive-layout-two post-795812 type-post status-publish format-standard has-post-thumbnail hentry category-news-hongkong post\" id=\"post-795812\">\n <div class=\"featured-image\">\n <a href=\"https://portal.sina.com.hk/news-hongkong/gia-info-gov-hk/2024/04/01/795812/%e5%85%ac%e5%b8%83%e5%9c%b0%e5%8d%80%e3%80%8c%e4%b8%89%e6%9c%83%e3%80%8d%e5%a7%94%e5%93%a1%e5%90%8d%e5%96%ae/\" title=\"公布地區「三會」委員名單\">\n </a><figure><a href=\"https://portal.sina.com.hk/news-hongkong/gia-info-gov-hk/2024/04/01/795812/%e5%85%ac%e5%b8%83%e5%9c%b0%e5%8d%80%e3%80%8c%e4%b8%89%e6%9c%83%e3%80%8d%e5%a7%94%e5%93%a1%e5%90%8d%e5%96%ae/\" title=\"公布地區「三會」委員名單\"></a><a href=\"https://portal.sina.com.hk/news-hongkong/gia-info-gov-hk/2024/04/01/795812/%e5%85%ac%e5%b8%83%e5%9c%b0%e5%8d%80%e3%80%8c%e4%b8%89%e6%9c%83%e3%80%8d%e5%a7%94%e5%93%a1%e5%90%8d%e5%96%ae/\" title=\"公布地區「三會」委員名單\"><img alt=\"\" height=\"205\" src=\"https://portal.sina.com.hk/wp-content/uploads/2023/02/sinacontent_hknews.jpg\" style=\"object-position:100% 20%;object-fit:cover;width:390px;height:205px\" title=\"\" width=\"390\"/></a></figure>\n </div>\n <div class=\"article-content clearfix\">\n <header class=\"entry-header\">\n <h2 class=\"entry-title\">\n <a href=\"https://portal.sina.com.hk/news-hongkong/gia-info-gov-hk/2024/04/01/795812/%e5%85%ac%e5%b8%83%e5%9c%b0%e5%8d%80%e3%80%8c%e4%b8%89%e6%9c%83%e3%80%8d%e5%a7%94%e5%93%a1%e5%90%8d%e5%96%ae/\" title=\"公布地區「三會」委員名單\">\n \t\t\t\t公布地區「三會」委員名單\t\t\t\t</a>\n </h2>\n </header>\n <div class=\"below-entry-meta\">\n <span class=\"posted-on\"><a href=\"https://portal.sina.com.hk/news-hongkong/gia-info-gov-hk/2024/04/01/795812/%e5%85%ac%e5%b8%83%e5%9c%b0%e5%8d%80%e3%80%8c%e4%b8%89%e6%9c%83%e3%80%8d%e5%a7%94%e5%93%a1%e5%90%8d%e5%96%ae/\" rel=\"bookmark\" title=\"10:10 am\"><i class=\"fa fa-calendar-o\"></i> <time class=\"entry-date published updated\" datetime=\"2024-04-01T10:10:00+08:00\">04月01日 10:10</time></a></span>\n <span class=\"byline\">\n <span class=\"author vcard\">\n <i class=\"fa fa-user\"></i>\n <a class=\"url fn n\" href=\"https://portal.sina.com.hk/author/gia-info-gov-hk/\" title=\"香港政府新聞公報\">\n \t\t\t\t\t\t香港政府新聞公報\t\t\t\t\t</a>\n </span>\n </span>\n </div>\n <div class=\"entry-content clearfix\">\n <p>政府今日（四月一日）宣布，民政及青年事務局局長分別委任1 937人、536人及526人為新一屆分區委…</p>\n </div>\n </div>\n </article>,\n <article class=\"archive-layout-two post-795789 type-post status-publish format-standard has-post-thumbnail hentry category-news-realtime tag-newshkautohilite post\" id=\"post-795789\">\n <div class=\"featured-image\">\n <a href=\"https://portal.sina.com.hk/news-hongkong/news-realtime/rthk/2024/04/01/795789/%e9%a6%99%e6%b8%af%e6%b5%b7%e9%97%9c%e5%8d%b3%e6%97%a5%e8%b5%b7%e6%93%b4%e5%a4%a7%e4%b8%ad%e8%bd%89%e6%98%93%e6%9c%8d%e5%8b%99%e8%87%b3%e6%96%b0%e5%8a%a0%e5%9d%a1%e8%b2%a8%e7%89%a9/\" title=\"香港海關即日起擴大中轉易服務至新加坡貨物\">\n </a><figure><a href=\"https://portal.sina.com.hk/news-hongkong/news-realtime/rthk/2024/04/01/795789/%e9%a6%99%e6%b8%af%e6%b5%b7%e9%97%9c%e5%8d%b3%e6%97%a5%e8%b5%b7%e6%93%b4%e5%a4%a7%e4%b8%ad%e8%bd%89%e6%98%93%e6%9c%8d%e5%8b%99%e8%87%b3%e6%96%b0%e5%8a%a0%e5%9d%a1%e8%b2%a8%e7%89%a9/\" title=\"香港海關即日起擴大中轉易服務至新加坡貨物\"></a><a href=\"https://portal.sina.com.hk/news-hongkong/news-realtime/rthk/2024/04/01/795789/%e9%a6%99%e6%b8%af%e6%b5%b7%e9%97%9c%e5%8d%b3%e6%97%a5%e8%b5%b7%e6%93%b4%e5%a4%a7%e4%b8%ad%e8%bd%89%e6%98%93%e6%9c%8d%e5%8b%99%e8%87%b3%e6%96%b0%e5%8a%a0%e5%9d%a1%e8%b2%a8%e7%89%a9/\" title=\"香港海關即日起擴大中轉易服務至新加坡貨物\"><img alt=\"\" height=\"205\" src=\"https://newsstatic.rthk.hk/images/mfile_1747060_1_L_20240401104022.jpg\" style=\"object-position:100% 20%;object-fit:cover;width:390px;height:205px\" title=\"\" width=\"390\"/></a></figure>\n </div>\n <div class=\"article-content clearfix\">\n <header class=\"entry-header\">\n <h2 class=\"entry-title\">\n <a href=\"https://portal.sina.com.hk/news-hongkong/news-realtime/rthk/2024/04/01/795789/%e9%a6%99%e6%b8%af%e6%b5%b7%e9%97%9c%e5%8d%b3%e6%97%a5%e8%b5%b7%e6%93%b4%e5%a4%a7%e4%b8%ad%e8%bd%89%e6%98%93%e6%9c%8d%e5%8b%99%e8%87%b3%e6%96%b0%e5%8a%a0%e5%9d%a1%e8%b2%a8%e7%89%a9/\" title=\"香港海關即日起擴大中轉易服務至新加坡貨物\">\n \t\t\t\t香港海關即日起擴大中轉易服務至新加坡貨物\t\t\t\t</a>\n </h2>\n </header>\n <div class=\"below-entry-meta\">\n <span class=\"posted-on\"><a href=\"https://portal.sina.com.hk/news-hongkong/news-realtime/rthk/2024/04/01/795789/%e9%a6%99%e6%b8%af%e6%b5%b7%e9%97%9c%e5%8d%b3%e6%97%a5%e8%b5%b7%e6%93%b4%e5%a4%a7%e4%b8%ad%e8%bd%89%e6%98%93%e6%9c%8d%e5%8b%99%e8%87%b3%e6%96%b0%e5%8a%a0%e5%9d%a1%e8%b2%a8%e7%89%a9/\" rel=\"bookmark\" title=\"10:01 am\"><i class=\"fa fa-calendar-o\"></i> <time class=\"entry-date published\" datetime=\"2024-04-01T10:01:37+08:00\">04月01日 10:01</time><time class=\"updated\" datetime=\"2024-04-01T15:12:58+08:00\">04月01日 15:12</time></a></span>\n <span class=\"byline\">\n <span class=\"author vcard\">\n <i class=\"fa fa-user\"></i>\n <a class=\"url fn n\" href=\"https://portal.sina.com.hk/author/rthk/\" title=\"香港電台\">\n \t\t\t\t\t\t香港電台\t\t\t\t\t</a>\n </span>\n </span>\n <span class=\"tag-links\"><i class=\"fa fa-tags\"></i><a href=\"https://portal.sina.com.hk/tag/newshkautohilite/\" rel=\"tag\">news-hk-auto-hilite</a></span></div>\n <div class=\"entry-content clearfix\">\n <p>香港海關今日起，將「自由貿易協定中轉貨物便利計劃」擴展至由內地經香港中轉往新加坡的貨物。 「中轉易」…</p>\n </div>\n </div>\n </article>,\n <article class=\"archive-layout-two post-795818 type-post status-publish format-standard has-post-thumbnail hentry category-news-hongkong post\" id=\"post-795818\">\n <div class=\"featured-image\">\n <a href=\"https://portal.sina.com.hk/news-hongkong/gia-info-gov-hk/2024/04/01/795818/%e6%96%b0%e4%bb%bb%e7%94%b3%e8%a8%b4%e5%b0%88%e5%93%a1%e4%bb%8a%e6%97%a5%e5%b1%a5%e6%96%b0/\" title=\"新任申訴專員今日履新\">\n </a><figure><a href=\"https://portal.sina.com.hk/news-hongkong/gia-info-gov-hk/2024/04/01/795818/%e6%96%b0%e4%bb%bb%e7%94%b3%e8%a8%b4%e5%b0%88%e5%93%a1%e4%bb%8a%e6%97%a5%e5%b1%a5%e6%96%b0/\" title=\"新任申訴專員今日履新\"></a><a href=\"https://portal.sina.com.hk/news-hongkong/gia-info-gov-hk/2024/04/01/795818/%e6%96%b0%e4%bb%bb%e7%94%b3%e8%a8%b4%e5%b0%88%e5%93%a1%e4%bb%8a%e6%97%a5%e5%b1%a5%e6%96%b0/\" title=\"新任申訴專員今日履新\"><img alt=\"\" height=\"205\" src=\"https://portal.sina.com.hk/wp-content/uploads/2023/02/sinacontent_hknews.jpg\" style=\"object-position:100% 20%;object-fit:cover;width:390px;height:205px\" title=\"\" width=\"390\"/></a></figure>\n </div>\n <div class=\"article-content clearfix\">\n <header class=\"entry-header\">\n <h2 class=\"entry-title\">\n <a href=\"https://portal.sina.com.hk/news-hongkong/gia-info-gov-hk/2024/04/01/795818/%e6%96%b0%e4%bb%bb%e7%94%b3%e8%a8%b4%e5%b0%88%e5%93%a1%e4%bb%8a%e6%97%a5%e5%b1%a5%e6%96%b0/\" title=\"新任申訴專員今日履新\">\n \t\t\t\t新任申訴專員今日履新\t\t\t\t</a>\n </h2>\n </header>\n <div class=\"below-entry-meta\">\n <span class=\"posted-on\"><a href=\"https://portal.sina.com.hk/news-hongkong/gia-info-gov-hk/2024/04/01/795818/%e6%96%b0%e4%bb%bb%e7%94%b3%e8%a8%b4%e5%b0%88%e5%93%a1%e4%bb%8a%e6%97%a5%e5%b1%a5%e6%96%b0/\" rel=\"bookmark\" title=\"10:00 am\"><i class=\"fa fa-calendar-o\"></i> <time class=\"entry-date published updated\" datetime=\"2024-04-01T10:00:00+08:00\">04月01日 10:00</time></a></span>\n <span class=\"byline\">\n <span class=\"author vcard\">\n <i class=\"fa fa-user\"></i>\n <a class=\"url fn n\" href=\"https://portal.sina.com.hk/author/gia-info-gov-hk/\" title=\"香港政府新聞公報\">\n \t\t\t\t\t\t香港政府新聞公報\t\t\t\t\t</a>\n </span>\n </span>\n </div>\n <div class=\"entry-content clearfix\">\n <p>下稿代申訴專員公署發出：<br/>  <br/> 新任申訴專員陳積志今日（四月一日）展開五年任期。香港特…</p>\n </div>\n </div>\n </article>,\n <article class=\"archive-layout-two post-795783 type-post status-publish format-standard has-post-thumbnail hentry category-news-realtime tag-newshkautohilite post\" id=\"post-795783\">\n <div class=\"featured-image\">\n <a href=\"https://portal.sina.com.hk/news-hongkong/news-realtime/rthk/2024/04/01/795783/%e9%bb%83%e5%ae%b6%e5%92%8c%e6%8c%87%e6%b8%af%e4%ba%ba%e5%8c%97%e4%b8%8a%e6%b6%88%e8%b2%bb%e6%88%90%e9%a2%a8%e3%80%80%e9%a4%90%e9%a3%b2%e6%a5%ad%e5%81%87%e6%9c%9f%e7%94%9f%e6%84%8f%e7%b4%84%e8%b7%8c/\" title=\"黃家和指港人北上消費成風　餐飲業假期生意約跌兩至四成\">\n </a><figure><a href=\"https://portal.sina.com.hk/news-hongkong/news-realtime/rthk/2024/04/01/795783/%e9%bb%83%e5%ae%b6%e5%92%8c%e6%8c%87%e6%b8%af%e4%ba%ba%e5%8c%97%e4%b8%8a%e6%b6%88%e8%b2%bb%e6%88%90%e9%a2%a8%e3%80%80%e9%a4%90%e9%a3%b2%e6%a5%ad%e5%81%87%e6%9c%9f%e7%94%9f%e6%84%8f%e7%b4%84%e8%b7%8c/\" title=\"黃家和指港人北上消費成風　餐飲業假期生意約跌兩至四成\"></a><a href=\"https://portal.sina.com.hk/news-hongkong/news-realtime/rthk/2024/04/01/795783/%e9%bb%83%e5%ae%b6%e5%92%8c%e6%8c%87%e6%b8%af%e4%ba%ba%e5%8c%97%e4%b8%8a%e6%b6%88%e8%b2%bb%e6%88%90%e9%a2%a8%e3%80%80%e9%a4%90%e9%a3%b2%e6%a5%ad%e5%81%87%e6%9c%9f%e7%94%9f%e6%84%8f%e7%b4%84%e8%b7%8c/\" title=\"黃家和指港人北上消費成風　餐飲業假期生意約跌兩至四成\"><img alt=\"\" height=\"205\" src=\"https://newsstatic.rthk.hk/images/mfile_1747059_1_L_20240401102800.jpg\" style=\"object-position:100% 20%;object-fit:cover;width:390px;height:205px\" title=\"\" width=\"390\"/></a></figure>\n </div>\n <div class=\"article-content clearfix\">\n <header class=\"entry-header\">\n <h2 class=\"entry-title\">\n <a href=\"https://portal.sina.com.hk/news-hongkong/news-realtime/rthk/2024/04/01/795783/%e9%bb%83%e5%ae%b6%e5%92%8c%e6%8c%87%e6%b8%af%e4%ba%ba%e5%8c%97%e4%b8%8a%e6%b6%88%e8%b2%bb%e6%88%90%e9%a2%a8%e3%80%80%e9%a4%90%e9%a3%b2%e6%a5%ad%e5%81%87%e6%9c%9f%e7%94%9f%e6%84%8f%e7%b4%84%e8%b7%8c/\" title=\"黃家和指港人北上消費成風　餐飲業假期生意約跌兩至四成\">\n \t\t\t\t黃家和指港人北上消費成風　餐飲業假期生意約跌兩至四成\t\t\t\t</a>\n </h2>\n </header>\n <div class=\"below-entry-meta\">\n <span class=\"posted-on\"><a href=\"https://portal.sina.com.hk/news-hongkong/news-realtime/rthk/2024/04/01/795783/%e9%bb%83%e5%ae%b6%e5%92%8c%e6%8c%87%e6%b8%af%e4%ba%ba%e5%8c%97%e4%b8%8a%e6%b6%88%e8%b2%bb%e6%88%90%e9%a2%a8%e3%80%80%e9%a4%90%e9%a3%b2%e6%a5%ad%e5%81%87%e6%9c%9f%e7%94%9f%e6%84%8f%e7%b4%84%e8%b7%8c/\" rel=\"bookmark\" title=\"9:58 am\"><i class=\"fa fa-calendar-o\"></i> <time class=\"entry-date published\" datetime=\"2024-04-01T09:58:33+08:00\">04月01日 09:58</time><time class=\"updated\" datetime=\"2024-04-01T15:13:10+08:00\">04月01日 15:13</time></a></span>\n <span class=\"byline\">\n <span class=\"author vcard\">\n <i class=\"fa fa-user\"></i>\n <a class=\"url fn n\" href=\"https://portal.sina.com.hk/author/rthk/\" title=\"香港電台\">\n \t\t\t\t\t\t香港電台\t\t\t\t\t</a>\n </span>\n </span>\n <span class=\"tag-links\"><i class=\"fa fa-tags\"></i><a href=\"https://portal.sina.com.hk/tag/newshkautohilite/\" rel=\"tag\">news-hk-auto-hilite</a></span></div>\n <div class=\"entry-content clearfix\">\n <p>香港餐飲聯業協會會長黃家和表示，過去3日復活節假期，大約有135萬人次出境，對餐飲業影響非常大，估計…</p>\n </div>\n </div>\n </article>,\n <article class=\"archive-layout-two post-795773 type-post status-publish format-standard has-post-thumbnail hentry category-news-realtime tag-newshkautohilite post\" id=\"post-795773\">\n <div class=\"featured-image\">\n <a href=\"https://portal.sina.com.hk/news-hongkong/news-realtime/rthk/2024/04/01/795773/%e5%88%86%e6%9e%90%e6%96%99%e6%9c%ac%e6%b8%af2%e6%9c%88%e9%9b%b6%e5%94%ae%e9%8a%b7%e5%94%ae%e6%8c%89%e5%b9%b4%e8%bd%89%e8%b7%8c%e7%b4%842%e3%80%80%e5%85%a8%e5%b9%b4%e5%96%ae%e4%bd%8d%e6%95%b8%e5%a2%9e/\" title=\"分析料本港2月零售銷售按年轉跌約2%　全年單位數增長\">\n </a><figure><a href=\"https://portal.sina.com.hk/news-hongkong/news-realtime/rthk/2024/04/01/795773/%e5%88%86%e6%9e%90%e6%96%99%e6%9c%ac%e6%b8%af2%e6%9c%88%e9%9b%b6%e5%94%ae%e9%8a%b7%e5%94%ae%e6%8c%89%e5%b9%b4%e8%bd%89%e8%b7%8c%e7%b4%842%e3%80%80%e5%85%a8%e5%b9%b4%e5%96%ae%e4%bd%8d%e6%95%b8%e5%a2%9e/\" title=\"分析料本港2月零售銷售按年轉跌約2%　全年單位數增長\"></a><a href=\"https://portal.sina.com.hk/news-hongkong/news-realtime/rthk/2024/04/01/795773/%e5%88%86%e6%9e%90%e6%96%99%e6%9c%ac%e6%b8%af2%e6%9c%88%e9%9b%b6%e5%94%ae%e9%8a%b7%e5%94%ae%e6%8c%89%e5%b9%b4%e8%bd%89%e8%b7%8c%e7%b4%842%e3%80%80%e5%85%a8%e5%b9%b4%e5%96%ae%e4%bd%8d%e6%95%b8%e5%a2%9e/\" title=\"分析料本港2月零售銷售按年轉跌約2%　全年單位數增長\"><img alt=\"\" height=\"205\" src=\"https://newsstatic.rthk.hk/images/mfile_1747058_1_L_20240401110346.jpg\" style=\"object-position:100% 20%;object-fit:cover;width:390px;height:205px\" title=\"\" width=\"390\"/></a></figure>\n </div>\n <div class=\"article-content clearfix\">\n <header class=\"entry-header\">\n <h2 class=\"entry-title\">\n <a href=\"https://portal.sina.com.hk/news-hongkong/news-realtime/rthk/2024/04/01/795773/%e5%88%86%e6%9e%90%e6%96%99%e6%9c%ac%e6%b8%af2%e6%9c%88%e9%9b%b6%e5%94%ae%e9%8a%b7%e5%94%ae%e6%8c%89%e5%b9%b4%e8%bd%89%e8%b7%8c%e7%b4%842%e3%80%80%e5%85%a8%e5%b9%b4%e5%96%ae%e4%bd%8d%e6%95%b8%e5%a2%9e/\" title=\"分析料本港2月零售銷售按年轉跌約2%　全年單位數增長\">\n \t\t\t\t分析料本港2月零售銷售按年轉跌約2%　全年單位數增長\t\t\t\t</a>\n </h2>\n </header>\n <div class=\"below-entry-meta\">\n <span class=\"posted-on\"><a href=\"https://portal.sina.com.hk/news-hongkong/news-realtime/rthk/2024/04/01/795773/%e5%88%86%e6%9e%90%e6%96%99%e6%9c%ac%e6%b8%af2%e6%9c%88%e9%9b%b6%e5%94%ae%e9%8a%b7%e5%94%ae%e6%8c%89%e5%b9%b4%e8%bd%89%e8%b7%8c%e7%b4%842%e3%80%80%e5%85%a8%e5%b9%b4%e5%96%ae%e4%bd%8d%e6%95%b8%e5%a2%9e/\" rel=\"bookmark\" title=\"9:49 am\"><i class=\"fa fa-calendar-o\"></i> <time class=\"entry-date published\" datetime=\"2024-04-01T09:49:36+08:00\">04月01日 09:49</time><time class=\"updated\" datetime=\"2024-04-01T15:13:22+08:00\">04月01日 15:13</time></a></span>\n <span class=\"byline\">\n <span class=\"author vcard\">\n <i class=\"fa fa-user\"></i>\n <a class=\"url fn n\" href=\"https://portal.sina.com.hk/author/rthk/\" title=\"香港電台\">\n \t\t\t\t\t\t香港電台\t\t\t\t\t</a>\n </span>\n </span>\n <span class=\"tag-links\"><i class=\"fa fa-tags\"></i><a href=\"https://portal.sina.com.hk/tag/newshkautohilite/\" rel=\"tag\">news-hk-auto-hilite</a></span></div>\n <div class=\"entry-content clearfix\">\n <p>本港2月零售銷售數據將於星期三公布，大新銀行首席經濟及策略師溫嘉煒預料，零售業銷貨額按年跌約2%，結…</p>\n </div>\n </div>\n </article>,\n <article class=\"archive-layout-two post-795782 type-post status-publish format-standard has-post-thumbnail hentry category-news-hongkong post\" id=\"post-795782\">\n <div class=\"featured-image\">\n <a href=\"https://portal.sina.com.hk/news-hongkong/gia-info-gov-hk/2024/04/01/795782/%e6%bc%81%e8%ad%b7%e7%bd%b2%e5%91%bc%e7%b1%b2%e5%b8%82%e6%b0%91%e5%88%87%e5%8b%bf%e6%96%bc%e9%99%90%e5%88%b6%e6%9c%9f%e5%85%a7%e9%80%b2%e5%85%a5%e6%b7%b1%e7%81%a3%e9%99%90%e5%88%b6%e5%9c%b0%e5%8d%80/\" title=\"漁護署呼籲市民切勿於限制期內進入深灣限制地區\">\n </a><figure><a href=\"https://portal.sina.com.hk/news-hongkong/gia-info-gov-hk/2024/04/01/795782/%e6%bc%81%e8%ad%b7%e7%bd%b2%e5%91%bc%e7%b1%b2%e5%b8%82%e6%b0%91%e5%88%87%e5%8b%bf%e6%96%bc%e9%99%90%e5%88%b6%e6%9c%9f%e5%85%a7%e9%80%b2%e5%85%a5%e6%b7%b1%e7%81%a3%e9%99%90%e5%88%b6%e5%9c%b0%e5%8d%80/\" title=\"漁護署呼籲市民切勿於限制期內進入深灣限制地區\"></a><a href=\"https://portal.sina.com.hk/news-hongkong/gia-info-gov-hk/2024/04/01/795782/%e6%bc%81%e8%ad%b7%e7%bd%b2%e5%91%bc%e7%b1%b2%e5%b8%82%e6%b0%91%e5%88%87%e5%8b%bf%e6%96%bc%e9%99%90%e5%88%b6%e6%9c%9f%e5%85%a7%e9%80%b2%e5%85%a5%e6%b7%b1%e7%81%a3%e9%99%90%e5%88%b6%e5%9c%b0%e5%8d%80/\" title=\"漁護署呼籲市民切勿於限制期內進入深灣限制地區\"><img alt=\"\" height=\"205\" src=\"https://portal.sina.com.hk/wp-content/uploads/2023/02/sinacontent_hknews.jpg\" style=\"object-position:100% 20%;object-fit:cover;width:390px;height:205px\" title=\"\" width=\"390\"/></a></figure>\n </div>\n <div class=\"article-content clearfix\">\n <header class=\"entry-header\">\n <h2 class=\"entry-title\">\n <a href=\"https://portal.sina.com.hk/news-hongkong/gia-info-gov-hk/2024/04/01/795782/%e6%bc%81%e8%ad%b7%e7%bd%b2%e5%91%bc%e7%b1%b2%e5%b8%82%e6%b0%91%e5%88%87%e5%8b%bf%e6%96%bc%e9%99%90%e5%88%b6%e6%9c%9f%e5%85%a7%e9%80%b2%e5%85%a5%e6%b7%b1%e7%81%a3%e9%99%90%e5%88%b6%e5%9c%b0%e5%8d%80/\" title=\"漁護署呼籲市民切勿於限制期內進入深灣限制地區\">\n \t\t\t\t漁護署呼籲市民切勿於限制期內進入深灣限制地區\t\t\t\t</a>\n </h2>\n </header>\n <div class=\"below-entry-meta\">\n <span class=\"posted-on\"><a href=\"https://portal.sina.com.hk/news-hongkong/gia-info-gov-hk/2024/04/01/795782/%e6%bc%81%e8%ad%b7%e7%bd%b2%e5%91%bc%e7%b1%b2%e5%b8%82%e6%b0%91%e5%88%87%e5%8b%bf%e6%96%bc%e9%99%90%e5%88%b6%e6%9c%9f%e5%85%a7%e9%80%b2%e5%85%a5%e6%b7%b1%e7%81%a3%e9%99%90%e5%88%b6%e5%9c%b0%e5%8d%80/\" rel=\"bookmark\" title=\"9:30 am\"><i class=\"fa fa-calendar-o\"></i> <time class=\"entry-date published updated\" datetime=\"2024-04-01T09:30:00+08:00\">04月01日 09:30</time></a></span>\n <span class=\"byline\">\n <span class=\"author vcard\">\n <i class=\"fa fa-user\"></i>\n <a class=\"url fn n\" href=\"https://portal.sina.com.hk/author/gia-info-gov-hk/\" title=\"香港政府新聞公報\">\n \t\t\t\t\t\t香港政府新聞公報\t\t\t\t\t</a>\n </span>\n </span>\n </div>\n <div class=\"entry-content clearfix\">\n <p>漁農自然護理署（漁護署）今日（四月一日）提醒市民，即日起至十月三十一日期間切勿進入南丫島深灣限制地區…</p>\n </div>\n </div>\n </article>,\n <article class=\"archive-layout-two post-795762 type-post status-publish format-standard has-post-thumbnail hentry category-news-realtime tag-newshkautohilite post\" id=\"post-795762\">\n <div class=\"featured-image\">\n <a href=\"https://portal.sina.com.hk/news-hongkong/news-realtime/rthk/2024/04/01/795762/%e5%85%83%e6%9c%97%e5%a4%a7%e6%a3%a0%e8%b7%af%e4%b8%83%e6%97%ac%e7%94%b7%e5%ad%90%e7%96%91%e9%81%ad%e7%9a%84%e5%a3%ab%e6%92%9e%e5%80%92%e3%80%80%e9%80%81%e9%99%a2%e5%be%8c%e4%b8%8d%e6%b2%bb/\" title=\"元朗大棠路七旬男子疑遭的士撞倒　送院後不治\">\n </a><figure><a href=\"https://portal.sina.com.hk/news-hongkong/news-realtime/rthk/2024/04/01/795762/%e5%85%83%e6%9c%97%e5%a4%a7%e6%a3%a0%e8%b7%af%e4%b8%83%e6%97%ac%e7%94%b7%e5%ad%90%e7%96%91%e9%81%ad%e7%9a%84%e5%a3%ab%e6%92%9e%e5%80%92%e3%80%80%e9%80%81%e9%99%a2%e5%be%8c%e4%b8%8d%e6%b2%bb/\" title=\"元朗大棠路七旬男子疑遭的士撞倒　送院後不治\"></a><a href=\"https://portal.sina.com.hk/news-hongkong/news-realtime/rthk/2024/04/01/795762/%e5%85%83%e6%9c%97%e5%a4%a7%e6%a3%a0%e8%b7%af%e4%b8%83%e6%97%ac%e7%94%b7%e5%ad%90%e7%96%91%e9%81%ad%e7%9a%84%e5%a3%ab%e6%92%9e%e5%80%92%e3%80%80%e9%80%81%e9%99%a2%e5%be%8c%e4%b8%8d%e6%b2%bb/\" title=\"元朗大棠路七旬男子疑遭的士撞倒　送院後不治\"><img alt=\"\" height=\"205\" src=\"https://newsstatic.rthk.hk/images/mfile_1747055_1_L_20240401100417.jpg\" style=\"object-position:100% 20%;object-fit:cover;width:390px;height:205px\" title=\"\" width=\"390\"/></a></figure>\n </div>\n <div class=\"article-content clearfix\">\n <header class=\"entry-header\">\n <h2 class=\"entry-title\">\n <a href=\"https://portal.sina.com.hk/news-hongkong/news-realtime/rthk/2024/04/01/795762/%e5%85%83%e6%9c%97%e5%a4%a7%e6%a3%a0%e8%b7%af%e4%b8%83%e6%97%ac%e7%94%b7%e5%ad%90%e7%96%91%e9%81%ad%e7%9a%84%e5%a3%ab%e6%92%9e%e5%80%92%e3%80%80%e9%80%81%e9%99%a2%e5%be%8c%e4%b8%8d%e6%b2%bb/\" title=\"元朗大棠路七旬男子疑遭的士撞倒　送院後不治\">\n \t\t\t\t元朗大棠路七旬男子疑遭的士撞倒　送院後不治\t\t\t\t</a>\n </h2>\n </header>\n <div class=\"below-entry-meta\">\n <span class=\"posted-on\"><a href=\"https://portal.sina.com.hk/news-hongkong/news-realtime/rthk/2024/04/01/795762/%e5%85%83%e6%9c%97%e5%a4%a7%e6%a3%a0%e8%b7%af%e4%b8%83%e6%97%ac%e7%94%b7%e5%ad%90%e7%96%91%e9%81%ad%e7%9a%84%e5%a3%ab%e6%92%9e%e5%80%92%e3%80%80%e9%80%81%e9%99%a2%e5%be%8c%e4%b8%8d%e6%b2%bb/\" rel=\"bookmark\" title=\"9:25 am\"><i class=\"fa fa-calendar-o\"></i> <time class=\"entry-date published\" datetime=\"2024-04-01T09:25:50+08:00\">04月01日 09:25</time><time class=\"updated\" datetime=\"2024-04-01T15:13:31+08:00\">04月01日 15:13</time></a></span>\n <span class=\"byline\">\n <span class=\"author vcard\">\n <i class=\"fa fa-user\"></i>\n <a class=\"url fn n\" href=\"https://portal.sina.com.hk/author/rthk/\" title=\"香港電台\">\n \t\t\t\t\t\t香港電台\t\t\t\t\t</a>\n </span>\n </span>\n <span class=\"tag-links\"><i class=\"fa fa-tags\"></i><a href=\"https://portal.sina.com.hk/tag/newshkautohilite/\" rel=\"tag\">news-hk-auto-hilite</a></span></div>\n <div class=\"entry-content clearfix\">\n <p>元朗大棠路發生致命車禍，一名男子死亡。 事發在清晨5時許，一輛的士在大棠路撞倒一名71歲男子，傷者送…</p>\n </div>\n </div>\n </article>,\n <article class=\"archive-layout-two post-795761 type-post status-publish format-standard has-post-thumbnail hentry category-news-hongkong post\" id=\"post-795761\">\n <div class=\"featured-image\">\n <a href=\"https://portal.sina.com.hk/news-hongkong/gia-info-gov-hk/2024/04/01/795761/%e9%a6%99%e6%b8%af%e6%b5%b7%e9%97%9c%e6%93%b4%e5%b1%95%e3%80%8c%e8%87%aa%e7%94%b1%e8%b2%bf%e6%98%93%e5%8d%94%e5%ae%9a%e4%b8%ad%e8%bd%89%e8%b2%a8%e7%89%a9%e4%be%bf%e5%88%a9%e8%a8%88%e5%8a%83/\" title=\"​香港海關擴展「自由貿易協定中轉貨物便利計劃」\">\n </a><figure><a href=\"https://portal.sina.com.hk/news-hongkong/gia-info-gov-hk/2024/04/01/795761/%e9%a6%99%e6%b8%af%e6%b5%b7%e9%97%9c%e6%93%b4%e5%b1%95%e3%80%8c%e8%87%aa%e7%94%b1%e8%b2%bf%e6%98%93%e5%8d%94%e5%ae%9a%e4%b8%ad%e8%bd%89%e8%b2%a8%e7%89%a9%e4%be%bf%e5%88%a9%e8%a8%88%e5%8a%83/\" title=\"​香港海關擴展「自由貿易協定中轉貨物便利計劃」\"></a><a href=\"https://portal.sina.com.hk/news-hongkong/gia-info-gov-hk/2024/04/01/795761/%e9%a6%99%e6%b8%af%e6%b5%b7%e9%97%9c%e6%93%b4%e5%b1%95%e3%80%8c%e8%87%aa%e7%94%b1%e8%b2%bf%e6%98%93%e5%8d%94%e5%ae%9a%e4%b8%ad%e8%bd%89%e8%b2%a8%e7%89%a9%e4%be%bf%e5%88%a9%e8%a8%88%e5%8a%83/\" title=\"​香港海關擴展「自由貿易協定中轉貨物便利計劃」\"><img alt=\"\" height=\"205\" src=\"https://portal.sina.com.hk/wp-content/uploads/2023/02/sinacontent_hknews.jpg\" style=\"object-position:100% 20%;object-fit:cover;width:390px;height:205px\" title=\"\" width=\"390\"/></a></figure>\n </div>\n <div class=\"article-content clearfix\">\n <header class=\"entry-header\">\n <h2 class=\"entry-title\">\n <a href=\"https://portal.sina.com.hk/news-hongkong/gia-info-gov-hk/2024/04/01/795761/%e9%a6%99%e6%b8%af%e6%b5%b7%e9%97%9c%e6%93%b4%e5%b1%95%e3%80%8c%e8%87%aa%e7%94%b1%e8%b2%bf%e6%98%93%e5%8d%94%e5%ae%9a%e4%b8%ad%e8%bd%89%e8%b2%a8%e7%89%a9%e4%be%bf%e5%88%a9%e8%a8%88%e5%8a%83/\" title=\"​香港海關擴展「自由貿易協定中轉貨物便利計劃」\">\n \t\t\t\t​香港海關擴展「自由貿易協定中轉貨物便利計劃」\t\t\t\t</a>\n </h2>\n </header>\n <div class=\"below-entry-meta\">\n <span class=\"posted-on\"><a href=\"https://portal.sina.com.hk/news-hongkong/gia-info-gov-hk/2024/04/01/795761/%e9%a6%99%e6%b8%af%e6%b5%b7%e9%97%9c%e6%93%b4%e5%b1%95%e3%80%8c%e8%87%aa%e7%94%b1%e8%b2%bf%e6%98%93%e5%8d%94%e5%ae%9a%e4%b8%ad%e8%bd%89%e8%b2%a8%e7%89%a9%e4%be%bf%e5%88%a9%e8%a8%88%e5%8a%83/\" rel=\"bookmark\" title=\"9:15 am\"><i class=\"fa fa-calendar-o\"></i> <time class=\"entry-date published updated\" datetime=\"2024-04-01T09:15:00+08:00\">04月01日 09:15</time></a></span>\n <span class=\"byline\">\n <span class=\"author vcard\">\n <i class=\"fa fa-user\"></i>\n <a class=\"url fn n\" href=\"https://portal.sina.com.hk/author/gia-info-gov-hk/\" title=\"香港政府新聞公報\">\n \t\t\t\t\t\t香港政府新聞公報\t\t\t\t\t</a>\n </span>\n </span>\n </div>\n <div class=\"entry-content clearfix\">\n <p>香港海關由今日（四月一日）起將「自由貿易協定中轉貨物便利計劃」（「中轉易」）擴展至由內地經香港中轉往…</p>\n </div>\n </div>\n </article>,\n <article class=\"archive-layout-two post-795712 type-post status-publish format-standard has-post-thumbnail hentry category-news-realtime tag-newshkautohilite post\" id=\"post-795712\">\n <div class=\"featured-image\">\n <a href=\"https://portal.sina.com.hk/news-hongkong/news-realtime/rthk/2024/04/01/795712/%e6%b8%af%e9%90%b5%e6%8c%87%e8%a1%8c%e6%9d%8e%e8%99%95%e7%90%86%e7%b3%bb%e7%b5%b1%e6%81%a2%e5%be%a9%e9%81%8b%e4%bd%9c%e3%80%80%e6%a9%9f%e5%a0%b4%e5%bf%ab%e7%b6%ab%e9%a0%90%e8%be%a7%e7%99%bb%e6%a9%9f/\" title=\"港鐵指行李處理系統恢復運作　機場快綫預辧登機服務逐步回覆正常\">\n </a><figure><a href=\"https://portal.sina.com.hk/news-hongkong/news-realtime/rthk/2024/04/01/795712/%e6%b8%af%e9%90%b5%e6%8c%87%e8%a1%8c%e6%9d%8e%e8%99%95%e7%90%86%e7%b3%bb%e7%b5%b1%e6%81%a2%e5%be%a9%e9%81%8b%e4%bd%9c%e3%80%80%e6%a9%9f%e5%a0%b4%e5%bf%ab%e7%b6%ab%e9%a0%90%e8%be%a7%e7%99%bb%e6%a9%9f/\" title=\"港鐵指行李處理系統恢復運作　機場快綫預辧登機服務逐步回覆正常\"></a><a href=\"https://portal.sina.com.hk/news-hongkong/news-realtime/rthk/2024/04/01/795712/%e6%b8%af%e9%90%b5%e6%8c%87%e8%a1%8c%e6%9d%8e%e8%99%95%e7%90%86%e7%b3%bb%e7%b5%b1%e6%81%a2%e5%be%a9%e9%81%8b%e4%bd%9c%e3%80%80%e6%a9%9f%e5%a0%b4%e5%bf%ab%e7%b6%ab%e9%a0%90%e8%be%a7%e7%99%bb%e6%a9%9f/\" title=\"港鐵指行李處理系統恢復運作　機場快綫預辧登機服務逐步回覆正常\"><img alt=\"\" height=\"205\" src=\"https://newsstatic.rthk.hk/images/mfile_1747044_1_L_20240401071709.jpg\" style=\"object-position:100% 20%;object-fit:cover;width:390px;height:205px\" title=\"\" width=\"390\"/></a></figure>\n </div>\n <div class=\"article-content clearfix\">\n <header class=\"entry-header\">\n <h2 class=\"entry-title\">\n <a href=\"https://portal.sina.com.hk/news-hongkong/news-realtime/rthk/2024/04/01/795712/%e6%b8%af%e9%90%b5%e6%8c%87%e8%a1%8c%e6%9d%8e%e8%99%95%e7%90%86%e7%b3%bb%e7%b5%b1%e6%81%a2%e5%be%a9%e9%81%8b%e4%bd%9c%e3%80%80%e6%a9%9f%e5%a0%b4%e5%bf%ab%e7%b6%ab%e9%a0%90%e8%be%a7%e7%99%bb%e6%a9%9f/\" title=\"港鐵指行李處理系統恢復運作　機場快綫預辧登機服務逐步回覆正常\">\n \t\t\t\t港鐵指行李處理系統恢復運作　機場快綫預辧登機服務逐步回覆正常\t\t\t\t</a>\n </h2>\n </header>\n <div class=\"below-entry-meta\">\n <span class=\"posted-on\"><a href=\"https://portal.sina.com.hk/news-hongkong/news-realtime/rthk/2024/04/01/795712/%e6%b8%af%e9%90%b5%e6%8c%87%e8%a1%8c%e6%9d%8e%e8%99%95%e7%90%86%e7%b3%bb%e7%b5%b1%e6%81%a2%e5%be%a9%e9%81%8b%e4%bd%9c%e3%80%80%e6%a9%9f%e5%a0%b4%e5%bf%ab%e7%b6%ab%e9%a0%90%e8%be%a7%e7%99%bb%e6%a9%9f/\" rel=\"bookmark\" title=\"6:55 am\"><i class=\"fa fa-calendar-o\"></i> <time class=\"entry-date published\" datetime=\"2024-04-01T06:55:49+08:00\">04月01日 06:55</time><time class=\"updated\" datetime=\"2024-04-01T15:13:40+08:00\">04月01日 15:13</time></a></span>\n <span class=\"byline\">\n <span class=\"author vcard\">\n <i class=\"fa fa-user\"></i>\n <a class=\"url fn n\" href=\"https://portal.sina.com.hk/author/rthk/\" title=\"香港電台\">\n \t\t\t\t\t\t香港電台\t\t\t\t\t</a>\n </span>\n </span>\n <span class=\"tag-links\"><i class=\"fa fa-tags\"></i><a href=\"https://portal.sina.com.hk/tag/newshkautohilite/\" rel=\"tag\">news-hk-auto-hilite</a></span></div>\n <div class=\"entry-content clearfix\">\n <p>機場快綫香港站市區預辦登機服務，一度因為行李處理系統發生故障而暫停。 事發在上午六時許。有關系統經搶…</p>\n </div>\n </div>\n </article>,\n <article class=\"archive-layout-two post-795707 type-post status-publish format-standard has-post-thumbnail hentry category-news-realtime tag-newshkautohilite post\" id=\"post-795707\">\n <div class=\"featured-image\">\n <a href=\"https://portal.sina.com.hk/news-hongkong/news-realtime/rthk/2024/04/01/795707/%e7%94%b1%e6%96%bc%e8%a1%8c%e6%9d%8e%e8%99%95%e7%90%86%e7%b3%bb%e7%b5%b1%e6%95%85%e9%9a%9c%e3%80%80%e6%a9%9f%e5%a0%b4%e5%bf%ab%e7%b6%ab%e9%a6%99%e6%b8%af%e7%ab%99%e5%b8%82%e5%8d%80%e9%a0%90%e8%be%a6/\" title=\"由於行李處理系統故障　機場快綫香港站市區預辦登機服務暫停\">\n </a><figure><a href=\"https://portal.sina.com.hk/news-hongkong/news-realtime/rthk/2024/04/01/795707/%e7%94%b1%e6%96%bc%e8%a1%8c%e6%9d%8e%e8%99%95%e7%90%86%e7%b3%bb%e7%b5%b1%e6%95%85%e9%9a%9c%e3%80%80%e6%a9%9f%e5%a0%b4%e5%bf%ab%e7%b6%ab%e9%a6%99%e6%b8%af%e7%ab%99%e5%b8%82%e5%8d%80%e9%a0%90%e8%be%a6/\" title=\"由於行李處理系統故障　機場快綫香港站市區預辦登機服務暫停\"></a><a href=\"https://portal.sina.com.hk/news-hongkong/news-realtime/rthk/2024/04/01/795707/%e7%94%b1%e6%96%bc%e8%a1%8c%e6%9d%8e%e8%99%95%e7%90%86%e7%b3%bb%e7%b5%b1%e6%95%85%e9%9a%9c%e3%80%80%e6%a9%9f%e5%a0%b4%e5%bf%ab%e7%b6%ab%e9%a6%99%e6%b8%af%e7%ab%99%e5%b8%82%e5%8d%80%e9%a0%90%e8%be%a6/\" title=\"由於行李處理系統故障　機場快綫香港站市區預辦登機服務暫停\"><img alt=\"\" height=\"205\" src=\"https://newsstatic.rthk.hk/images/mfile_1747043_1_L_20240401071724.jpg\" style=\"object-position:100% 20%;object-fit:cover;width:390px;height:205px\" title=\"\" width=\"390\"/></a></figure>\n </div>\n <div class=\"article-content clearfix\">\n <header class=\"entry-header\">\n <h2 class=\"entry-title\">\n <a href=\"https://portal.sina.com.hk/news-hongkong/news-realtime/rthk/2024/04/01/795707/%e7%94%b1%e6%96%bc%e8%a1%8c%e6%9d%8e%e8%99%95%e7%90%86%e7%b3%bb%e7%b5%b1%e6%95%85%e9%9a%9c%e3%80%80%e6%a9%9f%e5%a0%b4%e5%bf%ab%e7%b6%ab%e9%a6%99%e6%b8%af%e7%ab%99%e5%b8%82%e5%8d%80%e9%a0%90%e8%be%a6/\" title=\"由於行李處理系統故障　機場快綫香港站市區預辦登機服務暫停\">\n \t\t\t\t由於行李處理系統故障　機場快綫香港站市區預辦登機服務暫停\t\t\t\t</a>\n </h2>\n </header>\n <div class=\"below-entry-meta\">\n <span class=\"posted-on\"><a href=\"https://portal.sina.com.hk/news-hongkong/news-realtime/rthk/2024/04/01/795707/%e7%94%b1%e6%96%bc%e8%a1%8c%e6%9d%8e%e8%99%95%e7%90%86%e7%b3%bb%e7%b5%b1%e6%95%85%e9%9a%9c%e3%80%80%e6%a9%9f%e5%a0%b4%e5%bf%ab%e7%b6%ab%e9%a6%99%e6%b8%af%e7%ab%99%e5%b8%82%e5%8d%80%e9%a0%90%e8%be%a6/\" rel=\"bookmark\" title=\"6:35 am\"><i class=\"fa fa-calendar-o\"></i> <time class=\"entry-date published\" datetime=\"2024-04-01T06:35:02+08:00\">04月01日 06:35</time><time class=\"updated\" datetime=\"2024-04-01T15:13:49+08:00\">04月01日 15:13</time></a></span>\n <span class=\"byline\">\n <span class=\"author vcard\">\n <i class=\"fa fa-user\"></i>\n <a class=\"url fn n\" href=\"https://portal.sina.com.hk/author/rthk/\" title=\"香港電台\">\n \t\t\t\t\t\t香港電台\t\t\t\t\t</a>\n </span>\n </span>\n <span class=\"tag-links\"><i class=\"fa fa-tags\"></i><a href=\"https://portal.sina.com.hk/tag/newshkautohilite/\" rel=\"tag\">news-hk-auto-hilite</a></span></div>\n <div class=\"entry-content clearfix\">\n <p>港鐵表示，由於行李處理系統故障，機場快綫香港站市區預辦登機服務現正暫停。有關系統正進行搶修，港鐵呼籲…</p>\n </div>\n </div>\n </article>,\n <article class=\"archive-layout-two post-795641 type-post status-publish format-standard has-post-thumbnail hentry category-news-realtime tag-newshkautohilite post\" id=\"post-795641\">\n <div class=\"featured-image\">\n <a href=\"https://portal.sina.com.hk/news-hongkong/news-realtime/rthk/2024/04/01/795641/%e8%ad%a6%e6%96%b9%e5%9c%a8%e6%9d%b1%e4%b9%9d%e9%be%8d%e5%8d%80%e6%89%93%e6%93%8a%e9%85%92%e9%a7%95%e7%ad%89%e9%81%95%e4%be%8b%e4%ba%8b%e9%a0%85%e3%80%80%e6%8b%98%e6%8d%953%e5%90%8d%e7%94%b7%e5%8f%b8/\" title=\"警方在東九龍區打擊酒駕等違例事項　拘捕3名男司機\">\n </a><figure><a href=\"https://portal.sina.com.hk/news-hongkong/news-realtime/rthk/2024/04/01/795641/%e8%ad%a6%e6%96%b9%e5%9c%a8%e6%9d%b1%e4%b9%9d%e9%be%8d%e5%8d%80%e6%89%93%e6%93%8a%e9%85%92%e9%a7%95%e7%ad%89%e9%81%95%e4%be%8b%e4%ba%8b%e9%a0%85%e3%80%80%e6%8b%98%e6%8d%953%e5%90%8d%e7%94%b7%e5%8f%b8/\" title=\"警方在東九龍區打擊酒駕等違例事項　拘捕3名男司機\"></a><a href=\"https://portal.sina.com.hk/news-hongkong/news-realtime/rthk/2024/04/01/795641/%e8%ad%a6%e6%96%b9%e5%9c%a8%e6%9d%b1%e4%b9%9d%e9%be%8d%e5%8d%80%e6%89%93%e6%93%8a%e9%85%92%e9%a7%95%e7%ad%89%e9%81%95%e4%be%8b%e4%ba%8b%e9%a0%85%e3%80%80%e6%8b%98%e6%8d%953%e5%90%8d%e7%94%b7%e5%8f%b8/\" title=\"警方在東九龍區打擊酒駕等違例事項　拘捕3名男司機\"><img alt=\"\" height=\"205\" src=\"https://newsstatic.rthk.hk/images/mfile_1747034_1_L_20240401022138.jpg\" style=\"object-position:100% 20%;object-fit:cover;width:390px;height:205px\" title=\"\" width=\"390\"/></a></figure>\n </div>\n <div class=\"article-content clearfix\">\n <header class=\"entry-header\">\n <h2 class=\"entry-title\">\n <a href=\"https://portal.sina.com.hk/news-hongkong/news-realtime/rthk/2024/04/01/795641/%e8%ad%a6%e6%96%b9%e5%9c%a8%e6%9d%b1%e4%b9%9d%e9%be%8d%e5%8d%80%e6%89%93%e6%93%8a%e9%85%92%e9%a7%95%e7%ad%89%e9%81%95%e4%be%8b%e4%ba%8b%e9%a0%85%e3%80%80%e6%8b%98%e6%8d%953%e5%90%8d%e7%94%b7%e5%8f%b8/\" title=\"警方在東九龍區打擊酒駕等違例事項　拘捕3名男司機\">\n \t\t\t\t警方在東九龍區打擊酒駕等違例事項　拘捕3名男司機\t\t\t\t</a>\n </h2>\n </header>\n <div class=\"below-entry-meta\">\n <span class=\"posted-on\"><a href=\"https://portal.sina.com.hk/news-hongkong/news-realtime/rthk/2024/04/01/795641/%e8%ad%a6%e6%96%b9%e5%9c%a8%e6%9d%b1%e4%b9%9d%e9%be%8d%e5%8d%80%e6%89%93%e6%93%8a%e9%85%92%e9%a7%95%e7%ad%89%e9%81%95%e4%be%8b%e4%ba%8b%e9%a0%85%e3%80%80%e6%8b%98%e6%8d%953%e5%90%8d%e7%94%b7%e5%8f%b8/\" rel=\"bookmark\" title=\"2:21 am\"><i class=\"fa fa-calendar-o\"></i> <time class=\"entry-date published\" datetime=\"2024-04-01T02:21:38+08:00\">04月01日 02:21</time><time class=\"updated\" datetime=\"2024-04-01T15:13:58+08:00\">04月01日 15:13</time></a></span>\n <span class=\"byline\">\n <span class=\"author vcard\">\n <i class=\"fa fa-user\"></i>\n <a class=\"url fn n\" href=\"https://portal.sina.com.hk/author/rthk/\" title=\"香港電台\">\n \t\t\t\t\t\t香港電台\t\t\t\t\t</a>\n </span>\n </span>\n <span class=\"tag-links\"><i class=\"fa fa-tags\"></i><a href=\"https://portal.sina.com.hk/tag/newshkautohilite/\" rel=\"tag\">news-hk-auto-hilite</a></span></div>\n <div class=\"entry-content clearfix\">\n <p>警方在復活節假期期間，在東九龍區內展開打擊酒後駕駛及相關違例駕駛事項行動，一共拘捕三名司機及向兩名司…</p>\n </div>\n </div>\n </article>,\n <article class=\"archive-layout-two post-795601 type-post status-publish format-standard has-post-thumbnail hentry category-news-realtime tag-newshkautohilite post\" id=\"post-795601\">\n <div class=\"featured-image\">\n <a href=\"https://portal.sina.com.hk/news-hongkong/news-realtime/rthk/2024/04/01/795601/%e5%9e%83%e5%9c%be%e6%94%b6%e8%b2%bb%e3%80%8c%e5%85%88%e8%a1%8c%e5%85%88%e8%a9%a6%e3%80%8d%e8%a8%88%e5%8a%83%e4%bb%8a%e6%97%a5%e8%b5%b7%e6%8e%a8%e8%a1%8c%e3%80%80%e6%b6%b5%e8%93%8b%e5%85%a8%e6%b8%af14/\" title=\"垃圾收費「先行先試」計劃今日起推行　涵蓋全港14個地點\">\n </a><figure><a href=\"https://portal.sina.com.hk/news-hongkong/news-realtime/rthk/2024/04/01/795601/%e5%9e%83%e5%9c%be%e6%94%b6%e8%b2%bb%e3%80%8c%e5%85%88%e8%a1%8c%e5%85%88%e8%a9%a6%e3%80%8d%e8%a8%88%e5%8a%83%e4%bb%8a%e6%97%a5%e8%b5%b7%e6%8e%a8%e8%a1%8c%e3%80%80%e6%b6%b5%e8%93%8b%e5%85%a8%e6%b8%af14/\" title=\"垃圾收費「先行先試」計劃今日起推行　涵蓋全港14個地點\"></a><a href=\"https://portal.sina.com.hk/news-hongkong/news-realtime/rthk/2024/04/01/795601/%e5%9e%83%e5%9c%be%e6%94%b6%e8%b2%bb%e3%80%8c%e5%85%88%e8%a1%8c%e5%85%88%e8%a9%a6%e3%80%8d%e8%a8%88%e5%8a%83%e4%bb%8a%e6%97%a5%e8%b5%b7%e6%8e%a8%e8%a1%8c%e3%80%80%e6%b6%b5%e8%93%8b%e5%85%a8%e6%b8%af14/\" title=\"垃圾收費「先行先試」計劃今日起推行　涵蓋全港14個地點\"><img alt=\"\" height=\"205\" src=\"https://newsstatic.rthk.hk/images/mfile_1747029_1_L_20240401003737.jpg\" style=\"object-position:100% 20%;object-fit:cover;width:390px;height:205px\" title=\"\" width=\"390\"/></a></figure>\n </div>\n <div class=\"article-content clearfix\">\n <header class=\"entry-header\">\n <h2 class=\"entry-title\">\n <a href=\"https://portal.sina.com.hk/news-hongkong/news-realtime/rthk/2024/04/01/795601/%e5%9e%83%e5%9c%be%e6%94%b6%e8%b2%bb%e3%80%8c%e5%85%88%e8%a1%8c%e5%85%88%e8%a9%a6%e3%80%8d%e8%a8%88%e5%8a%83%e4%bb%8a%e6%97%a5%e8%b5%b7%e6%8e%a8%e8%a1%8c%e3%80%80%e6%b6%b5%e8%93%8b%e5%85%a8%e6%b8%af14/\" title=\"垃圾收費「先行先試」計劃今日起推行　涵蓋全港14個地點\">\n \t\t\t\t垃圾收費「先行先試」計劃今日起推行　涵蓋全港14個地點\t\t\t\t</a>\n </h2>\n </header>\n <div class=\"below-entry-meta\">\n <span class=\"posted-on\"><a href=\"https://portal.sina.com.hk/news-hongkong/news-realtime/rthk/2024/04/01/795601/%e5%9e%83%e5%9c%be%e6%94%b6%e8%b2%bb%e3%80%8c%e5%85%88%e8%a1%8c%e5%85%88%e8%a9%a6%e3%80%8d%e8%a8%88%e5%8a%83%e4%bb%8a%e6%97%a5%e8%b5%b7%e6%8e%a8%e8%a1%8c%e3%80%80%e6%b6%b5%e8%93%8b%e5%85%a8%e6%b8%af14/\" rel=\"bookmark\" title=\"12:37 am\"><i class=\"fa fa-calendar-o\"></i> <time class=\"entry-date published\" datetime=\"2024-04-01T00:37:37+08:00\">04月01日 00:37</time><time class=\"updated\" datetime=\"2024-04-01T15:14:08+08:00\">04月01日 15:14</time></a></span>\n <span class=\"byline\">\n <span class=\"author vcard\">\n <i class=\"fa fa-user\"></i>\n <a class=\"url fn n\" href=\"https://portal.sina.com.hk/author/rthk/\" title=\"香港電台\">\n \t\t\t\t\t\t香港電台\t\t\t\t\t</a>\n </span>\n </span>\n <span class=\"tag-links\"><i class=\"fa fa-tags\"></i><a href=\"https://portal.sina.com.hk/tag/newshkautohilite/\" rel=\"tag\">news-hk-auto-hilite</a></span></div>\n <div class=\"entry-content clearfix\">\n <p>政府今日起在全港14個地點，推行垃圾收費「先行先試」計劃，涵蓋政府大樓、公私營住宅、商場、食肆以及院…</p>\n </div>\n </div>\n </article>,\n <article class=\"archive-layout-two post-795546 type-post status-publish format-standard has-post-thumbnail hentry category-news-realtime tag-newshkautohilite post\" id=\"post-795546\">\n <div class=\"featured-image\">\n <a href=\"https://portal.sina.com.hk/news-hongkong/news-realtime/rthk/2024/03/31/795546/%e4%bb%8a%e5%a4%a9%e6%88%aa%e8%87%b3%e6%99%9a%e4%b8%8a9%e6%99%82%e3%80%80%e5%85%b1%e6%9c%89%e9%80%be91%e8%90%ac%e4%ba%ba%e6%ac%a1%e5%87%ba%e5%85%a5%e5%a2%83/\" title=\"今天截至晚上9時　共有逾91萬人次出入境\">\n </a><figure><a href=\"https://portal.sina.com.hk/news-hongkong/news-realtime/rthk/2024/03/31/795546/%e4%bb%8a%e5%a4%a9%e6%88%aa%e8%87%b3%e6%99%9a%e4%b8%8a9%e6%99%82%e3%80%80%e5%85%b1%e6%9c%89%e9%80%be91%e8%90%ac%e4%ba%ba%e6%ac%a1%e5%87%ba%e5%85%a5%e5%a2%83/\" title=\"今天截至晚上9時　共有逾91萬人次出入境\"></a><a href=\"https://portal.sina.com.hk/news-hongkong/news-realtime/rthk/2024/03/31/795546/%e4%bb%8a%e5%a4%a9%e6%88%aa%e8%87%b3%e6%99%9a%e4%b8%8a9%e6%99%82%e3%80%80%e5%85%b1%e6%9c%89%e9%80%be91%e8%90%ac%e4%ba%ba%e6%ac%a1%e5%87%ba%e5%85%a5%e5%a2%83/\" title=\"今天截至晚上9時　共有逾91萬人次出入境\"><img alt=\"\" height=\"205\" src=\"https://newsstatic.rthk.hk/images/mfile_1747023_1_L_20240331224905.jpg\" style=\"object-position:100% 20%;object-fit:cover;width:390px;height:205px\" title=\"\" width=\"390\"/></a></figure>\n </div>\n <div class=\"article-content clearfix\">\n <header class=\"entry-header\">\n <h2 class=\"entry-title\">\n <a href=\"https://portal.sina.com.hk/news-hongkong/news-realtime/rthk/2024/03/31/795546/%e4%bb%8a%e5%a4%a9%e6%88%aa%e8%87%b3%e6%99%9a%e4%b8%8a9%e6%99%82%e3%80%80%e5%85%b1%e6%9c%89%e9%80%be91%e8%90%ac%e4%ba%ba%e6%ac%a1%e5%87%ba%e5%85%a5%e5%a2%83/\" title=\"今天截至晚上9時　共有逾91萬人次出入境\">\n \t\t\t\t今天截至晚上9時　共有逾91萬人次出入境\t\t\t\t</a>\n </h2>\n </header>\n <div class=\"below-entry-meta\">\n <span class=\"posted-on\"><a href=\"https://portal.sina.com.hk/news-hongkong/news-realtime/rthk/2024/03/31/795546/%e4%bb%8a%e5%a4%a9%e6%88%aa%e8%87%b3%e6%99%9a%e4%b8%8a9%e6%99%82%e3%80%80%e5%85%b1%e6%9c%89%e9%80%be91%e8%90%ac%e4%ba%ba%e6%ac%a1%e5%87%ba%e5%85%a5%e5%a2%83/\" rel=\"bookmark\" title=\"10:41 pm\"><i class=\"fa fa-calendar-o\"></i> <time class=\"entry-date published\" datetime=\"2024-03-31T22:41:22+08:00\">03月31日 22:41</time><time class=\"updated\" datetime=\"2024-04-01T15:14:18+08:00\">04月01日 15:14</time></a></span>\n <span class=\"byline\">\n <span class=\"author vcard\">\n <i class=\"fa fa-user\"></i>\n <a class=\"url fn n\" href=\"https://portal.sina.com.hk/author/rthk/\" title=\"香港電台\">\n \t\t\t\t\t\t香港電台\t\t\t\t\t</a>\n </span>\n </span>\n <span class=\"tag-links\"><i class=\"fa fa-tags\"></i><a href=\"https://portal.sina.com.hk/tag/newshkautohilite/\" rel=\"tag\">news-hk-auto-hilite</a></span></div>\n <div class=\"entry-content clearfix\">\n <p>復活節長假期第三日，入境處數字顯示，截至晚上9時，共有逾91萬人次出入境。 超過46萬2千多人次入境…</p>\n </div>\n </div>\n </article>,\n <article class=\"archive-layout-two post-795421 type-post status-publish format-standard has-post-thumbnail hentry category-news-realtime tag-newshkautohilite post\" id=\"post-795421\">\n <div class=\"featured-image\">\n <a href=\"https://portal.sina.com.hk/news-hongkong/news-realtime/rthk/2024/03/31/795421/%e6%9c%89%e6%b8%ac%e9%87%8f%e5%b8%ab%e6%96%99%e5%b8%82%e5%bb%ba%e5%b1%80%e8%a6%81%e9%80%8f%e9%81%8e%e3%80%8c%e8%b3%ba%e9%8c%a2%e3%80%8d%e9%a0%85%e7%9b%ae%e4%bd%9c%e9%ab%98%e9%a1%8d%e5%ba%a6%e9%ab%98/\" title=\"有測量師料市建局要透過「賺錢」項目作高額度高成數融資\">\n </a><figure><a href=\"https://portal.sina.com.hk/news-hongkong/news-realtime/rthk/2024/03/31/795421/%e6%9c%89%e6%b8%ac%e9%87%8f%e5%b8%ab%e6%96%99%e5%b8%82%e5%bb%ba%e5%b1%80%e8%a6%81%e9%80%8f%e9%81%8e%e3%80%8c%e8%b3%ba%e9%8c%a2%e3%80%8d%e9%a0%85%e7%9b%ae%e4%bd%9c%e9%ab%98%e9%a1%8d%e5%ba%a6%e9%ab%98/\" title=\"有測量師料市建局要透過「賺錢」項目作高額度高成數融資\"></a><a href=\"https://portal.sina.com.hk/news-hongkong/news-realtime/rthk/2024/03/31/795421/%e6%9c%89%e6%b8%ac%e9%87%8f%e5%b8%ab%e6%96%99%e5%b8%82%e5%bb%ba%e5%b1%80%e8%a6%81%e9%80%8f%e9%81%8e%e3%80%8c%e8%b3%ba%e9%8c%a2%e3%80%8d%e9%a0%85%e7%9b%ae%e4%bd%9c%e9%ab%98%e9%a1%8d%e5%ba%a6%e9%ab%98/\" title=\"有測量師料市建局要透過「賺錢」項目作高額度高成數融資\"><img alt=\"\" height=\"205\" src=\"https://newsstatic.rthk.hk/images/mfile_1747015_1_L_20240331200721.jpg\" style=\"object-position:100% 20%;object-fit:cover;width:390px;height:205px\" title=\"\" width=\"390\"/></a></figure>\n </div>\n <div class=\"article-content clearfix\">\n <header class=\"entry-header\">\n <h2 class=\"entry-title\">\n <a href=\"https://portal.sina.com.hk/news-hongkong/news-realtime/rthk/2024/03/31/795421/%e6%9c%89%e6%b8%ac%e9%87%8f%e5%b8%ab%e6%96%99%e5%b8%82%e5%bb%ba%e5%b1%80%e8%a6%81%e9%80%8f%e9%81%8e%e3%80%8c%e8%b3%ba%e9%8c%a2%e3%80%8d%e9%a0%85%e7%9b%ae%e4%bd%9c%e9%ab%98%e9%a1%8d%e5%ba%a6%e9%ab%98/\" title=\"有測量師料市建局要透過「賺錢」項目作高額度高成數融資\">\n \t\t\t\t有測量師料市建局要透過「賺錢」項目作高額度高成數融資\t\t\t\t</a>\n </h2>\n </header>\n <div class=\"below-entry-meta\">\n <span class=\"posted-on\"><a href=\"https://portal.sina.com.hk/news-hongkong/news-realtime/rthk/2024/03/31/795421/%e6%9c%89%e6%b8%ac%e9%87%8f%e5%b8%ab%e6%96%99%e5%b8%82%e5%bb%ba%e5%b1%80%e8%a6%81%e9%80%8f%e9%81%8e%e3%80%8c%e8%b3%ba%e9%8c%a2%e3%80%8d%e9%a0%85%e7%9b%ae%e4%bd%9c%e9%ab%98%e9%a1%8d%e5%ba%a6%e9%ab%98/\" rel=\"bookmark\" title=\"7:46 pm\"><i class=\"fa fa-calendar-o\"></i> <time class=\"entry-date published\" datetime=\"2024-03-31T19:46:41+08:00\">03月31日 19:46</time><time class=\"updated\" datetime=\"2024-04-01T15:14:26+08:00\">04月01日 15:14</time></a></span>\n <span class=\"byline\">\n <span class=\"author vcard\">\n <i class=\"fa fa-user\"></i>\n <a class=\"url fn n\" href=\"https://portal.sina.com.hk/author/rthk/\" title=\"香港電台\">\n \t\t\t\t\t\t香港電台\t\t\t\t\t</a>\n </span>\n </span>\n <span class=\"tag-links\"><i class=\"fa fa-tags\"></i><a href=\"https://portal.sina.com.hk/tag/newshkautohilite/\" rel=\"tag\">news-hk-auto-hilite</a></span></div>\n <div class=\"entry-content clearfix\">\n <p>市建局表示，未來5年會就多個大型重建項目進行業權收購工作，預計涉及開支逾800億元，現時現金流約為1…</p>\n </div>\n </div>\n </article>]"
     },
     "execution_count": 32,
     "metadata": {},
     "output_type": "execute_result"
    }
   ],
   "source": [
    "cards"
   ],
   "metadata": {
    "collapsed": false,
    "ExecuteTime": {
     "end_time": "2024-04-01T07:26:30.437186Z",
     "start_time": "2024-04-01T07:26:30.426587Z"
    }
   },
   "id": "60b2ed6f108d67f5",
   "execution_count": 32
  },
  {
   "cell_type": "code",
   "outputs": [
    {
     "data": {
      "text/plain": "['https://portal.sina.com.hk/news-hongkong/news-realtime/rthk/2024/04/01/795945/%e6%9c%89%e8%a9%a6%e8%a1%8c%e5%9e%83%e5%9c%be%e6%94%b6%e8%b2%bb%e5%85%ac%e5%b1%8b%e5%b1%85%e6%b0%91%e8%aa%aa%e5%b7%b2%e7%94%a8%e6%8c%87%e5%ae%9a%e8%a2%8b%e3%80%80%e6%9c%89%e5%ae%89%e8%80%81%e9%99%a2/',\n 'https://portal.sina.com.hk/news-hongkong/news-realtime/rthk/2024/04/01/795888/%e6%a9%ab%e9%a0%ad%e7%a3%a1%e8%b3%bd%e9%a6%ac%e6%9c%83%e8%a8%ba%e6%89%80%e8%a3%9d%e4%bf%ae%e3%80%80%e4%b8%8b%e5%91%a8%e4%b8%80%e8%b5%b7%e6%9c%8d%e5%8b%99%e6%9a%ab%e9%81%b7%e8%87%b3%e6%96%b0%e8%92%b2/',\n 'https://portal.sina.com.hk/news-hongkong/news-realtime/rthk/2024/04/01/795881/%e5%85%83%e6%9c%97%e8%87%b4%e5%91%bd%e8%bb%8a%e7%a6%8d%e3%80%80%e7%9a%84%e5%a3%ab%e5%8f%b8%e6%a9%9f%e6%b6%89%e5%8d%b1%e9%a7%95%e5%b0%8e%e8%87%b4%e4%bb%96%e4%ba%ba%e6%ad%bb%e4%ba%a1%e8%a2%ab%e6%89%a3/',\n 'https://portal.sina.com.hk/news-hongkong/gia-info-gov-hk/2024/04/01/795889/%e6%a9%ab%e9%a0%ad%e7%a3%a1%e8%b3%bd%e9%a6%ac%e6%9c%83%e6%99%ae%e9%80%9a%e7%a7%91%e9%96%80%e8%a8%ba%e8%a8%ba%e6%89%80%e6%9a%ab%e9%81%b7%e6%9c%8d%e5%8b%99%e9%96%8b%e5%b1%95%e7%bf%bb%e6%96%b0%e5%b7%a5/',\n 'https://portal.sina.com.hk/news-hongkong/news-realtime/rthk/2024/04/01/795859/%e5%9e%83%e5%9c%be%e6%94%b6%e8%b2%bb%e5%85%88%e8%a1%8c%e5%85%88%e8%a9%a6%e4%bb%8a%e6%8e%a8%e8%a1%8c%e3%80%80%e6%9c%89%e5%b8%82%e6%b0%91%e5%8f%83%e8%88%87%e5%8a%a9%e6%8e%a8%e7%92%b0%e4%bf%9d%e6%84%8f/',\n 'https://portal.sina.com.hk/news-hongkong/news-realtime/rthk/2024/04/01/795859/%e5%9e%83%e5%9c%be%e6%94%b6%e8%b2%bb%e5%85%88%e8%a1%8c%e5%85%88%e8%a9%a6%e4%bb%8a%e6%8e%a8%e8%a1%8c%e3%80%80%e6%9c%89%e5%b8%82%e6%b0%91%e5%8f%83%e8%88%87%e5%8a%a9%e6%8e%a8%e7%92%b0%e4%bf%9d%e6%84%8f/',\n 'https://portal.sina.com.hk/news-hongkong/news-realtime/rthk/2024/04/01/795861/%e6%b7%b1%e5%9c%b3%e6%96%99%e4%bb%8a%e6%97%a5%e9%81%8e%e9%97%9c%e9%ab%98%e5%b3%b0%e4%b8%ad%e5%8d%88%e8%87%b3%e6%99%9a%e4%b8%8a10%e6%99%82%e3%80%80%e7%b1%b2%e6%97%85%e5%ae%a2%e9%8c%af%e5%b3%b0%e5%87%ba/',\n 'https://portal.sina.com.hk/news-hongkong/news-realtime/rthk/2024/04/01/795840/%e5%be%a9%e6%b4%bb%e7%af%80%e5%81%87%e5%a0%b1%e5%9c%98%e4%ba%ba%e6%95%b8%e5%80%8d%e5%a2%9e%e3%80%80%e6%a5%ad%e7%95%8c%e6%8c%87%e5%85%a7%e5%9c%b0%e9%81%8a%e5%9c%98%e9%87%8f%e5%8d%87%e4%b8%89%e5%80%8d/',\n 'https://portal.sina.com.hk/news-hongkong/news-realtime/rthk/2024/04/01/795813/%e6%9c%89%e6%97%85%e8%a1%8c%e7%a4%be%e6%8c%87%e5%be%a9%e6%b4%bb%e7%af%80%e6%95%b4%e9%ab%94%e5%a0%b1%e5%9c%98%e4%ba%ba%e6%95%b8%e8%b6%85%e9%81%8e%e4%b8%80%e5%80%8d%e3%80%80%e5%be%80%e5%85%a7%e5%9c%b0/',\n 'https://portal.sina.com.hk/news-hongkong/news-realtime/rthk/2024/04/01/795803/%e9%99%b3%e7%a9%8d%e5%bf%97%e4%bb%8a%e6%97%a5%e5%b1%a5%e6%96%b0%e7%94%b3%e8%a8%b4%e5%b0%88%e5%93%a1%e8%81%b7%e5%8b%99%e3%80%80%e7%ab%ad%e5%8a%9b%e6%8f%90%e9%ab%98%e5%85%ac%e5%85%b1%e8%a1%8c%e6%94%bf/',\n 'https://portal.sina.com.hk/news-hongkong/news-realtime/rthk/2024/04/01/795797/%e7%82%ba%e4%bf%9d%e8%ad%b7%e7%b6%a0%e6%b5%b7%e9%be%9c%e7%94%a2%e5%8d%b5%e3%80%80%e6%9c%aa%e7%b6%93%e8%a8%b1%e5%8f%af%e8%80%85%e5%8b%bf%e9%80%b2%e5%85%a5%e5%8d%97%e4%b8%ab%e5%b3%b6%e6%b7%b1%e7%81%a3/',\n 'https://portal.sina.com.hk/news-hongkong/gia-info-gov-hk/2024/04/01/795812/%e5%85%ac%e5%b8%83%e5%9c%b0%e5%8d%80%e3%80%8c%e4%b8%89%e6%9c%83%e3%80%8d%e5%a7%94%e5%93%a1%e5%90%8d%e5%96%ae/',\n 'https://portal.sina.com.hk/news-hongkong/news-realtime/rthk/2024/04/01/795789/%e9%a6%99%e6%b8%af%e6%b5%b7%e9%97%9c%e5%8d%b3%e6%97%a5%e8%b5%b7%e6%93%b4%e5%a4%a7%e4%b8%ad%e8%bd%89%e6%98%93%e6%9c%8d%e5%8b%99%e8%87%b3%e6%96%b0%e5%8a%a0%e5%9d%a1%e8%b2%a8%e7%89%a9/',\n 'https://portal.sina.com.hk/news-hongkong/gia-info-gov-hk/2024/04/01/795818/%e6%96%b0%e4%bb%bb%e7%94%b3%e8%a8%b4%e5%b0%88%e5%93%a1%e4%bb%8a%e6%97%a5%e5%b1%a5%e6%96%b0/',\n 'https://portal.sina.com.hk/news-hongkong/news-realtime/rthk/2024/04/01/795783/%e9%bb%83%e5%ae%b6%e5%92%8c%e6%8c%87%e6%b8%af%e4%ba%ba%e5%8c%97%e4%b8%8a%e6%b6%88%e8%b2%bb%e6%88%90%e9%a2%a8%e3%80%80%e9%a4%90%e9%a3%b2%e6%a5%ad%e5%81%87%e6%9c%9f%e7%94%9f%e6%84%8f%e7%b4%84%e8%b7%8c/',\n 'https://portal.sina.com.hk/news-hongkong/news-realtime/rthk/2024/04/01/795773/%e5%88%86%e6%9e%90%e6%96%99%e6%9c%ac%e6%b8%af2%e6%9c%88%e9%9b%b6%e5%94%ae%e9%8a%b7%e5%94%ae%e6%8c%89%e5%b9%b4%e8%bd%89%e8%b7%8c%e7%b4%842%e3%80%80%e5%85%a8%e5%b9%b4%e5%96%ae%e4%bd%8d%e6%95%b8%e5%a2%9e/',\n 'https://portal.sina.com.hk/news-hongkong/gia-info-gov-hk/2024/04/01/795782/%e6%bc%81%e8%ad%b7%e7%bd%b2%e5%91%bc%e7%b1%b2%e5%b8%82%e6%b0%91%e5%88%87%e5%8b%bf%e6%96%bc%e9%99%90%e5%88%b6%e6%9c%9f%e5%85%a7%e9%80%b2%e5%85%a5%e6%b7%b1%e7%81%a3%e9%99%90%e5%88%b6%e5%9c%b0%e5%8d%80/',\n 'https://portal.sina.com.hk/news-hongkong/news-realtime/rthk/2024/04/01/795762/%e5%85%83%e6%9c%97%e5%a4%a7%e6%a3%a0%e8%b7%af%e4%b8%83%e6%97%ac%e7%94%b7%e5%ad%90%e7%96%91%e9%81%ad%e7%9a%84%e5%a3%ab%e6%92%9e%e5%80%92%e3%80%80%e9%80%81%e9%99%a2%e5%be%8c%e4%b8%8d%e6%b2%bb/',\n 'https://portal.sina.com.hk/news-hongkong/gia-info-gov-hk/2024/04/01/795761/%e9%a6%99%e6%b8%af%e6%b5%b7%e9%97%9c%e6%93%b4%e5%b1%95%e3%80%8c%e8%87%aa%e7%94%b1%e8%b2%bf%e6%98%93%e5%8d%94%e5%ae%9a%e4%b8%ad%e8%bd%89%e8%b2%a8%e7%89%a9%e4%be%bf%e5%88%a9%e8%a8%88%e5%8a%83/',\n 'https://portal.sina.com.hk/news-hongkong/news-realtime/rthk/2024/04/01/795712/%e6%b8%af%e9%90%b5%e6%8c%87%e8%a1%8c%e6%9d%8e%e8%99%95%e7%90%86%e7%b3%bb%e7%b5%b1%e6%81%a2%e5%be%a9%e9%81%8b%e4%bd%9c%e3%80%80%e6%a9%9f%e5%a0%b4%e5%bf%ab%e7%b6%ab%e9%a0%90%e8%be%a7%e7%99%bb%e6%a9%9f/',\n 'https://portal.sina.com.hk/news-hongkong/news-realtime/rthk/2024/04/01/795707/%e7%94%b1%e6%96%bc%e8%a1%8c%e6%9d%8e%e8%99%95%e7%90%86%e7%b3%bb%e7%b5%b1%e6%95%85%e9%9a%9c%e3%80%80%e6%a9%9f%e5%a0%b4%e5%bf%ab%e7%b6%ab%e9%a6%99%e6%b8%af%e7%ab%99%e5%b8%82%e5%8d%80%e9%a0%90%e8%be%a6/',\n 'https://portal.sina.com.hk/news-hongkong/news-realtime/rthk/2024/04/01/795641/%e8%ad%a6%e6%96%b9%e5%9c%a8%e6%9d%b1%e4%b9%9d%e9%be%8d%e5%8d%80%e6%89%93%e6%93%8a%e9%85%92%e9%a7%95%e7%ad%89%e9%81%95%e4%be%8b%e4%ba%8b%e9%a0%85%e3%80%80%e6%8b%98%e6%8d%953%e5%90%8d%e7%94%b7%e5%8f%b8/',\n 'https://portal.sina.com.hk/news-hongkong/news-realtime/rthk/2024/04/01/795601/%e5%9e%83%e5%9c%be%e6%94%b6%e8%b2%bb%e3%80%8c%e5%85%88%e8%a1%8c%e5%85%88%e8%a9%a6%e3%80%8d%e8%a8%88%e5%8a%83%e4%bb%8a%e6%97%a5%e8%b5%b7%e6%8e%a8%e8%a1%8c%e3%80%80%e6%b6%b5%e8%93%8b%e5%85%a8%e6%b8%af14/',\n 'https://portal.sina.com.hk/news-hongkong/news-realtime/rthk/2024/03/31/795546/%e4%bb%8a%e5%a4%a9%e6%88%aa%e8%87%b3%e6%99%9a%e4%b8%8a9%e6%99%82%e3%80%80%e5%85%b1%e6%9c%89%e9%80%be91%e8%90%ac%e4%ba%ba%e6%ac%a1%e5%87%ba%e5%85%a5%e5%a2%83/',\n 'https://portal.sina.com.hk/news-hongkong/news-realtime/rthk/2024/03/31/795421/%e6%9c%89%e6%b8%ac%e9%87%8f%e5%b8%ab%e6%96%99%e5%b8%82%e5%bb%ba%e5%b1%80%e8%a6%81%e9%80%8f%e9%81%8e%e3%80%8c%e8%b3%ba%e9%8c%a2%e3%80%8d%e9%a0%85%e7%9b%ae%e4%bd%9c%e9%ab%98%e9%a1%8d%e5%ba%a6%e9%ab%98/']"
     },
     "execution_count": 24,
     "metadata": {},
     "output_type": "execute_result"
    }
   ],
   "source": [
    "[card.find(\"a\").attrs[\"href\"] for card in cards if card.find(\"a\")]"
   ],
   "metadata": {
    "collapsed": false,
    "ExecuteTime": {
     "end_time": "2024-04-01T07:23:09.299596Z",
     "start_time": "2024-04-01T07:23:09.295388Z"
    }
   },
   "id": "dd594e0b2c61f9b3",
   "execution_count": 24
  },
  {
   "cell_type": "code",
   "outputs": [],
   "source": [
    "url = \"https://portal.sina.com.hk/news-hongkong/news-realtime/rthk/2024/04/01/795977/%e6%88%aa%e8%87%b3%e6%97%a9%e4%b8%8a10%e6%99%82%e6%9c%ac%e6%b8%af%e9%80%be15%e8%90%ac%e4%ba%ba%e6%ac%a1%e5%87%ba%e5%85%a5%e5%a2%83%e3%80%80%e6%96%99%e6%b8%af%e7%8f%a0%e6%be%b3%e6%a9%8b%e5%b0%a4/\""
   ],
   "metadata": {
    "collapsed": false,
    "ExecuteTime": {
     "end_time": "2024-04-01T07:57:26.711421Z",
     "start_time": "2024-04-01T07:57:26.707706Z"
    }
   },
   "id": "d3ac147a024ee631",
   "execution_count": 63
  },
  {
   "cell_type": "code",
   "outputs": [],
   "source": [
    "session = HTMLSession()\n",
    "r = session.get(url)"
   ],
   "metadata": {
    "collapsed": false,
    "ExecuteTime": {
     "end_time": "2024-04-01T07:52:11.956106Z",
     "start_time": "2024-04-01T07:52:08.583099Z"
    }
   },
   "id": "a56fe57dd03eb2c0",
   "execution_count": 49
  },
  {
   "cell_type": "code",
   "outputs": [
    {
     "data": {
      "text/plain": "'截至早上10時本港逾15萬人次出入境\\u3000料港珠澳橋尤其繁忙'"
     },
     "execution_count": 50,
     "metadata": {},
     "output_type": "execute_result"
    }
   ],
   "source": [
    "r.html.find(\"h1.entry-title\", first=True).text"
   ],
   "metadata": {
    "collapsed": false,
    "ExecuteTime": {
     "end_time": "2024-04-01T07:52:14.104448Z",
     "start_time": "2024-04-01T07:52:14.071887Z"
    }
   },
   "id": "46f145822a914766",
   "execution_count": 50
  },
  {
   "cell_type": "code",
   "outputs": [
    {
     "data": {
      "text/plain": "'2024-04-01T12:42:27+08:00'"
     },
     "execution_count": 51,
     "metadata": {},
     "output_type": "execute_result"
    }
   ],
   "source": [
    "r.html.find(\"time.entry-date\", first=True).attrs[\"datetime\"]"
   ],
   "metadata": {
    "collapsed": false,
    "ExecuteTime": {
     "end_time": "2024-04-01T07:52:16.137156Z",
     "start_time": "2024-04-01T07:52:16.132810Z"
    }
   },
   "id": "b3fafb884e6c82be",
   "execution_count": 51
  },
  {
   "cell_type": "code",
   "outputs": [
    {
     "data": {
      "text/plain": "\"陸路口岸以港珠澳大橋出入境的人次最多，有大約2萬3千人次。（港台圖片）\\n今日是復活節公眾假期最後一天，截至早上10時，有大約15萬2千人次經各口岸出入境，總入境人次約5萬5千，多數是香港居民。\\n其中陸路口岸以港珠澳大橋出入境的人次最多，有大約2萬3千人次。\\n運輸署表示，預料下午開始將有較多旅客使用陸路口岸或機場回港，特別是使用港珠澳大橋，預計往香港交通將會十分繁忙，呼籲旅客和駕駛者預早妥善規劃行程，並預留充裕交通時間。\\n發言人說，署方已指示跨境巴士服務營辦商、本地公共交通服務營辦商及港珠澳大橋穿梭巴士營辦商等加強服務，以應對旅客的高峰時段。\\n運輸署會密切監察各陸路口岸及機場的交通及公共運輸服務運作情況。\\ngoogletag.cmd.push(function() { googletag.display('div-gpt-ad-1672994993200-0'); });\\ngoogletag.cmd.push(function() { googletag.display('div-gpt-ad-1697471218443-0'); });\""
     },
     "execution_count": 52,
     "metadata": {},
     "output_type": "execute_result"
    }
   ],
   "source": [
    "r.html.find(\"div.entry-content\", first=True).text"
   ],
   "metadata": {
    "collapsed": false,
    "ExecuteTime": {
     "end_time": "2024-04-01T07:52:18.209904Z",
     "start_time": "2024-04-01T07:52:18.205085Z"
    }
   },
   "id": "fd15e7676dbbca3f",
   "execution_count": 52
  },
  {
   "cell_type": "code",
   "outputs": [],
   "source": [
    "session.close()"
   ],
   "metadata": {
    "collapsed": false,
    "ExecuteTime": {
     "end_time": "2024-04-01T07:51:54.026103Z",
     "start_time": "2024-04-01T07:51:54.021425Z"
    }
   },
   "id": "1d3959ec4e29d68f",
   "execution_count": 47
  },
  {
   "cell_type": "code",
   "outputs": [],
   "source": [
    "import requests\n",
    "response = requests.get(url)\n",
    "soup = BeautifulSoup(response.content, 'lxml')"
   ],
   "metadata": {
    "collapsed": false,
    "ExecuteTime": {
     "end_time": "2024-04-01T07:55:44.454622Z",
     "start_time": "2024-04-01T07:55:30.941927Z"
    }
   },
   "id": "89ab013d28f47b84",
   "execution_count": 56
  },
  {
   "cell_type": "code",
   "outputs": [
    {
     "data": {
      "text/plain": "'\\n陸路口岸以港珠澳大橋出入境的人次最多，有大約2萬3千人次。（港台圖片）\\n今日是復活節公眾假期最後一天，截至早上10時，有大約15萬2千人次經各口岸出入境，總入境人次約5萬5千，多數是香港居民。\\n其中陸路口岸以港珠澳大橋出入境的人次最多，有大約2萬3千人次。\\n運輸署表示，預料下午開始將有較多旅客使用陸路口岸或機場回港，特別是使用港珠澳大橋，預計往香港交通將會十分繁忙，呼籲旅客和駕駛者預早妥善規劃行程，並預留充裕交通時間。 發言人說，署方已指示跨境巴士服務營辦商、本地公共交通服務營辦商及港珠澳大橋穿梭巴士營辦商等加強服務，以應對旅客的高峰時段。 運輸署會密切監察各陸路口岸及機場的交通及公共運輸服務運作情況。\\n\\n\\n\\n\\n\\n\\n\\n\\n\\n'"
     },
     "execution_count": 68,
     "metadata": {},
     "output_type": "execute_result"
    }
   ],
   "source": [
    "soup.find(\"div\", class_=\"entry-content\").text"
   ],
   "metadata": {
    "collapsed": false,
    "ExecuteTime": {
     "end_time": "2024-04-01T07:59:32.072086Z",
     "start_time": "2024-04-01T07:59:32.069019Z"
    }
   },
   "id": "cabbf535d3a809af",
   "execution_count": 68
  },
  {
   "cell_type": "code",
   "outputs": [
    {
     "data": {
      "text/plain": "'\\n陸路口岸以港珠澳大橋出入境的人次最多，有大約2萬3千人次。（港台圖片）\\n今日是復活節公眾假期最後一天，截至早上10時，有大約15萬2千人次經各口岸出入境，總入境人次約5萬5千，多數是香港居民。\\n其中陸路口岸以港珠澳大橋出入境的人次最多，有大約2萬3千人次。\\n運輸署表示，預料下午開始將有較多旅客使用陸路口岸或機場回港，特別是使用港珠澳大橋，預計往香港交通將會十分繁忙，呼籲旅客和駕駛者預早妥善規劃行程，並預留充裕交通時間。 發言人說，署方已指示跨境巴士服務營辦商、本地公共交通服務營辦商及港珠澳大橋穿梭巴士營辦商等加強服務，以應對旅客的高峰時段。 運輸署會密切監察各陸路口岸及機場的交通及公共運輸服務運作情況。\\n\\n\\n\\n\\n\\n\\n\\n\\n\\n'"
     },
     "execution_count": 72,
     "metadata": {},
     "output_type": "execute_result"
    }
   ],
   "source": [
    "soup.select(\"div.entry-content\")[0].text"
   ],
   "metadata": {
    "collapsed": false,
    "ExecuteTime": {
     "end_time": "2024-04-01T08:15:43.363389Z",
     "start_time": "2024-04-01T08:15:43.357594Z"
    }
   },
   "id": "1e5be0beef3ac26a",
   "execution_count": 72
  },
  {
   "cell_type": "code",
   "outputs": [],
   "source": [],
   "metadata": {
    "collapsed": false
   },
   "id": "50237f0b3ec95555"
  },
  {
   "cell_type": "code",
   "outputs": [],
   "source": [],
   "metadata": {
    "collapsed": false
   },
   "id": "b122b81c8e0198e9"
  },
  {
   "cell_type": "code",
   "outputs": [],
   "source": [],
   "metadata": {
    "collapsed": false
   },
   "id": "c16ef7c2ea2d1c7d"
  },
  {
   "cell_type": "code",
   "outputs": [
    {
     "name": "stdout",
     "output_type": "stream",
     "text": [
      "Fetching navbar ...\n",
      "Status code : 200\n",
      "<HTML url='https://portal.sina.com.hk/'>\n",
      "Category URLs : ['https://portal.sina.com.hk/category/news-hongkong/', 'https://portal.sina.com.hk/category/news-china/', 'https://portal.sina.com.hk/category/news-intl/', 'https://portal.sina.com.hk/category/technology/', 'https://portal.sina.com.hk/category/lifestyle/']\n"
     ]
    }
   ],
   "source": [
    "##########\n",
    "\n",
    "def fetch_navbar(base_url, category_str, target_categories):\n",
    "    print(\"Fetching navbar ...\")\n",
    "\n",
    "    session = HTMLSession()\n",
    "    r = session.get(base_url)\n",
    "    print(\"Status code :\", r.status_code)\n",
    "    print(r.html)\n",
    "\n",
    "    navbar = r.html.find(\"nav\", first=True)\n",
    "    a_tags = navbar.find(\"a\")\n",
    "\n",
    "    category_urls = [a.attrs.get(\"href\") for a in a_tags if category_str in a.attrs.get(\"href\")]\n",
    "    category_urls = [url for url in category_urls if any(category in url for category in target_categories)]\n",
    "    category_urls = [url if url.startswith(\"http\") else base_url + url for url in category_urls]\n",
    "    print(\"Category URLs :\", category_urls)\n",
    "\n",
    "    session.close()\n",
    "\n",
    "    return category_urls\n",
    "\n",
    "url = \"https://portal.sina.com.hk/\"\n",
    "category_str = \"/category/\"\n",
    "target_categories = [\"news-hongkong\", \"news-china\", \"news-intl\", \"technology\", \"lifestyle\"]\n",
    "category_urls = fetch_navbar(url, category_str, target_categories)"
   ],
   "metadata": {
    "collapsed": false,
    "ExecuteTime": {
     "end_time": "2024-04-01T04:36:54.888501Z",
     "start_time": "2024-04-01T04:36:53.309806Z"
    }
   },
   "id": "98c81240293f59d2",
   "execution_count": 6
  },
  {
   "cell_type": "code",
   "outputs": [],
   "source": [],
   "metadata": {
    "collapsed": false
   },
   "id": "ac489883b14778b5"
  },
  {
   "cell_type": "code",
   "outputs": [],
   "source": [],
   "metadata": {
    "collapsed": false
   },
   "id": "7f892dfc695d012c"
  },
  {
   "cell_type": "code",
   "outputs": [],
   "source": [
    "async def scroll_and_scrape(url, num_scroll=4):\n",
    "    browser = await launch()\n",
    "    page = await browser.newPage()\n",
    "    await page.goto(url)\n",
    "\n",
    "    # Scroll down the page\n",
    "    for _ in range(num_scroll):\n",
    "        await page.evaluate('window.scrollTo(0, document.body.scrollHeight);')\n",
    "        await asyncio.sleep(2)  # Wait for content to load\n",
    "\n",
    "    # Scrape the content\n",
    "    content = await page.content()\n",
    "\n",
    "    await browser.close()\n",
    "\n",
    "    return content\n",
    "\n",
    "\n",
    "def fetch_links_in_section(base_url, url):\n",
    "    print(\"Fetching all news links ...\")\n",
    "\n",
    "    session = HTMLSession()\n",
    "    r = session.get(url)\n",
    "    print(\"status code :\", r.status_code)\n",
    "    print(r.html)\n",
    "\n",
    "    content = asyncio.get_event_loop().run_until_complete(scroll_and_scrape(url, num_scroll=1))\n",
    "    body = HTML(html=content)\n",
    "\n",
    "    cards = body.find(\".content-card\")\n",
    "    print(\"Cards length :\", len(cards))\n",
    "    news_urls = [base_url + card.find(\"a\", first=True).attrs[\"href\"] for card in cards if card.find(\"a\")]\n",
    "\n",
    "    for link in news_urls:\n",
    "        print(link)\n",
    "\n",
    "    session.close()\n",
    "\n",
    "    return news_urls"
   ],
   "metadata": {
    "collapsed": false,
    "ExecuteTime": {
     "end_time": "2024-04-01T07:17:50.778263Z",
     "start_time": "2024-04-01T07:17:50.773996Z"
    }
   },
   "id": "dffa7a499d3a44b3",
   "execution_count": 6
  },
  {
   "cell_type": "code",
   "outputs": [
    {
     "name": "stdout",
     "output_type": "stream",
     "text": [
      "Fetching navbar ...\n",
      "Category URLs : ['https://portal.sina.com.hk/category/news-hongkong/', 'https://portal.sina.com.hk/category/news-china/', 'https://portal.sina.com.hk/category/news-intl/', 'https://portal.sina.com.hk/category/technology/', 'https://portal.sina.com.hk/category/lifestyle/']\n",
      "Fetching all news links ...\n",
      "News URLs : []\n"
     ]
    }
   ],
   "source": [],
   "metadata": {
    "collapsed": false,
    "ExecuteTime": {
     "end_time": "2024-04-01T05:04:24.025658Z",
     "start_time": "2024-04-01T05:04:22.451793Z"
    }
   },
   "id": "9ebfe8fde56a3786",
   "execution_count": 8
  },
  {
   "cell_type": "code",
   "outputs": [],
   "source": [],
   "metadata": {
    "collapsed": false
   },
   "id": "e4f133afb396725c"
  },
  {
   "cell_type": "code",
   "outputs": [],
   "source": [
    "def fetch_content_in_news(url):\n",
    "    print(\"Fetching each news content ...\")\n",
    "\n",
    "    session = HTMLSession()\n",
    "    r = session.get(url)\n",
    "    print(\"status code :\", r.status_code)\n",
    "    print(r.html)\n",
    "\n",
    "    data_dict = {\n",
    "        \"date\": r.html.find(\"div[data-testid='article-publish-info']\", first=True).text,\n",
    "        \"headline\": r.html.find(\"#articleTitle\").text,\n",
    "        \"url\": url,\n",
    "        \"opening_text\": r.html.find(\"article#article-content-section\", first=True).find(\"p\", first=True).text\n",
    "    }\n",
    "\n",
    "    session.close()\n",
    "\n",
    "    return data_dict"
   ],
   "metadata": {
    "collapsed": false
   },
   "id": "7c4ddb7186acf13d"
  },
  {
   "cell_type": "code",
   "outputs": [],
   "source": [
    "def main():\n",
    "    base_url = \"https://www.hk01.com\"\n",
    "    section_str = \"/channel/\"\n",
    "    section_urls = fetch_navbar(base_url, section_str)\n",
    "\n",
    "    for url in section_urls:\n",
    "        news_urls = fetch_links_in_section(base_url, url)\n",
    "\n",
    "        for news_url in news_urls:\n",
    "            data_dict = fetch_content_in_news(news_url)"
   ],
   "metadata": {
    "collapsed": false
   },
   "id": "510a26b135ae99cd"
  },
  {
   "cell_type": "code",
   "outputs": [],
   "source": [],
   "metadata": {
    "collapsed": false
   },
   "id": "33f8828cd01d0255"
  },
  {
   "cell_type": "code",
   "outputs": [],
   "source": [],
   "metadata": {
    "collapsed": false
   },
   "id": "463f9f97ce4d9377"
  },
  {
   "cell_type": "code",
   "outputs": [],
   "source": [],
   "metadata": {
    "collapsed": false
   },
   "id": "4d29ea543b3886a9"
  },
  {
   "cell_type": "markdown",
   "source": [
    "# Real Test"
   ],
   "metadata": {
    "collapsed": false
   },
   "id": "56669d60b3876c92"
  },
  {
   "cell_type": "code",
   "outputs": [
    {
     "name": "stderr",
     "output_type": "stream",
     "text": [
      "/Users/louischiu/miniconda3/envs/comp7705/lib/python3.9/site-packages/requests/__init__.py:78: RequestsDependencyWarning: urllib3 (1.26.18) or chardet (3.0.4) doesn't match a supported version!\n",
      "  warnings.warn(\"urllib3 ({0}) or chardet ({1}) doesn't match a supported \"\n"
     ]
    }
   ],
   "source": [
    "import requests\n",
    "from bs4 import BeautifulSoup\n",
    "from pyppeteer import launch\n",
    "import asyncio\n",
    "import nest_asyncio\n",
    "import pandas as pd\n",
    "\n",
    "nest_asyncio.apply()"
   ],
   "metadata": {
    "collapsed": false,
    "ExecuteTime": {
     "end_time": "2024-04-04T05:21:27.455150Z",
     "start_time": "2024-04-04T05:21:26.887923Z"
    }
   },
   "id": "8f789973b599c065",
   "execution_count": 1
  },
  {
   "cell_type": "code",
   "outputs": [],
   "source": [
    "class WebScraper:\n",
    "\n",
    "    headers = {\n",
    "        'User-Agent': 'Mozilla/5.0 (Macintosh; Intel Mac OS X 10_15_7) AppleWebKit/537.36 (KHTML, like Gecko) Chrome/123.0.0.0 Safari/537.36'\n",
    "    }\n",
    "\n",
    "    def __init__(self, config):\n",
    "        self.base_url = config.get(\"base_url\", \"\")\n",
    "        self.language = config.get(\"language\", \"\")\n",
    "        self.navbar = config.get(\"navbar\", \"\")\n",
    "        self.category_str = config.get(\"category_str\", \"\")\n",
    "        self.target_categories = config.get(\"target_categories\", \"\")\n",
    "\n",
    "        self.num_scroll = config.get(\"num_scroll\", 3)\n",
    "        self.news_card_identifier = config.get(\"news_card_identifier\", \"\")\n",
    "        self.headline_identifier = config.get(\"headline_identifier\", \"\")\n",
    "        self.datetime_identifier = config.get(\"datetime_identifier\", \"\")\n",
    "        self.content_identifier = config.get(\"content_identifier\", \"\")\n",
    "\n",
    "        self.is_debug = config.get(\"is_debug\", False)\n",
    "\n",
    "    def fetch_navbar(self):\n",
    "        base_url = self.base_url\n",
    "        navbar = self.navbar\n",
    "        category_str = self.category_str\n",
    "        target_categories = self.target_categories\n",
    "        \n",
    "        with requests.get(base_url, headers=self.headers) as r:\n",
    "            soup = BeautifulSoup(r.content, \"lxml\")\n",
    "            if self.is_debug:\n",
    "                print(\"Status code :\", r.status_code)\n",
    "\n",
    "        navlist = soup.select_one(navbar)\n",
    "        a_tags = navlist.find_all(\"a\")\n",
    "\n",
    "        category_urls = [a[\"href\"] for a in a_tags if category_str in a[\"href\"]]\n",
    "        category_urls = [url for url in category_urls if any(category in url for category in target_categories)]\n",
    "        category_urls = self.format_urls_to_absolute_urls(category_urls)\n",
    "\n",
    "        return category_urls\n",
    "\n",
    "    def fetch_links_in_category(self, url):\n",
    "        news_card_identifier = self.news_card_identifier\n",
    "\n",
    "        with requests.get(url, headers=self.headers) as r:\n",
    "            soup = BeautifulSoup(r.content, \"lxml\")\n",
    "            if self.is_debug:\n",
    "                print(\"status code :\", r.status_code)\n",
    "\n",
    "        content = asyncio.get_event_loop().run_until_complete(self.scroll_and_scrape(url, num_scroll=self.num_scroll))\n",
    "        soup = BeautifulSoup(content, \"lxml\")\n",
    "\n",
    "        cards = soup.select(news_card_identifier)\n",
    "        news_urls = [card.find(\"a\").attrs[\"href\"] for card in cards if card.find(\"a\")]\n",
    "        news_urls = self.format_urls_to_absolute_urls(news_urls)\n",
    "\n",
    "        return news_urls\n",
    "\n",
    "    def fetch_content_in_news(self, url):\n",
    "        headline_identifier = self.headline_identifier\n",
    "        datetime_identifier = self.datetime_identifier\n",
    "        content_identifier = self.content_identifier\n",
    "\n",
    "        with requests.get(url, headers=self.headers) as r:\n",
    "            soup = BeautifulSoup(r.content, \"lxml\")\n",
    "            if self.is_debug:\n",
    "                print(\"Status code :\", r.status_code, \"| url :\", url)\n",
    "\n",
    "        h1 = soup.select_one(headline_identifier).text.strip()\n",
    "        print(\"success :\",h1)\n",
    "        dt = soup.select_one(datetime_identifier)[\"datetime\"].strip()\n",
    "        print(\"success :\",dt)\n",
    "        c = soup.select_one(content_identifier).text.strip().replace(\"\\n\", \" \")\n",
    "        print(\"success :\", c)\n",
    "        \n",
    "        data_dict = {\n",
    "            \"headline\": soup.select_one(headline_identifier).text.strip(),\n",
    "            \"language\": self.language,\n",
    "            \"datetime\": soup.select_one(datetime_identifier).text.strip(),\n",
    "            \"url\": url,\n",
    "            \"content\": soup.select_one(content_identifier).text.strip().replace(\"\\n\", \" \")\n",
    "        }\n",
    "\n",
    "        return data_dict\n",
    "\n",
    "    async def scroll_and_scrape(self, url, num_scroll=3):\n",
    "        browser = await launch()\n",
    "        page = await browser.newPage()\n",
    "        await page.setUserAgent(self.headers['User-Agent'])\n",
    "        await page.goto(url)\n",
    "\n",
    "        # Scroll down the page\n",
    "        for _ in range(num_scroll):\n",
    "            await page.evaluate('window.scrollTo(0, document.body.scrollHeight);')\n",
    "            await asyncio.sleep(2)  # Wait for content to load\n",
    "\n",
    "        # Scrape the content\n",
    "        content = await page.content()\n",
    "\n",
    "        await browser.close()\n",
    "\n",
    "        return content\n",
    "\n",
    "    def format_urls_to_absolute_urls(self, urls):\n",
    "        base_url = self.base_url\n",
    "        return [url if url.startswith(\"http\") else base_url + url if not url.startswith(\"/\") else base_url + url[1:] for url in urls]\n",
    "\n",
    "    def start_scraping(self):\n",
    "        print(\"Fetching navbar ...\", self.base_url)\n",
    "        category_urls = self.fetch_navbar()\n",
    "        print(\"Category URLs :\", category_urls)\n",
    "\n",
    "        data_dict_list = []\n",
    "        for category_url in category_urls:\n",
    "            print(\"Fetching all news links ...\", category_url)\n",
    "            news_urls = self.fetch_links_in_category(category_url)\n",
    "            print(\"Total news links :\", len(news_urls))\n",
    "\n",
    "            print(\"Fetching each news content ...\")\n",
    "            for news_url in news_urls:\n",
    "                try:\n",
    "                    data_dict_list.append(self.fetch_content_in_news(news_url))\n",
    "                except:\n",
    "                    print(\"Error fetching :\", news_url)\n",
    "\n",
    "        return data_dict_list\n",
    "\n",
    "    def test_scraping(self):\n",
    "        print(\"Fetching navbar ...\", self.base_url)\n",
    "        category_urls = self.fetch_navbar()\n",
    "        print(\"Category URLs :\", category_urls)\n",
    "\n",
    "        data_dict_list = []\n",
    "        for category_url in category_urls:\n",
    "            print(\"Fetching all news links ...\", category_url)\n",
    "            news_urls = self.fetch_links_in_category(category_url)\n",
    "            print(\"Total news links :\", len(news_urls))\n",
    "\n",
    "            print(\"Fetching each news content ...\")\n",
    "            for news_url in news_urls:\n",
    "                try:\n",
    "                    fetched_data = self.fetch_content_in_news(news_url)\n",
    "                    for k, v in fetched_data.items():\n",
    "                        print(\"************************************\")\n",
    "                        print(k)\n",
    "                        print(v)\n",
    "                        print('\\n')\n",
    "                    data_dict_list.append(fetched_data)\n",
    "                except Exception as e:\n",
    "                    print(\"Error fetching :\", news_url)\n",
    "                    print(e)\n",
    "                break\n",
    "            break\n",
    "\n",
    "        return data_dict_list"
   ],
   "metadata": {
    "collapsed": false,
    "ExecuteTime": {
     "end_time": "2024-04-04T05:52:47.335941Z",
     "start_time": "2024-04-04T05:52:47.320566Z"
    }
   },
   "id": "325c002a4e5db609",
   "execution_count": 62
  },
  {
   "cell_type": "code",
   "outputs": [],
   "source": [
    "config = {\n",
    "    \"name\": \"hket\",\n",
    "    \"base_url\": \"https://inews.hket.com/\",\n",
    "    \"language\": \"zh\",\n",
    "    \"navbar\": \"div.list-item.active\",\n",
    "    \"category_str\": \"/sran\",\n",
    "    \"target_categories\": ['全部'],\n",
    "    \"news_card_identifier\": \"div.template-default div.template_item.hket-col-xs-60\",\n",
    "    \"headline_identifier\": \"h1.main-title\",\n",
    "    \"datetime_identifier\": \"span.article-details-info-container_date\",\n",
    "    \"content_identifier\": \"div.article-detail-content-container\",\n",
    "    \"is_debug\": True\n",
    "}"
   ],
   "metadata": {
    "collapsed": false,
    "ExecuteTime": {
     "end_time": "2024-04-04T05:52:47.556695Z",
     "start_time": "2024-04-04T05:52:47.554390Z"
    }
   },
   "id": "9a846e34bad102e7",
   "execution_count": 63
  },
  {
   "cell_type": "code",
   "outputs": [
    {
     "name": "stdout",
     "output_type": "stream",
     "text": [
      "Fetching navbar ... https://inews.hket.com/\n",
      "Status code : 200\n",
      "Category URLs : ['https://inews.hket.com/sran001/全部?mtc=20080']\n",
      "Fetching all news links ... https://inews.hket.com/sran001/全部?mtc=20080\n",
      "status code : 200\n",
      "Total news links : 120\n",
      "Fetching each news content ...\n",
      "Status code : 200 | url : https://ps.hket.com/article/3737189/美聯：3月一手去貨快  貨尾按月減4.7-  創近3年最大單月跌幅?mtc=20023\n",
      "Error fetching : https://ps.hket.com/article/3737189/美聯：3月一手去貨快  貨尾按月減4.7-  創近3年最大單月跌幅?mtc=20023\n",
      "'NoneType' object has no attribute 'text'\n"
     ]
    }
   ],
   "source": [
    "webscraper = WebScraper(config)\n",
    "data_dict_list = webscraper.test_scraping()\n",
    "df = pd.DataFrame(data_dict_list)\n",
    "df.to_csv(f\"data/news_data_{config['name']}_{config['language']}.csv\", sep=\"\\t\", index=False, encoding=\"utf-8\")"
   ],
   "metadata": {
    "collapsed": false,
    "ExecuteTime": {
     "end_time": "2024-04-04T05:52:56.795337Z",
     "start_time": "2024-04-04T05:52:47.899393Z"
    }
   },
   "id": "2dfab496f704901d",
   "execution_count": 64
  },
  {
   "cell_type": "code",
   "outputs": [],
   "source": [],
   "metadata": {
    "collapsed": false
   },
   "id": "b33eef8c512ab152"
  },
  {
   "cell_type": "code",
   "outputs": [],
   "source": [],
   "metadata": {
    "collapsed": false
   },
   "id": "aa3acacc19ccf7bc"
  },
  {
   "cell_type": "code",
   "outputs": [],
   "source": [
    "headers = {\n",
    "    'User-Agent': 'Mozilla/5.0 (Macintosh; Intel Mac OS X 10_15_7) AppleWebKit/537.36 (KHTML, like Gecko) Chrome/123.0.0.0 Safari/537.36'\n",
    "}\n",
    "with requests.get(config[\"base_url\"], headers=headers) as r:\n",
    "    soup = BeautifulSoup(r.content, \"lxml\")"
   ],
   "metadata": {
    "collapsed": false,
    "ExecuteTime": {
     "end_time": "2024-04-04T05:44:03.864888Z",
     "start_time": "2024-04-04T05:44:03.759240Z"
    }
   },
   "id": "9255425e58b71e4a",
   "execution_count": 48
  },
  {
   "cell_type": "code",
   "outputs": [
    {
     "data": {
      "text/plain": "<div class=\"template_item hket-col-xs-60 show listing-filter-container\">\n<ul>\n<li class=\"active\"><a href=\"/sran001/全部\" title=\"全部\">全部</a></li>\n<li><a href=\"/sran008/財金\" title=\"財金\">財金</a></li>\n<li><a href=\"https://topick.hket.com/srat006/新聞\" title=\"社會\">社會</a></li>\n<li><a href=\"https://china.hket.com/srac002/即時中國\" title=\"中國\">中國</a></li>\n<li><a href=\"https://ps.hket.com/srae005/即時樓市\" title=\"地產\">地產</a></li>\n</ul>\n</div>"
     },
     "execution_count": 49,
     "metadata": {},
     "output_type": "execute_result"
    }
   ],
   "source": [
    "soup.select_one(\"div.template_item.hket-col-xs-60 \")"
   ],
   "metadata": {
    "collapsed": false,
    "ExecuteTime": {
     "end_time": "2024-04-04T05:44:12.245756Z",
     "start_time": "2024-04-04T05:44:12.241334Z"
    }
   },
   "id": "fe88edf28ee2c0bb",
   "execution_count": 49
  },
  {
   "cell_type": "code",
   "outputs": [],
   "source": [],
   "metadata": {
    "collapsed": false
   },
   "id": "c70bf61413d571b6"
  },
  {
   "cell_type": "code",
   "outputs": [],
   "source": [],
   "metadata": {
    "collapsed": false
   },
   "id": "51aeeefeed950080"
  },
  {
   "cell_type": "code",
   "outputs": [],
   "source": [],
   "metadata": {
    "collapsed": false
   },
   "id": "3c52e0e69c079ed"
  },
  {
   "cell_type": "code",
   "outputs": [],
   "source": [],
   "metadata": {
    "collapsed": false
   },
   "id": "b2ccaa7de9c43301"
  }
 ],
 "metadata": {
  "kernelspec": {
   "display_name": "Python 3",
   "language": "python",
   "name": "python3"
  },
  "language_info": {
   "codemirror_mode": {
    "name": "ipython",
    "version": 2
   },
   "file_extension": ".py",
   "mimetype": "text/x-python",
   "name": "python",
   "nbconvert_exporter": "python",
   "pygments_lexer": "ipython2",
   "version": "2.7.6"
  }
 },
 "nbformat": 4,
 "nbformat_minor": 5
}
