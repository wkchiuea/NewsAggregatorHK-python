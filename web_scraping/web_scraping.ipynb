{
 "cells": [
  {
   "cell_type": "markdown",
   "source": [
    "# Web Scraping Learning"
   ],
   "metadata": {
    "collapsed": false
   },
   "id": "87da1dbc4e61ffdd"
  },
  {
   "cell_type": "code",
   "execution_count": 1,
   "id": "initial_id",
   "metadata": {
    "collapsed": false
   },
   "outputs": [],
   "source": [
    "from requests_html import HTMLSession"
   ]
  },
  {
   "cell_type": "code",
   "execution_count": 2,
   "id": "a7ff23159bfa46bf",
   "metadata": {
    "ExecuteTime": {
     "end_time": "2024-03-29T12:56:35.428573Z",
     "start_time": "2024-03-29T12:56:35.337199Z"
    },
    "collapsed": false
   },
   "outputs": [],
   "source": [
    "session = HTMLSession()\n",
    "r = session.get(\"https://www.hk01.com/zone/1/%E6%B8%AF%E8%81%9E\")\n",
    "r.status_code"
   ]
  },
  {
   "cell_type": "code",
   "execution_count": 3,
   "id": "7adfb7caaefafcd9",
   "metadata": {
    "ExecuteTime": {
     "end_time": "2024-03-29T12:56:37.159971Z",
     "start_time": "2024-03-29T12:56:37.138080Z"
    },
    "collapsed": false
   },
   "outputs": [
    {
     "data": {
      "text/plain": [
       "<HTML url='https://www.hk01.com/zone/1/%E6%B8%AF%E8%81%9E'>"
      ]
     },
     "execution_count": 3,
     "metadata": {},
     "output_type": "execute_result"
    }
   ],
   "source": [
    "r.html"
   ]
  },
  {
   "cell_type": "markdown",
   "id": "b862a807cd3a908f",
   "metadata": {
    "collapsed": false
   },
   "source": [
    "### Links"
   ]
  },
  {
   "cell_type": "code",
   "execution_count": 6,
   "id": "6b89d8d17b8d03ee",
   "metadata": {
    "ExecuteTime": {
     "end_time": "2024-03-29T12:57:44.212894Z",
     "start_time": "2024-03-29T12:57:44.206174Z"
    },
    "collapsed": false
   },
   "outputs": [
    {
     "data": {
      "text/plain": [
       "{'/',\n",
       " '/%E4%B8%AD%E5%9C%8B%E8%A7%80%E5%AF%9F/1004856/%E9%A9%AC%E8%8B%B1%E4%B9%9D%E5%88%B0%E5%BA%95%E6%98%AF%E5%92%8C%E5%B9%B3%E4%BF%A1%E4%BD%BF-%E8%BF%98%E6%98%AF%E5%9C%A8%E6%8E%A9%E6%8A%A4%E6%B0%91%E8%BF%9B%E5%85%9A%E6%90%9E%E5%8F%B0%E7%8B%AC',\n",
       " '/%E5%9C%8B%E9%9A%9B%E5%88%86%E6%9E%90/1005047/%E7%83%8F%E5%85%8B%E8%98%AD-%E6%98%A5%E5%A4%A9%E9%BB%9E%E7%87%83%E4%BF%84%E7%BE%85%E6%96%AF%E6%96%B0%E6%94%BB%E5%8B%A2-%E7%82%AE%E5%BD%88-%E6%88%B0%E5%A3%95%E8%88%87%E5%8B%95%E5%93%A1%E5%B0%87%E6%B1%BA%E5%AE%9A%E5%8B%9D%E8%B2%A0',\n",
       " '/%E5%9C%8B%E9%9A%9B%E5%88%86%E6%9E%90/1005444/%E5%A7%94%E5%85%A7%E7%91%9E%E6%8B%89-80%E6%AD%B2%E8%80%81%E5%A9%86%E5%A9%86%E4%B9%9F%E4%B8%8D%E7%B5%A6%E5%8F%83%E9%81%B8-%E9%A6%AC%E6%9D%9C%E7%BE%85%E5%B0%87%E6%8B%9C%E7%99%BB%E7%8E%A9%E5%BC%84%E6%96%BC%E8%82%A1%E6%8E%8C%E4%B9%8B%E4%B8%8A',\n",
       " '/%E5%A4%A9%E6%B0%A3/1005406/%E5%BE%A9%E6%B4%BB%E7%AF%80-%E5%A4%A9%E6%96%87%E5%8F%B0%E6%96%994%E6%97%A5%E5%81%87%E6%9C%9F%E6%9C%89%E9%9B%A8-%E7%8B%82%E9%A2%A8%E9%9B%B7%E6%9A%B4-%E5%8C%97%E4%B8%8A%E6%B3%A8%E6%84%8F%E6%B7%B1%E5%9C%B3%E6%88%96%E9%9B%A8%E5%8B%A2%E5%A4%A7',\n",
       " '/%E6%94%BF%E6%83%85/1005027/%E6%94%BF%E5%9C%88%E9%A2%A8%E8%81%B2-01%E6%B6%88%E6%81%AF-%E4%B8%89%E6%9C%83%E6%8F%9B%E5%B1%86%E6%94%B9%E5%A7%94%E4%BB%BB%E5%8F%96%E6%85%8B-%E5%8D%80%E8%AD%B0%E5%93%A1%E5%8F%AF%E5%85%BC%E4%BB%BB%E5%88%86%E5%8D%80%E5%A7%94%E5%93%A1%E6%9C%83',\n",
       " '/%E6%94%BF%E6%83%85/1005186/%E6%9D%B1%E5%8D%80%E5%A4%9C%E9%A3%9B%E9%BE%8D-night-loong-%E5%8D%80%E8%AD%B0%E5%93%A1-%E5%94%94%E5%A4%AA%E9%A0%86%E5%8F%A3-%E6%94%BF%E5%A3%87%E8%AB%B8%E4%BA%8B%E7%94%BA',\n",
       " '/%E6%94%BF%E6%83%85/1005220/%E6%97%85%E7%99%BC%E5%B1%80%E8%BF%911-4%E5%84%84%E6%8E%A8%E5%8B%95%E5%85%A8%E6%96%B0%E7%A6%AE%E8%B2%8C%E9%81%8B%E5%8B%95%E5%8F%8A%E6%94%AF%E6%8C%81%E6%A5%AD%E7%95%8C-%E5%8C%85%E6%8B%AC%E6%8B%8D%E7%9C%9F%E4%BA%BAshow',\n",
       " '/%E6%94%BF%E6%83%85/1005431/%E8%81%B7%E6%B4%A5%E9%87%91%E9%A1%8D%E4%B8%8B%E6%9C%88%E8%B5%B7%E5%8A%83%E4%B8%80%E4%B8%8A%E8%AA%BF15-%E5%AD%AB%E7%8E%89%E8%8F%A1-%E9%BC%93%E5%8B%B5%E6%8C%81%E7%BA%8C%E5%85%A8%E8%81%B7%E5%B7%A5%E4%BD%9C',\n",
       " '/%E6%94%BF%E6%83%85/1005490/23%E6%A2%9D-%E4%BF%9D%E5%AE%89%E5%B1%80%E6%96%A5%E8%8B%B1%E5%9C%8B-%E8%A1%9B%E5%A0%B1-%E5%A0%B1%E9%81%93%E6%A5%B5%E5%85%B7%E8%AA%A4%E5%B0%8E%E6%80%A7-%E4%BF%83%E7%A2%BA%E4%BF%9D%E6%B6%89%E6%B8%AF%E5%A0%B1%E9%81%93%E5%85%AC%E6%AD%A3',\n",
       " '/%E6%94%BF%E6%83%85/1005502/%E5%9E%83%E5%9C%BE%E5%BE%B5%E8%B2%BB-%E7%8B%84%E5%BF%97%E9%81%A0%E6%89%B9%E5%85%88%E8%A1%8C%E5%85%88%E8%A9%A6%E4%B8%8D%E5%88%87%E5%AF%A6%E9%9A%9B-%E6%93%AC%E7%94%B3%E8%AB%8B%E9%81%8A%E8%A1%8C%E8%A1%A8%E9%81%94%E4%B8%8D%E6%BB%BF',\n",
       " '/%E6%94%BF%E6%83%85/1005516/23%E6%A2%9D%E7%AB%8B%E6%B3%95-%E9%84%A7%E7%82%B3%E5%BC%B7-%E5%9C%8B%E5%AE%B6%E7%A7%98%E5%AF%86%E5%AE%9A%E7%BE%A9%E6%B8%85%E6%99%B0-%E5%AE%9A%E7%BD%AA%E9%A0%88%E8%A6%96%E4%B9%8E%E6%98%AF%E5%90%A6%E6%9C%89%E7%8A%AF%E7%BD%AA%E6%84%8F%E5%9C%96',\n",
       " '/%E6%B7%B1%E5%BA%A6%E5%A0%B1%E9%81%93/1003144/%E8%A7%A3%E6%B1%BA%E5%8A%8F%E6%88%BF-%E8%88%87%E6%9E%97%E7%AD%B1%E9%AD%AF%E5%B0%8D%E8%A9%B1-%E6%95%B4%E6%94%B9%E9%82%84%E6%98%AF%E5%8F%96%E7%B7%A0-%E5%9A%B4%E6%AD%A3%E5%9F%B7%E6%B3%95%E9%82%84%E6%98%AF%E8%B6%95%E4%BA%BA%E7%9E%93%E8%A1%97',\n",
       " '/%E6%B7%B1%E5%BA%A6%E5%A0%B1%E9%81%93/1005163/daniel-kahneman%E7%9A%84%E6%85%A2%E6%83%B3',\n",
       " '/%E7%A4%BE%E6%9C%83%E6%96%B0%E8%81%9E/1004410/%E7%85%A7%E9%A1%A7%E8%80%85%E6%8A%95%E8%BA%AB%E9%A6%99%E6%B8%AF%E9%98%B2%E7%99%8C%E6%9C%83-%E7%B1%B2%E7%A4%BE%E6%9C%83%E6%9B%B4%E5%A4%9A%E7%99%8C%E7%97%87%E6%94%AF%E6%8F%B4%E5%AE%88%E8%AD%B7%E5%90%8C%E8%B7%AF%E4%BA%BA',\n",
       " '/%E7%A4%BE%E6%9C%83%E6%96%B0%E8%81%9E/1005221/%E9%A6%AE%E7%A5%A5%E8%A8%98%E6%B8%85%E7%9B%A4-%E5%AF%8C%E9%82%A6%E8%BF%BD%E5%85%AC%E5%8F%B8%E5%8F%8A%E7%9B%B8%E9%97%9C%E4%BA%BA%E5%A3%AB%E8%BF%917%E5%8D%83%E8%90%AC%E5%85%83-%E6%B1%82%E4%BA%A4%E5%87%BA%E6%8A%B5%E6%8A%BC%E7%89%A9%E6%A5%AD',\n",
       " '/%E7%A4%BE%E6%9C%83%E6%96%B0%E8%81%9E/1005226/%E4%B8%BB%E4%BA%BA%E4%B8%8D%E6%95%91-%E6%87%B6%E7%90%86%E5%AE%B6%E4%B8%AD%E6%AF%9B%E5%AD%A9%E6%AD%BB%E6%B4%BB-%E5%BF%83%E7%90%86%E5%AD%B8%E5%AE%B6-%E8%AD%A6%E6%96%B9%E8%A6%AA%E8%A7%A3%E6%A7%8B%E5%8B%95%E7%89%A9%E7%BD%AA%E6%A1%88',\n",
       " '/%E7%A4%BE%E6%9C%83%E6%96%B0%E8%81%9E/1005319/hk-express%E6%9B%BC%E8%B0%B7%E6%A9%9F%E5%A0%B4%E6%AD%BB%E6%A9%9F-%E7%99%BB%E6%A9%9F%E6%89%8B%E7%BA%8C%E4%BA%BA%E6%89%8B%E8%99%95%E7%90%86-%E8%87%B3%E5%B0%91%E5%85%A9%E9%A3%9B%E6%B8%AF%E8%88%AA%E7%8F%AD%E5%BB%B6%E8%AA%A4',\n",
       " '/%E7%A4%BE%E6%9C%83%E6%96%B0%E8%81%9E/1005398/%E5%BE%A9%E6%B4%BB%E7%AF%80%E5%8C%97%E4%B8%8A-%E6%8C%81%E7%BA%8C%E6%9B%B4%E6%96%B0-%E6%B8%AF%E9%90%B5-%E7%BE%85%E6%B9%96%E8%90%BD%E9%A6%AC%E6%B4%B2%E4%BA%BA%E6%BD%AE%E6%B8%9B%E5%B0%91-%E5%88%97%E8%BB%8A%E5%9B%9E%E5%BE%A9%E6%AD%A3%E5%B8%B8',\n",
       " '/%E7%A4%BE%E6%9C%83%E6%96%B0%E8%81%9E/1005400/%E5%BE%A9%E6%B4%BB%E7%AF%80%E6%B8%AF%E4%BA%BA%E5%A4%A7%E9%81%B7%E5%BE%99-%E6%B7%B1%E5%9C%B3%E7%81%A3%E5%A4%A7%E6%A9%8B%E7%BD%95%E8%A6%8B%E5%A1%9E%E7%88%86-%E7%9A%84%E5%A3%AB%E9%95%B7%E9%BE%8D%E7%AD%89%E9%80%BE1%E5%B0%8F%E6%99%82',\n",
       " '/%E7%A4%BE%E6%9C%83%E6%96%B0%E8%81%9E/1005407/%E5%BE%A9%E6%B4%BB%E7%AF%80%E5%8C%97%E4%B8%8A-%E4%B8%8A%E6%B0%B4%E7%AB%99%E5%A4%96%E7%8F%BE200%E7%B1%B3%E4%BA%BA%E9%BE%8D-%E6%B8%AF%E4%BA%BA-%E9%A6%99%E6%B8%AF%E6%B6%88%E8%B2%BB%E5%BE%97%E7%BD%AA%E8%AC%9B%E5%8F%A5%E5%A4%AA%E8%B2%B4',\n",
       " '/%E7%A4%BE%E6%9C%83%E6%96%B0%E8%81%9E/1005525/%E5%BE%A9%E6%B4%BB%E7%AF%80%E5%8C%97%E4%B8%8A%E6%8E%A1%E8%A8%AA%E6%89%8B%E8%A8%98-%E6%90%AD%E6%9D%B1%E9%90%B5%E8%AE%8A%E6%B2%99%E7%94%B8%E9%AD%9A-%E4%B8%8A%E6%B0%B4%E5%8E%BB%E7%BE%85%E6%B9%96%E8%8A%B12%E5%B0%8F%E6%99%82',\n",
       " '/%E7%A4%BE%E6%9C%83%E6%96%B0%E8%81%9E/1005533/%E5%BE%A9%E6%B4%BB%E7%AF%80-%E6%88%AA%E8%87%B3%E4%B8%8B%E5%8D%884%E6%99%8259%E8%90%AC%E6%B8%AF%E4%BA%BA%E5%87%BA%E5%A2%83-%E7%A0%B4%E6%98%A8%E6%97%A552%E8%90%AC%E7%B4%80%E9%8C%84-%E5%89%B5%E7%96%AB%E5%BE%8C%E6%96%B0%E9%AB%98',\n",
       " '/%E7%A4%BE%E6%9C%83%E6%96%B0%E8%81%9E/1005560/%E5%BE%A9%E6%B4%BB%E7%AF%80-%E9%81%8B%E8%BC%B8%E7%BD%B2%E6%8C%87%E5%91%A8%E5%85%AD%E4%BB%8D%E6%98%AF%E5%87%BA%E8%A1%8C%E9%AB%98%E5%B3%B0%E6%9C%9F-%E7%B1%B2%E5%B8%82%E6%B0%91%E8%80%83%E6%85%AE%E4%B8%8D%E8%A6%81%E6%97%A9%E4%B8%8A%E5%87%BA%E5%A2%83',\n",
       " '/%E7%AA%81%E7%99%BC/1001150/%E6%A8%82%E7%BF%A0%E8%87%BA%E7%B6%AD%E4%BF%AE%E9%A2%A8%E6%B3%A2-%E8%87%AA%E7%B5%84%E5%9C%98%E9%9A%8A%E5%8D%8A%E5%B9%B4%E5%9C%98%E7%B5%90%E8%A1%97%E5%9D%8A-%E4%B8%80%E5%A0%B4%E6%A5%AD%E4%B8%BB%E8%A6%BA%E9%86%92%E8%87%AA%E6%95%91%E4%B9%8B%E6%88%B0',\n",
       " '/%E7%AA%81%E7%99%BC/1005424/%E6%9D%B1%E6%B6%8C%E7%81%AB%E8%AD%A6-%E4%BD%BF%E7%94%A8%E6%B7%98%E5%AF%B6%E7%81%AB%E6%A7%8D%E6%99%82%E8%B5%B7%E7%81%AB-%E5%A5%B3%E6%88%B6%E4%B8%BB%E4%BA%8C%E7%B4%9A%E7%87%92%E5%82%B7-4%E6%84%9B%E8%B2%93%E5%85%A8%E5%96%AA%E5%91%BD',\n",
       " '/%E7%AA%81%E7%99%BC/1005445/%E5%85%83%E6%9C%97%E7%99%BD%E6%B2%99%E6%9D%91%E5%80%89%E5%BA%AB%E8%B5%B7%E7%81%AB%E6%BF%83%E7%85%99%E6%B2%96%E5%A4%A9-%E9%80%BC%E8%BF%91%E6%B0%91%E5%B1%85%E6%95%B8%E4%BA%BA%E7%96%8F%E6%95%A3',\n",
       " '/%E7%AA%81%E7%99%BC/1005460/%E6%9D%B1%E6%B6%8C%E7%81%AB%E8%AD%A6-%E7%81%AB%E5%A0%B4%E6%9B%9D%E5%85%89-%E5%AE%B6%E5%85%B7%E9%9B%9C%E7%89%A9%E9%81%AD%E7%87%92%E6%AF%80-%E5%A4%A9%E8%8A%B1%E7%89%86%E8%BA%AB%E5%85%A8%E7%86%8F%E9%BB%91',\n",
       " '/%E7%AA%81%E7%99%BC/1005526/%E8%AD%A6%E6%B7%B1%E6%B0%B4%E5%9F%97%E6%90%97%E9%9D%9E%E6%B3%95%E9%87%A3%E9%AD%9A%E6%A9%9F%E8%B3%AD%E6%AA%94-5%E4%BA%BA%E8%A2%AB%E6%8D%95%E5%8C%85%E6%8B%AC%E5%85%A9%E5%A4%96%E7%B1%8D%E7%94%B7%E5%A5%B3',\n",
       " '/%E7%AA%81%E7%99%BC/1005534/%E9%BB%83%E5%A4%A7%E4%BB%99%E7%B4%80%E5%BE%8B%E9%83%A8%E9%9A%8A%E5%AE%BF%E8%88%8D%E5%A5%B3%E5%82%AD%E6%B6%89%E5%81%B7%E5%A4%BE%E8%90%AC-%E4%BD%9C%E6%95%85%E4%BB%94-%E9%81%AD%E5%88%80%E5%8C%AA%E6%8C%BE%E6%8C%81%E5%85%A5%E5%B1%8B%E8%A2%AB%E6%8D%95',\n",
       " '/%E8%B2%A1%E7%B6%93%E5%BF%AB%E8%A8%8A/1005228/%E9%95%B7%E5%92%8C%E7%B3%BB%E5%86%8D%E6%9C%89%E9%AB%98%E5%B1%A4%E8%AA%BF%E5%8B%95-%E9%95%B7%E5%AF%A6%E8%91%89%E5%BE%B7%E9%8A%93%E8%AA%BF%E4%BB%BB-%E5%89%AF%E4%B8%BB%E5%B8%AD',\n",
       " '/%E8%B2%A1%E7%B6%93%E5%BF%AB%E8%A8%8A/1005302/%E4%B8%AD%E9%8A%80%E9%A6%99%E6%B8%AF-%E4%B8%8D%E5%9B%A0%E6%8A%B5%E6%8A%BC%E5%93%81%E5%83%B9%E6%A0%BC%E4%B8%8B%E8%B7%8C%E8%80%8Ccall-loan-%E6%B8%AF%E6%81%AF%E8%AA%BF%E6%95%B4%E6%96%99%E6%BB%AF%E5%BE%8C%E7%BE%8E%E6%81%AF',\n",
       " '/%E8%B2%A1%E7%B6%93%E5%BF%AB%E8%A8%8A/1005316/%E9%A6%99%E6%B8%AF%E5%AD%90%E5%85%AC%E5%8F%B8%E9%81%AD%E5%8D%97%E9%9F%93%E8%B5%B7%E8%A8%B4%E9%9D%9E%E6%B3%95%E6%B2%BD%E7%A9%BA-%E6%BB%99%E8%B1%90-%E5%81%9A%E6%B3%95%E4%B8%8D%E5%90%88%E7%90%86-%E5%B0%87%E5%85%A8%E5%8A%9B%E6%8A%97%E8%BE%AF',\n",
       " '/%E8%B2%A1%E7%B6%93%E5%BF%AB%E8%A8%8A/1005371/01%E6%B6%88%E6%81%AF-%E6%9D%9C%E6%8B%9C%E7%8E%8B%E5%AD%90%E9%A6%99%E6%B8%AF%E5%AE%B6%E8%BE%A6%E6%93%AC%E5%BB%B6%E8%87%B35%E6%9C%88%E5%BA%95%E9%96%8B%E5%B9%95-%E7%99%BC%E8%81%B2%E6%98%8E%E6%84%9F%E8%AC%9D%E6%B8%AF%E5%BA%9C%E5%8D%94%E5%8A%A9',\n",
       " '/01%E5%81%B5%E6%9F%A5/1001403/%E7%A7%81%E5%AF%86%E9%83%A8%E4%BD%8D%E9%81%AD%E6%BD%91%E7%81%91%E4%B8%8D%E6%98%8E%E6%B6%B2%E9%AB%94%E6%80%A7%E6%9A%B4%E5%8A%9B-%E5%A5%B9%E5%80%91%E7%B6%93%E6%AD%B7%E5%B4%A9%E6%BD%B0-%E7%99%BC%E8%81%B2-%E5%85%85%E6%AC%8A',\n",
       " '/01%E5%81%B5%E6%9F%A5/1002454/01%E7%8D%A8%E5%AE%B6-%E6%81%92%E5%A4%A7%E8%A8%B1%E5%AE%B6%E5%8D%B0%E5%B0%96%E6%B2%99%E5%92%80300%E5%91%8E-%E7%99%BC%E8%BF%B9%E5%B1%8B-%E9%81%AD%E4%B8%AD%E4%BF%A1%E6%97%97%E4%B8%8B%E9%87%98%E5%A5%91%E6%8A%B5%E5%82%B5',\n",
       " '/01%E5%81%B5%E6%9F%A5/1004077/%E4%B8%8A%E6%B0%B4%E9%87%91%E8%A8%98%E5%86%B0%E5%AE%A4%E8%A2%AB%E8%B2%BC%E5%85%AC%E5%91%8A%E6%8B%8D%E8%B3%A3%E5%82%A2%E5%85%B7-%E9%9B%86%E5%9C%98%E4%BB%8A%E5%B9%B4%E8%A2%AB%E5%85%A5%E7%A8%9F%E8%BF%BD%E8%A8%8E972%E8%90%AC%E5%85%83%E7%A7%9F%E9%87%91',\n",
       " '/01%E5%81%B5%E6%9F%A5/998485/%E5%A0%B1%E9%8C%AF%E5%9C%B0%E5%9D%80%E5%A4%B1%E6%95%91%E4%BA%A1-%E9%96%89%E8%B7%AF%E9%9B%BB%E8%A6%96-%E5%A0%B1%E8%AD%A6%E9%8C%84%E9%9F%B3%E9%82%84%E5%8E%9F%E6%B1%82%E6%95%91%E7%B6%93%E9%81%8E-%E6%82%B2%E5%8A%87%E5%8F%AF%E9%81%BF%E5%85%8D',\n",
       " '/01%E5%81%B5%E6%9F%A5/998569/%E5%A5%B3%E7%AB%A5%E8%BB%8D%E7%B8%BD%E7%9B%A3%E6%8F%9B%E5%B1%86%E9%81%B8%E8%88%89-%E8%A2%AB%E7%AF%A9%E8%B5%B0%E5%80%99%E9%81%B8%E4%BA%BA%E9%96%8B%E8%85%94-%E8%A6%81%E6%B1%82%E6%BE%84%E6%B8%85%E6%B6%89%E9%81%95%E6%9C%83%E7%AB%A0%E7%A8%8B%E5%BA%8F',\n",
       " '/01TV',\n",
       " '/about',\n",
       " '/advertise',\n",
       " '/app',\n",
       " '/career',\n",
       " '/channel/142/%E8%81%B7%E5%A0%B4',\n",
       " '/channel/143/01%E5%81%B5%E6%9F%A5',\n",
       " '/channel/166/%E6%AD%A6%E5%82%99%E5%BF%97',\n",
       " '/channel/178/01%E6%B4%BB%E5%8B%95?utm_source=webmenu&utm_medium=web',\n",
       " '/channel/182/%E4%B8%80%E7%89%A9',\n",
       " '/channel/183/%E6%89%AD%E8%80%B3%E4%BB%94',\n",
       " '/channel/184/Jumper',\n",
       " '/channel/19/%E5%8D%B3%E6%99%82%E5%9C%8B%E9%9A%9B',\n",
       " '/channel/2/%E7%A4%BE%E6%9C%83%E6%96%B0%E8%81%9E',\n",
       " '/channel/20/%E5%8D%B3%E6%99%82%E9%AB%94%E8%82%B2',\n",
       " '/channel/206/%E8%97%9D%E6%96%87',\n",
       " '/channel/22/%E5%8D%B3%E6%99%82%E5%A8%9B%E6%A8%82',\n",
       " '/channel/23/%E7%A4%BE%E5%8D%80%E5%B0%88%E9%A1%8C',\n",
       " '/channel/25/%E5%A5%BD%E7%94%9F%E6%B4%BB',\n",
       " '/channel/256/%E5%8B%95%E6%84%9F?itm_source=webmenu&itm_medium=web',\n",
       " '/channel/259/%E7%B4%80%E5%AF%A6?itm_source=webmenu&itm_medium=web',\n",
       " '/channel/26/%E8%A6%AA%E5%AD%90',\n",
       " '/channel/260/%E5%BD%B1%E5%83%8F%E7%86%B1%E8%A9%B1?utm_source=webmenu&utm_medium=web',\n",
       " '/channel/28/%E5%AF%B5%E7%89%A9',\n",
       " '/channel/293/%E9%9A%B1%E5%BD%A2%E9%A6%99%E6%B8%AF',\n",
       " '/channel/30/%E8%B7%91%E6%AD%A5',\n",
       " '/channel/310/%E6%94%BF%E6%83%85',\n",
       " '/channel/317/%E9%96%8B%E7%BD%90',\n",
       " '/channel/323/%E7%AC%AC%E4%BA%8C%E8%BA%AB',\n",
       " '/channel/348/%E6%94%9D%E5%BD%B1%E7%95%8C?utm_source=webmenu&utm_medium=web',\n",
       " '/channel/364/%E5%8D%B3%E6%99%82%E4%B8%AD%E5%9C%8B',\n",
       " '/channel/366/%E5%A4%A7%E5%9C%8B%E5%B0%8F%E4%BA%8B',\n",
       " '/channel/367/%E5%8F%B0%E7%81%A3%E6%96%B0%E8%81%9E',\n",
       " '/channel/369/%E8%97%9D%E6%96%87%E4%B8%AD%E5%9C%8B',\n",
       " '/channel/38/%E6%95%99%E7%85%AE',\n",
       " '/channel/387/%E7%A9%BF%E6%90%AD%E7%AD%86%E8%A8%98',\n",
       " '/channel/388/%E7%9F%A5%E6%80%A7%E5%A5%B3%E7%94%9F',\n",
       " '/channel/389/%E8%AB%87%E6%83%85%E8%AA%AA%E6%80%A7',\n",
       " '/channel/390/%E9%81%8A%E6%88%B2%E5%8B%95%E6%BC%AB',\n",
       " '/channel/391/%E6%95%B8%E7%A2%BC%E7%94%9F%E6%B4%BB',\n",
       " '/channel/396/%E8%B2%A1%E7%B6%93%E5%BF%AB%E8%A8%8A',\n",
       " '/channel/398/%E5%AE%8F%E8%A7%80%E8%A7%A3%E8%AE%80',\n",
       " '/channel/399/%E5%9C%B0%E7%94%A2%E6%A8%93%E5%B8%82',\n",
       " '/channel/400/%E5%B0%88%E9%A1%8C%E4%BA%BA%E8%A8%AA',\n",
       " '/channel/403/%E9%A6%99%E6%B8%AF%E7%B6%93%E6%BF%9F',\n",
       " '/channel/405/%E4%B8%96%E7%95%8C%E5%B0%88%E9%A1%8C',\n",
       " '/channel/406/%E7%92%B0%E7%90%83%E8%B6%A3%E8%81%9E',\n",
       " '/channel/407/%E5%9C%8B%E9%9A%9B%E5%88%86%E6%9E%90',\n",
       " '/channel/411/%E6%97%85%E9%81%8A',\n",
       " '/channel/413/%E6%B7%B1%E5%BA%A6%E5%A0%B1%E9%81%93',\n",
       " '/channel/415/01%E8%AB%96%E5%A3%87',\n",
       " '/channel/421/%E5%A4%A9%E6%B0%A3',\n",
       " '/channel/422/18%E5%8D%80%E6%96%B0%E8%81%9E',\n",
       " '/channel/442/%E7%B6%B2%E8%B3%BC%E6%94%BB%E7%95%A5',\n",
       " '/channel/443/%E7%BE%8E%E5%AE%B9%E6%89%8B%E5%B8%B3',\n",
       " '/channel/444/%E5%81%A5%E5%BA%B7Easy',\n",
       " '/channel/445/%E5%AF%A6%E7%94%A8%E6%95%99%E5%AD%B8',\n",
       " '/channel/446/%E9%A3%9F%E7%8E%A9%E8%B2%B7',\n",
       " '/channel/447/%E7%9C%BE%E6%A8%82%E8%BF%B7',\n",
       " '/channel/449/%E7%A4%BE%E8%AB%96',\n",
       " '/channel/458/%E4%B8%AD%E5%9C%8B%E8%A7%80%E5%AF%9F',\n",
       " '/channel/460',\n",
       " '/channel/463/%E9%86%AB%E5%B8%ABEasy',\n",
       " '/channel/464/%E9%86%AB%E7%BE%8EEasy',\n",
       " '/channel/468/%E4%B8%AD%E5%B0%8F%E5%AD%B8%E6%A0%A1%E5%9C%92',\n",
       " '/channel/469/%E5%B0%88%E4%B8%8A%E6%95%99%E8%82%B2',\n",
       " '/channel/473/DSE%E5%B0%88%E5%8D%80',\n",
       " '/channel/474/%E6%95%99%E8%82%B2%E7%99%BC%E5%B1%95',\n",
       " '/channel/475/%E6%B5%B7%E5%A4%96%E5%8D%87%E5%AD%B8',\n",
       " '/channel/476/%E6%B7%B1%E9%80%A0%E9%80%B2%E4%BF%AE',\n",
       " '/channel/477/%E5%8C%97%E4%B8%8A%E5%BB%A3%E6%9D%B1',\n",
       " '/channel/479/%E7%B6%B2%E7%A7%913-0',\n",
       " '/channel/480/01%E5%B0%88%E6%AC%84',\n",
       " '/channel/50/01%E8%A7%80%E9%BB%9E',\n",
       " '/channel/6/%E7%AA%81%E7%99%BC',\n",
       " '/channel/61/%E5%93%B2%E5%AD%B8',\n",
       " '/channel/66/%E9%9B%BB%E5%BD%B1',\n",
       " '/channel/7/%E7%86%B1%E7%88%86%E8%A9%B1%E9%A1%8C',\n",
       " '/contact',\n",
       " '/hot',\n",
       " '/hotline',\n",
       " '/issue/10126/mirror%E5%8B%95%E6%85%8B%E6%AF%8F%E6%97%A5%E6%9B%B4%E6%96%B0-%E5%A7%9C%E6%BF%A4-anson-lo-edan-ian%E4%BB%8A%E5%A4%A9%E7%99%BC%E7%94%9F%E4%BB%80%E9%BA%BC%E4%BA%8B?itm_source=webmenu&itm_medium=web',\n",
       " '/issue/10127/%E8%81%B2%E5%A4%A2%E5%82%B3%E5%A5%87%E7%B2%89%E7%B5%B2%E9%A0%81%EF%BC%9A%E7%82%8E%E6%98%8E%E7%86%B9-%E5%A7%9A%E7%84%AF%E8%8F%B2-%E9%8D%BE%E6%9F%94%E7%BE%8E%E6%AF%8F%E6%97%A5%E8%BF%BD%E8%B9%A4-%E4%B8%8B%E5%AD%A3%E5%A4%A7%E8%B3%BD%E5%8B%95%E6%85%8B?itm_source=webmenu&itm_medium=web',\n",
       " '/issue/10139/%E9%8A%80%E9%AB%AE%E6%97%8F%E5%B0%88%E8%BC%AF-%E6%8F%90%E4%BE%9B%E6%A8%82%E9%BD%A1%E5%81%A5%E5%BA%B7%E4%BF%9D%E9%A4%8A%E6%96%B9%E6%A1%88-%E5%88%86%E4%BA%AB%E9%80%80%E4%BC%91%E7%90%86%E8%B2%A1%E5%AE%89%E8%80%81%E6%9C%80%E6%96%B0%E8%B3%87%E8%A8%8A?utm_source=webmenu&utm_medium=web',\n",
       " '/issue/1014?itm_source=webmenu&itm_medium=web',\n",
       " '/issue/10158/%E7%83%8F%E5%85%8B%E8%98%AD%E6%88%B0%E7%88%AD%EF%BC%9A%E7%BF%92%E8%BF%91%E5%B9%B3%E8%88%87%E6%BE%A4%E9%80%A3%E6%96%AF%E5%9F%BA%E9%80%9A%E8%A9%B1-%E5%8B%B8%E5%92%8C%E4%BF%83%E8%AB%87%E6%99%82%E6%A9%9F%E5%B7%B2%E8%87%B3?itm_source=webmenu&itm_medium=web',\n",
       " '/issue/10178?utm_source=webmenu&utm_medium=web',\n",
       " '/issue/10179/%E6%B2%BB%E6%B8%AF%E6%96%B0%E7%AF%87%E7%AB%A0-%E5%A4%8F%E5%AF%B6%E9%BE%8D%E9%87%8D%E7%94%B3%E5%85%A9%E5%80%8B-%E7%A0%B4-%E6%B2%BB%E6%B8%AF%E8%80%85%E4%B8%8D%E8%83%BD%E5%86%8D%E8%A3%9D%E7%9D%A1',\n",
       " '/issue/10207/%E5%9C%8B%E5%AE%89%E6%B3%95%E6%A1%88%E4%BB%B6%E6%8C%81%E7%BA%8C%E6%9B%B4%E6%96%B0-%E5%88%9D%E9%81%B8-%E9%BB%8E%E6%99%BA%E8%8B%B1-%E7%AB%8B%E5%A0%B4%E6%96%B0%E8%81%9E%E6%A1%88%E7%88%AD%E8%AD%B0%E4%B8%AD%E5%AF%A9%E8%A8%8A',\n",
       " '/issue/10214/%E4%B8%AD%E4%BF%A1%E8%B3%87%E6%9C%AC%E5%91%88%E7%8D%BB%E9%A6%99%E6%B8%AF01%E7%B6%93%E6%BF%9F%E9%AB%98%E5%B3%B0%E8%AB%96%E5%A3%872023-%E7%99%BE%E5%B9%B4%E5%A4%A7%E8%AE%8A%E5%B1%80%E4%B8%AD%E7%9A%84%E9%A6%99%E6%B8%AF%E7%B6%93%E6%BF%9F',\n",
       " '/issue/10221/whatsapp%E8%A2%ABhack-%E8%A6%96%E5%83%8F%E9%9B%BB%E8%A9%B1%E9%A8%99%E6%A1%88%E7%A0%B4%E8%A7%A3-%E7%B6%B2%E4%B8%8A%E6%83%85%E7%B7%A3%E9%99%B7%E9%98%B1-%E8%A9%90%E9%A8%99%E6%96%B0%E8%81%9E%E5%A4%A7%E5%85%A8?itm_source=universal_search&itm_campaign=hk01&itm_content=issues&itm_medium=web',\n",
       " '/issue/10229/%E9%9A%B1%E5%BD%A2%E9%A6%99%E6%B8%AF-%E9%BB%91%E7%9A%84%E7%9B%B4%E6%93%8A%E9%BB%83%E9%87%91%E5%91%A8%E5%BE%8C%E5%8A%8F%E5%AE%A2%E5%BE%A9%E5%B8%B8-%E6%95%B8%E6%93%9A%E6%8F%AD%E7%82%BA%E4%BD%95%E5%B1%A2%E7%A6%81%E4%B8%8D%E6%AD%A2',\n",
       " '/issue/10246?utm_source=webmenu&utm_medium=web',\n",
       " '/issue/10280?itm_source=webmenu&itm_medium=web',\n",
       " '/issue/10283/%E6%94%BF%E5%BA%9C%E5%B7%A5%E7%A8%8B%E9%86%9C%E8%81%9E-%E5%8D%83%E5%84%84%E5%B7%A5%E7%A8%8B%E5%81%B7%E5%B7%A5%E6%B8%9B%E6%96%99-%E6%B6%89%E9%86%AB%E9%99%A2-%E9%AB%94%E8%82%B2%E5%9C%92%E9%89%85%E6%AC%BE-%E5%B0%88%E9%A0%81',\n",
       " '/issue/10291/%E6%88%91%E5%80%91%E7%9A%842023-%E5%BD%B1%E9%9F%BF%E4%B8%96%E7%95%8C%E5%92%8C%E9%A6%99%E6%B8%AF%E6%AD%B7%E5%8F%B2%E5%A4%A7%E4%BA%8B-%E5%8D%B1%E6%A9%9F%E5%92%8C%E5%B8%8C%E6%9C%9B%E7%9A%84%E6%8B%94%E6%B2%B3%E5%8B%9D%E8%B2%A0%E6%9C%AA%E5%88%86',\n",
       " '/issue/10298/4-22%E7%AE%A1%E5%88%B6%E5%8D%B3%E6%A3%84%E5%A1%91%E8%86%A0-%E5%B0%88%E9%A0%81-%E7%A6%81%E8%86%A0%E7%9A%84%E7%96%91%E6%83%91-%E8%B5%B0%E5%A1%91%E6%9B%BF%E4%BB%A3%E5%93%81-%E6%9C%80%E6%96%B0%E8%B3%87%E8%A8%8A%E5%85%A8%E9%9B%86',\n",
       " '/issue/10303/%E8%B2%A1%E6%94%BF%E9%A0%90%E7%AE%97%E6%A1%882024-%E5%B0%88%E9%A0%81-%E5%BA%AB%E6%88%BF%E8%B2%A1%E8%B5%A4%E5%9A%B4%E9%87%8D-%E5%B7%BF%E6%B0%91%E6%B4%BE%E7%B3%96%E9%A1%98%E6%9C%9B%E8%90%BD%E7%A9%BA',\n",
       " '/issue/948?utm_source=webmenu&utm_medium=web',\n",
       " '/latest',\n",
       " '/privacy',\n",
       " '/tag/15912',\n",
       " '/tag/21462?itm_source=webmenu&itm_medium=web',\n",
       " '/tag/21847?itm_source=webmenu&itm_medium=web',\n",
       " '/tag/23248?itm_source=webmenu&itm_medium=web',\n",
       " '/tag/28964?itm_source=webmenu&itm_medium=web',\n",
       " '/terms',\n",
       " '/zone/1',\n",
       " '/zone/1/%E6%B8%AF%E8%81%9E',\n",
       " '/zone/10/%E7%A4%BE%E5%8D%80',\n",
       " '/zone/11/%E7%A7%91%E6%8A%80%E7%8E%A9%E7%89%A9',\n",
       " '/zone/12/%E5%85%A8%E9%83%A8',\n",
       " '/zone/12/%E8%A7%80%E9%BB%9E',\n",
       " '/zone/13/%E5%BD%B1%E5%83%8F?itm_source=webmenu&itm_medium=web',\n",
       " '/zone/14',\n",
       " '/zone/14/%E7%B6%93%E6%BF%9F',\n",
       " '/zone/19/%E5%A5%BD%E9%A3%9F%E7%8E%A9%E9%A3%9B',\n",
       " '/zone/2/%E5%A8%9B%E6%A8%82',\n",
       " '/zone/23/%E6%95%99%E8%82%B2',\n",
       " '/zone/24/%E5%81%A5%E5%BA%B7',\n",
       " '/zone/3/%E9%AB%94%E8%82%B2',\n",
       " '/zone/4/%E5%9C%8B%E9%9A%9B',\n",
       " '/zone/5/%E4%B8%AD%E5%9C%8B',\n",
       " '/zone/6/%E5%A5%B3%E7%94%9F',\n",
       " '/zone/7/%E7%86%B1%E8%A9%B1',\n",
       " '/zone/8/%E7%94%9F%E6%B4%BB',\n",
       " '/zone/9/%E8%97%9D%E6%96%87%E6%A0%BC%E7%89%A9',\n",
       " '/zone/issue/1',\n",
       " 'https://01mall.hk01.com/recommend/440/%E5%8D%B3%E6%8F%92%E5%8D%B3%E7%94%A8%EF%BD%9C%E6%95%B8%E6%93%9A%E5%8D%A1?itm_source=webmenu&itm_medium=web',\n",
       " 'https://faq.hk01.com',\n",
       " 'https://imageservice.hk01.com/celebalbum',\n",
       " 'https://mensluxe.hk01.com/',\n",
       " 'https://space.hk01.com/?itm_source=webmenu&itm_medium=web',\n",
       " 'https://twitter.com/hk01official',\n",
       " 'https://www.facebook.com/hk01wemedia',\n",
       " 'https://www.instagram.com/hk01_hk/',\n",
       " 'https://www.linkedin.com/company/hk01/',\n",
       " 'https://www.youtube.com/c/香港01official'}"
      ]
     },
     "execution_count": 6,
     "metadata": {},
     "output_type": "execute_result"
    }
   ],
   "source": [
    "urls = r.html.links\n",
    "urls\n",
    "\n",
    "full_path_urls = r.html.absolute_links\n",
    "full_path_urls"
   ]
  },
  {
   "cell_type": "code",
   "execution_count": 8,
   "id": "4429e45a75fee70e",
   "metadata": {
    "ExecuteTime": {
     "end_time": "2024-03-29T13:07:37.260709Z",
     "start_time": "2024-03-29T13:07:37.252900Z"
    },
    "collapsed": false
   },
   "outputs": [
    {
     "data": {
      "text/plain": [
       "[<Element 'a' href='/'>,\n",
       " <Element 'a' href='/zone/1/%E6%B8%AF%E8%81%9E'>,\n",
       " <Element 'a' href='/zone/2/%E5%A8%9B%E6%A8%82'>,\n",
       " <Element 'a' href='/issue/1014?itm_source=webmenu&itm_medium=web'>,\n",
       " <Element 'a' href='/zone/8/%E7%94%9F%E6%B4%BB'>,\n",
       " <Element 'a' href='/zone/4/%E5%9C%8B%E9%9A%9B'>,\n",
       " <Element 'a' href='/latest'>,\n",
       " <Element 'a' href='/hot'>,\n",
       " <Element 'a' href='/zone/3/%E9%AB%94%E8%82%B2'>,\n",
       " <Element 'a' href='/zone/11/%E7%A7%91%E6%8A%80%E7%8E%A9%E7%89%A9'>,\n",
       " <Element 'a' href='/zone/5/%E4%B8%AD%E5%9C%8B'>,\n",
       " <Element 'a' href='/zone/14/%E7%B6%93%E6%BF%9F'>,\n",
       " <Element 'a' href='/zone/12/%E8%A7%80%E9%BB%9E'>,\n",
       " <Element 'a' href='/zone/24/%E5%81%A5%E5%BA%B7'>,\n",
       " <Element 'a' href='/zone/19/%E5%A5%BD%E9%A3%9F%E7%8E%A9%E9%A3%9B'>,\n",
       " <Element 'a' href='/zone/6/%E5%A5%B3%E7%94%9F'>,\n",
       " <Element 'a' href='/zone/7/%E7%86%B1%E8%A9%B1'>,\n",
       " <Element 'a' href='/zone/9/%E8%97%9D%E6%96%87%E6%A0%BC%E7%89%A9'>,\n",
       " <Element 'a' href='/zone/10/%E7%A4%BE%E5%8D%80'>,\n",
       " <Element 'a' href='/zone/23/%E6%95%99%E8%82%B2'>,\n",
       " <Element 'a' class=('mobile-menu__item', 'mobile-menu__item--active') href='/zone/1/%E6%B8%AF%E8%81%9E'>,\n",
       " <Element 'a' class=('mobile-menu__item',) href='/zone/2/%E5%A8%9B%E6%A8%82'>,\n",
       " <Element 'a' class=('mobile-menu__item',) href='/issue/1014?itm_source=webmenu&itm_medium=web'>,\n",
       " <Element 'a' class=('mobile-menu__item',) href='/zone/8/%E7%94%9F%E6%B4%BB'>,\n",
       " <Element 'a' class=('mobile-menu__item',) href='/zone/4/%E5%9C%8B%E9%9A%9B'>,\n",
       " <Element 'a' class=('mobile-menu__item',) href='/latest'>,\n",
       " <Element 'a' class=('mobile-menu__item',) href='/hot'>,\n",
       " <Element 'a' class=('mobile-menu__item',) href='/zone/3/%E9%AB%94%E8%82%B2'>,\n",
       " <Element 'a' class=('mobile-menu__item',) href='/zone/11/%E7%A7%91%E6%8A%80%E7%8E%A9%E7%89%A9'>,\n",
       " <Element 'a' class=('mobile-menu__item',) href='/zone/5/%E4%B8%AD%E5%9C%8B'>,\n",
       " <Element 'a' class=('mobile-menu__item',) href='/zone/14/%E7%B6%93%E6%BF%9F'>,\n",
       " <Element 'a' class=('mobile-menu__item',) href='/zone/12/%E8%A7%80%E9%BB%9E'>,\n",
       " <Element 'a' class=('mobile-menu__item',) href='/zone/24/%E5%81%A5%E5%BA%B7'>,\n",
       " <Element 'a' class=('mobile-menu__item',) href='/zone/19/%E5%A5%BD%E9%A3%9F%E7%8E%A9%E9%A3%9B'>,\n",
       " <Element 'a' class=('mobile-menu__item',) href='/zone/6/%E5%A5%B3%E7%94%9F'>,\n",
       " <Element 'a' class=('mobile-menu__item',) href='/zone/7/%E7%86%B1%E8%A9%B1'>,\n",
       " <Element 'a' class=('mobile-menu__item',) href='/zone/9/%E8%97%9D%E6%96%87%E6%A0%BC%E7%89%A9'>,\n",
       " <Element 'a' class=('mobile-menu__item',) href='/zone/10/%E7%A4%BE%E5%8D%80'>,\n",
       " <Element 'a' class=('mobile-menu__item',) href='/zone/23/%E6%95%99%E8%82%B2'>,\n",
       " <Element 'a' title='港聞' href='/zone/1/%E6%B8%AF%E8%81%9E'>,\n",
       " <Element 'a' title='社會新聞' href='/channel/2/%E7%A4%BE%E6%9C%83%E6%96%B0%E8%81%9E'>,\n",
       " <Element 'a' title='突發' href='/channel/6/%E7%AA%81%E7%99%BC'>,\n",
       " <Element 'a' title='政情' href='/channel/310/%E6%94%BF%E6%83%85'>,\n",
       " <Element 'a' title='偵查' href='/channel/143/01%E5%81%B5%E6%9F%A5'>,\n",
       " <Element 'a' title='教育' href='/zone/23/%E6%95%99%E8%82%B2'>,\n",
       " <Element 'a' title='新聞影片' href='/01TV'>,\n",
       " <Element 'a' title='深度' href='/channel/413/%E6%B7%B1%E5%BA%A6%E5%A0%B1%E9%81%93'>,\n",
       " <Element 'a' title='香港經濟' href='/channel/403/%E9%A6%99%E6%B8%AF%E7%B6%93%E6%BF%9F'>,\n",
       " <Element 'a' title='天氣' href='/channel/421/%E5%A4%A9%E6%B0%A3'>,\n",
       " <Element 'a' title='娛樂' href='/zone/2/%E5%A8%9B%E6%A8%82'>,\n",
       " <Element 'a' title='即時娛樂' href='/channel/22/%E5%8D%B3%E6%99%82%E5%A8%9B%E6%A8%82'>,\n",
       " <Element 'a' title='電影' href='/channel/66/%E9%9B%BB%E5%BD%B1'>,\n",
       " <Element 'a' title='娛樂影片' href='/01TV'>,\n",
       " <Element 'a' title='眾樂迷' href='/channel/447/%E7%9C%BE%E6%A8%82%E8%BF%B7'>,\n",
       " <Element 'a' title='MIRROR' href='/issue/10126/mirror%E5%8B%95%E6%85%8B%E6%AF%8F%E6%97%A5%E6%9B%B4%E6%96%B0-%E5%A7%9C%E6%BF%A4-anson-lo-edan-ian%E4%BB%8A%E5%A4%A9%E7%99%BC%E7%94%9F%E4%BB%80%E9%BA%BC%E4%BA%8B?itm_source=webmenu&itm_medium=web'>,\n",
       " <Element 'a' title='聲夢傳奇' href='/issue/10127/%E8%81%B2%E5%A4%A2%E5%82%B3%E5%A5%87%E7%B2%89%E7%B5%B2%E9%A0%81%EF%BC%9A%E7%82%8E%E6%98%8E%E7%86%B9-%E5%A7%9A%E7%84%AF%E8%8F%B2-%E9%8D%BE%E6%9F%94%E7%BE%8E%E6%AF%8F%E6%97%A5%E8%BF%BD%E8%B9%A4-%E4%B8%8B%E5%AD%A3%E5%A4%A7%E8%B3%BD%E5%8B%95%E6%85%8B?itm_source=webmenu&itm_medium=web'>,\n",
       " <Element 'a' title='高清相片下載' href='https://imageservice.hk01.com/celebalbum'>,\n",
       " <Element 'a' title='激平酒店' href='/issue/1014?itm_source=webmenu&itm_medium=web'>,\n",
       " <Element 'a' title='日本酒店' href='/tag/21462?itm_source=webmenu&itm_medium=web'>,\n",
       " <Element 'a' title='澳門香港酒店' href='/tag/28964?itm_source=webmenu&itm_medium=web'>,\n",
       " <Element 'a' title='台灣酒店' href='/tag/21847?itm_source=webmenu&itm_medium=web'>,\n",
       " <Element 'a' title='深圳酒店' href='/tag/23248?itm_source=webmenu&itm_medium=web'>,\n",
       " <Element 'a' title='特價餐飲及門票' href='https://space.hk01.com/?itm_source=webmenu&itm_medium=web'>,\n",
       " <Element 'a' title='特價旅遊Sim卡' href='https://01mall.hk01.com/recommend/440/%E5%8D%B3%E6%8F%92%E5%8D%B3%E7%94%A8%EF%BD%9C%E6%95%B8%E6%93%9A%E5%8D%A1?itm_source=webmenu&itm_medium=web'>,\n",
       " <Element 'a' title='生活' href='/zone/8/%E7%94%9F%E6%B4%BB'>,\n",
       " <Element 'a' title='教煮' href='/channel/38/%E6%95%99%E7%85%AE'>,\n",
       " <Element 'a' title='親子' href='/channel/26/%E8%A6%AA%E5%AD%90'>,\n",
       " <Element 'a' title='01TV' href='/01TV'>,\n",
       " <Element 'a' title='寵物' href='/channel/28/%E5%AF%B5%E7%89%A9'>,\n",
       " <Element 'a' title='教育職場' href='/channel/142/%E8%81%B7%E5%A0%B4'>,\n",
       " <Element 'a' title='好生活' href='/channel/25/%E5%A5%BD%E7%94%9F%E6%B4%BB'>,\n",
       " <Element 'a' title='網購攻略' href='/channel/442/%E7%B6%B2%E8%B3%BC%E6%94%BB%E7%95%A5'>,\n",
       " <Element 'a' title='國際' href='/zone/4/%E5%9C%8B%E9%9A%9B'>,\n",
       " <Element 'a' title='以巴戰爭' href='/issue/10280?itm_source=webmenu&itm_medium=web'>,\n",
       " <Element 'a' title='即時國際' href='/channel/19/%E5%8D%B3%E6%99%82%E5%9C%8B%E9%9A%9B'>,\n",
       " <Element 'a' title='環球趣聞' href='/channel/406/%E7%92%B0%E7%90%83%E8%B6%A3%E8%81%9E'>,\n",
       " <Element 'a' title='國際分析' href='/channel/407/%E5%9C%8B%E9%9A%9B%E5%88%86%E6%9E%90'>,\n",
       " <Element 'a' title='世界專題' href='/channel/405/%E4%B8%96%E7%95%8C%E5%B0%88%E9%A1%8C'>,\n",
       " <Element 'a' title='俄烏戰爭' href='/issue/10158/%E7%83%8F%E5%85%8B%E8%98%AD%E6%88%B0%E7%88%AD%EF%BC%9A%E7%BF%92%E8%BF%91%E5%B9%B3%E8%88%87%E6%BE%A4%E9%80%A3%E6%96%AF%E5%9F%BA%E9%80%9A%E8%A9%B1-%E5%8B%B8%E5%92%8C%E4%BF%83%E8%AB%87%E6%99%82%E6%A9%9F%E5%B7%B2%E8%87%B3?itm_source=webmenu&itm_medium=web'>,\n",
       " <Element 'a' title='紀實影像' href='/channel/259/%E7%B4%80%E5%AF%A6?itm_source=webmenu&itm_medium=web'>,\n",
       " <Element 'a' title='體育' href='/zone/3/%E9%AB%94%E8%82%B2'>,\n",
       " <Element 'a' title='即時體育' href='/channel/20/%E5%8D%B3%E6%99%82%E9%AB%94%E8%82%B2'>,\n",
       " <Element 'a' title='跑步行山' href='/channel/30/%E8%B7%91%E6%AD%A5'>,\n",
       " <Element 'a' title='Jumper' href='/channel/184/Jumper'>,\n",
       " <Element 'a' title='武備志' href='/channel/166/%E6%AD%A6%E5%82%99%E5%BF%97'>,\n",
       " <Element 'a' title='動感影像' href='/channel/256/%E5%8B%95%E6%84%9F?itm_source=webmenu&itm_medium=web'>,\n",
       " <Element 'a' title='科技' href='/zone/11/%E7%A7%91%E6%8A%80%E7%8E%A9%E7%89%A9'>,\n",
       " <Element 'a' title='實用教學' href='/channel/445/%E5%AF%A6%E7%94%A8%E6%95%99%E5%AD%B8'>,\n",
       " <Element 'a' title='數碼生活' href='/channel/391/%E6%95%B8%E7%A2%BC%E7%94%9F%E6%B4%BB'>,\n",
       " <Element 'a' title='遊戲動漫' href='/channel/390/%E9%81%8A%E6%88%B2%E5%8B%95%E6%BC%AB'>,\n",
       " <Element 'a' title='網科3.0' href='/channel/479/%E7%B6%B2%E7%A7%913-0'>,\n",
       " <Element 'a' title='攝影專區' href='/zone/13/%E5%BD%B1%E5%83%8F?itm_source=webmenu&itm_medium=web'>,\n",
       " <Element 'a' title='中國' href='/zone/5/%E4%B8%AD%E5%9C%8B'>,\n",
       " <Element 'a' title='即時中國' href='/channel/364/%E5%8D%B3%E6%99%82%E4%B8%AD%E5%9C%8B'>,\n",
       " <Element 'a' title='大國小事' href='/channel/366/%E5%A4%A7%E5%9C%8B%E5%B0%8F%E4%BA%8B'>,\n",
       " <Element 'a' title='北上廣東' href='/channel/477/%E5%8C%97%E4%B8%8A%E5%BB%A3%E6%9D%B1'>,\n",
       " <Element 'a' title='半導體大戰' href='/tag/15912'>,\n",
       " <Element 'a' title='藝文中國' href='/channel/369/%E8%97%9D%E6%96%87%E4%B8%AD%E5%9C%8B'>,\n",
       " <Element 'a' title='中國觀察' href='/channel/458/%E4%B8%AD%E5%9C%8B%E8%A7%80%E5%AF%9F'>,\n",
       " <Element 'a' title='台灣新聞' href='/channel/367/%E5%8F%B0%E7%81%A3%E6%96%B0%E8%81%9E'>,\n",
       " <Element 'a' title='經濟' href='/zone/14/%E7%B6%93%E6%BF%9F'>,\n",
       " <Element 'a' title='財經快訊' href='/channel/396/%E8%B2%A1%E7%B6%93%E5%BF%AB%E8%A8%8A'>,\n",
       " <Element 'a' title='宏觀解讀' href='/channel/398/%E5%AE%8F%E8%A7%80%E8%A7%A3%E8%AE%80'>,\n",
       " <Element 'a' title='地產樓市' href='/channel/399/%E5%9C%B0%E7%94%A2%E6%A8%93%E5%B8%82'>,\n",
       " <Element 'a' title='專題人訪' href='/channel/400/%E5%B0%88%E9%A1%8C%E4%BA%BA%E8%A8%AA'>,\n",
       " <Element 'a' title='觀點' href='/zone/12/%E8%A7%80%E9%BB%9E'>,\n",
       " <Element 'a' title='社論' href='/channel/449/%E7%A4%BE%E8%AB%96'>,\n",
       " <Element 'a' title='全部' href='/zone/12/%E5%85%A8%E9%83%A8'>,\n",
       " <Element 'a' title='01觀點' href='/channel/50/01%E8%A7%80%E9%BB%9E'>,\n",
       " <Element 'a' title='01論壇' href='/channel/415/01%E8%AB%96%E5%A3%87'>,\n",
       " <Element 'a' title='01專欄' href='/channel/480/01%E5%B0%88%E6%AC%84'>,\n",
       " <Element 'a' title='健康' href='/zone/24/%E5%81%A5%E5%BA%B7'>,\n",
       " <Element 'a' title='健康Easy' href='/channel/444/%E5%81%A5%E5%BA%B7Easy'>,\n",
       " <Element 'a' title='醫師Easy' href='/channel/463/%E9%86%AB%E5%B8%ABEasy'>,\n",
       " <Element 'a' title='醫美Easy' href='/channel/464/%E9%86%AB%E7%BE%8EEasy'>,\n",
       " <Element 'a' title='體檢優惠攻略' href='/issue/10178?utm_source=webmenu&utm_medium=web'>,\n",
       " <Element 'a' title='銀髮族' href='/issue/10139/%E9%8A%80%E9%AB%AE%E6%97%8F%E5%B0%88%E8%BC%AF-%E6%8F%90%E4%BE%9B%E6%A8%82%E9%BD%A1%E5%81%A5%E5%BA%B7%E4%BF%9D%E9%A4%8A%E6%96%B9%E6%A1%88-%E5%88%86%E4%BA%AB%E9%80%80%E4%BC%91%E7%90%86%E8%B2%A1%E5%AE%89%E8%80%81%E6%9C%80%E6%96%B0%E8%B3%87%E8%A8%8A?utm_source=webmenu&utm_medium=web'>,\n",
       " <Element 'a' title='好食玩飛' href='/zone/19/%E5%A5%BD%E9%A3%9F%E7%8E%A9%E9%A3%9B'>,\n",
       " <Element 'a' title='食玩買' href='/channel/446/%E9%A3%9F%E7%8E%A9%E8%B2%B7'>,\n",
       " <Element 'a' title='旅遊' href='/channel/411/%E6%97%85%E9%81%8A'>,\n",
       " <Element 'a' title='賞櫻攻略' href='/issue/948?utm_source=webmenu&utm_medium=web'>,\n",
       " <Element 'a' title='旅遊熱' href='/issue/10246?utm_source=webmenu&utm_medium=web'>,\n",
       " <Element 'a' title='玩樂影片' href='/01TV'>,\n",
       " <Element 'a' title='活動好去處' href='/channel/178/01%E6%B4%BB%E5%8B%95?utm_source=webmenu&utm_medium=web'>,\n",
       " <Element 'a' title='女生' href='/zone/6/%E5%A5%B3%E7%94%9F'>,\n",
       " <Element 'a' title='知性女生' href='/channel/388/%E7%9F%A5%E6%80%A7%E5%A5%B3%E7%94%9F'>,\n",
       " <Element 'a' title='穿搭筆記' href='/channel/387/%E7%A9%BF%E6%90%AD%E7%AD%86%E8%A8%98'>,\n",
       " <Element 'a' title='談情說性' href='/channel/389/%E8%AB%87%E6%83%85%E8%AA%AA%E6%80%A7'>,\n",
       " <Element 'a' title='美容手帳' href='/channel/443/%E7%BE%8E%E5%AE%B9%E6%89%8B%E5%B8%B3'>,\n",
       " <Element 'a' title='熱話' href='/zone/7/%E7%86%B1%E8%A9%B1'>,\n",
       " <Element 'a' title='熱爆話題' href='/channel/7/%E7%86%B1%E7%88%86%E8%A9%B1%E9%A1%8C'>,\n",
       " <Element 'a' title='開罐' href='/channel/317/%E9%96%8B%E7%BD%90'>,\n",
       " <Element 'a' title='研數所' href='/channel/460'>,\n",
       " <Element 'a' title='影像熱話' href='/channel/260/%E5%BD%B1%E5%83%8F%E7%86%B1%E8%A9%B1?utm_source=webmenu&utm_medium=web'>,\n",
       " <Element 'a' title='藝文格物' href='/zone/9/%E8%97%9D%E6%96%87%E6%A0%BC%E7%89%A9'>,\n",
       " <Element 'a' title='一物' href='/channel/182/%E4%B8%80%E7%89%A9'>,\n",
       " <Element 'a' title='形而' href='https://mensluxe.hk01.com/'>,\n",
       " <Element 'a' title='藝文' href='/channel/206/%E8%97%9D%E6%96%87'>,\n",
       " <Element 'a' title='哲學' href='/channel/61/%E5%93%B2%E5%AD%B8'>,\n",
       " <Element 'a' title='第二身' href='/channel/323/%E7%AC%AC%E4%BA%8C%E8%BA%AB'>,\n",
       " <Element 'a' title='扭耳仔' href='/channel/183/%E6%89%AD%E8%80%B3%E4%BB%94'>,\n",
       " <Element 'a' title='攝影界' href='/channel/348/%E6%94%9D%E5%BD%B1%E7%95%8C?utm_source=webmenu&utm_medium=web'>,\n",
       " <Element 'a' title='社區' href='/zone/10/%E7%A4%BE%E5%8D%80'>,\n",
       " <Element 'a' title='社區專題' href='/channel/23/%E7%A4%BE%E5%8D%80%E5%B0%88%E9%A1%8C'>,\n",
       " <Element 'a' title='18區新聞' href='/channel/422/18%E5%8D%80%E6%96%B0%E8%81%9E'>,\n",
       " <Element 'a' title='隱形香港' href='/channel/293/%E9%9A%B1%E5%BD%A2%E9%A6%99%E6%B8%AF'>,\n",
       " <Element 'a' title='紀實影像' href='/channel/259/%E7%B4%80%E5%AF%A6?itm_source=webmenu&itm_medium=web'>,\n",
       " <Element 'a' title='教育' href='/zone/23/%E6%95%99%E8%82%B2'>,\n",
       " <Element 'a' title='中小學校園' href='/channel/468/%E4%B8%AD%E5%B0%8F%E5%AD%B8%E6%A0%A1%E5%9C%92'>,\n",
       " <Element 'a' title='教育發展' href='/channel/474/%E6%95%99%E8%82%B2%E7%99%BC%E5%B1%95'>,\n",
       " <Element 'a' title='DSE專區' href='/channel/473/DSE%E5%B0%88%E5%8D%80'>,\n",
       " <Element 'a' title='專上教育' href='/channel/469/%E5%B0%88%E4%B8%8A%E6%95%99%E8%82%B2'>,\n",
       " <Element 'a' title='海外升學' href='/channel/475/%E6%B5%B7%E5%A4%96%E5%8D%87%E5%AD%B8'>,\n",
       " <Element 'a' title='深造進修' href='/channel/476/%E6%B7%B1%E9%80%A0%E9%80%B2%E4%BF%AE'>,\n",
       " <Element 'a' data-testid='footer-hk01-logo' href='/'>,\n",
       " <Element 'a' data-testid='footer-textLink-hotline' href='/hotline'>,\n",
       " <Element 'a' data-testid='footer-textLink-about' href='/about'>,\n",
       " <Element 'a' data-testid='footer-textLink-career' href='/career'>,\n",
       " <Element 'a' data-testid='footer-textLink-advertise' href='/advertise'>,\n",
       " <Element 'a' data-testid='footer-textLink-app' href='/app'>,\n",
       " <Element 'a' href='https://faq.hk01.com' data-testid='footer-textLink-faq'>,\n",
       " <Element 'a' data-testid='footer-textLink-contact' href='/contact'>,\n",
       " <Element 'a' data-testid='footer-textLink-privacy' href='/privacy'>,\n",
       " <Element 'a' data-testid='footer-textLink-terms' href='/terms'>,\n",
       " <Element 'a' href='https://www.facebook.com/hk01wemedia' target='_blank' rel=('noreferrer',) data-testid='footer-iconLink-facebook'>,\n",
       " <Element 'a' href='https://www.instagram.com/hk01_hk/' target='_blank' rel=('noreferrer',) data-testid='footer-iconLink-instagram'>,\n",
       " <Element 'a' href='https://www.youtube.com/c/香港01official' target='_blank' rel=('noreferrer',) data-testid='footer-iconLink-youtube'>,\n",
       " <Element 'a' href='https://www.linkedin.com/company/hk01/' target='_blank' rel=('noreferrer',) data-testid='footer-iconLink-linkedin'>,\n",
       " <Element 'a' href='https://twitter.com/hk01official' target='_blank' rel=('noreferrer',) data-testid='footer-iconLink-twitter'>,\n",
       " <Element 'a' title='港聞' href='/zone/1/%E6%B8%AF%E8%81%9E'>,\n",
       " <Element 'a' title='娛樂' href='/zone/2/%E5%A8%9B%E6%A8%82'>,\n",
       " <Element 'a' title='激平酒店' href='/issue/1014?itm_source=webmenu&itm_medium=web'>,\n",
       " <Element 'a' title='生活' href='/zone/8/%E7%94%9F%E6%B4%BB'>,\n",
       " <Element 'a' title='國際' href='/zone/4/%E5%9C%8B%E9%9A%9B'>,\n",
       " <Element 'a' title='即時' href='/latest'>,\n",
       " <Element 'a' title='最Hit' href='/hot'>,\n",
       " <Element 'a' title='體育' href='/zone/3/%E9%AB%94%E8%82%B2'>,\n",
       " <Element 'a' title='科技' href='/zone/11/%E7%A7%91%E6%8A%80%E7%8E%A9%E7%89%A9'>,\n",
       " <Element 'a' title='中國' href='/zone/5/%E4%B8%AD%E5%9C%8B'>,\n",
       " <Element 'a' title='經濟' href='/zone/14/%E7%B6%93%E6%BF%9F'>,\n",
       " <Element 'a' title='觀點' href='/zone/12/%E8%A7%80%E9%BB%9E'>,\n",
       " <Element 'a' title='健康' href='/zone/24/%E5%81%A5%E5%BA%B7'>,\n",
       " <Element 'a' title='好食玩飛' href='/zone/19/%E5%A5%BD%E9%A3%9F%E7%8E%A9%E9%A3%9B'>,\n",
       " <Element 'a' title='女生' href='/zone/6/%E5%A5%B3%E7%94%9F'>,\n",
       " <Element 'a' title='熱話' href='/zone/7/%E7%86%B1%E8%A9%B1'>,\n",
       " <Element 'a' title='藝文格物' href='/zone/9/%E8%97%9D%E6%96%87%E6%A0%BC%E7%89%A9'>,\n",
       " <Element 'a' title='社區' href='/zone/10/%E7%A4%BE%E5%8D%80'>,\n",
       " <Element 'a' title='教育' href='/zone/23/%E6%95%99%E8%82%B2'>,\n",
       " <Element 'a' data-testid='footer-hk01-logo' href='/'>,\n",
       " <Element 'a' data-testid='footer-textLink-hotline' href='/hotline'>,\n",
       " <Element 'a' data-testid='footer-textLink-about' href='/about'>,\n",
       " <Element 'a' data-testid='footer-textLink-career' href='/career'>,\n",
       " <Element 'a' data-testid='footer-textLink-advertise' href='/advertise'>,\n",
       " <Element 'a' data-testid='footer-textLink-app' href='/app'>,\n",
       " <Element 'a' href='https://faq.hk01.com' data-testid='footer-textLink-faq'>,\n",
       " <Element 'a' data-testid='footer-textLink-contact' href='/contact'>,\n",
       " <Element 'a' data-testid='footer-textLink-privacy' href='/privacy'>,\n",
       " <Element 'a' data-testid='footer-textLink-terms' href='/terms'>,\n",
       " <Element 'a' href='https://www.facebook.com/hk01wemedia' target='_blank' rel=('noreferrer',) data-testid='footer-iconLink-facebook'>,\n",
       " <Element 'a' href='https://www.instagram.com/hk01_hk/' target='_blank' rel=('noreferrer',) data-testid='footer-iconLink-instagram'>,\n",
       " <Element 'a' href='https://www.youtube.com/c/香港01official' target='_blank' rel=('noreferrer',) data-testid='footer-iconLink-youtube'>,\n",
       " <Element 'a' href='https://www.linkedin.com/company/hk01/' target='_blank' rel=('noreferrer',) data-testid='footer-iconLink-linkedin'>,\n",
       " <Element 'a' href='https://twitter.com/hk01official' target='_blank' rel=('noreferrer',) data-testid='footer-iconLink-twitter'>,\n",
       " <Element 'a' class=('relative', 'mr-3', 'whitespace-nowrap', 'px-2', 'py-4', 'md:mr-3', 'md:py-4', 'md:px-2') target='_self' href='/hotline'>,\n",
       " <Element 'a' class=('relative', 'mr-3', 'whitespace-nowrap', 'px-2', 'py-4', 'md:mr-3', 'md:py-4', 'md:px-2') target='_self' href='/channel/2/%E7%A4%BE%E6%9C%83%E6%96%B0%E8%81%9E'>,\n",
       " <Element 'a' class=('relative', 'mr-3', 'whitespace-nowrap', 'px-2', 'py-4', 'md:mr-3', 'md:py-4', 'md:px-2') target='_self' href='/channel/6/%E7%AA%81%E7%99%BC'>,\n",
       " <Element 'a' class=('relative', 'mr-3', 'whitespace-nowrap', 'px-2', 'py-4', 'md:mr-3', 'md:py-4', 'md:px-2') target='_self' href='/channel/310/%E6%94%BF%E6%83%85'>,\n",
       " <Element 'a' class=('relative', 'mr-3', 'whitespace-nowrap', 'px-2', 'py-4', 'md:mr-3', 'md:py-4', 'md:px-2') target='_self' href='/issue/10207/%E5%9C%8B%E5%AE%89%E6%B3%95%E6%A1%88%E4%BB%B6%E6%8C%81%E7%BA%8C%E6%9B%B4%E6%96%B0-%E5%88%9D%E9%81%B8-%E9%BB%8E%E6%99%BA%E8%8B%B1-%E7%AB%8B%E5%A0%B4%E6%96%B0%E8%81%9E%E6%A1%88%E7%88%AD%E8%AD%B0%E4%B8%AD%E5%AF%A9%E8%A8%8A'>,\n",
       " <Element 'a' class=('relative', 'mr-3', 'whitespace-nowrap', 'px-2', 'py-4', 'md:mr-3', 'md:py-4', 'md:px-2') target='_self' href='/issue/10229/%E9%9A%B1%E5%BD%A2%E9%A6%99%E6%B8%AF-%E9%BB%91%E7%9A%84%E7%9B%B4%E6%93%8A%E9%BB%83%E9%87%91%E5%91%A8%E5%BE%8C%E5%8A%8F%E5%AE%A2%E5%BE%A9%E5%B8%B8-%E6%95%B8%E6%93%9A%E6%8F%AD%E7%82%BA%E4%BD%95%E5%B1%A2%E7%A6%81%E4%B8%8D%E6%AD%A2'>,\n",
       " <Element 'a' class=('relative', 'mr-3', 'whitespace-nowrap', 'px-2', 'py-4', 'md:mr-3', 'md:py-4', 'md:px-2') target='_self' href='/zone/23/%E6%95%99%E8%82%B2'>,\n",
       " <Element 'a' class=('relative', 'mr-3', 'whitespace-nowrap', 'px-2', 'py-4', 'md:mr-3', 'md:py-4', 'md:px-2') target='_self' href='/issue/10221/whatsapp%E8%A2%ABhack-%E8%A6%96%E5%83%8F%E9%9B%BB%E8%A9%B1%E9%A8%99%E6%A1%88%E7%A0%B4%E8%A7%A3-%E7%B6%B2%E4%B8%8A%E6%83%85%E7%B7%A3%E9%99%B7%E9%98%B1-%E8%A9%90%E9%A8%99%E6%96%B0%E8%81%9E%E5%A4%A7%E5%85%A8?itm_source=universal_search&itm_campaign=hk01&itm_content=issues&itm_medium=web'>,\n",
       " <Element 'a' class=('relative', 'mr-3', 'whitespace-nowrap', 'px-2', 'py-4', 'md:mr-3', 'md:py-4', 'md:px-2') target='_self' href='/channel/421/%E5%A4%A9%E6%B0%A3'>,\n",
       " <Element 'a' class=('relative', 'mr-3', 'whitespace-nowrap', 'px-2', 'py-4', 'md:mr-3', 'md:py-4', 'md:px-2') target='_self' href='/channel/413/%E6%B7%B1%E5%BA%A6%E5%A0%B1%E9%81%93'>,\n",
       " <Element 'a' class=('relative', 'mr-3', 'whitespace-nowrap', 'px-2', 'py-4', 'md:mr-3', 'md:py-4', 'md:px-2') target='_self' href='/channel/143/01%E5%81%B5%E6%9F%A5'>,\n",
       " <Element 'a' class=('relative', 'mr-3', 'whitespace-nowrap', 'px-2', 'py-4', 'md:mr-3', 'md:py-4', 'md:px-2') target='_self' href='/channel/403/%E9%A6%99%E6%B8%AF%E7%B6%93%E6%BF%9F'>,\n",
       " <Element 'a' href='/%E7%A4%BE%E6%9C%83%E6%96%B0%E8%81%9E/1005533/%E5%BE%A9%E6%B4%BB%E7%AF%80-%E6%88%AA%E8%87%B3%E4%B8%8B%E5%8D%884%E6%99%8259%E8%90%AC%E6%B8%AF%E4%BA%BA%E5%87%BA%E5%A2%83-%E7%A0%B4%E6%98%A8%E6%97%A552%E8%90%AC%E7%B4%80%E9%8C%84-%E5%89%B5%E7%96%AB%E5%BE%8C%E6%96%B0%E9%AB%98'>,\n",
       " <Element 'a' class=('card-category', 'flex', 'items-center') href='/channel/2/%E7%A4%BE%E6%9C%83%E6%96%B0%E8%81%9E'>,\n",
       " <Element 'a' class=('card-title', 'break-words') href='/%E7%A4%BE%E6%9C%83%E6%96%B0%E8%81%9E/1005533/%E5%BE%A9%E6%B4%BB%E7%AF%80-%E6%88%AA%E8%87%B3%E4%B8%8B%E5%8D%884%E6%99%8259%E8%90%AC%E6%B8%AF%E4%BA%BA%E5%87%BA%E5%A2%83-%E7%A0%B4%E6%98%A8%E6%97%A552%E8%90%AC%E7%B4%80%E9%8C%84-%E5%89%B5%E7%96%AB%E5%BE%8C%E6%96%B0%E9%AB%98'>,\n",
       " <Element 'a' href='/%E7%A4%BE%E6%9C%83%E6%96%B0%E8%81%9E/1005533/%E5%BE%A9%E6%B4%BB%E7%AF%80-%E6%88%AA%E8%87%B3%E4%B8%8B%E5%8D%884%E6%99%8259%E8%90%AC%E6%B8%AF%E4%BA%BA%E5%87%BA%E5%A2%83-%E7%A0%B4%E6%98%A8%E6%97%A552%E8%90%AC%E7%B4%80%E9%8C%84-%E5%89%B5%E7%96%AB%E5%BE%8C%E6%96%B0%E9%AB%98'>,\n",
       " <Element 'a' class=('card-category', 'flex', 'items-center') href='/channel/2/%E7%A4%BE%E6%9C%83%E6%96%B0%E8%81%9E'>,\n",
       " <Element 'a' class=('card-title', 'break-words') href='/%E7%A4%BE%E6%9C%83%E6%96%B0%E8%81%9E/1005533/%E5%BE%A9%E6%B4%BB%E7%AF%80-%E6%88%AA%E8%87%B3%E4%B8%8B%E5%8D%884%E6%99%8259%E8%90%AC%E6%B8%AF%E4%BA%BA%E5%87%BA%E5%A2%83-%E7%A0%B4%E6%98%A8%E6%97%A552%E8%90%AC%E7%B4%80%E9%8C%84-%E5%89%B5%E7%96%AB%E5%BE%8C%E6%96%B0%E9%AB%98'>,\n",
       " <Element 'a' href='/%E7%A4%BE%E6%9C%83%E6%96%B0%E8%81%9E/1005226/%E4%B8%BB%E4%BA%BA%E4%B8%8D%E6%95%91-%E6%87%B6%E7%90%86%E5%AE%B6%E4%B8%AD%E6%AF%9B%E5%AD%A9%E6%AD%BB%E6%B4%BB-%E5%BF%83%E7%90%86%E5%AD%B8%E5%AE%B6-%E8%AD%A6%E6%96%B9%E8%A6%AA%E8%A7%A3%E6%A7%8B%E5%8B%95%E7%89%A9%E7%BD%AA%E6%A1%88'>,\n",
       " <Element 'a' class=('card-category', 'flex', 'items-center') href='/channel/2/%E7%A4%BE%E6%9C%83%E6%96%B0%E8%81%9E'>,\n",
       " <Element 'a' class=('card-title', 'break-words') href='/%E7%A4%BE%E6%9C%83%E6%96%B0%E8%81%9E/1005226/%E4%B8%BB%E4%BA%BA%E4%B8%8D%E6%95%91-%E6%87%B6%E7%90%86%E5%AE%B6%E4%B8%AD%E6%AF%9B%E5%AD%A9%E6%AD%BB%E6%B4%BB-%E5%BF%83%E7%90%86%E5%AD%B8%E5%AE%B6-%E8%AD%A6%E6%96%B9%E8%A6%AA%E8%A7%A3%E6%A7%8B%E5%8B%95%E7%89%A9%E7%BD%AA%E6%A1%88'>,\n",
       " <Element 'a' href='/%E7%A4%BE%E6%9C%83%E6%96%B0%E8%81%9E/1005525/%E5%BE%A9%E6%B4%BB%E7%AF%80%E5%8C%97%E4%B8%8A%E6%8E%A1%E8%A8%AA%E6%89%8B%E8%A8%98-%E6%90%AD%E6%9D%B1%E9%90%B5%E8%AE%8A%E6%B2%99%E7%94%B8%E9%AD%9A-%E4%B8%8A%E6%B0%B4%E5%8E%BB%E7%BE%85%E6%B9%96%E8%8A%B12%E5%B0%8F%E6%99%82'>,\n",
       " <Element 'a' class=('card-category', 'flex', 'items-center') href='/channel/2/%E7%A4%BE%E6%9C%83%E6%96%B0%E8%81%9E'>,\n",
       " <Element 'a' class=('card-title', 'break-words') href='/%E7%A4%BE%E6%9C%83%E6%96%B0%E8%81%9E/1005525/%E5%BE%A9%E6%B4%BB%E7%AF%80%E5%8C%97%E4%B8%8A%E6%8E%A1%E8%A8%AA%E6%89%8B%E8%A8%98-%E6%90%AD%E6%9D%B1%E9%90%B5%E8%AE%8A%E6%B2%99%E7%94%B8%E9%AD%9A-%E4%B8%8A%E6%B0%B4%E5%8E%BB%E7%BE%85%E6%B9%96%E8%8A%B12%E5%B0%8F%E6%99%82'>,\n",
       " <Element 'a' href='/%E7%A4%BE%E6%9C%83%E6%96%B0%E8%81%9E/1005560/%E5%BE%A9%E6%B4%BB%E7%AF%80-%E9%81%8B%E8%BC%B8%E7%BD%B2%E6%8C%87%E5%91%A8%E5%85%AD%E4%BB%8D%E6%98%AF%E5%87%BA%E8%A1%8C%E9%AB%98%E5%B3%B0%E6%9C%9F-%E7%B1%B2%E5%B8%82%E6%B0%91%E8%80%83%E6%85%AE%E4%B8%8D%E8%A6%81%E6%97%A9%E4%B8%8A%E5%87%BA%E5%A2%83'>,\n",
       " <Element 'a' class=('card-category', 'flex', 'items-center') href='/channel/2/%E7%A4%BE%E6%9C%83%E6%96%B0%E8%81%9E'>,\n",
       " <Element 'a' class=('card-title', 'break-words') href='/%E7%A4%BE%E6%9C%83%E6%96%B0%E8%81%9E/1005560/%E5%BE%A9%E6%B4%BB%E7%AF%80-%E9%81%8B%E8%BC%B8%E7%BD%B2%E6%8C%87%E5%91%A8%E5%85%AD%E4%BB%8D%E6%98%AF%E5%87%BA%E8%A1%8C%E9%AB%98%E5%B3%B0%E6%9C%9F-%E7%B1%B2%E5%B8%82%E6%B0%91%E8%80%83%E6%85%AE%E4%B8%8D%E8%A6%81%E6%97%A9%E4%B8%8A%E5%87%BA%E5%A2%83'>,\n",
       " <Element 'a' href='/%E7%AA%81%E7%99%BC/1005534/%E9%BB%83%E5%A4%A7%E4%BB%99%E7%B4%80%E5%BE%8B%E9%83%A8%E9%9A%8A%E5%AE%BF%E8%88%8D%E5%A5%B3%E5%82%AD%E6%B6%89%E5%81%B7%E5%A4%BE%E8%90%AC-%E4%BD%9C%E6%95%85%E4%BB%94-%E9%81%AD%E5%88%80%E5%8C%AA%E6%8C%BE%E6%8C%81%E5%85%A5%E5%B1%8B%E8%A2%AB%E6%8D%95'>,\n",
       " <Element 'a' class=('card-category', 'flex', 'items-center') href='/channel/6/%E7%AA%81%E7%99%BC'>,\n",
       " <Element 'a' class=('card-title', 'break-words') href='/%E7%AA%81%E7%99%BC/1005534/%E9%BB%83%E5%A4%A7%E4%BB%99%E7%B4%80%E5%BE%8B%E9%83%A8%E9%9A%8A%E5%AE%BF%E8%88%8D%E5%A5%B3%E5%82%AD%E6%B6%89%E5%81%B7%E5%A4%BE%E8%90%AC-%E4%BD%9C%E6%95%85%E4%BB%94-%E9%81%AD%E5%88%80%E5%8C%AA%E6%8C%BE%E6%8C%81%E5%85%A5%E5%B1%8B%E8%A2%AB%E6%8D%95'>,\n",
       " <Element 'a' href='/%E6%94%BF%E6%83%85/1005502/%E5%9E%83%E5%9C%BE%E5%BE%B5%E8%B2%BB-%E7%8B%84%E5%BF%97%E9%81%A0%E6%89%B9%E5%85%88%E8%A1%8C%E5%85%88%E8%A9%A6%E4%B8%8D%E5%88%87%E5%AF%A6%E9%9A%9B-%E6%93%AC%E7%94%B3%E8%AB%8B%E9%81%8A%E8%A1%8C%E8%A1%A8%E9%81%94%E4%B8%8D%E6%BB%BF'>,\n",
       " <Element 'a' class=('card-category', 'flex', 'items-center') href='/channel/310/%E6%94%BF%E6%83%85'>,\n",
       " <Element 'a' class=('card-title', 'break-words') href='/%E6%94%BF%E6%83%85/1005502/%E5%9E%83%E5%9C%BE%E5%BE%B5%E8%B2%BB-%E7%8B%84%E5%BF%97%E9%81%A0%E6%89%B9%E5%85%88%E8%A1%8C%E5%85%88%E8%A9%A6%E4%B8%8D%E5%88%87%E5%AF%A6%E9%9A%9B-%E6%93%AC%E7%94%B3%E8%AB%8B%E9%81%8A%E8%A1%8C%E8%A1%A8%E9%81%94%E4%B8%8D%E6%BB%BF'>,\n",
       " <Element 'a' class=('hidden', 'lg:inline') href='/channel/2/%E7%A4%BE%E6%9C%83%E6%96%B0%E8%81%9E'>,\n",
       " <Element 'a' href='/%E7%A4%BE%E6%9C%83%E6%96%B0%E8%81%9E/1005398/%E5%BE%A9%E6%B4%BB%E7%AF%80%E5%8C%97%E4%B8%8A-%E6%8C%81%E7%BA%8C%E6%9B%B4%E6%96%B0-%E6%B8%AF%E9%90%B5-%E7%BE%85%E6%B9%96%E8%90%BD%E9%A6%AC%E6%B4%B2%E4%BA%BA%E6%BD%AE%E6%B8%9B%E5%B0%91-%E5%88%97%E8%BB%8A%E5%9B%9E%E5%BE%A9%E6%AD%A3%E5%B8%B8'>,\n",
       " <Element 'a' class=('card-category', 'flex', 'items-center') href='/channel/2/%E7%A4%BE%E6%9C%83%E6%96%B0%E8%81%9E'>,\n",
       " <Element 'a' class=('card-title', 'break-words') href='/%E7%A4%BE%E6%9C%83%E6%96%B0%E8%81%9E/1005398/%E5%BE%A9%E6%B4%BB%E7%AF%80%E5%8C%97%E4%B8%8A-%E6%8C%81%E7%BA%8C%E6%9B%B4%E6%96%B0-%E6%B8%AF%E9%90%B5-%E7%BE%85%E6%B9%96%E8%90%BD%E9%A6%AC%E6%B4%B2%E4%BA%BA%E6%BD%AE%E6%B8%9B%E5%B0%91-%E5%88%97%E8%BB%8A%E5%9B%9E%E5%BE%A9%E6%AD%A3%E5%B8%B8'>,\n",
       " <Element 'a' href='/%E7%A4%BE%E6%9C%83%E6%96%B0%E8%81%9E/1005407/%E5%BE%A9%E6%B4%BB%E7%AF%80%E5%8C%97%E4%B8%8A-%E4%B8%8A%E6%B0%B4%E7%AB%99%E5%A4%96%E7%8F%BE200%E7%B1%B3%E4%BA%BA%E9%BE%8D-%E6%B8%AF%E4%BA%BA-%E9%A6%99%E6%B8%AF%E6%B6%88%E8%B2%BB%E5%BE%97%E7%BD%AA%E8%AC%9B%E5%8F%A5%E5%A4%AA%E8%B2%B4'>,\n",
       " <Element 'a' class=('card-category', 'flex', 'items-center') href='/channel/2/%E7%A4%BE%E6%9C%83%E6%96%B0%E8%81%9E'>,\n",
       " <Element 'a' class=('card-title', 'break-words') href='/%E7%A4%BE%E6%9C%83%E6%96%B0%E8%81%9E/1005407/%E5%BE%A9%E6%B4%BB%E7%AF%80%E5%8C%97%E4%B8%8A-%E4%B8%8A%E6%B0%B4%E7%AB%99%E5%A4%96%E7%8F%BE200%E7%B1%B3%E4%BA%BA%E9%BE%8D-%E6%B8%AF%E4%BA%BA-%E9%A6%99%E6%B8%AF%E6%B6%88%E8%B2%BB%E5%BE%97%E7%BD%AA%E8%AC%9B%E5%8F%A5%E5%A4%AA%E8%B2%B4'>,\n",
       " <Element 'a' class=('card-button', 'sm:grow', 'md:grow-0') href='/%E7%A4%BE%E6%9C%83%E6%96%B0%E8%81%9E/1005407/%E5%BE%A9%E6%B4%BB%E7%AF%80%E5%8C%97%E4%B8%8A-%E4%B8%8A%E6%B0%B4%E7%AB%99%E5%A4%96%E7%8F%BE200%E7%B1%B3%E4%BA%BA%E9%BE%8D-%E6%B8%AF%E4%BA%BA-%E9%A6%99%E6%B8%AF%E6%B6%88%E8%B2%BB%E5%BE%97%E7%BD%AA%E8%AC%9B%E5%8F%A5%E5%A4%AA%E8%B2%B4'>,\n",
       " <Element 'a' href='/%E5%A4%A9%E6%B0%A3/1005406/%E5%BE%A9%E6%B4%BB%E7%AF%80-%E5%A4%A9%E6%96%87%E5%8F%B0%E6%96%994%E6%97%A5%E5%81%87%E6%9C%9F%E6%9C%89%E9%9B%A8-%E7%8B%82%E9%A2%A8%E9%9B%B7%E6%9A%B4-%E5%8C%97%E4%B8%8A%E6%B3%A8%E6%84%8F%E6%B7%B1%E5%9C%B3%E6%88%96%E9%9B%A8%E5%8B%A2%E5%A4%A7'>,\n",
       " <Element 'a' class=('card-category', 'flex', 'items-center') href='/channel/421/%E5%A4%A9%E6%B0%A3'>,\n",
       " <Element 'a' class=('card-title', 'break-words') href='/%E5%A4%A9%E6%B0%A3/1005406/%E5%BE%A9%E6%B4%BB%E7%AF%80-%E5%A4%A9%E6%96%87%E5%8F%B0%E6%96%994%E6%97%A5%E5%81%87%E6%9C%9F%E6%9C%89%E9%9B%A8-%E7%8B%82%E9%A2%A8%E9%9B%B7%E6%9A%B4-%E5%8C%97%E4%B8%8A%E6%B3%A8%E6%84%8F%E6%B7%B1%E5%9C%B3%E6%88%96%E9%9B%A8%E5%8B%A2%E5%A4%A7'>,\n",
       " <Element 'a' href='/%E7%A4%BE%E6%9C%83%E6%96%B0%E8%81%9E/1005400/%E5%BE%A9%E6%B4%BB%E7%AF%80%E6%B8%AF%E4%BA%BA%E5%A4%A7%E9%81%B7%E5%BE%99-%E6%B7%B1%E5%9C%B3%E7%81%A3%E5%A4%A7%E6%A9%8B%E7%BD%95%E8%A6%8B%E5%A1%9E%E7%88%86-%E7%9A%84%E5%A3%AB%E9%95%B7%E9%BE%8D%E7%AD%89%E9%80%BE1%E5%B0%8F%E6%99%82'>,\n",
       " <Element 'a' class=('card-category', 'flex', 'items-center') href='/channel/2/%E7%A4%BE%E6%9C%83%E6%96%B0%E8%81%9E'>,\n",
       " <Element 'a' class=('card-title', 'break-words') href='/%E7%A4%BE%E6%9C%83%E6%96%B0%E8%81%9E/1005400/%E5%BE%A9%E6%B4%BB%E7%AF%80%E6%B8%AF%E4%BA%BA%E5%A4%A7%E9%81%B7%E5%BE%99-%E6%B7%B1%E5%9C%B3%E7%81%A3%E5%A4%A7%E6%A9%8B%E7%BD%95%E8%A6%8B%E5%A1%9E%E7%88%86-%E7%9A%84%E5%A3%AB%E9%95%B7%E9%BE%8D%E7%AD%89%E9%80%BE1%E5%B0%8F%E6%99%82'>,\n",
       " <Element 'a' href='/%E7%A4%BE%E6%9C%83%E6%96%B0%E8%81%9E/1005319/hk-express%E6%9B%BC%E8%B0%B7%E6%A9%9F%E5%A0%B4%E6%AD%BB%E6%A9%9F-%E7%99%BB%E6%A9%9F%E6%89%8B%E7%BA%8C%E4%BA%BA%E6%89%8B%E8%99%95%E7%90%86-%E8%87%B3%E5%B0%91%E5%85%A9%E9%A3%9B%E6%B8%AF%E8%88%AA%E7%8F%AD%E5%BB%B6%E8%AA%A4'>,\n",
       " <Element 'a' class=('card-category', 'flex', 'items-center') href='/channel/2/%E7%A4%BE%E6%9C%83%E6%96%B0%E8%81%9E'>,\n",
       " <Element 'a' class=('card-title', 'break-words') href='/%E7%A4%BE%E6%9C%83%E6%96%B0%E8%81%9E/1005319/hk-express%E6%9B%BC%E8%B0%B7%E6%A9%9F%E5%A0%B4%E6%AD%BB%E6%A9%9F-%E7%99%BB%E6%A9%9F%E6%89%8B%E7%BA%8C%E4%BA%BA%E6%89%8B%E8%99%95%E7%90%86-%E8%87%B3%E5%B0%91%E5%85%A9%E9%A3%9B%E6%B8%AF%E8%88%AA%E7%8F%AD%E5%BB%B6%E8%AA%A4'>,\n",
       " <Element 'a' href='/%E7%A4%BE%E6%9C%83%E6%96%B0%E8%81%9E/1004410/%E7%85%A7%E9%A1%A7%E8%80%85%E6%8A%95%E8%BA%AB%E9%A6%99%E6%B8%AF%E9%98%B2%E7%99%8C%E6%9C%83-%E7%B1%B2%E7%A4%BE%E6%9C%83%E6%9B%B4%E5%A4%9A%E7%99%8C%E7%97%87%E6%94%AF%E6%8F%B4%E5%AE%88%E8%AD%B7%E5%90%8C%E8%B7%AF%E4%BA%BA'>,\n",
       " <Element 'a' class=('card-category', 'flex', 'items-center') href='/channel/2/%E7%A4%BE%E6%9C%83%E6%96%B0%E8%81%9E'>,\n",
       " <Element 'a' class=('card-title', 'break-words') href='/%E7%A4%BE%E6%9C%83%E6%96%B0%E8%81%9E/1004410/%E7%85%A7%E9%A1%A7%E8%80%85%E6%8A%95%E8%BA%AB%E9%A6%99%E6%B8%AF%E9%98%B2%E7%99%8C%E6%9C%83-%E7%B1%B2%E7%A4%BE%E6%9C%83%E6%9B%B4%E5%A4%9A%E7%99%8C%E7%97%87%E6%94%AF%E6%8F%B4%E5%AE%88%E8%AD%B7%E5%90%8C%E8%B7%AF%E4%BA%BA'>,\n",
       " <Element 'a' class=('my-2', 'block', 'text-center', 'lg:hidden') href='/channel/2/%E7%A4%BE%E6%9C%83%E6%96%B0%E8%81%9E'>,\n",
       " <Element 'a' class=('hidden', 'lg:inline') href='/channel/6/%E7%AA%81%E7%99%BC'>,\n",
       " <Element 'a' href='/%E7%AA%81%E7%99%BC/1005460/%E6%9D%B1%E6%B6%8C%E7%81%AB%E8%AD%A6-%E7%81%AB%E5%A0%B4%E6%9B%9D%E5%85%89-%E5%AE%B6%E5%85%B7%E9%9B%9C%E7%89%A9%E9%81%AD%E7%87%92%E6%AF%80-%E5%A4%A9%E8%8A%B1%E7%89%86%E8%BA%AB%E5%85%A8%E7%86%8F%E9%BB%91'>,\n",
       " <Element 'a' class=('card-category', 'flex', 'items-center') href='/channel/6/%E7%AA%81%E7%99%BC'>,\n",
       " <Element 'a' class=('card-title', 'break-words') href='/%E7%AA%81%E7%99%BC/1005460/%E6%9D%B1%E6%B6%8C%E7%81%AB%E8%AD%A6-%E7%81%AB%E5%A0%B4%E6%9B%9D%E5%85%89-%E5%AE%B6%E5%85%B7%E9%9B%9C%E7%89%A9%E9%81%AD%E7%87%92%E6%AF%80-%E5%A4%A9%E8%8A%B1%E7%89%86%E8%BA%AB%E5%85%A8%E7%86%8F%E9%BB%91'>,\n",
       " <Element 'a' class=('card-button', 'sm:grow', 'md:grow-0') href='/%E7%AA%81%E7%99%BC/1005460/%E6%9D%B1%E6%B6%8C%E7%81%AB%E8%AD%A6-%E7%81%AB%E5%A0%B4%E6%9B%9D%E5%85%89-%E5%AE%B6%E5%85%B7%E9%9B%9C%E7%89%A9%E9%81%AD%E7%87%92%E6%AF%80-%E5%A4%A9%E8%8A%B1%E7%89%86%E8%BA%AB%E5%85%A8%E7%86%8F%E9%BB%91'>,\n",
       " <Element 'a' href='/%E7%AA%81%E7%99%BC/1005445/%E5%85%83%E6%9C%97%E7%99%BD%E6%B2%99%E6%9D%91%E5%80%89%E5%BA%AB%E8%B5%B7%E7%81%AB%E6%BF%83%E7%85%99%E6%B2%96%E5%A4%A9-%E9%80%BC%E8%BF%91%E6%B0%91%E5%B1%85%E6%95%B8%E4%BA%BA%E7%96%8F%E6%95%A3'>,\n",
       " <Element 'a' class=('card-category', 'flex', 'items-center') href='/channel/6/%E7%AA%81%E7%99%BC'>,\n",
       " <Element 'a' class=('card-title', 'break-words') href='/%E7%AA%81%E7%99%BC/1005445/%E5%85%83%E6%9C%97%E7%99%BD%E6%B2%99%E6%9D%91%E5%80%89%E5%BA%AB%E8%B5%B7%E7%81%AB%E6%BF%83%E7%85%99%E6%B2%96%E5%A4%A9-%E9%80%BC%E8%BF%91%E6%B0%91%E5%B1%85%E6%95%B8%E4%BA%BA%E7%96%8F%E6%95%A3'>,\n",
       " <Element 'a' href='/%E7%AA%81%E7%99%BC/1005424/%E6%9D%B1%E6%B6%8C%E7%81%AB%E8%AD%A6-%E4%BD%BF%E7%94%A8%E6%B7%98%E5%AF%B6%E7%81%AB%E6%A7%8D%E6%99%82%E8%B5%B7%E7%81%AB-%E5%A5%B3%E6%88%B6%E4%B8%BB%E4%BA%8C%E7%B4%9A%E7%87%92%E5%82%B7-4%E6%84%9B%E8%B2%93%E5%85%A8%E5%96%AA%E5%91%BD'>,\n",
       " <Element 'a' class=('card-category', 'flex', 'items-center') href='/channel/6/%E7%AA%81%E7%99%BC'>,\n",
       " <Element 'a' class=('card-title', 'break-words') href='/%E7%AA%81%E7%99%BC/1005424/%E6%9D%B1%E6%B6%8C%E7%81%AB%E8%AD%A6-%E4%BD%BF%E7%94%A8%E6%B7%98%E5%AF%B6%E7%81%AB%E6%A7%8D%E6%99%82%E8%B5%B7%E7%81%AB-%E5%A5%B3%E6%88%B6%E4%B8%BB%E4%BA%8C%E7%B4%9A%E7%87%92%E5%82%B7-4%E6%84%9B%E8%B2%93%E5%85%A8%E5%96%AA%E5%91%BD'>,\n",
       " <Element 'a' class=('card-button', 'sm:grow', 'md:grow-0') href='/%E7%AA%81%E7%99%BC/1005424/%E6%9D%B1%E6%B6%8C%E7%81%AB%E8%AD%A6-%E4%BD%BF%E7%94%A8%E6%B7%98%E5%AF%B6%E7%81%AB%E6%A7%8D%E6%99%82%E8%B5%B7%E7%81%AB-%E5%A5%B3%E6%88%B6%E4%B8%BB%E4%BA%8C%E7%B4%9A%E7%87%92%E5%82%B7-4%E6%84%9B%E8%B2%93%E5%85%A8%E5%96%AA%E5%91%BD'>,\n",
       " <Element 'a' href='/%E7%AA%81%E7%99%BC/1001150/%E6%A8%82%E7%BF%A0%E8%87%BA%E7%B6%AD%E4%BF%AE%E9%A2%A8%E6%B3%A2-%E8%87%AA%E7%B5%84%E5%9C%98%E9%9A%8A%E5%8D%8A%E5%B9%B4%E5%9C%98%E7%B5%90%E8%A1%97%E5%9D%8A-%E4%B8%80%E5%A0%B4%E6%A5%AD%E4%B8%BB%E8%A6%BA%E9%86%92%E8%87%AA%E6%95%91%E4%B9%8B%E6%88%B0'>,\n",
       " <Element 'a' class=('card-category', 'flex', 'items-center') href='/channel/6/%E7%AA%81%E7%99%BC'>,\n",
       " <Element 'a' class=('card-title', 'break-words') href='/%E7%AA%81%E7%99%BC/1001150/%E6%A8%82%E7%BF%A0%E8%87%BA%E7%B6%AD%E4%BF%AE%E9%A2%A8%E6%B3%A2-%E8%87%AA%E7%B5%84%E5%9C%98%E9%9A%8A%E5%8D%8A%E5%B9%B4%E5%9C%98%E7%B5%90%E8%A1%97%E5%9D%8A-%E4%B8%80%E5%A0%B4%E6%A5%AD%E4%B8%BB%E8%A6%BA%E9%86%92%E8%87%AA%E6%95%91%E4%B9%8B%E6%88%B0'>,\n",
       " <Element 'a' class=('card-button', 'sm:grow', 'md:grow-0') href='/%E7%AA%81%E7%99%BC/1001150/%E6%A8%82%E7%BF%A0%E8%87%BA%E7%B6%AD%E4%BF%AE%E9%A2%A8%E6%B3%A2-%E8%87%AA%E7%B5%84%E5%9C%98%E9%9A%8A%E5%8D%8A%E5%B9%B4%E5%9C%98%E7%B5%90%E8%A1%97%E5%9D%8A-%E4%B8%80%E5%A0%B4%E6%A5%AD%E4%B8%BB%E8%A6%BA%E9%86%92%E8%87%AA%E6%95%91%E4%B9%8B%E6%88%B0'>,\n",
       " <Element 'a' href='/%E7%AA%81%E7%99%BC/1005526/%E8%AD%A6%E6%B7%B1%E6%B0%B4%E5%9F%97%E6%90%97%E9%9D%9E%E6%B3%95%E9%87%A3%E9%AD%9A%E6%A9%9F%E8%B3%AD%E6%AA%94-5%E4%BA%BA%E8%A2%AB%E6%8D%95%E5%8C%85%E6%8B%AC%E5%85%A9%E5%A4%96%E7%B1%8D%E7%94%B7%E5%A5%B3'>,\n",
       " <Element 'a' class=('card-category', 'flex', 'items-center') href='/channel/6/%E7%AA%81%E7%99%BC'>,\n",
       " <Element 'a' class=('card-title', 'break-words') href='/%E7%AA%81%E7%99%BC/1005526/%E8%AD%A6%E6%B7%B1%E6%B0%B4%E5%9F%97%E6%90%97%E9%9D%9E%E6%B3%95%E9%87%A3%E9%AD%9A%E6%A9%9F%E8%B3%AD%E6%AA%94-5%E4%BA%BA%E8%A2%AB%E6%8D%95%E5%8C%85%E6%8B%AC%E5%85%A9%E5%A4%96%E7%B1%8D%E7%94%B7%E5%A5%B3'>,\n",
       " <Element 'a' class=('my-2', 'block', 'text-center', 'lg:hidden') href='/channel/6/%E7%AA%81%E7%99%BC'>,\n",
       " <Element 'a' class=('hidden', 'lg:inline') href='/channel/310/%E6%94%BF%E6%83%85'>,\n",
       " <Element 'a' href='/%E6%94%BF%E6%83%85/1005027/%E6%94%BF%E5%9C%88%E9%A2%A8%E8%81%B2-01%E6%B6%88%E6%81%AF-%E4%B8%89%E6%9C%83%E6%8F%9B%E5%B1%86%E6%94%B9%E5%A7%94%E4%BB%BB%E5%8F%96%E6%85%8B-%E5%8D%80%E8%AD%B0%E5%93%A1%E5%8F%AF%E5%85%BC%E4%BB%BB%E5%88%86%E5%8D%80%E5%A7%94%E5%93%A1%E6%9C%83'>,\n",
       " <Element 'a' class=('card-category', 'flex', 'items-center') href='/channel/310/%E6%94%BF%E6%83%85'>,\n",
       " <Element 'a' class=('card-title', 'break-words') href='/%E6%94%BF%E6%83%85/1005027/%E6%94%BF%E5%9C%88%E9%A2%A8%E8%81%B2-01%E6%B6%88%E6%81%AF-%E4%B8%89%E6%9C%83%E6%8F%9B%E5%B1%86%E6%94%B9%E5%A7%94%E4%BB%BB%E5%8F%96%E6%85%8B-%E5%8D%80%E8%AD%B0%E5%93%A1%E5%8F%AF%E5%85%BC%E4%BB%BB%E5%88%86%E5%8D%80%E5%A7%94%E5%93%A1%E6%9C%83'>,\n",
       " <Element 'a' href='/%E6%94%BF%E6%83%85/1005431/%E8%81%B7%E6%B4%A5%E9%87%91%E9%A1%8D%E4%B8%8B%E6%9C%88%E8%B5%B7%E5%8A%83%E4%B8%80%E4%B8%8A%E8%AA%BF15-%E5%AD%AB%E7%8E%89%E8%8F%A1-%E9%BC%93%E5%8B%B5%E6%8C%81%E7%BA%8C%E5%85%A8%E8%81%B7%E5%B7%A5%E4%BD%9C'>,\n",
       " <Element 'a' class=('card-category', 'flex', 'items-center') href='/channel/310/%E6%94%BF%E6%83%85'>,\n",
       " <Element 'a' class=('card-title', 'break-words') href='/%E6%94%BF%E6%83%85/1005431/%E8%81%B7%E6%B4%A5%E9%87%91%E9%A1%8D%E4%B8%8B%E6%9C%88%E8%B5%B7%E5%8A%83%E4%B8%80%E4%B8%8A%E8%AA%BF15-%E5%AD%AB%E7%8E%89%E8%8F%A1-%E9%BC%93%E5%8B%B5%E6%8C%81%E7%BA%8C%E5%85%A8%E8%81%B7%E5%B7%A5%E4%BD%9C'>,\n",
       " <Element 'a' href='/%E6%94%BF%E6%83%85/1005186/%E6%9D%B1%E5%8D%80%E5%A4%9C%E9%A3%9B%E9%BE%8D-night-loong-%E5%8D%80%E8%AD%B0%E5%93%A1-%E5%94%94%E5%A4%AA%E9%A0%86%E5%8F%A3-%E6%94%BF%E5%A3%87%E8%AB%B8%E4%BA%8B%E7%94%BA'>,\n",
       " <Element 'a' class=('card-category', 'flex', 'items-center') href='/channel/310/%E6%94%BF%E6%83%85'>,\n",
       " <Element 'a' class=('card-title', 'break-words') href='/%E6%94%BF%E6%83%85/1005186/%E6%9D%B1%E5%8D%80%E5%A4%9C%E9%A3%9B%E9%BE%8D-night-loong-%E5%8D%80%E8%AD%B0%E5%93%A1-%E5%94%94%E5%A4%AA%E9%A0%86%E5%8F%A3-%E6%94%BF%E5%A3%87%E8%AB%B8%E4%BA%8B%E7%94%BA'>,\n",
       " <Element 'a' href='/%E6%94%BF%E6%83%85/1005220/%E6%97%85%E7%99%BC%E5%B1%80%E8%BF%911-4%E5%84%84%E6%8E%A8%E5%8B%95%E5%85%A8%E6%96%B0%E7%A6%AE%E8%B2%8C%E9%81%8B%E5%8B%95%E5%8F%8A%E6%94%AF%E6%8C%81%E6%A5%AD%E7%95%8C-%E5%8C%85%E6%8B%AC%E6%8B%8D%E7%9C%9F%E4%BA%BAshow'>,\n",
       " <Element 'a' class=('card-category', 'flex', 'items-center') href='/channel/310/%E6%94%BF%E6%83%85'>,\n",
       " <Element 'a' class=('card-title', 'break-words') href='/%E6%94%BF%E6%83%85/1005220/%E6%97%85%E7%99%BC%E5%B1%80%E8%BF%911-4%E5%84%84%E6%8E%A8%E5%8B%95%E5%85%A8%E6%96%B0%E7%A6%AE%E8%B2%8C%E9%81%8B%E5%8B%95%E5%8F%8A%E6%94%AF%E6%8C%81%E6%A5%AD%E7%95%8C-%E5%8C%85%E6%8B%AC%E6%8B%8D%E7%9C%9F%E4%BA%BAshow'>,\n",
       " <Element 'a' href='/%E6%94%BF%E6%83%85/1005516/23%E6%A2%9D%E7%AB%8B%E6%B3%95-%E9%84%A7%E7%82%B3%E5%BC%B7-%E5%9C%8B%E5%AE%B6%E7%A7%98%E5%AF%86%E5%AE%9A%E7%BE%A9%E6%B8%85%E6%99%B0-%E5%AE%9A%E7%BD%AA%E9%A0%88%E8%A6%96%E4%B9%8E%E6%98%AF%E5%90%A6%E6%9C%89%E7%8A%AF%E7%BD%AA%E6%84%8F%E5%9C%96'>,\n",
       " <Element 'a' class=('card-category', 'flex', 'items-center') href='/channel/310/%E6%94%BF%E6%83%85'>,\n",
       " <Element 'a' class=('card-title', 'break-words') href='/%E6%94%BF%E6%83%85/1005516/23%E6%A2%9D%E7%AB%8B%E6%B3%95-%E9%84%A7%E7%82%B3%E5%BC%B7-%E5%9C%8B%E5%AE%B6%E7%A7%98%E5%AF%86%E5%AE%9A%E7%BE%A9%E6%B8%85%E6%99%B0-%E5%AE%9A%E7%BD%AA%E9%A0%88%E8%A6%96%E4%B9%8E%E6%98%AF%E5%90%A6%E6%9C%89%E7%8A%AF%E7%BD%AA%E6%84%8F%E5%9C%96'>,\n",
       " <Element 'a' href='/%E6%94%BF%E6%83%85/1005490/23%E6%A2%9D-%E4%BF%9D%E5%AE%89%E5%B1%80%E6%96%A5%E8%8B%B1%E5%9C%8B-%E8%A1%9B%E5%A0%B1-%E5%A0%B1%E9%81%93%E6%A5%B5%E5%85%B7%E8%AA%A4%E5%B0%8E%E6%80%A7-%E4%BF%83%E7%A2%BA%E4%BF%9D%E6%B6%89%E6%B8%AF%E5%A0%B1%E9%81%93%E5%85%AC%E6%AD%A3'>,\n",
       " <Element 'a' class=('card-category', 'flex', 'items-center') href='/channel/310/%E6%94%BF%E6%83%85'>,\n",
       " <Element 'a' class=('card-title', 'break-words') href='/%E6%94%BF%E6%83%85/1005490/23%E6%A2%9D-%E4%BF%9D%E5%AE%89%E5%B1%80%E6%96%A5%E8%8B%B1%E5%9C%8B-%E8%A1%9B%E5%A0%B1-%E5%A0%B1%E9%81%93%E6%A5%B5%E5%85%B7%E8%AA%A4%E5%B0%8E%E6%80%A7-%E4%BF%83%E7%A2%BA%E4%BF%9D%E6%B6%89%E6%B8%AF%E5%A0%B1%E9%81%93%E5%85%AC%E6%AD%A3'>,\n",
       " <Element 'a' class=('my-2', 'block', 'text-center', 'lg:hidden') href='/channel/310/%E6%94%BF%E6%83%85'>,\n",
       " <Element 'a' class=('hidden', 'lg:inline') href='/channel/143/01%E5%81%B5%E6%9F%A5'>,\n",
       " <Element 'a' href='/01%E5%81%B5%E6%9F%A5/1004077/%E4%B8%8A%E6%B0%B4%E9%87%91%E8%A8%98%E5%86%B0%E5%AE%A4%E8%A2%AB%E8%B2%BC%E5%85%AC%E5%91%8A%E6%8B%8D%E8%B3%A3%E5%82%A2%E5%85%B7-%E9%9B%86%E5%9C%98%E4%BB%8A%E5%B9%B4%E8%A2%AB%E5%85%A5%E7%A8%9F%E8%BF%BD%E8%A8%8E972%E8%90%AC%E5%85%83%E7%A7%9F%E9%87%91'>,\n",
       " <Element 'a' class=('card-category', 'flex', 'items-center') href='/channel/143/01%E5%81%B5%E6%9F%A5'>,\n",
       " <Element 'a' class=('card-title', 'break-words') href='/01%E5%81%B5%E6%9F%A5/1004077/%E4%B8%8A%E6%B0%B4%E9%87%91%E8%A8%98%E5%86%B0%E5%AE%A4%E8%A2%AB%E8%B2%BC%E5%85%AC%E5%91%8A%E6%8B%8D%E8%B3%A3%E5%82%A2%E5%85%B7-%E9%9B%86%E5%9C%98%E4%BB%8A%E5%B9%B4%E8%A2%AB%E5%85%A5%E7%A8%9F%E8%BF%BD%E8%A8%8E972%E8%90%AC%E5%85%83%E7%A7%9F%E9%87%91'>,\n",
       " <Element 'a' href='/01%E5%81%B5%E6%9F%A5/1001403/%E7%A7%81%E5%AF%86%E9%83%A8%E4%BD%8D%E9%81%AD%E6%BD%91%E7%81%91%E4%B8%8D%E6%98%8E%E6%B6%B2%E9%AB%94%E6%80%A7%E6%9A%B4%E5%8A%9B-%E5%A5%B9%E5%80%91%E7%B6%93%E6%AD%B7%E5%B4%A9%E6%BD%B0-%E7%99%BC%E8%81%B2-%E5%85%85%E6%AC%8A'>,\n",
       " <Element 'a' class=('card-category', 'flex', 'items-center') href='/channel/143/01%E5%81%B5%E6%9F%A5'>,\n",
       " <Element 'a' class=('card-title', 'break-words') href='/01%E5%81%B5%E6%9F%A5/1001403/%E7%A7%81%E5%AF%86%E9%83%A8%E4%BD%8D%E9%81%AD%E6%BD%91%E7%81%91%E4%B8%8D%E6%98%8E%E6%B6%B2%E9%AB%94%E6%80%A7%E6%9A%B4%E5%8A%9B-%E5%A5%B9%E5%80%91%E7%B6%93%E6%AD%B7%E5%B4%A9%E6%BD%B0-%E7%99%BC%E8%81%B2-%E5%85%85%E6%AC%8A'>,\n",
       " <Element 'a' class=('card-button', 'sm:grow', 'md:grow-0') href='/01%E5%81%B5%E6%9F%A5/1001403/%E7%A7%81%E5%AF%86%E9%83%A8%E4%BD%8D%E9%81%AD%E6%BD%91%E7%81%91%E4%B8%8D%E6%98%8E%E6%B6%B2%E9%AB%94%E6%80%A7%E6%9A%B4%E5%8A%9B-%E5%A5%B9%E5%80%91%E7%B6%93%E6%AD%B7%E5%B4%A9%E6%BD%B0-%E7%99%BC%E8%81%B2-%E5%85%85%E6%AC%8A'>,\n",
       " <Element 'a' href='/01%E5%81%B5%E6%9F%A5/1002454/01%E7%8D%A8%E5%AE%B6-%E6%81%92%E5%A4%A7%E8%A8%B1%E5%AE%B6%E5%8D%B0%E5%B0%96%E6%B2%99%E5%92%80300%E5%91%8E-%E7%99%BC%E8%BF%B9%E5%B1%8B-%E9%81%AD%E4%B8%AD%E4%BF%A1%E6%97%97%E4%B8%8B%E9%87%98%E5%A5%91%E6%8A%B5%E5%82%B5'>,\n",
       " <Element 'a' class=('card-category', 'flex', 'items-center') href='/channel/143/01%E5%81%B5%E6%9F%A5'>,\n",
       " <Element 'a' class=('card-title', 'break-words') href='/01%E5%81%B5%E6%9F%A5/1002454/01%E7%8D%A8%E5%AE%B6-%E6%81%92%E5%A4%A7%E8%A8%B1%E5%AE%B6%E5%8D%B0%E5%B0%96%E6%B2%99%E5%92%80300%E5%91%8E-%E7%99%BC%E8%BF%B9%E5%B1%8B-%E9%81%AD%E4%B8%AD%E4%BF%A1%E6%97%97%E4%B8%8B%E9%87%98%E5%A5%91%E6%8A%B5%E5%82%B5'>,\n",
       " <Element 'a' class=('card-button', 'sm:grow', 'md:grow-0') href='/01%E5%81%B5%E6%9F%A5/1002454/01%E7%8D%A8%E5%AE%B6-%E6%81%92%E5%A4%A7%E8%A8%B1%E5%AE%B6%E5%8D%B0%E5%B0%96%E6%B2%99%E5%92%80300%E5%91%8E-%E7%99%BC%E8%BF%B9%E5%B1%8B-%E9%81%AD%E4%B8%AD%E4%BF%A1%E6%97%97%E4%B8%8B%E9%87%98%E5%A5%91%E6%8A%B5%E5%82%B5'>,\n",
       " <Element 'a' href='/issue/10283/%E6%94%BF%E5%BA%9C%E5%B7%A5%E7%A8%8B%E9%86%9C%E8%81%9E-%E5%8D%83%E5%84%84%E5%B7%A5%E7%A8%8B%E5%81%B7%E5%B7%A5%E6%B8%9B%E6%96%99-%E6%B6%89%E9%86%AB%E9%99%A2-%E9%AB%94%E8%82%B2%E5%9C%92%E9%89%85%E6%AC%BE-%E5%B0%88%E9%A0%81'>,\n",
       " <Element 'a' class=('card-category', 'flex', 'items-center') href='/zone/1'>,\n",
       " <Element 'a' class=('card-title', 'break-words') href='/issue/10283/%E6%94%BF%E5%BA%9C%E5%B7%A5%E7%A8%8B%E9%86%9C%E8%81%9E-%E5%8D%83%E5%84%84%E5%B7%A5%E7%A8%8B%E5%81%B7%E5%B7%A5%E6%B8%9B%E6%96%99-%E6%B6%89%E9%86%AB%E9%99%A2-%E9%AB%94%E8%82%B2%E5%9C%92%E9%89%85%E6%AC%BE-%E5%B0%88%E9%A0%81'>,\n",
       " <Element 'a' class=('card-button', 'sm:grow', 'md:grow-0') href='/issue/10283/%E6%94%BF%E5%BA%9C%E5%B7%A5%E7%A8%8B%E9%86%9C%E8%81%9E-%E5%8D%83%E5%84%84%E5%B7%A5%E7%A8%8B%E5%81%B7%E5%B7%A5%E6%B8%9B%E6%96%99-%E6%B6%89%E9%86%AB%E9%99%A2-%E9%AB%94%E8%82%B2%E5%9C%92%E9%89%85%E6%AC%BE-%E5%B0%88%E9%A0%81'>,\n",
       " <Element 'a' href='/01%E5%81%B5%E6%9F%A5/998485/%E5%A0%B1%E9%8C%AF%E5%9C%B0%E5%9D%80%E5%A4%B1%E6%95%91%E4%BA%A1-%E9%96%89%E8%B7%AF%E9%9B%BB%E8%A6%96-%E5%A0%B1%E8%AD%A6%E9%8C%84%E9%9F%B3%E9%82%84%E5%8E%9F%E6%B1%82%E6%95%91%E7%B6%93%E9%81%8E-%E6%82%B2%E5%8A%87%E5%8F%AF%E9%81%BF%E5%85%8D'>,\n",
       " <Element 'a' class=('card-category', 'flex', 'items-center') href='/channel/143/01%E5%81%B5%E6%9F%A5'>,\n",
       " <Element 'a' class=('card-title', 'break-words') href='/01%E5%81%B5%E6%9F%A5/998485/%E5%A0%B1%E9%8C%AF%E5%9C%B0%E5%9D%80%E5%A4%B1%E6%95%91%E4%BA%A1-%E9%96%89%E8%B7%AF%E9%9B%BB%E8%A6%96-%E5%A0%B1%E8%AD%A6%E9%8C%84%E9%9F%B3%E9%82%84%E5%8E%9F%E6%B1%82%E6%95%91%E7%B6%93%E9%81%8E-%E6%82%B2%E5%8A%87%E5%8F%AF%E9%81%BF%E5%85%8D'>,\n",
       " <Element 'a' class=('card-button', 'sm:grow', 'md:grow-0') href='/01%E5%81%B5%E6%9F%A5/998485/%E5%A0%B1%E9%8C%AF%E5%9C%B0%E5%9D%80%E5%A4%B1%E6%95%91%E4%BA%A1-%E9%96%89%E8%B7%AF%E9%9B%BB%E8%A6%96-%E5%A0%B1%E8%AD%A6%E9%8C%84%E9%9F%B3%E9%82%84%E5%8E%9F%E6%B1%82%E6%95%91%E7%B6%93%E9%81%8E-%E6%82%B2%E5%8A%87%E5%8F%AF%E9%81%BF%E5%85%8D'>,\n",
       " <Element 'a' href='/01%E5%81%B5%E6%9F%A5/998569/%E5%A5%B3%E7%AB%A5%E8%BB%8D%E7%B8%BD%E7%9B%A3%E6%8F%9B%E5%B1%86%E9%81%B8%E8%88%89-%E8%A2%AB%E7%AF%A9%E8%B5%B0%E5%80%99%E9%81%B8%E4%BA%BA%E9%96%8B%E8%85%94-%E8%A6%81%E6%B1%82%E6%BE%84%E6%B8%85%E6%B6%89%E9%81%95%E6%9C%83%E7%AB%A0%E7%A8%8B%E5%BA%8F'>,\n",
       " <Element 'a' class=('card-category', 'flex', 'items-center') href='/channel/143/01%E5%81%B5%E6%9F%A5'>,\n",
       " <Element 'a' class=('card-title', 'break-words') href='/01%E5%81%B5%E6%9F%A5/998569/%E5%A5%B3%E7%AB%A5%E8%BB%8D%E7%B8%BD%E7%9B%A3%E6%8F%9B%E5%B1%86%E9%81%B8%E8%88%89-%E8%A2%AB%E7%AF%A9%E8%B5%B0%E5%80%99%E9%81%B8%E4%BA%BA%E9%96%8B%E8%85%94-%E8%A6%81%E6%B1%82%E6%BE%84%E6%B8%85%E6%B6%89%E9%81%95%E6%9C%83%E7%AB%A0%E7%A8%8B%E5%BA%8F'>,\n",
       " <Element 'a' class=('my-2', 'block', 'text-center', 'lg:hidden') href='/channel/143/01%E5%81%B5%E6%9F%A5'>,\n",
       " <Element 'a' class=('hidden', 'lg:inline') href='/channel/413/%E6%B7%B1%E5%BA%A6%E5%A0%B1%E9%81%93'>,\n",
       " <Element 'a' href='/%E6%B7%B1%E5%BA%A6%E5%A0%B1%E9%81%93/1003144/%E8%A7%A3%E6%B1%BA%E5%8A%8F%E6%88%BF-%E8%88%87%E6%9E%97%E7%AD%B1%E9%AD%AF%E5%B0%8D%E8%A9%B1-%E6%95%B4%E6%94%B9%E9%82%84%E6%98%AF%E5%8F%96%E7%B7%A0-%E5%9A%B4%E6%AD%A3%E5%9F%B7%E6%B3%95%E9%82%84%E6%98%AF%E8%B6%95%E4%BA%BA%E7%9E%93%E8%A1%97'>,\n",
       " <Element 'a' class=('card-category', 'flex', 'items-center') href='/channel/413/%E6%B7%B1%E5%BA%A6%E5%A0%B1%E9%81%93'>,\n",
       " <Element 'a' class=('card-title', 'break-words') href='/%E6%B7%B1%E5%BA%A6%E5%A0%B1%E9%81%93/1003144/%E8%A7%A3%E6%B1%BA%E5%8A%8F%E6%88%BF-%E8%88%87%E6%9E%97%E7%AD%B1%E9%AD%AF%E5%B0%8D%E8%A9%B1-%E6%95%B4%E6%94%B9%E9%82%84%E6%98%AF%E5%8F%96%E7%B7%A0-%E5%9A%B4%E6%AD%A3%E5%9F%B7%E6%B3%95%E9%82%84%E6%98%AF%E8%B6%95%E4%BA%BA%E7%9E%93%E8%A1%97'>,\n",
       " <Element 'a' href='/issue/10179/%E6%B2%BB%E6%B8%AF%E6%96%B0%E7%AF%87%E7%AB%A0-%E5%A4%8F%E5%AF%B6%E9%BE%8D%E9%87%8D%E7%94%B3%E5%85%A9%E5%80%8B-%E7%A0%B4-%E6%B2%BB%E6%B8%AF%E8%80%85%E4%B8%8D%E8%83%BD%E5%86%8D%E8%A3%9D%E7%9D%A1'>,\n",
       " <Element 'a' class=('card-category', 'flex', 'items-center') href='/zone/1'>,\n",
       " <Element 'a' class=('card-title', 'break-words') href='/issue/10179/%E6%B2%BB%E6%B8%AF%E6%96%B0%E7%AF%87%E7%AB%A0-%E5%A4%8F%E5%AF%B6%E9%BE%8D%E9%87%8D%E7%94%B3%E5%85%A9%E5%80%8B-%E7%A0%B4-%E6%B2%BB%E6%B8%AF%E8%80%85%E4%B8%8D%E8%83%BD%E5%86%8D%E8%A3%9D%E7%9D%A1'>,\n",
       " <Element 'a' class=('card-button', 'sm:grow', 'md:grow-0') href='/issue/10179/%E6%B2%BB%E6%B8%AF%E6%96%B0%E7%AF%87%E7%AB%A0-%E5%A4%8F%E5%AF%B6%E9%BE%8D%E9%87%8D%E7%94%B3%E5%85%A9%E5%80%8B-%E7%A0%B4-%E6%B2%BB%E6%B8%AF%E8%80%85%E4%B8%8D%E8%83%BD%E5%86%8D%E8%A3%9D%E7%9D%A1'>,\n",
       " <Element 'a' href='/%E5%9C%8B%E9%9A%9B%E5%88%86%E6%9E%90/1005444/%E5%A7%94%E5%85%A7%E7%91%9E%E6%8B%89-80%E6%AD%B2%E8%80%81%E5%A9%86%E5%A9%86%E4%B9%9F%E4%B8%8D%E7%B5%A6%E5%8F%83%E9%81%B8-%E9%A6%AC%E6%9D%9C%E7%BE%85%E5%B0%87%E6%8B%9C%E7%99%BB%E7%8E%A9%E5%BC%84%E6%96%BC%E8%82%A1%E6%8E%8C%E4%B9%8B%E4%B8%8A'>,\n",
       " <Element 'a' class=('card-category', 'flex', 'items-center') href='/channel/407/%E5%9C%8B%E9%9A%9B%E5%88%86%E6%9E%90'>,\n",
       " <Element 'a' class=('card-title', 'break-words') href='/%E5%9C%8B%E9%9A%9B%E5%88%86%E6%9E%90/1005444/%E5%A7%94%E5%85%A7%E7%91%9E%E6%8B%89-80%E6%AD%B2%E8%80%81%E5%A9%86%E5%A9%86%E4%B9%9F%E4%B8%8D%E7%B5%A6%E5%8F%83%E9%81%B8-%E9%A6%AC%E6%9D%9C%E7%BE%85%E5%B0%87%E6%8B%9C%E7%99%BB%E7%8E%A9%E5%BC%84%E6%96%BC%E8%82%A1%E6%8E%8C%E4%B9%8B%E4%B8%8A'>,\n",
       " <Element 'a' href='/%E6%B7%B1%E5%BA%A6%E5%A0%B1%E9%81%93/1005163/daniel-kahneman%E7%9A%84%E6%85%A2%E6%83%B3'>,\n",
       " <Element 'a' class=('card-category', 'flex', 'items-center') href='/channel/413/%E6%B7%B1%E5%BA%A6%E5%A0%B1%E9%81%93'>,\n",
       " <Element 'a' class=('card-title', 'break-words') href='/%E6%B7%B1%E5%BA%A6%E5%A0%B1%E9%81%93/1005163/daniel-kahneman%E7%9A%84%E6%85%A2%E6%83%B3'>,\n",
       " <Element 'a' href='/%E4%B8%AD%E5%9C%8B%E8%A7%80%E5%AF%9F/1004856/%E9%A9%AC%E8%8B%B1%E4%B9%9D%E5%88%B0%E5%BA%95%E6%98%AF%E5%92%8C%E5%B9%B3%E4%BF%A1%E4%BD%BF-%E8%BF%98%E6%98%AF%E5%9C%A8%E6%8E%A9%E6%8A%A4%E6%B0%91%E8%BF%9B%E5%85%9A%E6%90%9E%E5%8F%B0%E7%8B%AC'>,\n",
       " <Element 'a' class=('card-category', 'flex', 'items-center') href='/channel/458/%E4%B8%AD%E5%9C%8B%E8%A7%80%E5%AF%9F'>,\n",
       " <Element 'a' class=('card-title', 'break-words') href='/%E4%B8%AD%E5%9C%8B%E8%A7%80%E5%AF%9F/1004856/%E9%A9%AC%E8%8B%B1%E4%B9%9D%E5%88%B0%E5%BA%95%E6%98%AF%E5%92%8C%E5%B9%B3%E4%BF%A1%E4%BD%BF-%E8%BF%98%E6%98%AF%E5%9C%A8%E6%8E%A9%E6%8A%A4%E6%B0%91%E8%BF%9B%E5%85%9A%E6%90%9E%E5%8F%B0%E7%8B%AC'>,\n",
       " <Element 'a' href='/%E5%9C%8B%E9%9A%9B%E5%88%86%E6%9E%90/1005047/%E7%83%8F%E5%85%8B%E8%98%AD-%E6%98%A5%E5%A4%A9%E9%BB%9E%E7%87%83%E4%BF%84%E7%BE%85%E6%96%AF%E6%96%B0%E6%94%BB%E5%8B%A2-%E7%82%AE%E5%BD%88-%E6%88%B0%E5%A3%95%E8%88%87%E5%8B%95%E5%93%A1%E5%B0%87%E6%B1%BA%E5%AE%9A%E5%8B%9D%E8%B2%A0'>,\n",
       " <Element 'a' class=('card-category', 'flex', 'items-center') href='/channel/407/%E5%9C%8B%E9%9A%9B%E5%88%86%E6%9E%90'>,\n",
       " <Element 'a' class=('card-title', 'break-words') href='/%E5%9C%8B%E9%9A%9B%E5%88%86%E6%9E%90/1005047/%E7%83%8F%E5%85%8B%E8%98%AD-%E6%98%A5%E5%A4%A9%E9%BB%9E%E7%87%83%E4%BF%84%E7%BE%85%E6%96%AF%E6%96%B0%E6%94%BB%E5%8B%A2-%E7%82%AE%E5%BD%88-%E6%88%B0%E5%A3%95%E8%88%87%E5%8B%95%E5%93%A1%E5%B0%87%E6%B1%BA%E5%AE%9A%E5%8B%9D%E8%B2%A0'>,\n",
       " <Element 'a' class=('card-button', 'sm:grow', 'md:grow-0') href='/%E5%9C%8B%E9%9A%9B%E5%88%86%E6%9E%90/1005047/%E7%83%8F%E5%85%8B%E8%98%AD-%E6%98%A5%E5%A4%A9%E9%BB%9E%E7%87%83%E4%BF%84%E7%BE%85%E6%96%AF%E6%96%B0%E6%94%BB%E5%8B%A2-%E7%82%AE%E5%BD%88-%E6%88%B0%E5%A3%95%E8%88%87%E5%8B%95%E5%93%A1%E5%B0%87%E6%B1%BA%E5%AE%9A%E5%8B%9D%E8%B2%A0'>,\n",
       " <Element 'a' class=('my-2', 'block', 'text-center', 'lg:hidden') href='/channel/413/%E6%B7%B1%E5%BA%A6%E5%A0%B1%E9%81%93'>,\n",
       " <Element 'a' class=('hidden', 'lg:inline') href='/channel/403/%E9%A6%99%E6%B8%AF%E7%B6%93%E6%BF%9F'>,\n",
       " <Element 'a' href='/%E8%B2%A1%E7%B6%93%E5%BF%AB%E8%A8%8A/1005371/01%E6%B6%88%E6%81%AF-%E6%9D%9C%E6%8B%9C%E7%8E%8B%E5%AD%90%E9%A6%99%E6%B8%AF%E5%AE%B6%E8%BE%A6%E6%93%AC%E5%BB%B6%E8%87%B35%E6%9C%88%E5%BA%95%E9%96%8B%E5%B9%95-%E7%99%BC%E8%81%B2%E6%98%8E%E6%84%9F%E8%AC%9D%E6%B8%AF%E5%BA%9C%E5%8D%94%E5%8A%A9'>,\n",
       " <Element 'a' class=('card-category', 'flex', 'items-center') href='/channel/396/%E8%B2%A1%E7%B6%93%E5%BF%AB%E8%A8%8A'>,\n",
       " <Element 'a' class=('card-title', 'break-words') href='/%E8%B2%A1%E7%B6%93%E5%BF%AB%E8%A8%8A/1005371/01%E6%B6%88%E6%81%AF-%E6%9D%9C%E6%8B%9C%E7%8E%8B%E5%AD%90%E9%A6%99%E6%B8%AF%E5%AE%B6%E8%BE%A6%E6%93%AC%E5%BB%B6%E8%87%B35%E6%9C%88%E5%BA%95%E9%96%8B%E5%B9%95-%E7%99%BC%E8%81%B2%E6%98%8E%E6%84%9F%E8%AC%9D%E6%B8%AF%E5%BA%9C%E5%8D%94%E5%8A%A9'>,\n",
       " <Element 'a' href='/issue/10214/%E4%B8%AD%E4%BF%A1%E8%B3%87%E6%9C%AC%E5%91%88%E7%8D%BB%E9%A6%99%E6%B8%AF01%E7%B6%93%E6%BF%9F%E9%AB%98%E5%B3%B0%E8%AB%96%E5%A3%872023-%E7%99%BE%E5%B9%B4%E5%A4%A7%E8%AE%8A%E5%B1%80%E4%B8%AD%E7%9A%84%E9%A6%99%E6%B8%AF%E7%B6%93%E6%BF%9F'>,\n",
       " <Element 'a' class=('card-category', 'flex', 'items-center') href='/zone/14'>,\n",
       " <Element 'a' class=('card-title', 'break-words') href='/issue/10214/%E4%B8%AD%E4%BF%A1%E8%B3%87%E6%9C%AC%E5%91%88%E7%8D%BB%E9%A6%99%E6%B8%AF01%E7%B6%93%E6%BF%9F%E9%AB%98%E5%B3%B0%E8%AB%96%E5%A3%872023-%E7%99%BE%E5%B9%B4%E5%A4%A7%E8%AE%8A%E5%B1%80%E4%B8%AD%E7%9A%84%E9%A6%99%E6%B8%AF%E7%B6%93%E6%BF%9F'>,\n",
       " <Element 'a' class=('card-button', 'sm:grow', 'md:grow-0') href='/issue/10214/%E4%B8%AD%E4%BF%A1%E8%B3%87%E6%9C%AC%E5%91%88%E7%8D%BB%E9%A6%99%E6%B8%AF01%E7%B6%93%E6%BF%9F%E9%AB%98%E5%B3%B0%E8%AB%96%E5%A3%872023-%E7%99%BE%E5%B9%B4%E5%A4%A7%E8%AE%8A%E5%B1%80%E4%B8%AD%E7%9A%84%E9%A6%99%E6%B8%AF%E7%B6%93%E6%BF%9F'>,\n",
       " <Element 'a' href='/%E8%B2%A1%E7%B6%93%E5%BF%AB%E8%A8%8A/1005316/%E9%A6%99%E6%B8%AF%E5%AD%90%E5%85%AC%E5%8F%B8%E9%81%AD%E5%8D%97%E9%9F%93%E8%B5%B7%E8%A8%B4%E9%9D%9E%E6%B3%95%E6%B2%BD%E7%A9%BA-%E6%BB%99%E8%B1%90-%E5%81%9A%E6%B3%95%E4%B8%8D%E5%90%88%E7%90%86-%E5%B0%87%E5%85%A8%E5%8A%9B%E6%8A%97%E8%BE%AF'>,\n",
       " <Element 'a' class=('card-category', 'flex', 'items-center') href='/channel/396/%E8%B2%A1%E7%B6%93%E5%BF%AB%E8%A8%8A'>,\n",
       " <Element 'a' class=('card-title', 'break-words') href='/%E8%B2%A1%E7%B6%93%E5%BF%AB%E8%A8%8A/1005316/%E9%A6%99%E6%B8%AF%E5%AD%90%E5%85%AC%E5%8F%B8%E9%81%AD%E5%8D%97%E9%9F%93%E8%B5%B7%E8%A8%B4%E9%9D%9E%E6%B3%95%E6%B2%BD%E7%A9%BA-%E6%BB%99%E8%B1%90-%E5%81%9A%E6%B3%95%E4%B8%8D%E5%90%88%E7%90%86-%E5%B0%87%E5%85%A8%E5%8A%9B%E6%8A%97%E8%BE%AF'>,\n",
       " <Element 'a' href='/%E8%B2%A1%E7%B6%93%E5%BF%AB%E8%A8%8A/1005302/%E4%B8%AD%E9%8A%80%E9%A6%99%E6%B8%AF-%E4%B8%8D%E5%9B%A0%E6%8A%B5%E6%8A%BC%E5%93%81%E5%83%B9%E6%A0%BC%E4%B8%8B%E8%B7%8C%E8%80%8Ccall-loan-%E6%B8%AF%E6%81%AF%E8%AA%BF%E6%95%B4%E6%96%99%E6%BB%AF%E5%BE%8C%E7%BE%8E%E6%81%AF'>,\n",
       " <Element 'a' class=('card-category', 'flex', 'items-center') href='/channel/396/%E8%B2%A1%E7%B6%93%E5%BF%AB%E8%A8%8A'>,\n",
       " <Element 'a' class=('card-title', 'break-words') href='/%E8%B2%A1%E7%B6%93%E5%BF%AB%E8%A8%8A/1005302/%E4%B8%AD%E9%8A%80%E9%A6%99%E6%B8%AF-%E4%B8%8D%E5%9B%A0%E6%8A%B5%E6%8A%BC%E5%93%81%E5%83%B9%E6%A0%BC%E4%B8%8B%E8%B7%8C%E8%80%8Ccall-loan-%E6%B8%AF%E6%81%AF%E8%AA%BF%E6%95%B4%E6%96%99%E6%BB%AF%E5%BE%8C%E7%BE%8E%E6%81%AF'>,\n",
       " <Element 'a' href='/%E8%B2%A1%E7%B6%93%E5%BF%AB%E8%A8%8A/1005228/%E9%95%B7%E5%92%8C%E7%B3%BB%E5%86%8D%E6%9C%89%E9%AB%98%E5%B1%A4%E8%AA%BF%E5%8B%95-%E9%95%B7%E5%AF%A6%E8%91%89%E5%BE%B7%E9%8A%93%E8%AA%BF%E4%BB%BB-%E5%89%AF%E4%B8%BB%E5%B8%AD'>,\n",
       " <Element 'a' class=('card-category', 'flex', 'items-center') href='/channel/396/%E8%B2%A1%E7%B6%93%E5%BF%AB%E8%A8%8A'>,\n",
       " <Element 'a' class=('card-title', 'break-words') href='/%E8%B2%A1%E7%B6%93%E5%BF%AB%E8%A8%8A/1005228/%E9%95%B7%E5%92%8C%E7%B3%BB%E5%86%8D%E6%9C%89%E9%AB%98%E5%B1%A4%E8%AA%BF%E5%8B%95-%E9%95%B7%E5%AF%A6%E8%91%89%E5%BE%B7%E9%8A%93%E8%AA%BF%E4%BB%BB-%E5%89%AF%E4%B8%BB%E5%B8%AD'>,\n",
       " <Element 'a' href='/%E7%A4%BE%E6%9C%83%E6%96%B0%E8%81%9E/1005221/%E9%A6%AE%E7%A5%A5%E8%A8%98%E6%B8%85%E7%9B%A4-%E5%AF%8C%E9%82%A6%E8%BF%BD%E5%85%AC%E5%8F%B8%E5%8F%8A%E7%9B%B8%E9%97%9C%E4%BA%BA%E5%A3%AB%E8%BF%917%E5%8D%83%E8%90%AC%E5%85%83-%E6%B1%82%E4%BA%A4%E5%87%BA%E6%8A%B5%E6%8A%BC%E7%89%A9%E6%A5%AD'>,\n",
       " <Element 'a' class=('card-category', 'flex', 'items-center') href='/channel/2/%E7%A4%BE%E6%9C%83%E6%96%B0%E8%81%9E'>,\n",
       " <Element 'a' class=('card-title', 'break-words') href='/%E7%A4%BE%E6%9C%83%E6%96%B0%E8%81%9E/1005221/%E9%A6%AE%E7%A5%A5%E8%A8%98%E6%B8%85%E7%9B%A4-%E5%AF%8C%E9%82%A6%E8%BF%BD%E5%85%AC%E5%8F%B8%E5%8F%8A%E7%9B%B8%E9%97%9C%E4%BA%BA%E5%A3%AB%E8%BF%917%E5%8D%83%E8%90%AC%E5%85%83-%E6%B1%82%E4%BA%A4%E5%87%BA%E6%8A%B5%E6%8A%BC%E7%89%A9%E6%A5%AD'>,\n",
       " <Element 'a' class=('my-2', 'block', 'text-center', 'lg:hidden') href='/channel/403/%E9%A6%99%E6%B8%AF%E7%B6%93%E6%BF%9F'>,\n",
       " <Element 'a' class=('hidden', 'lg:inline') href='/zone/issue/1'>,\n",
       " <Element 'a' href='/issue/10303/%E8%B2%A1%E6%94%BF%E9%A0%90%E7%AE%97%E6%A1%882024-%E5%B0%88%E9%A0%81-%E5%BA%AB%E6%88%BF%E8%B2%A1%E8%B5%A4%E5%9A%B4%E9%87%8D-%E5%B7%BF%E6%B0%91%E6%B4%BE%E7%B3%96%E9%A1%98%E6%9C%9B%E8%90%BD%E7%A9%BA'>,\n",
       " <Element 'a' class=('card-category', 'flex', 'items-center') href='/zone/1'>,\n",
       " <Element 'a' class=('card-title', 'break-words') href='/issue/10303/%E8%B2%A1%E6%94%BF%E9%A0%90%E7%AE%97%E6%A1%882024-%E5%B0%88%E9%A0%81-%E5%BA%AB%E6%88%BF%E8%B2%A1%E8%B5%A4%E5%9A%B4%E9%87%8D-%E5%B7%BF%E6%B0%91%E6%B4%BE%E7%B3%96%E9%A1%98%E6%9C%9B%E8%90%BD%E7%A9%BA'>,\n",
       " <Element 'a' class=('card-button', 'sm:grow', 'md:grow-0') href='/issue/10303/%E8%B2%A1%E6%94%BF%E9%A0%90%E7%AE%97%E6%A1%882024-%E5%B0%88%E9%A0%81-%E5%BA%AB%E6%88%BF%E8%B2%A1%E8%B5%A4%E5%9A%B4%E9%87%8D-%E5%B7%BF%E6%B0%91%E6%B4%BE%E7%B3%96%E9%A1%98%E6%9C%9B%E8%90%BD%E7%A9%BA'>,\n",
       " <Element 'a' href='/issue/10298/4-22%E7%AE%A1%E5%88%B6%E5%8D%B3%E6%A3%84%E5%A1%91%E8%86%A0-%E5%B0%88%E9%A0%81-%E7%A6%81%E8%86%A0%E7%9A%84%E7%96%91%E6%83%91-%E8%B5%B0%E5%A1%91%E6%9B%BF%E4%BB%A3%E5%93%81-%E6%9C%80%E6%96%B0%E8%B3%87%E8%A8%8A%E5%85%A8%E9%9B%86'>,\n",
       " <Element 'a' class=('card-category', 'flex', 'items-center') href='/zone/1'>,\n",
       " <Element 'a' class=('card-title', 'break-words') href='/issue/10298/4-22%E7%AE%A1%E5%88%B6%E5%8D%B3%E6%A3%84%E5%A1%91%E8%86%A0-%E5%B0%88%E9%A0%81-%E7%A6%81%E8%86%A0%E7%9A%84%E7%96%91%E6%83%91-%E8%B5%B0%E5%A1%91%E6%9B%BF%E4%BB%A3%E5%93%81-%E6%9C%80%E6%96%B0%E8%B3%87%E8%A8%8A%E5%85%A8%E9%9B%86'>,\n",
       " <Element 'a' class=('card-button', 'sm:grow', 'md:grow-0') href='/issue/10298/4-22%E7%AE%A1%E5%88%B6%E5%8D%B3%E6%A3%84%E5%A1%91%E8%86%A0-%E5%B0%88%E9%A0%81-%E7%A6%81%E8%86%A0%E7%9A%84%E7%96%91%E6%83%91-%E8%B5%B0%E5%A1%91%E6%9B%BF%E4%BB%A3%E5%93%81-%E6%9C%80%E6%96%B0%E8%B3%87%E8%A8%8A%E5%85%A8%E9%9B%86'>,\n",
       " <Element 'a' href='/issue/10291/%E6%88%91%E5%80%91%E7%9A%842023-%E5%BD%B1%E9%9F%BF%E4%B8%96%E7%95%8C%E5%92%8C%E9%A6%99%E6%B8%AF%E6%AD%B7%E5%8F%B2%E5%A4%A7%E4%BA%8B-%E5%8D%B1%E6%A9%9F%E5%92%8C%E5%B8%8C%E6%9C%9B%E7%9A%84%E6%8B%94%E6%B2%B3%E5%8B%9D%E8%B2%A0%E6%9C%AA%E5%88%86'>,\n",
       " <Element 'a' class=('card-category', 'flex', 'items-center') href='/zone/1'>,\n",
       " <Element 'a' class=('card-title', 'break-words') href='/issue/10291/%E6%88%91%E5%80%91%E7%9A%842023-%E5%BD%B1%E9%9F%BF%E4%B8%96%E7%95%8C%E5%92%8C%E9%A6%99%E6%B8%AF%E6%AD%B7%E5%8F%B2%E5%A4%A7%E4%BA%8B-%E5%8D%B1%E6%A9%9F%E5%92%8C%E5%B8%8C%E6%9C%9B%E7%9A%84%E6%8B%94%E6%B2%B3%E5%8B%9D%E8%B2%A0%E6%9C%AA%E5%88%86'>,\n",
       " <Element 'a' class=('card-button', 'sm:grow', 'md:grow-0') href='/issue/10291/%E6%88%91%E5%80%91%E7%9A%842023-%E5%BD%B1%E9%9F%BF%E4%B8%96%E7%95%8C%E5%92%8C%E9%A6%99%E6%B8%AF%E6%AD%B7%E5%8F%B2%E5%A4%A7%E4%BA%8B-%E5%8D%B1%E6%A9%9F%E5%92%8C%E5%B8%8C%E6%9C%9B%E7%9A%84%E6%8B%94%E6%B2%B3%E5%8B%9D%E8%B2%A0%E6%9C%AA%E5%88%86'>,\n",
       " <Element 'a' class=('my-2', 'block', 'text-center', 'lg:hidden') href='/zone/issue/1'>,\n",
       " <Element 'a' data-testid='footer-hk01-logo' href='/'>,\n",
       " <Element 'a' data-testid='footer-textLink-hotline' href='/hotline'>,\n",
       " <Element 'a' data-testid='footer-textLink-about' href='/about'>,\n",
       " <Element 'a' data-testid='footer-textLink-career' href='/career'>,\n",
       " <Element 'a' data-testid='footer-textLink-advertise' href='/advertise'>,\n",
       " <Element 'a' data-testid='footer-textLink-app' href='/app'>,\n",
       " <Element 'a' href='https://faq.hk01.com' data-testid='footer-textLink-faq'>,\n",
       " <Element 'a' data-testid='footer-textLink-contact' href='/contact'>,\n",
       " <Element 'a' data-testid='footer-textLink-privacy' href='/privacy'>,\n",
       " <Element 'a' data-testid='footer-textLink-terms' href='/terms'>,\n",
       " <Element 'a' href='https://www.facebook.com/hk01wemedia' target='_blank' rel=('noreferrer',) data-testid='footer-iconLink-facebook'>,\n",
       " <Element 'a' href='https://www.instagram.com/hk01_hk/' target='_blank' rel=('noreferrer',) data-testid='footer-iconLink-instagram'>,\n",
       " <Element 'a' href='https://www.youtube.com/c/香港01official' target='_blank' rel=('noreferrer',) data-testid='footer-iconLink-youtube'>,\n",
       " <Element 'a' href='https://www.linkedin.com/company/hk01/' target='_blank' rel=('noreferrer',) data-testid='footer-iconLink-linkedin'>,\n",
       " <Element 'a' href='https://twitter.com/hk01official' target='_blank' rel=('noreferrer',) data-testid='footer-iconLink-twitter'>]"
      ]
     },
     "execution_count": 8,
     "metadata": {},
     "output_type": "execute_result"
    }
   ],
   "source": [
    "links = r.html.find(\"a\")\n",
    "links"
   ]
  },
  {
   "cell_type": "code",
   "execution_count": 11,
   "id": "685f29aee2e0380e",
   "metadata": {
    "ExecuteTime": {
     "end_time": "2024-03-29T13:10:56.547105Z",
     "start_time": "2024-03-29T13:10:56.543550Z"
    },
    "collapsed": false
   },
   "outputs": [
    {
     "data": {
      "text/plain": [
       "{'href': '/zone/8/%E7%94%9F%E6%B4%BB'}"
      ]
     },
     "execution_count": 11,
     "metadata": {},
     "output_type": "execute_result"
    }
   ],
   "source": [
    "links[4]\n",
    "links[4].html\n",
    "links[4].text\n",
    "links[4].attrs"
   ]
  },
  {
   "cell_type": "code",
   "execution_count": 14,
   "id": "6971f4b2933e2692",
   "metadata": {
    "ExecuteTime": {
     "end_time": "2024-03-29T13:13:11.432184Z",
     "start_time": "2024-03-29T13:13:11.349204Z"
    },
    "collapsed": false
   },
   "outputs": [
    {
     "data": {
      "text/plain": [
       "['天氣', '天氣', '天氣']"
      ]
     },
     "execution_count": 14,
     "metadata": {},
     "output_type": "execute_result"
    }
   ],
   "source": [
    "r.html.find(\"a\", containing=\"天氣\")\n",
    "[tag.text for tag in r.html.find(\"a\", containing=\"天氣\")]"
   ]
  },
  {
   "cell_type": "code",
   "execution_count": 15,
   "id": "b27ba06dbecc1743",
   "metadata": {
    "ExecuteTime": {
     "end_time": "2024-03-29T13:13:43.238503Z",
     "start_time": "2024-03-29T13:13:43.235440Z"
    },
    "collapsed": false
   },
   "outputs": [
    {
     "data": {
      "text/plain": [
       "<Element 'a' href='/'>"
      ]
     },
     "execution_count": 15,
     "metadata": {},
     "output_type": "execute_result"
    }
   ],
   "source": [
    "r.html.find(\"a\", first=True)"
   ]
  },
  {
   "cell_type": "code",
   "execution_count": null,
   "id": "6eae0f42e498ed0e",
   "metadata": {
    "collapsed": false
   },
   "outputs": [],
   "source": [
    "# search for text\n",
    "r.html.search(\"known{}soccer\")\n",
    "r.html.search_all(\"known{}soccer\")"
   ]
  },
  {
   "cell_type": "markdown",
   "id": "a53975879aa5625d",
   "metadata": {
    "collapsed": false
   },
   "source": [
    "### CSS"
   ]
  },
  {
   "cell_type": "code",
   "execution_count": null,
   "id": "aa7433ac72062743",
   "metadata": {
    "collapsed": false
   },
   "outputs": [],
   "source": [
    "r.html.find(\"#Name\")\n",
    "r.html.find(\"#hehe\", first=True)"
   ]
  },
  {
   "cell_type": "code",
   "execution_count": null,
   "id": "925b21ef0074a1f3",
   "metadata": {
    "collapsed": false
   },
   "outputs": [],
   "source": [
    "r.html.find(\".mw-headline\")\n",
    "r.html.find(\".mw-headline.plain-link\") # have both classes"
   ]
  },
  {
   "cell_type": "code",
   "execution_count": null,
   "id": "d385130f45793bf3",
   "metadata": {
    "collapsed": false
   },
   "outputs": [],
   "source": [
    "# other attributes\n",
    "r.html.find(\"[role=note]\")\n",
    "\n",
    "# [attribute*=value] contain substring value\n",
    "r.html.find(\"[href*=wikipedia]\")\n",
    "r.html.find(\"a[href*=wikipedia]\") # anchor tag + having specific href"
   ]
  },
  {
   "cell_type": "code",
   "execution_count": null,
   "id": "c021db6ba24053b",
   "metadata": {
    "collapsed": false
   },
   "outputs": [],
   "source": [
    "r.html.find(\"a[href*=wikipedia][class='hatnode mw-headline']\")"
   ]
  },
  {
   "cell_type": "code",
   "execution_count": null,
   "id": "2d3dbaccb07d79e1",
   "metadata": {
    "collapsed": false
   },
   "outputs": [],
   "source": [
    "# tag hierarchy\n",
    "r.html.find(\"h2 span\") # find all span inside h2\n",
    "r.html.find(\"h2 > p\")  # find direct children"
   ]
  },
  {
   "cell_type": "code",
   "execution_count": 16,
   "id": "d64a22dddc5300bd",
   "metadata": {
    "ExecuteTime": {
     "end_time": "2024-03-29T13:29:21.296012Z",
     "start_time": "2024-03-29T13:29:21.287272Z"
    },
    "collapsed": false
   },
   "outputs": [],
   "source": [
    "session.close()"
   ]
  },
  {
   "cell_type": "markdown",
   "id": "6221f193c861598d",
   "metadata": {
    "collapsed": false
   },
   "source": [
    "### JS"
   ]
  },
  {
   "cell_type": "code",
   "execution_count": null,
   "id": "c9628c8e33cdafea",
   "metadata": {
    "collapsed": false
   },
   "outputs": [],
   "source": [
    "from requests_html import AsyncHTMLSession"
   ]
  },
  {
   "cell_type": "code",
   "execution_count": null,
   "id": "e40ffeb25fa5ac68",
   "metadata": {
    "collapsed": false
   },
   "outputs": [],
   "source": [
    "session = AsyncHTMLSession()\n",
    "r = await session.get(\"https://www.hk01.com/zone/1/%E6%B8%AF%E8%81%9E\")\n",
    "r.status_code"
   ]
  },
  {
   "cell_type": "code",
   "execution_count": null,
   "id": "848ce4eaba7e719b",
   "metadata": {
    "collapsed": false
   },
   "outputs": [],
   "source": [
    "divs = r.html.find(\"div\")\n",
    "links = r.html.find(\"a\")\n",
    "urls = r.html.absolute_links"
   ]
  },
  {
   "cell_type": "code",
   "execution_count": null,
   "id": "2d8231e207f5796e",
   "metadata": {
    "collapsed": false
   },
   "outputs": [],
   "source": [
    "await r.html.arender()"
   ]
  },
  {
   "cell_type": "code",
   "execution_count": null,
   "id": "9dac22e5f8b92177",
   "metadata": {
    "collapsed": false
   },
   "outputs": [],
   "source": [
    "session.close()"
   ]
  },
  {
   "cell_type": "markdown",
   "id": "6b8892a49449bf31",
   "metadata": {
    "collapsed": false
   },
   "source": [
    "# Trial"
   ]
  },
  {
   "cell_type": "markdown",
   "source": [
    "### Step 1 : Get all channels"
   ],
   "metadata": {
    "collapsed": false
   },
   "id": "6812340eec54257f"
  },
  {
   "cell_type": "code",
   "execution_count": 1,
   "id": "92f455ab8888ca27",
   "metadata": {
    "collapsed": false,
    "ExecuteTime": {
     "end_time": "2024-03-30T03:17:24.152437Z",
     "start_time": "2024-03-30T03:17:24.024385Z"
    }
   },
   "outputs": [],
   "source": [
    "from requests_html import HTMLSession"
   ]
  },
  {
   "cell_type": "code",
   "execution_count": 2,
   "id": "347a0909dd8846e5",
   "metadata": {
    "collapsed": false,
    "ExecuteTime": {
     "end_time": "2024-03-30T03:17:27.740210Z",
     "start_time": "2024-03-30T03:17:27.669360Z"
    }
   },
   "outputs": [
    {
     "data": {
      "text/plain": "200"
     },
     "execution_count": 2,
     "metadata": {},
     "output_type": "execute_result"
    }
   ],
   "source": [
    "session = HTMLSession()\n",
    "r = session.get(\"https://www.hk01.com/\")\n",
    "r.status_code"
   ]
  },
  {
   "cell_type": "code",
   "outputs": [
    {
     "data": {
      "text/plain": "<HTML url='https://www.hk01.com/'>"
     },
     "execution_count": 3,
     "metadata": {},
     "output_type": "execute_result"
    }
   ],
   "source": [
    "r.html"
   ],
   "metadata": {
    "collapsed": false,
    "ExecuteTime": {
     "end_time": "2024-03-30T03:17:36.526376Z",
     "start_time": "2024-03-30T03:17:36.514338Z"
    }
   },
   "id": "3de078dd5194335c",
   "execution_count": 3
  },
  {
   "cell_type": "code",
   "outputs": [
    {
     "data": {
      "text/plain": "requests_html.Element"
     },
     "execution_count": 16,
     "metadata": {},
     "output_type": "execute_result"
    }
   ],
   "source": [
    "navbar = r.html.find(\"nav\", first=True)\n",
    "type(navbar)"
   ],
   "metadata": {
    "collapsed": false,
    "ExecuteTime": {
     "end_time": "2024-03-30T03:46:35.647540Z",
     "start_time": "2024-03-30T03:46:35.641535Z"
    }
   },
   "id": "8e22b1d477f4faf4",
   "execution_count": 16
  },
  {
   "cell_type": "code",
   "outputs": [
    {
     "data": {
      "text/plain": "[<Element 'a' href='/'>,\n <Element 'a' href='/zone/1/%E6%B8%AF%E8%81%9E'>,\n <Element 'a' href='/zone/2/%E5%A8%9B%E6%A8%82'>,\n <Element 'a' href='/issue/1014?itm_source=webmenu&itm_medium=web'>,\n <Element 'a' href='/zone/8/%E7%94%9F%E6%B4%BB'>,\n <Element 'a' href='/zone/4/%E5%9C%8B%E9%9A%9B'>,\n <Element 'a' href='/latest'>,\n <Element 'a' href='/hot'>,\n <Element 'a' href='/zone/3/%E9%AB%94%E8%82%B2'>,\n <Element 'a' href='/zone/11/%E7%A7%91%E6%8A%80%E7%8E%A9%E7%89%A9'>,\n <Element 'a' href='/zone/5/%E4%B8%AD%E5%9C%8B'>,\n <Element 'a' href='/zone/14/%E7%B6%93%E6%BF%9F'>,\n <Element 'a' href='/zone/12/%E8%A7%80%E9%BB%9E'>,\n <Element 'a' href='/zone/24/%E5%81%A5%E5%BA%B7'>,\n <Element 'a' href='/zone/19/%E5%A5%BD%E9%A3%9F%E7%8E%A9%E9%A3%9B'>,\n <Element 'a' href='/zone/6/%E5%A5%B3%E7%94%9F'>,\n <Element 'a' href='/zone/7/%E7%86%B1%E8%A9%B1'>,\n <Element 'a' href='/zone/9/%E8%97%9D%E6%96%87%E6%A0%BC%E7%89%A9'>,\n <Element 'a' href='/zone/10/%E7%A4%BE%E5%8D%80'>,\n <Element 'a' href='/zone/23/%E6%95%99%E8%82%B2'>,\n <Element 'a' title='港聞' href='/zone/1/%E6%B8%AF%E8%81%9E'>,\n <Element 'a' title='社會新聞' href='/channel/2/%E7%A4%BE%E6%9C%83%E6%96%B0%E8%81%9E'>,\n <Element 'a' title='突發' href='/channel/6/%E7%AA%81%E7%99%BC'>,\n <Element 'a' title='政情' href='/channel/310/%E6%94%BF%E6%83%85'>,\n <Element 'a' title='偵查' href='/channel/143/01%E5%81%B5%E6%9F%A5'>,\n <Element 'a' title='教育' href='/zone/23/%E6%95%99%E8%82%B2'>,\n <Element 'a' title='新聞影片' href='/01TV'>,\n <Element 'a' title='深度' href='/channel/413/%E6%B7%B1%E5%BA%A6%E5%A0%B1%E9%81%93'>,\n <Element 'a' title='香港經濟' href='/channel/403/%E9%A6%99%E6%B8%AF%E7%B6%93%E6%BF%9F'>,\n <Element 'a' title='天氣' href='/channel/421/%E5%A4%A9%E6%B0%A3'>,\n <Element 'a' title='娛樂' href='/zone/2/%E5%A8%9B%E6%A8%82'>,\n <Element 'a' title='即時娛樂' href='/channel/22/%E5%8D%B3%E6%99%82%E5%A8%9B%E6%A8%82'>,\n <Element 'a' title='電影' href='/channel/66/%E9%9B%BB%E5%BD%B1'>,\n <Element 'a' title='娛樂影片' href='/01TV'>,\n <Element 'a' title='眾樂迷' href='/channel/447/%E7%9C%BE%E6%A8%82%E8%BF%B7'>,\n <Element 'a' title='MIRROR' href='/issue/10126/mirror%E5%8B%95%E6%85%8B%E6%AF%8F%E6%97%A5%E6%9B%B4%E6%96%B0-%E5%A7%9C%E6%BF%A4-anson-lo-edan-ian%E4%BB%8A%E5%A4%A9%E7%99%BC%E7%94%9F%E4%BB%80%E9%BA%BC%E4%BA%8B?itm_source=webmenu&itm_medium=web'>,\n <Element 'a' title='聲夢傳奇' href='/issue/10127/%E8%81%B2%E5%A4%A2%E5%82%B3%E5%A5%87%E7%B2%89%E7%B5%B2%E9%A0%81%EF%BC%9A%E7%82%8E%E6%98%8E%E7%86%B9-%E5%A7%9A%E7%84%AF%E8%8F%B2-%E9%8D%BE%E6%9F%94%E7%BE%8E%E6%AF%8F%E6%97%A5%E8%BF%BD%E8%B9%A4-%E4%B8%8B%E5%AD%A3%E5%A4%A7%E8%B3%BD%E5%8B%95%E6%85%8B?itm_source=webmenu&itm_medium=web'>,\n <Element 'a' title='高清相片下載' href='https://imageservice.hk01.com/celebalbum'>,\n <Element 'a' title='激平酒店' href='/issue/1014?itm_source=webmenu&itm_medium=web'>,\n <Element 'a' title='日本酒店' href='/tag/21462?itm_source=webmenu&itm_medium=web'>,\n <Element 'a' title='澳門香港酒店' href='/tag/28964?itm_source=webmenu&itm_medium=web'>,\n <Element 'a' title='台灣酒店' href='/tag/21847?itm_source=webmenu&itm_medium=web'>,\n <Element 'a' title='深圳酒店' href='/tag/23248?itm_source=webmenu&itm_medium=web'>,\n <Element 'a' title='特價餐飲及門票' href='https://space.hk01.com/?itm_source=webmenu&itm_medium=web'>,\n <Element 'a' title='特價旅遊Sim卡' href='https://01mall.hk01.com/recommend/440/%E5%8D%B3%E6%8F%92%E5%8D%B3%E7%94%A8%EF%BD%9C%E6%95%B8%E6%93%9A%E5%8D%A1?itm_source=webmenu&itm_medium=web'>,\n <Element 'a' title='生活' href='/zone/8/%E7%94%9F%E6%B4%BB'>,\n <Element 'a' title='教煮' href='/channel/38/%E6%95%99%E7%85%AE'>,\n <Element 'a' title='親子' href='/channel/26/%E8%A6%AA%E5%AD%90'>,\n <Element 'a' title='01TV' href='/01TV'>,\n <Element 'a' title='寵物' href='/channel/28/%E5%AF%B5%E7%89%A9'>,\n <Element 'a' title='教育職場' href='/channel/142/%E8%81%B7%E5%A0%B4'>,\n <Element 'a' title='好生活' href='/channel/25/%E5%A5%BD%E7%94%9F%E6%B4%BB'>,\n <Element 'a' title='網購攻略' href='/channel/442/%E7%B6%B2%E8%B3%BC%E6%94%BB%E7%95%A5'>,\n <Element 'a' title='國際' href='/zone/4/%E5%9C%8B%E9%9A%9B'>,\n <Element 'a' title='以巴戰爭' href='/issue/10280?itm_source=webmenu&itm_medium=web'>,\n <Element 'a' title='即時國際' href='/channel/19/%E5%8D%B3%E6%99%82%E5%9C%8B%E9%9A%9B'>,\n <Element 'a' title='環球趣聞' href='/channel/406/%E7%92%B0%E7%90%83%E8%B6%A3%E8%81%9E'>,\n <Element 'a' title='國際分析' href='/channel/407/%E5%9C%8B%E9%9A%9B%E5%88%86%E6%9E%90'>,\n <Element 'a' title='世界專題' href='/channel/405/%E4%B8%96%E7%95%8C%E5%B0%88%E9%A1%8C'>,\n <Element 'a' title='俄烏戰爭' href='/issue/10158/%E7%83%8F%E5%85%8B%E8%98%AD%E6%88%B0%E7%88%AD%EF%BC%9A%E7%BF%92%E8%BF%91%E5%B9%B3%E8%88%87%E6%BE%A4%E9%80%A3%E6%96%AF%E5%9F%BA%E9%80%9A%E8%A9%B1-%E5%8B%B8%E5%92%8C%E4%BF%83%E8%AB%87%E6%99%82%E6%A9%9F%E5%B7%B2%E8%87%B3?itm_source=webmenu&itm_medium=web'>,\n <Element 'a' title='紀實影像' href='/channel/259/%E7%B4%80%E5%AF%A6?itm_source=webmenu&itm_medium=web'>,\n <Element 'a' title='體育' href='/zone/3/%E9%AB%94%E8%82%B2'>,\n <Element 'a' title='即時體育' href='/channel/20/%E5%8D%B3%E6%99%82%E9%AB%94%E8%82%B2'>,\n <Element 'a' title='跑步行山' href='/channel/30/%E8%B7%91%E6%AD%A5'>,\n <Element 'a' title='Jumper' href='/channel/184/Jumper'>,\n <Element 'a' title='武備志' href='/channel/166/%E6%AD%A6%E5%82%99%E5%BF%97'>,\n <Element 'a' title='動感影像' href='/channel/256/%E5%8B%95%E6%84%9F?itm_source=webmenu&itm_medium=web'>,\n <Element 'a' title='科技' href='/zone/11/%E7%A7%91%E6%8A%80%E7%8E%A9%E7%89%A9'>,\n <Element 'a' title='實用教學' href='/channel/445/%E5%AF%A6%E7%94%A8%E6%95%99%E5%AD%B8'>,\n <Element 'a' title='數碼生活' href='/channel/391/%E6%95%B8%E7%A2%BC%E7%94%9F%E6%B4%BB'>,\n <Element 'a' title='遊戲動漫' href='/channel/390/%E9%81%8A%E6%88%B2%E5%8B%95%E6%BC%AB'>,\n <Element 'a' title='網科3.0' href='/channel/479/%E7%B6%B2%E7%A7%913-0'>,\n <Element 'a' title='攝影專區' href='/zone/13/%E5%BD%B1%E5%83%8F?itm_source=webmenu&itm_medium=web'>,\n <Element 'a' title='中國' href='/zone/5/%E4%B8%AD%E5%9C%8B'>,\n <Element 'a' title='即時中國' href='/channel/364/%E5%8D%B3%E6%99%82%E4%B8%AD%E5%9C%8B'>,\n <Element 'a' title='大國小事' href='/channel/366/%E5%A4%A7%E5%9C%8B%E5%B0%8F%E4%BA%8B'>,\n <Element 'a' title='北上廣東' href='/channel/477/%E5%8C%97%E4%B8%8A%E5%BB%A3%E6%9D%B1'>,\n <Element 'a' title='半導體大戰' href='/tag/15912'>,\n <Element 'a' title='藝文中國' href='/channel/369/%E8%97%9D%E6%96%87%E4%B8%AD%E5%9C%8B'>,\n <Element 'a' title='中國觀察' href='/channel/458/%E4%B8%AD%E5%9C%8B%E8%A7%80%E5%AF%9F'>,\n <Element 'a' title='台灣新聞' href='/channel/367/%E5%8F%B0%E7%81%A3%E6%96%B0%E8%81%9E'>,\n <Element 'a' title='經濟' href='/zone/14/%E7%B6%93%E6%BF%9F'>,\n <Element 'a' title='財經快訊' href='/channel/396/%E8%B2%A1%E7%B6%93%E5%BF%AB%E8%A8%8A'>,\n <Element 'a' title='宏觀解讀' href='/channel/398/%E5%AE%8F%E8%A7%80%E8%A7%A3%E8%AE%80'>,\n <Element 'a' title='地產樓市' href='/channel/399/%E5%9C%B0%E7%94%A2%E6%A8%93%E5%B8%82'>,\n <Element 'a' title='專題人訪' href='/channel/400/%E5%B0%88%E9%A1%8C%E4%BA%BA%E8%A8%AA'>,\n <Element 'a' title='觀點' href='/zone/12/%E8%A7%80%E9%BB%9E'>,\n <Element 'a' title='社論' href='/channel/449/%E7%A4%BE%E8%AB%96'>,\n <Element 'a' title='全部' href='/zone/12/%E5%85%A8%E9%83%A8'>,\n <Element 'a' title='01觀點' href='/channel/50/01%E8%A7%80%E9%BB%9E'>,\n <Element 'a' title='01論壇' href='/channel/415/01%E8%AB%96%E5%A3%87'>,\n <Element 'a' title='01專欄' href='/channel/480/01%E5%B0%88%E6%AC%84'>,\n <Element 'a' title='健康' href='/zone/24/%E5%81%A5%E5%BA%B7'>,\n <Element 'a' title='健康Easy' href='/channel/444/%E5%81%A5%E5%BA%B7Easy'>,\n <Element 'a' title='醫師Easy' href='/channel/463/%E9%86%AB%E5%B8%ABEasy'>,\n <Element 'a' title='醫美Easy' href='/channel/464/%E9%86%AB%E7%BE%8EEasy'>,\n <Element 'a' title='體檢優惠攻略' href='/issue/10178?utm_source=webmenu&utm_medium=web'>,\n <Element 'a' title='銀髮族' href='/issue/10139/%E9%8A%80%E9%AB%AE%E6%97%8F%E5%B0%88%E8%BC%AF-%E6%8F%90%E4%BE%9B%E6%A8%82%E9%BD%A1%E5%81%A5%E5%BA%B7%E4%BF%9D%E9%A4%8A%E6%96%B9%E6%A1%88-%E5%88%86%E4%BA%AB%E9%80%80%E4%BC%91%E7%90%86%E8%B2%A1%E5%AE%89%E8%80%81%E6%9C%80%E6%96%B0%E8%B3%87%E8%A8%8A?utm_source=webmenu&utm_medium=web'>,\n <Element 'a' title='好食玩飛' href='/zone/19/%E5%A5%BD%E9%A3%9F%E7%8E%A9%E9%A3%9B'>,\n <Element 'a' title='食玩買' href='/channel/446/%E9%A3%9F%E7%8E%A9%E8%B2%B7'>,\n <Element 'a' title='旅遊' href='/channel/411/%E6%97%85%E9%81%8A'>,\n <Element 'a' title='賞櫻攻略' href='/issue/948?utm_source=webmenu&utm_medium=web'>,\n <Element 'a' title='旅遊熱' href='/issue/10246?utm_source=webmenu&utm_medium=web'>,\n <Element 'a' title='玩樂影片' href='/01TV'>,\n <Element 'a' title='活動好去處' href='/channel/178/01%E6%B4%BB%E5%8B%95?utm_source=webmenu&utm_medium=web'>,\n <Element 'a' title='女生' href='/zone/6/%E5%A5%B3%E7%94%9F'>,\n <Element 'a' title='知性女生' href='/channel/388/%E7%9F%A5%E6%80%A7%E5%A5%B3%E7%94%9F'>,\n <Element 'a' title='穿搭筆記' href='/channel/387/%E7%A9%BF%E6%90%AD%E7%AD%86%E8%A8%98'>,\n <Element 'a' title='談情說性' href='/channel/389/%E8%AB%87%E6%83%85%E8%AA%AA%E6%80%A7'>,\n <Element 'a' title='美容手帳' href='/channel/443/%E7%BE%8E%E5%AE%B9%E6%89%8B%E5%B8%B3'>,\n <Element 'a' title='熱話' href='/zone/7/%E7%86%B1%E8%A9%B1'>,\n <Element 'a' title='熱爆話題' href='/channel/7/%E7%86%B1%E7%88%86%E8%A9%B1%E9%A1%8C'>,\n <Element 'a' title='開罐' href='/channel/317/%E9%96%8B%E7%BD%90'>,\n <Element 'a' title='研數所' href='/channel/460'>,\n <Element 'a' title='影像熱話' href='/channel/260/%E5%BD%B1%E5%83%8F%E7%86%B1%E8%A9%B1?utm_source=webmenu&utm_medium=web'>,\n <Element 'a' title='藝文格物' href='/zone/9/%E8%97%9D%E6%96%87%E6%A0%BC%E7%89%A9'>,\n <Element 'a' title='一物' href='/channel/182/%E4%B8%80%E7%89%A9'>,\n <Element 'a' title='形而' href='https://mensluxe.hk01.com/'>,\n <Element 'a' title='藝文' href='/channel/206/%E8%97%9D%E6%96%87'>,\n <Element 'a' title='哲學' href='/channel/61/%E5%93%B2%E5%AD%B8'>,\n <Element 'a' title='第二身' href='/channel/323/%E7%AC%AC%E4%BA%8C%E8%BA%AB'>,\n <Element 'a' title='扭耳仔' href='/channel/183/%E6%89%AD%E8%80%B3%E4%BB%94'>,\n <Element 'a' title='攝影界' href='/channel/348/%E6%94%9D%E5%BD%B1%E7%95%8C?utm_source=webmenu&utm_medium=web'>,\n <Element 'a' title='社區' href='/zone/10/%E7%A4%BE%E5%8D%80'>,\n <Element 'a' title='社區專題' href='/channel/23/%E7%A4%BE%E5%8D%80%E5%B0%88%E9%A1%8C'>,\n <Element 'a' title='18區新聞' href='/channel/422/18%E5%8D%80%E6%96%B0%E8%81%9E'>,\n <Element 'a' title='隱形香港' href='/channel/293/%E9%9A%B1%E5%BD%A2%E9%A6%99%E6%B8%AF'>,\n <Element 'a' title='紀實影像' href='/channel/259/%E7%B4%80%E5%AF%A6?itm_source=webmenu&itm_medium=web'>,\n <Element 'a' title='教育' href='/zone/23/%E6%95%99%E8%82%B2'>,\n <Element 'a' title='中小學校園' href='/channel/468/%E4%B8%AD%E5%B0%8F%E5%AD%B8%E6%A0%A1%E5%9C%92'>,\n <Element 'a' title='教育發展' href='/channel/474/%E6%95%99%E8%82%B2%E7%99%BC%E5%B1%95'>,\n <Element 'a' title='DSE專區' href='/channel/473/DSE%E5%B0%88%E5%8D%80'>,\n <Element 'a' title='專上教育' href='/channel/469/%E5%B0%88%E4%B8%8A%E6%95%99%E8%82%B2'>,\n <Element 'a' title='海外升學' href='/channel/475/%E6%B5%B7%E5%A4%96%E5%8D%87%E5%AD%B8'>,\n <Element 'a' title='深造進修' href='/channel/476/%E6%B7%B1%E9%80%A0%E9%80%B2%E4%BF%AE'>,\n <Element 'a' href='https://www.hk01.com/zone/17/會員專區'>,\n <Element 'a' href='https://space.hk01.com?itm_source=svc_ent_web&itm_medium=referral&itm_content=01space'>,\n <Element 'a' href='https://01mall.hk01.com?itm_source=svc_ent_web&itm_medium=referral&itm_content=hkshopnet'>,\n <Element 'a' href='https://heart.hk01.com?itm_source=svc_ent_web&itm_medium=referral&itm_content=01heart'>,\n <Element 'a' href='https://eceasybook.com?itm_source=svc_ent_web&itm_medium=referral&itm_content=eceasybook'>,\n <Element 'a' href='https://01market.hk01.com?itm_source=svc_ent_web&itm_medium=Referral&itm_content=MKT'>,\n <Element 'a' href='https://www.01icon.hk?itm_source=svc_ent_web&itm_medium=Referral'>,\n <Element 'a' href='https://www.hk01.com/%E6%95%99%E7%85%AE/393455?itm_source=svc_ent_web&itm_medium=Referral&itm_campaign=recipedirectory'>,\n <Element 'a' href='/hotline'>,\n <Element 'a' href='/about'>,\n <Element 'a' href='/career'>,\n <Element 'a' href='/advertise'>,\n <Element 'a' href='/app'>,\n <Element 'a' href='https://faq.hk01.com'>,\n <Element 'a' href='/contact'>,\n <Element 'a' href='/privacy'>,\n <Element 'a' href='/terms'>,\n <Element 'a' href='https://www.facebook.com/hk01wemedia' target='_blank' rel=('noreferrer',)>,\n <Element 'a' href='https://www.instagram.com/hk01_hk/' target='_blank' rel=('noreferrer',)>,\n <Element 'a' href='https://www.youtube.com/c/香港01official' target='_blank' rel=('noreferrer',)>,\n <Element 'a' href='https://www.linkedin.com/company/hk01/' target='_blank' rel=('noreferrer',)>,\n <Element 'a' href='https://twitter.com/hk01official' target='_blank' rel=('noreferrer',)>]"
     },
     "execution_count": 17,
     "metadata": {},
     "output_type": "execute_result"
    }
   ],
   "source": [
    "navbar.find(\"a\")"
   ],
   "metadata": {
    "collapsed": false,
    "ExecuteTime": {
     "end_time": "2024-03-30T03:46:37.874423Z",
     "start_time": "2024-03-30T03:46:37.855009Z"
    }
   },
   "id": "96a2469019527f56",
   "execution_count": 17
  },
  {
   "cell_type": "code",
   "outputs": [
    {
     "data": {
      "text/plain": "['https://www.hk01.com//channel/2/%E7%A4%BE%E6%9C%83%E6%96%B0%E8%81%9E',\n 'https://www.hk01.com//channel/6/%E7%AA%81%E7%99%BC',\n 'https://www.hk01.com//channel/310/%E6%94%BF%E6%83%85',\n 'https://www.hk01.com//channel/143/01%E5%81%B5%E6%9F%A5',\n 'https://www.hk01.com//channel/413/%E6%B7%B1%E5%BA%A6%E5%A0%B1%E9%81%93',\n 'https://www.hk01.com//channel/403/%E9%A6%99%E6%B8%AF%E7%B6%93%E6%BF%9F',\n 'https://www.hk01.com//channel/421/%E5%A4%A9%E6%B0%A3',\n 'https://www.hk01.com//channel/22/%E5%8D%B3%E6%99%82%E5%A8%9B%E6%A8%82',\n 'https://www.hk01.com//channel/66/%E9%9B%BB%E5%BD%B1',\n 'https://www.hk01.com//channel/447/%E7%9C%BE%E6%A8%82%E8%BF%B7',\n 'https://www.hk01.com//channel/38/%E6%95%99%E7%85%AE',\n 'https://www.hk01.com//channel/26/%E8%A6%AA%E5%AD%90',\n 'https://www.hk01.com//channel/28/%E5%AF%B5%E7%89%A9',\n 'https://www.hk01.com//channel/142/%E8%81%B7%E5%A0%B4',\n 'https://www.hk01.com//channel/25/%E5%A5%BD%E7%94%9F%E6%B4%BB',\n 'https://www.hk01.com//channel/442/%E7%B6%B2%E8%B3%BC%E6%94%BB%E7%95%A5',\n 'https://www.hk01.com//channel/19/%E5%8D%B3%E6%99%82%E5%9C%8B%E9%9A%9B',\n 'https://www.hk01.com//channel/406/%E7%92%B0%E7%90%83%E8%B6%A3%E8%81%9E',\n 'https://www.hk01.com//channel/407/%E5%9C%8B%E9%9A%9B%E5%88%86%E6%9E%90',\n 'https://www.hk01.com//channel/405/%E4%B8%96%E7%95%8C%E5%B0%88%E9%A1%8C',\n 'https://www.hk01.com//channel/259/%E7%B4%80%E5%AF%A6?itm_source=webmenu&itm_medium=web',\n 'https://www.hk01.com//channel/20/%E5%8D%B3%E6%99%82%E9%AB%94%E8%82%B2',\n 'https://www.hk01.com//channel/30/%E8%B7%91%E6%AD%A5',\n 'https://www.hk01.com//channel/184/Jumper',\n 'https://www.hk01.com//channel/166/%E6%AD%A6%E5%82%99%E5%BF%97',\n 'https://www.hk01.com//channel/256/%E5%8B%95%E6%84%9F?itm_source=webmenu&itm_medium=web',\n 'https://www.hk01.com//channel/445/%E5%AF%A6%E7%94%A8%E6%95%99%E5%AD%B8',\n 'https://www.hk01.com//channel/391/%E6%95%B8%E7%A2%BC%E7%94%9F%E6%B4%BB',\n 'https://www.hk01.com//channel/390/%E9%81%8A%E6%88%B2%E5%8B%95%E6%BC%AB',\n 'https://www.hk01.com//channel/479/%E7%B6%B2%E7%A7%913-0',\n 'https://www.hk01.com//channel/364/%E5%8D%B3%E6%99%82%E4%B8%AD%E5%9C%8B',\n 'https://www.hk01.com//channel/366/%E5%A4%A7%E5%9C%8B%E5%B0%8F%E4%BA%8B',\n 'https://www.hk01.com//channel/477/%E5%8C%97%E4%B8%8A%E5%BB%A3%E6%9D%B1',\n 'https://www.hk01.com//channel/369/%E8%97%9D%E6%96%87%E4%B8%AD%E5%9C%8B',\n 'https://www.hk01.com//channel/458/%E4%B8%AD%E5%9C%8B%E8%A7%80%E5%AF%9F',\n 'https://www.hk01.com//channel/367/%E5%8F%B0%E7%81%A3%E6%96%B0%E8%81%9E',\n 'https://www.hk01.com//channel/396/%E8%B2%A1%E7%B6%93%E5%BF%AB%E8%A8%8A',\n 'https://www.hk01.com//channel/398/%E5%AE%8F%E8%A7%80%E8%A7%A3%E8%AE%80',\n 'https://www.hk01.com//channel/399/%E5%9C%B0%E7%94%A2%E6%A8%93%E5%B8%82',\n 'https://www.hk01.com//channel/400/%E5%B0%88%E9%A1%8C%E4%BA%BA%E8%A8%AA',\n 'https://www.hk01.com//channel/449/%E7%A4%BE%E8%AB%96',\n 'https://www.hk01.com//channel/50/01%E8%A7%80%E9%BB%9E',\n 'https://www.hk01.com//channel/415/01%E8%AB%96%E5%A3%87',\n 'https://www.hk01.com//channel/480/01%E5%B0%88%E6%AC%84',\n 'https://www.hk01.com//channel/444/%E5%81%A5%E5%BA%B7Easy',\n 'https://www.hk01.com//channel/463/%E9%86%AB%E5%B8%ABEasy',\n 'https://www.hk01.com//channel/464/%E9%86%AB%E7%BE%8EEasy',\n 'https://www.hk01.com//channel/446/%E9%A3%9F%E7%8E%A9%E8%B2%B7',\n 'https://www.hk01.com//channel/411/%E6%97%85%E9%81%8A',\n 'https://www.hk01.com//channel/178/01%E6%B4%BB%E5%8B%95?utm_source=webmenu&utm_medium=web',\n 'https://www.hk01.com//channel/388/%E7%9F%A5%E6%80%A7%E5%A5%B3%E7%94%9F',\n 'https://www.hk01.com//channel/387/%E7%A9%BF%E6%90%AD%E7%AD%86%E8%A8%98',\n 'https://www.hk01.com//channel/389/%E8%AB%87%E6%83%85%E8%AA%AA%E6%80%A7',\n 'https://www.hk01.com//channel/443/%E7%BE%8E%E5%AE%B9%E6%89%8B%E5%B8%B3',\n 'https://www.hk01.com//channel/7/%E7%86%B1%E7%88%86%E8%A9%B1%E9%A1%8C',\n 'https://www.hk01.com//channel/317/%E9%96%8B%E7%BD%90',\n 'https://www.hk01.com//channel/460',\n 'https://www.hk01.com//channel/260/%E5%BD%B1%E5%83%8F%E7%86%B1%E8%A9%B1?utm_source=webmenu&utm_medium=web',\n 'https://www.hk01.com//channel/182/%E4%B8%80%E7%89%A9',\n 'https://www.hk01.com//channel/206/%E8%97%9D%E6%96%87',\n 'https://www.hk01.com//channel/61/%E5%93%B2%E5%AD%B8',\n 'https://www.hk01.com//channel/323/%E7%AC%AC%E4%BA%8C%E8%BA%AB',\n 'https://www.hk01.com//channel/183/%E6%89%AD%E8%80%B3%E4%BB%94',\n 'https://www.hk01.com//channel/348/%E6%94%9D%E5%BD%B1%E7%95%8C?utm_source=webmenu&utm_medium=web',\n 'https://www.hk01.com//channel/23/%E7%A4%BE%E5%8D%80%E5%B0%88%E9%A1%8C',\n 'https://www.hk01.com//channel/422/18%E5%8D%80%E6%96%B0%E8%81%9E',\n 'https://www.hk01.com//channel/293/%E9%9A%B1%E5%BD%A2%E9%A6%99%E6%B8%AF',\n 'https://www.hk01.com//channel/259/%E7%B4%80%E5%AF%A6?itm_source=webmenu&itm_medium=web',\n 'https://www.hk01.com//channel/468/%E4%B8%AD%E5%B0%8F%E5%AD%B8%E6%A0%A1%E5%9C%92',\n 'https://www.hk01.com//channel/474/%E6%95%99%E8%82%B2%E7%99%BC%E5%B1%95',\n 'https://www.hk01.com//channel/473/DSE%E5%B0%88%E5%8D%80',\n 'https://www.hk01.com//channel/469/%E5%B0%88%E4%B8%8A%E6%95%99%E8%82%B2',\n 'https://www.hk01.com//channel/475/%E6%B5%B7%E5%A4%96%E5%8D%87%E5%AD%B8',\n 'https://www.hk01.com//channel/476/%E6%B7%B1%E9%80%A0%E9%80%B2%E4%BF%AE']"
     },
     "execution_count": 23,
     "metadata": {},
     "output_type": "execute_result"
    }
   ],
   "source": [
    "[a.base_url + a.attrs.get(\"href\") for a in navbar.find(\"a\") if \"/channel/\" in a.attrs.get(\"href\")]"
   ],
   "metadata": {
    "collapsed": false,
    "ExecuteTime": {
     "end_time": "2024-03-30T03:54:25.600637Z",
     "start_time": "2024-03-30T03:54:25.589580Z"
    }
   },
   "id": "810eda9b50522279",
   "execution_count": 23
  },
  {
   "cell_type": "code",
   "outputs": [],
   "source": [
    "session.close()"
   ],
   "metadata": {
    "collapsed": false,
    "ExecuteTime": {
     "end_time": "2024-03-30T04:14:08.191615Z",
     "start_time": "2024-03-30T04:14:08.187074Z"
    }
   },
   "id": "b9a00d50faadd84c",
   "execution_count": 28
  },
  {
   "cell_type": "markdown",
   "source": [
    "### Step 2 : Get all news"
   ],
   "metadata": {
    "collapsed": false
   },
   "id": "b7bbce3e23d076f6"
  },
  {
   "cell_type": "code",
   "outputs": [
    {
     "data": {
      "text/plain": "200"
     },
     "execution_count": 1,
     "metadata": {},
     "output_type": "execute_result"
    }
   ],
   "source": [
    "from requests_html import HTMLSession\n",
    "session = HTMLSession()\n",
    "r1 = session.get(\"https://www.hk01.com//channel/2/%E7%A4%BE%E6%9C%83%E6%96%B0%E8%81%9E\")\n",
    "r1.status_code"
   ],
   "metadata": {
    "collapsed": false,
    "ExecuteTime": {
     "end_time": "2024-03-30T06:51:00.644183Z",
     "start_time": "2024-03-30T06:51:00.345983Z"
    }
   },
   "id": "3b00d83b92e90bcf",
   "execution_count": 1
  },
  {
   "cell_type": "code",
   "outputs": [
    {
     "ename": "RuntimeError",
     "evalue": "Cannot use HTMLSession within an existing event loop. Use AsyncHTMLSession instead.",
     "output_type": "error",
     "traceback": [
      "\u001B[0;31m---------------------------------------------------------------------------\u001B[0m",
      "\u001B[0;31mRuntimeError\u001B[0m                              Traceback (most recent call last)",
      "Cell \u001B[0;32mIn[39], line 2\u001B[0m\n\u001B[1;32m      1\u001B[0m r1\u001B[38;5;241m.\u001B[39mhtml\n\u001B[0;32m----> 2\u001B[0m \u001B[43mr1\u001B[49m\u001B[38;5;241;43m.\u001B[39;49m\u001B[43mhtml\u001B[49m\u001B[38;5;241;43m.\u001B[39;49m\u001B[43mrender\u001B[49m\u001B[43m(\u001B[49m\u001B[43m)\u001B[49m\n",
      "File \u001B[0;32m~/miniconda3/envs/comp7705/lib/python3.9/site-packages/requests_html.py:586\u001B[0m, in \u001B[0;36mHTML.render\u001B[0;34m(self, retries, script, wait, scrolldown, sleep, reload, timeout, keep_page)\u001B[0m\n\u001B[1;32m    541\u001B[0m \u001B[38;5;28;01mdef\u001B[39;00m \u001B[38;5;21mrender\u001B[39m(\u001B[38;5;28mself\u001B[39m, retries: \u001B[38;5;28mint\u001B[39m \u001B[38;5;241m=\u001B[39m \u001B[38;5;241m8\u001B[39m, script: \u001B[38;5;28mstr\u001B[39m \u001B[38;5;241m=\u001B[39m \u001B[38;5;28;01mNone\u001B[39;00m, wait: \u001B[38;5;28mfloat\u001B[39m \u001B[38;5;241m=\u001B[39m \u001B[38;5;241m0.2\u001B[39m, scrolldown\u001B[38;5;241m=\u001B[39m\u001B[38;5;28;01mFalse\u001B[39;00m, sleep: \u001B[38;5;28mint\u001B[39m \u001B[38;5;241m=\u001B[39m \u001B[38;5;241m0\u001B[39m, reload: \u001B[38;5;28mbool\u001B[39m \u001B[38;5;241m=\u001B[39m \u001B[38;5;28;01mTrue\u001B[39;00m, timeout: Union[\u001B[38;5;28mfloat\u001B[39m, \u001B[38;5;28mint\u001B[39m] \u001B[38;5;241m=\u001B[39m \u001B[38;5;241m8.0\u001B[39m, keep_page: \u001B[38;5;28mbool\u001B[39m \u001B[38;5;241m=\u001B[39m \u001B[38;5;28;01mFalse\u001B[39;00m):\n\u001B[1;32m    542\u001B[0m \u001B[38;5;250m    \u001B[39m\u001B[38;5;124;03m\"\"\"Reloads the response in Chromium, and replaces HTML content\u001B[39;00m\n\u001B[1;32m    543\u001B[0m \u001B[38;5;124;03m    with an updated version, with JavaScript executed.\u001B[39;00m\n\u001B[1;32m    544\u001B[0m \n\u001B[0;32m   (...)\u001B[0m\n\u001B[1;32m    583\u001B[0m \u001B[38;5;124;03m    Chromium into your home directory (``~/.pyppeteer``).\u001B[39;00m\n\u001B[1;32m    584\u001B[0m \u001B[38;5;124;03m    \"\"\"\u001B[39;00m\n\u001B[0;32m--> 586\u001B[0m     \u001B[38;5;28mself\u001B[39m\u001B[38;5;241m.\u001B[39mbrowser \u001B[38;5;241m=\u001B[39m \u001B[38;5;28;43mself\u001B[39;49m\u001B[38;5;241;43m.\u001B[39;49m\u001B[43msession\u001B[49m\u001B[38;5;241;43m.\u001B[39;49m\u001B[43mbrowser\u001B[49m  \u001B[38;5;66;03m# Automatically create a event loop and browser\u001B[39;00m\n\u001B[1;32m    587\u001B[0m     content \u001B[38;5;241m=\u001B[39m \u001B[38;5;28;01mNone\u001B[39;00m\n\u001B[1;32m    589\u001B[0m     \u001B[38;5;66;03m# Automatically set Reload to False, if example URL is being used.\u001B[39;00m\n",
      "File \u001B[0;32m~/miniconda3/envs/comp7705/lib/python3.9/site-packages/requests_html.py:729\u001B[0m, in \u001B[0;36mHTMLSession.browser\u001B[0;34m(self)\u001B[0m\n\u001B[1;32m    727\u001B[0m     \u001B[38;5;28mself\u001B[39m\u001B[38;5;241m.\u001B[39mloop \u001B[38;5;241m=\u001B[39m asyncio\u001B[38;5;241m.\u001B[39mget_event_loop()\n\u001B[1;32m    728\u001B[0m     \u001B[38;5;28;01mif\u001B[39;00m \u001B[38;5;28mself\u001B[39m\u001B[38;5;241m.\u001B[39mloop\u001B[38;5;241m.\u001B[39mis_running():\n\u001B[0;32m--> 729\u001B[0m         \u001B[38;5;28;01mraise\u001B[39;00m \u001B[38;5;167;01mRuntimeError\u001B[39;00m(\u001B[38;5;124m\"\u001B[39m\u001B[38;5;124mCannot use HTMLSession within an existing event loop. Use AsyncHTMLSession instead.\u001B[39m\u001B[38;5;124m\"\u001B[39m)\n\u001B[1;32m    730\u001B[0m     \u001B[38;5;28mself\u001B[39m\u001B[38;5;241m.\u001B[39m_browser \u001B[38;5;241m=\u001B[39m \u001B[38;5;28mself\u001B[39m\u001B[38;5;241m.\u001B[39mloop\u001B[38;5;241m.\u001B[39mrun_until_complete(\u001B[38;5;28msuper\u001B[39m()\u001B[38;5;241m.\u001B[39mbrowser)\n\u001B[1;32m    731\u001B[0m \u001B[38;5;28;01mreturn\u001B[39;00m \u001B[38;5;28mself\u001B[39m\u001B[38;5;241m.\u001B[39m_browser\n",
      "\u001B[0;31mRuntimeError\u001B[0m: Cannot use HTMLSession within an existing event loop. Use AsyncHTMLSession instead."
     ]
    }
   ],
   "source": [
    "r1.html"
   ],
   "metadata": {
    "collapsed": false,
    "ExecuteTime": {
     "end_time": "2024-03-30T07:20:41.545415Z",
     "start_time": "2024-03-30T07:20:41.484221Z"
    }
   },
   "id": "27a2b65ba7de30ea",
   "execution_count": 39
  },
  {
   "cell_type": "code",
   "outputs": [
    {
     "data": {
      "text/plain": "1"
     },
     "execution_count": 14,
     "metadata": {},
     "output_type": "execute_result"
    }
   ],
   "source": [
    "cards = r1.html.find(\".infinite-scroll\")\n",
    "len(cards)"
   ],
   "metadata": {
    "collapsed": false,
    "ExecuteTime": {
     "end_time": "2024-03-30T06:56:09.022333Z",
     "start_time": "2024-03-30T06:56:09.018357Z"
    }
   },
   "id": "bc9a999b57be7109",
   "execution_count": 14
  },
  {
   "cell_type": "code",
   "outputs": [
    {
     "data": {
      "text/plain": "'<div class=\"infinite-scroll w-full\"><div class=\"Box-v2-cdGtvJ iYsdmq section-display--grid-3-2-infinite scroll-helper--grid-32-infinite-display\" data-scroll-helper-class=\"scroll-helper--grid-32-infinite-display\"/><div class=\"Box-v2-cdGtvJ eoMZVt\"><div class=\"Box-v2-cdGtvJ kEzpue sc-1txa9fi-0 iEQgZe sc-15zbnp3-0 sc-1eac1me-0 glcGgi oqZcT\"><svg xmlns=\"http://www.w3.org/2000/svg\" viewbox=\"0 0 16 16\"><path d=\"M12.58 2.23a6.41 6.41 0 012.072 1.92c1.01 1.469 1.465 3.083 1.322 4.848-.118 1.46-.619 2.791-1.535 3.953-1.278 1.62-2.976 2.563-5.042 2.934-3.388.608-7.37-1.224-8.811-4.902C.145 9.856-.07 8.689.021 7.485.286 3.967 2.809 1.225 6.018.318A8.543 8.543 0 018.292 0c.515-.004.943.372.96.845.018.507-.375.924-.911.936-.909.022-1.803.118-2.65.458-2.164.87-3.595 2.419-4.117 4.618-.956 4.03 1.737 7.444 5.37 8.186 2.138.437 4.09.011 5.831-1.273 1.325-.977 2.222-2.265 2.6-3.83.725-2.994-.147-5.511-2.552-7.519-.08-.066-.162-.128-.243-.191\"/></svg></div></div></div>'"
     },
     "execution_count": 21,
     "metadata": {},
     "output_type": "execute_result"
    }
   ],
   "source": [
    "card = cards[0]\n",
    "card.html"
   ],
   "metadata": {
    "collapsed": false,
    "ExecuteTime": {
     "end_time": "2024-03-30T06:58:16.874334Z",
     "start_time": "2024-03-30T06:58:16.871423Z"
    }
   },
   "id": "bb39b70a3585e61",
   "execution_count": 21
  },
  {
   "cell_type": "code",
   "outputs": [
    {
     "data": {
      "text/plain": "[<Element 'a' href='/%E7%A4%BE%E6%9C%83%E6%96%B0%E8%81%9E/1005551/%E8%91%B5%E8%8A%B3%E7%89%9B%E8%A7%92%E4%B8%80%E5%BC%B5%E5%96%AE4-7%E8%90%AC-%E8%80%81%E9%97%86%E9%BB%83%E5%82%91%E9%BE%8D-%E6%B6%88%E8%B2%BB%E5%AF%92%E5%86%AC%E4%B8%AD-%E7%B0%A1%E7%9B%B4%E4%BF%82%E5%86%8D%E7%94%9F%E7%88%B6%E6%AF%8D'>,\n <Element 'a' class=('card-category', 'flex', 'items-center') href='/channel/2/%E7%A4%BE%E6%9C%83%E6%96%B0%E8%81%9E'>,\n <Element 'a' class=('card-title', 'break-words') href='/%E7%A4%BE%E6%9C%83%E6%96%B0%E8%81%9E/1005551/%E8%91%B5%E8%8A%B3%E7%89%9B%E8%A7%92%E4%B8%80%E5%BC%B5%E5%96%AE4-7%E8%90%AC-%E8%80%81%E9%97%86%E9%BB%83%E5%82%91%E9%BE%8D-%E6%B6%88%E8%B2%BB%E5%AF%92%E5%86%AC%E4%B8%AD-%E7%B0%A1%E7%9B%B4%E4%BF%82%E5%86%8D%E7%94%9F%E7%88%B6%E6%AF%8D'>]"
     },
     "execution_count": 25,
     "metadata": {},
     "output_type": "execute_result"
    }
   ],
   "source": [
    "r1.html.find(\".content-card\")[0].find(\"a\", href=re.compile(\"^/channel\"))"
   ],
   "metadata": {
    "collapsed": false,
    "ExecuteTime": {
     "end_time": "2024-03-30T07:00:56.962107Z",
     "start_time": "2024-03-30T07:00:56.957588Z"
    }
   },
   "id": "cb4fe6f0975b17e2",
   "execution_count": 25
  },
  {
   "cell_type": "code",
   "outputs": [],
   "source": [],
   "metadata": {
    "collapsed": false
   },
   "id": "b9387318177e28fe"
  },
  {
   "cell_type": "code",
   "outputs": [],
   "source": [],
   "metadata": {
    "collapsed": false
   },
   "id": "a96eb03a169199dd"
  },
  {
   "cell_type": "code",
   "outputs": [],
   "source": [
    "session.close()"
   ],
   "metadata": {
    "collapsed": false,
    "ExecuteTime": {
     "end_time": "2024-03-30T07:04:15.435491Z",
     "start_time": "2024-03-30T07:04:15.431011Z"
    }
   },
   "id": "6c7a7abd211e722e",
   "execution_count": 26
  },
  {
   "cell_type": "code",
   "outputs": [],
   "source": [],
   "metadata": {
    "collapsed": false
   },
   "id": "3bb240a9c6cededd"
  },
  {
   "cell_type": "code",
   "outputs": [
    {
     "name": "stderr",
     "output_type": "stream",
     "text": [
      "/Users/louischiu/miniconda3/envs/comp7705/lib/python3.9/site-packages/requests/__init__.py:78: RequestsDependencyWarning: urllib3 (1.26.18) or chardet (3.0.4) doesn't match a supported version!\n",
      "  warnings.warn(\"urllib3 ({0}) or chardet ({1}) doesn't match a supported \"\n"
     ]
    }
   ],
   "source": [
    "from requests_html import HTMLSession, HTML"
   ],
   "metadata": {
    "collapsed": false,
    "ExecuteTime": {
     "end_time": "2024-03-30T08:25:43.167965Z",
     "start_time": "2024-03-30T08:25:43.036898Z"
    }
   },
   "id": "cf9f649906a5e408",
   "execution_count": 1
  },
  {
   "cell_type": "code",
   "outputs": [],
   "source": [
    "url=\"https://www.hk01.com/%E7%A4%BE%E6%9C%83%E6%96%B0%E8%81%9E/1005551/%E8%91%B5%E8%8A%B3%E7%89%9B%E8%A7%92%E4%B8%80%E5%BC%B5%E5%96%AE4-7%E8%90%AC-%E8%80%81%E9%97%86%E9%BB%83%E5%82%91%E9%BE%8D-%E6%B6%88%E8%B2%BB%E5%AF%92%E5%86%AC%E4%B8%AD-%E7%B0%A1%E7%9B%B4%E4%BF%82%E5%86%8D%E7%94%9F%E7%88%B6%E6%AF%8D\""
   ],
   "metadata": {
    "collapsed": false,
    "ExecuteTime": {
     "end_time": "2024-03-30T08:25:51.092103Z",
     "start_time": "2024-03-30T08:25:51.089417Z"
    }
   },
   "id": "ca88738ec6e8298a",
   "execution_count": 2
  },
  {
   "cell_type": "code",
   "outputs": [],
   "source": [
    "def fetch_content_in_news(url):\n",
    "    print(\"Fetching each news content ...\")\n",
    "\n",
    "    session = HTMLSession()\n",
    "    r = session.get(url)\n",
    "    print(\"status code :\", r.status_code)\n",
    "    print(r.html)\n",
    "\n",
    "    data_dict = {\n",
    "        \"date\" : r.html.find(\"div[data-testid='article-publish-info']\", first=True).text,\n",
    "        \"headline\" : r.html.find(\"#articleTitle\").text,\n",
    "        \"url\" : url,\n",
    "        \"opening_text\" : r.html.find(\"article#article-content-section\", first=True).find(\"p\", first=True).text\n",
    "    }\n",
    "    \n",
    "\n",
    "fetch_content_in_news(url)"
   ],
   "metadata": {
    "collapsed": false
   },
   "id": "fc98635a97f0808"
  },
  {
   "cell_type": "code",
   "outputs": [
    {
     "name": "stdout",
     "output_type": "stream",
     "text": [
      "status code : 200\n",
      "<HTML url='https://www.hk01.com/%E7%A4%BE%E6%9C%83%E6%96%B0%E8%81%9E/1005551/%E8%91%B5%E8%8A%B3%E7%89%9B%E8%A7%92%E4%B8%80%E5%BC%B5%E5%96%AE4-7%E8%90%AC-%E8%80%81%E9%97%86%E9%BB%83%E5%82%91%E9%BE%8D-%E6%B6%88%E8%B2%BB%E5%AF%92%E5%86%AC%E4%B8%AD-%E7%B0%A1%E7%9B%B4%E4%BF%82%E5%86%8D%E7%94%9F%E7%88%B6%E6%AF%8D'>\n"
     ]
    }
   ],
   "source": [
    "session = HTMLSession()\n",
    "r = session.get(url)\n",
    "print(\"status code :\", r.status_code)\n",
    "print(r.html)\n"
   ],
   "metadata": {
    "collapsed": false,
    "ExecuteTime": {
     "end_time": "2024-03-30T08:26:23.415554Z",
     "start_time": "2024-03-30T08:26:23.332883Z"
    }
   },
   "id": "78859756cc400b10",
   "execution_count": 3
  },
  {
   "cell_type": "code",
   "outputs": [
    {
     "data": {
      "text/plain": "'葵芳牛角一張單4.7萬\\u3000老闆黃傑龍：消費寒冬中\\u3000簡直係再生父母'"
     },
     "execution_count": 5,
     "metadata": {},
     "output_type": "execute_result"
    }
   ],
   "source": [
    "r.html.find(\"#articleTitle\", first=True).text # headline"
   ],
   "metadata": {
    "collapsed": false,
    "ExecuteTime": {
     "end_time": "2024-03-30T08:26:50.122470Z",
     "start_time": "2024-03-30T08:26:50.118277Z"
    }
   },
   "id": "1f4eb2e9786fa924",
   "execution_count": 5
  },
  {
   "cell_type": "code",
   "outputs": [
    {
     "data": {
      "text/plain": "'出版：2024-03-29 23:15更新：2024-03-30 01:46'"
     },
     "execution_count": 7,
     "metadata": {},
     "output_type": "execute_result"
    }
   ],
   "source": [
    "r.html.find(\"div[data-testid='article-publish-info']\", first=True).text # date"
   ],
   "metadata": {
    "collapsed": false,
    "ExecuteTime": {
     "end_time": "2024-03-30T08:32:57.714847Z",
     "start_time": "2024-03-30T08:32:57.709968Z"
    }
   },
   "id": "6b39b2bc5af56c2d",
   "execution_count": 7
  },
  {
   "cell_type": "code",
   "outputs": [
    {
     "data": {
      "text/plain": "'經濟不景及北上潮，重創本港零售及飲食業。敍福樓集團主席黃傑龍昨晚（28日）在社交謀體上載旗下日式燒肉店、葵芳牛角Buffet一張「大單」，總額4.7萬元，「唔知幾耐冇見過一張牛角嘅收據$47336」，「今時今日簡直係再生父母感激非常」。\\n\\n黃傑龍在《香港01》電話訪問中表示，現時香港進入消費寒冬，收到客人消費4萬多元的單據已讓他感到雀躍；又認為香港市道差不能全歸咎到北上潮，反而現時香港的樓市、股市皆疲弱才是導致市民消費力弱的主因。不過，他對香港市道始終都有信心，認為未來美國減息將有助市民消費力上升，「一旦進入市道上升嘅勢頭，大家就會冇咁痛苦㗎喇。」\\n\\n+1\\n唔知幾耐冇見過一張牛角嘅收據$47336，今時今日簡直係再生父母感激非常，無論係$78一個lunch定係$47336，我哋全體同事都非常珍惜你們每一單交易，因為每一單幫襯都代表多一筆港幣留在香港，多謝多謝\\n敍福樓集團主席黃傑龍\\n黃傑龍在昨晚在其Facebook專頁出帖文，附有集團旗下的葵芳新都會廣場「牛角Buffet」一張收據，款額共47,336元，一間公司聚會，一共有122人參加，人均消費388.2元。他在帖文寫：「唔知幾耐冇見過一張牛角嘅收據$47336， 今時今日簡直係再生父母感激非常」，亦感謝港人留港消費。\\n黃傑龍在接受《香港01》訪問時說，因見到有4萬多元的消費單據感雀躍，故特意出此帖文。\\n黃傑龍對集團旗下餐廳出現4萬多元的消費單據感雀躍，特意在Facebook出帖文感激他們在港消費。（黃傑龍Facebook）\\n3、4月為餐飲業淡季\\u3000黃傑龍料結業潮持續一段時間\\n黃傑龍指出，即使疫情已過，但香港飲食零售業的消費力仍「好疲弱」，「消費寒冬喺現實正發生」，不少餐廳想在農曆長假期，試驗究竟生意有否起色，「結果見到好多都無奈結業」，加上3、4月是餐飲業淡季，他預料飲食業結業潮都會持續一段時間。\\n他將餐廳結業形容為「魷魚游戲」，在消費寒冬下，餐飲業正上演一場淘汰賽，將劣質餐廳淘汰走，留低一些價格、食物質素、服務質素都較優勝的餐廳。他指本地餐廳可繼續發展香港飲食業具優勝的地方，如食品安全、食物選擇多元化等，「剩低落嚟嗰啲好嘅，相信會經歷到下一波黃金時期，可以見到好景」。\\n黃傑龍相信未來美國減息將有助提升香港市民的消費力。（資料圖片）\\n指北上潮非市道差主因\\u3000樓市股市雙失才導致市民消費力弱\\n黃傑龍認為，香港餐飲業市道差，不能單單歸咎於北上潮和內地物價較低，「放假去旅行無可厚非，好難咁樣去講」，加上從來都是港人北上易，內地人南下難，因不少內地居民需持簽證才能來港，同時內地亦有管制錢財流動，導致北上流動較自由，港人好容易就可北上消費。因此他覺得港人其實一直都有北上消費，而香港內地物價差異「幾十年都係咁」。\\n他認為現時香港市道差的主要原因為樓市、股市雙雙疲弱，「留得喺度嘅香港人，冇可能日日都北上，至少周日都喺到喇啩。」但因樓市股市差，市民消費都無從前疏爽，導致消費力在衣食住行上都比以前差，「而家個股市去到1997咁樣，叫啲人點消費啊？」\\n相信寒冬終過去迎來復蘇時刻：經濟有起有伏\\n不過，他認為這消費寒冬終會過去，對香港未來經濟有信心，不少經濟學家分析未來美國會數次減息。他亦認為經濟有起有伏，現時香港在低谷，但總會迎來復蘇的時刻，「你話會唔會去得返2018年生意巔峰，我就未知嘅。」他稱會保持信心和希望，「一旦進入市道上升嘅勢頭，大家就會冇咁痛苦㗎喇。」\\n復活節｜52萬港人3.28率先離港\\u300038萬北上6萬搭飛機均創疫後新高復活節北上｜香園圍口岸打蛇餅\\u3000人流倒灌至地下巴士站復活節北上｜首日假期\\u3000至上午10時28萬人出入境\\u300022.7萬港人離港復活節北上｜上水站外現200米人龍\\u3000港人：香港消費得罪講句太貴復活節北上｜港珠澳大橋逼爆\\u3000逾千人打蛇餅等過關\\u3000巴士排隊埋站復活節｜入境處料周五60萬人北上\\u3000商場推免費泊車日吸客留港消費牛角放題$288/2位\\u3000食客剩大量食物極浪費\\u3000老闆黃傑龍撐職員罰款垃圾徵費｜黃傑龍：未清楚政府廚餘回收安排\\u3000飲食界憂分類困難牛角母企員工明年平均加薪4%兼加假\\u3000黃傑龍：咁嘅市道下算係咁！有議員倡禮貌運動\\u3000黃傑龍稱香港不走熱情路線：不改善質素會淘汰旅發局餐飲消費券｜黃傑龍讚消費滿$100等於免費︰幾好嘅聖誕禮物'"
     },
     "execution_count": 8,
     "metadata": {},
     "output_type": "execute_result"
    }
   ],
   "source": [
    "r.html.find(\"article#article-content-section\", first=True).text"
   ],
   "metadata": {
    "collapsed": false,
    "ExecuteTime": {
     "end_time": "2024-03-30T08:37:30.581396Z",
     "start_time": "2024-03-30T08:37:30.575303Z"
    }
   },
   "id": "960989403ba0e50d",
   "execution_count": 8
  },
  {
   "cell_type": "code",
   "outputs": [
    {
     "data": {
      "text/plain": "'經濟不景及北上潮，重創本港零售及飲食業。敍福樓集團主席黃傑龍昨晚（28日）在社交謀體上載旗下日式燒肉店、葵芳牛角Buffet一張「大單」，總額4.7萬元，「唔知幾耐冇見過一張牛角嘅收據$47336」，「今時今日簡直係再生父母感激非常」。'"
     },
     "execution_count": 9,
     "metadata": {},
     "output_type": "execute_result"
    }
   ],
   "source": [
    "r.html.find(\"article#article-content-section\", first=True).find(\"p\", first=True).text # opening text"
   ],
   "metadata": {
    "collapsed": false,
    "ExecuteTime": {
     "end_time": "2024-03-30T08:38:50.352906Z",
     "start_time": "2024-03-30T08:38:50.345047Z"
    }
   },
   "id": "b986779424f4d9d8",
   "execution_count": 9
  },
  {
   "cell_type": "code",
   "outputs": [],
   "source": [],
   "metadata": {
    "collapsed": false
   },
   "id": "46f382483cf7838e"
  },
  {
   "cell_type": "code",
   "outputs": [],
   "source": [],
   "metadata": {
    "collapsed": false
   },
   "id": "a03f0b8237eac8e9"
  },
  {
   "cell_type": "code",
   "outputs": [],
   "source": [],
   "metadata": {
    "collapsed": false
   },
   "id": "4718f0c5140c89b7"
  },
  {
   "cell_type": "code",
   "outputs": [],
   "source": [
    "# Date, <----------- ..\n",
    "# Headline, <----------- ..\n",
    "# URL, <----------- ..\n",
    "# Opening Text, <-----------\n",
    "# Source, <-----------\n",
    "# Language, <-----------\n",
    "# Key Phrases, <-----------"
   ],
   "metadata": {
    "collapsed": false
   },
   "id": "433ab2a87199cd2"
  },
  {
   "cell_type": "code",
   "outputs": [],
   "source": [],
   "metadata": {
    "collapsed": false
   },
   "id": "c2cdd75d8d41b4e9"
  }
 ],
 "metadata": {
  "kernelspec": {
   "display_name": "Python 3",
   "language": "python",
   "name": "python3"
  },
  "language_info": {
   "codemirror_mode": {
    "name": "ipython",
    "version": 2
   },
   "file_extension": ".py",
   "mimetype": "text/x-python",
   "name": "python",
   "nbconvert_exporter": "python",
   "pygments_lexer": "ipython2",
   "version": "2.7.6"
  }
 },
 "nbformat": 4,
 "nbformat_minor": 5
}
